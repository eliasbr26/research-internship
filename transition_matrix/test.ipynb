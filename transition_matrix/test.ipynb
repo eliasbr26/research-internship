{
 "cells": [
  {
   "cell_type": "code",
   "execution_count": 1,
   "id": "f8e830ec",
   "metadata": {},
   "outputs": [],
   "source": [
    "import numpy as np"
   ]
  },
  {
   "cell_type": "code",
   "execution_count": 7,
   "id": "9927135e",
   "metadata": {},
   "outputs": [],
   "source": [
    "B = np.zeros((4, 4))"
   ]
  },
  {
   "cell_type": "code",
   "execution_count": 8,
   "id": "c7dbc72e",
   "metadata": {},
   "outputs": [],
   "source": [
    "B[0, 1] = 1\n",
    "B[1, 2] = 1\n",
    "B[2, 3] = 1"
   ]
  },
  {
   "cell_type": "code",
   "execution_count": 9,
   "id": "a5c0c0b6",
   "metadata": {},
   "outputs": [
    {
     "data": {
      "text/plain": [
       "array([[0., 1., 0., 0.],\n",
       "       [0., 0., 1., 0.],\n",
       "       [0., 0., 0., 1.],\n",
       "       [0., 0., 0., 0.]])"
      ]
     },
     "execution_count": 9,
     "metadata": {},
     "output_type": "execute_result"
    }
   ],
   "source": [
    "B"
   ]
  },
  {
   "cell_type": "code",
   "execution_count": 10,
   "id": "08aecab7",
   "metadata": {},
   "outputs": [
    {
     "name": "stdout",
     "output_type": "stream",
     "text": [
      "[[0. 0. 1. 0.]\n",
      " [0. 0. 0. 1.]\n",
      " [0. 0. 0. 0.]\n",
      " [0. 0. 0. 0.]]\n"
     ]
    }
   ],
   "source": [
    "print(B@B)"
   ]
  }
 ],
 "metadata": {
  "kernelspec": {
   "display_name": "Python 3",
   "language": "python",
   "name": "python3"
  },
  "language_info": {
   "codemirror_mode": {
    "name": "ipython",
    "version": 3
   },
   "file_extension": ".py",
   "mimetype": "text/x-python",
   "name": "python",
   "nbconvert_exporter": "python",
   "pygments_lexer": "ipython3",
   "version": "3.9.21"
  }
 },
 "nbformat": 4,
 "nbformat_minor": 5
}
