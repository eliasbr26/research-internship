{
 "cells": [
  {
   "cell_type": "code",
   "execution_count": 26,
   "id": "252076f6",
   "metadata": {},
   "outputs": [],
   "source": [
    "import numpy as np\n",
    "import torch\n",
    "import torch.nn as nn\n",
    "import torch.nn.functional as F"
   ]
  },
  {
   "cell_type": "code",
   "execution_count": null,
   "id": "0da0cb45",
   "metadata": {},
   "outputs": [],
   "source": [
    "B = np.array([ \n",
    "    [1.0, 0.8, 0.2, 0.0],\n",
    "    [0.8, 1.0, 0.3, 0.1],\n",
    "    [0.2, 0.3, 1.0, 0.6],\n",
    "    [0.0, 0.1, 0.6, 1.0]\n",
    "])"
   ]
  },
  {
   "cell_type": "code",
   "execution_count": 4,
   "id": "98cb363d",
   "metadata": {},
   "outputs": [],
   "source": [
    "T = B.shape[0]     # Longueur des séquences\n",
    "D = 50         # Dimension des vecteurs X^t\n",
    "N = 1000           # Nombre d'échantillons"
   ]
  },
  {
   "cell_type": "code",
   "execution_count": 5,
   "id": "93bf7d69",
   "metadata": {},
   "outputs": [],
   "source": [
    "def factorise(B, tol=1e-8):\n",
    "    # Vérification symétrie\n",
    "    if not np.allclose(B, B.T, atol=tol):\n",
    "        raise ValueError(\"La matrice B n'est pas symétrique.\")\n",
    "\n",
    "    # Décomposition spectrale\n",
    "    eigvals, eigvecs = np.linalg.eigh(B)\n",
    "\n",
    "    # Vérification semi-définie positive\n",
    "    if np.any(eigvals < -tol):\n",
    "        raise ValueError(\"La matrice B n'est pas semi-définie positive.\")\n",
    "\n",
    "    # Construction de C = U Λ^{1/2}\n",
    "    sqrt_eigvals = np.sqrt(np.clip(eigvals, 0, None))\n",
    "    C = eigvecs @ np.diag(sqrt_eigvals)\n",
    "\n",
    "    return C"
   ]
  },
  {
   "cell_type": "code",
   "execution_count": 15,
   "id": "a600a9a3",
   "metadata": {},
   "outputs": [],
   "source": [
    "\n",
    "def generate_X(C, N, D):\n",
    "    T = C.shape[0]\n",
    "    Z = np.random.randn(N, D, T)  # Z ~ N(0, I)\n",
    "    X = np.einsum('ndt,ts->nds', Z, C.T)  # équivalent à batch matmul Z @ C.T\n",
    "    return X"
   ]
  },
  {
   "cell_type": "code",
   "execution_count": null,
   "id": "85ae6f78",
   "metadata": {},
   "outputs": [
    {
     "name": "stdout",
     "output_type": "stream",
     "text": [
      "[[ 0.98324317  0.77676622  0.19439341 -0.01276158]\n",
      " [ 0.77676622  0.97135208  0.28575321  0.09112401]\n",
      " [ 0.19439341  0.28575321  0.98336761  0.58428362]\n",
      " [-0.01276158  0.09112401  0.58428362  0.99345742]]\n"
     ]
    }
   ],
   "source": [
    "C = factorise(B)\n",
    "X_samples = generate_X(C, N=1000, D=10)\n",
    "\n",
    "# Estimation de E[X^T X]\n",
    "B_est = np.mean([X.T @ X for X in X_samples], axis=0) / 10\n",
    "print(B_est)"
   ]
  },
  {
   "cell_type": "code",
   "execution_count": 23,
   "id": "3e5d62ea",
   "metadata": {},
   "outputs": [],
   "source": [
    "def compute_moments(B, T_max):\n",
    "    \"\"\"\n",
    "    Calcule (B, B^2, ..., B^T_max) et les empile dans un tenseur (T_max, T, T)\n",
    "    \"\"\"\n",
    "    moments = [B]\n",
    "    for _ in range(1, T_max):\n",
    "        moments.append(moments[-1] @ B)\n",
    "    return np.stack(moments, axis=0)"
   ]
  },
  {
   "cell_type": "code",
   "execution_count": 24,
   "id": "697457f7",
   "metadata": {},
   "outputs": [
    {
     "name": "stdout",
     "output_type": "stream",
     "text": [
      "[[[1.     0.8    0.2    0.    ]\n",
      "  [0.8    1.     0.3    0.1   ]\n",
      "  [0.2    0.3    1.     0.6   ]\n",
      "  [0.     0.1    0.6    1.    ]]\n",
      "\n",
      " [[1.68   1.66   0.64   0.2   ]\n",
      "  [1.66   1.74   0.82   0.38  ]\n",
      "  [0.64   0.82   1.49   1.23  ]\n",
      "  [0.2    0.38   1.23   1.37  ]]\n",
      "\n",
      " [[3.136  3.216  1.594  0.75  ]\n",
      "  [3.216  3.352  1.902  1.046 ]\n",
      "  [1.594  1.902  2.602  2.206 ]\n",
      "  [0.75   1.046  2.206  2.146 ]]\n",
      "\n",
      " [[6.0276 6.278  3.636  2.028 ]\n",
      "  [6.278  6.6    4.1784 2.5224]\n",
      "  [3.636  4.1784 4.815  3.9574]\n",
      "  [2.028  2.5224 3.9574 3.5742]]]\n"
     ]
    }
   ],
   "source": [
    "print(compute_moments(B, T_max=4))"
   ]
  },
  {
   "cell_type": "code",
   "execution_count": 19,
   "id": "481af0ae",
   "metadata": {},
   "outputs": [],
   "source": [
    "\n",
    "def generate_dataset(N, D, T, seed=None):\n",
    "    if seed is not None:\n",
    "        np.random.seed(seed)\n",
    "    \n",
    "    # Choix aléatoire d'une matrice B (SDP)\n",
    "    A = np.random.randn(T, T)\n",
    "    B_true = A @ A.T  # symétrique SDP\n",
    "    B_true /= np.trace(B_true)  # normalisation optionnelle\n",
    "\n",
    "    # Factorisation pour générer X\n",
    "    C = factorise(B_true)\n",
    "    X_samples = generate_X(C, N, D)\n",
    "\n",
    "    # Création de (X, y)\n",
    "    X_data = X_samples\n",
    "    y_data = np.array([compute_moments(X.T @ X / D, T) for X in X_samples])  # normalisé\n",
    "\n",
    "    return X_data, y_data"
   ]
  },
  {
   "cell_type": "code",
   "execution_count": 25,
   "id": "5dceef90",
   "metadata": {},
   "outputs": [
    {
     "name": "stdout",
     "output_type": "stream",
     "text": [
      "X.shape : (1000, 50, 4)\n",
      "y.shape : (1000, 4, 4, 4)\n"
     ]
    }
   ],
   "source": [
    "\n",
    "X, y = generate_dataset(N, D, T)\n",
    "\n",
    "print(\"X.shape :\", X.shape)  # (N, D, T)\n",
    "print(\"y.shape :\", y.shape)  # (N, T * T * T)\n"
   ]
  },
  {
   "cell_type": "code",
   "execution_count": 27,
   "id": "16584764",
   "metadata": {},
   "outputs": [],
   "source": [
    "class MomentTransformer(nn.Module):\n",
    "    def __init__(self, d_model, nhead, num_layers, dim_feedforward, T):\n",
    "        super().__init__()\n",
    "        self.T = T\n",
    "\n",
    "        # Embedding linéaire initial (projeté à d_model)\n",
    "        self.input_proj = nn.Linear(d_model, d_model)\n",
    "\n",
    "        # Encodage de position appris\n",
    "        self.pos_embedding = nn.Parameter(torch.randn(1, T, d_model))\n",
    "\n",
    "        # Transformer encoder\n",
    "        encoder_layer = nn.TransformerEncoderLayer(\n",
    "            d_model=d_model, nhead=nhead, dim_feedforward=dim_feedforward, batch_first=True\n",
    "        )\n",
    "        self.transformer = nn.TransformerEncoder(encoder_layer, num_layers=num_layers)\n",
    "\n",
    "        # Projection vers une matrice T x T pour chaque moment (T moments au total)\n",
    "        self.output_proj = nn.Linear(d_model, T * T * T)\n",
    "\n",
    "    def forward(self, x):\n",
    "        # x: (batch_size, D, T)\n",
    "        x = x.permute(0, 2, 1)  # -> (batch_size, T, D)\n",
    "        x = self.input_proj(x)  # -> (batch_size, T, d_model)\n",
    "\n",
    "        # Ajout du positional embedding\n",
    "        x = x + self.pos_embedding  # broadcasting sur batch\n",
    "\n",
    "        # Passage dans le Transformer\n",
    "        x = self.transformer(x)  # (batch_size, T, d_model)\n",
    "\n",
    "        # Moyenne globale ou moyenne sur les positions\n",
    "        x_pooled = x.mean(dim=1)  # (batch_size, d_model)\n",
    "\n",
    "        # Projection finale\n",
    "        y_hat = self.output_proj(x_pooled)  # (batch_size, T*T*T)\n",
    "        y_hat = y_hat.view(-1, self.T, self.T, self.T)  # reshape en tenseur de moments\n",
    "\n",
    "        return y_hat\n"
   ]
  }
 ],
 "metadata": {
  "kernelspec": {
   "display_name": "Python 3",
   "language": "python",
   "name": "python3"
  },
  "language_info": {
   "codemirror_mode": {
    "name": "ipython",
    "version": 3
   },
   "file_extension": ".py",
   "mimetype": "text/x-python",
   "name": "python",
   "nbconvert_exporter": "python",
   "pygments_lexer": "ipython3",
   "version": "3.9.21"
  }
 },
 "nbformat": 4,
 "nbformat_minor": 5
}
