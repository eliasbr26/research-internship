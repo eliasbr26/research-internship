{
 "cells": [
  {
   "cell_type": "code",
   "execution_count": 37,
   "id": "252076f6",
   "metadata": {},
   "outputs": [],
   "source": [
    "import numpy as np\n",
    "import torch\n",
    "import torch.nn as nn\n",
    "import torch.nn.functional as F\n",
    "from torch.utils.data import Dataset\n",
    "from torch.utils.data import DataLoader\n",
    "import torch.nn as nn\n",
    "import torch.optim as optim\n",
    "from sklearn.model_selection import train_test_split\n"
   ]
  },
  {
   "cell_type": "code",
   "execution_count": null,
   "id": "0da0cb45",
   "metadata": {},
   "outputs": [],
   "source": [
    "B = np.array([ \n",
    "    [1.0, 0.8, 0.2, 0.0],\n",
    "    [0.8, 1.0, 0.3, 0.1],\n",
    "    [0.2, 0.3, 1.0, 0.6],\n",
    "    [0.0, 0.1, 0.6, 1.0]\n",
    "])"
   ]
  },
  {
   "cell_type": "code",
   "execution_count": 43,
   "id": "98cb363d",
   "metadata": {},
   "outputs": [],
   "source": [
    "T = B.shape[0]     # Longueur des séquences\n",
    "D = 50         # Dimension des vecteurs X^t\n",
    "N = 10000          # Nombre d'échantillons"
   ]
  },
  {
   "cell_type": "code",
   "execution_count": 5,
   "id": "93bf7d69",
   "metadata": {},
   "outputs": [],
   "source": [
    "def factorise(B, tol=1e-8):\n",
    "    # Vérification symétrie\n",
    "    if not np.allclose(B, B.T, atol=tol):\n",
    "        raise ValueError(\"La matrice B n'est pas symétrique.\")\n",
    "\n",
    "    # Décomposition spectrale\n",
    "    eigvals, eigvecs = np.linalg.eigh(B)\n",
    "\n",
    "    # Vérification semi-définie positive\n",
    "    if np.any(eigvals < -tol):\n",
    "        raise ValueError(\"La matrice B n'est pas semi-définie positive.\")\n",
    "\n",
    "    # Construction de C = U Λ^{1/2}\n",
    "    sqrt_eigvals = np.sqrt(np.clip(eigvals, 0, None))\n",
    "    C = eigvecs @ np.diag(sqrt_eigvals)\n",
    "\n",
    "    return C"
   ]
  },
  {
   "cell_type": "code",
   "execution_count": 15,
   "id": "a600a9a3",
   "metadata": {},
   "outputs": [],
   "source": [
    "\n",
    "def generate_X(C, N, D):\n",
    "    T = C.shape[0]\n",
    "    Z = np.random.randn(N, D, T)  # Z ~ N(0, I)\n",
    "    X = np.einsum('ndt,ts->nds', Z, C.T)  # équivalent à batch matmul Z @ C.T\n",
    "    return X"
   ]
  },
  {
   "cell_type": "code",
   "execution_count": null,
   "id": "85ae6f78",
   "metadata": {},
   "outputs": [
    {
     "name": "stdout",
     "output_type": "stream",
     "text": [
      "[[ 0.98324317  0.77676622  0.19439341 -0.01276158]\n",
      " [ 0.77676622  0.97135208  0.28575321  0.09112401]\n",
      " [ 0.19439341  0.28575321  0.98336761  0.58428362]\n",
      " [-0.01276158  0.09112401  0.58428362  0.99345742]]\n"
     ]
    }
   ],
   "source": [
    "C = factorise(B)\n",
    "X_samples = generate_X(C, N=1000, D=10)\n",
    "\n",
    "# Estimation de E[X^T X]\n",
    "B_est = np.mean([X.T @ X for X in X_samples], axis=0) / 10\n",
    "print(B_est)"
   ]
  },
  {
   "cell_type": "code",
   "execution_count": 23,
   "id": "3e5d62ea",
   "metadata": {},
   "outputs": [],
   "source": [
    "def compute_moments(B, T_max):\n",
    "    \"\"\"\n",
    "    Calcule (B, B^2, ..., B^T_max) et les empile dans un tenseur (T_max, T, T)\n",
    "    \"\"\"\n",
    "    moments = [B]\n",
    "    for _ in range(1, T_max):\n",
    "        moments.append(moments[-1] @ B)\n",
    "    return np.stack(moments, axis=0)"
   ]
  },
  {
   "cell_type": "code",
   "execution_count": 24,
   "id": "697457f7",
   "metadata": {},
   "outputs": [
    {
     "name": "stdout",
     "output_type": "stream",
     "text": [
      "[[[1.     0.8    0.2    0.    ]\n",
      "  [0.8    1.     0.3    0.1   ]\n",
      "  [0.2    0.3    1.     0.6   ]\n",
      "  [0.     0.1    0.6    1.    ]]\n",
      "\n",
      " [[1.68   1.66   0.64   0.2   ]\n",
      "  [1.66   1.74   0.82   0.38  ]\n",
      "  [0.64   0.82   1.49   1.23  ]\n",
      "  [0.2    0.38   1.23   1.37  ]]\n",
      "\n",
      " [[3.136  3.216  1.594  0.75  ]\n",
      "  [3.216  3.352  1.902  1.046 ]\n",
      "  [1.594  1.902  2.602  2.206 ]\n",
      "  [0.75   1.046  2.206  2.146 ]]\n",
      "\n",
      " [[6.0276 6.278  3.636  2.028 ]\n",
      "  [6.278  6.6    4.1784 2.5224]\n",
      "  [3.636  4.1784 4.815  3.9574]\n",
      "  [2.028  2.5224 3.9574 3.5742]]]\n"
     ]
    }
   ],
   "source": [
    "print(compute_moments(B, T_max=4))"
   ]
  },
  {
   "cell_type": "code",
   "execution_count": 19,
   "id": "481af0ae",
   "metadata": {},
   "outputs": [],
   "source": [
    "\n",
    "def generate_dataset(N, D, T, seed=None):\n",
    "    if seed is not None:\n",
    "        np.random.seed(seed)\n",
    "    \n",
    "    # Choix aléatoire d'une matrice B (SDP)\n",
    "    A = np.random.randn(T, T)\n",
    "    B_true = A @ A.T  # symétrique SDP\n",
    "    B_true /= np.trace(B_true)  # normalisation optionnelle\n",
    "\n",
    "    # Factorisation pour générer X\n",
    "    C = factorise(B_true)\n",
    "    X_samples = generate_X(C, N, D)\n",
    "\n",
    "    # Création de (X, y)\n",
    "    X_data = X_samples\n",
    "    y_data = np.array([compute_moments(X.T @ X / D, T) for X in X_samples])  # normalisé\n",
    "\n",
    "    return X_data, y_data"
   ]
  },
  {
   "cell_type": "code",
   "execution_count": 25,
   "id": "5dceef90",
   "metadata": {},
   "outputs": [
    {
     "name": "stdout",
     "output_type": "stream",
     "text": [
      "X.shape : (1000, 50, 4)\n",
      "y.shape : (1000, 4, 4, 4)\n"
     ]
    }
   ],
   "source": [
    "\n",
    "X, y = generate_dataset(N, D, T)\n",
    "\n",
    "print(\"X.shape :\", X.shape)  # (N, D, T)\n",
    "print(\"y.shape :\", y.shape)  # (N, T * T * T)\n"
   ]
  },
  {
   "cell_type": "code",
   "execution_count": 29,
   "id": "ad49c9f9",
   "metadata": {},
   "outputs": [],
   "source": [
    "class MomentDataset(Dataset):\n",
    "    def __init__(self, X, y):\n",
    "        self.X = torch.tensor(X, dtype=torch.float32)\n",
    "        self.y = torch.tensor(y, dtype=torch.float32)\n",
    "\n",
    "    def __len__(self):\n",
    "        return len(self.X)\n",
    "\n",
    "    def __getitem__(self, idx):\n",
    "        return self.X[idx], self.y[idx]"
   ]
  },
  {
   "cell_type": "code",
   "execution_count": 39,
   "id": "08c680db",
   "metadata": {},
   "outputs": [],
   "source": [
    "X, y = generate_dataset(N, D, T, seed=42)\n",
    "X_train, X_test, y_train, y_test = train_test_split(X, y, test_size=0.2, random_state=42)\n",
    "\n",
    "train_dataset = MomentDataset(X_train, y_train)\n",
    "test_dataset  = MomentDataset(X_test, y_test)\n",
    "\n",
    "train_loader = DataLoader(train_dataset, batch_size=32, shuffle=True)\n",
    "test_loader  = DataLoader(test_dataset, batch_size=32, shuffle=False)\n"
   ]
  },
  {
   "cell_type": "code",
   "execution_count": 27,
   "id": "16584764",
   "metadata": {},
   "outputs": [],
   "source": [
    "class MomentTransformer(nn.Module):\n",
    "    def __init__(self, d_model, nhead, num_layers, dim_feedforward, T):\n",
    "        super().__init__()\n",
    "        self.T = T\n",
    "\n",
    "        # Embedding linéaire initial (projeté à d_model)\n",
    "        self.input_proj = nn.Linear(d_model, d_model)\n",
    "\n",
    "        # Encodage de position appris\n",
    "        self.pos_embedding = nn.Parameter(torch.randn(1, T, d_model))\n",
    "\n",
    "        # Transformer encoder\n",
    "        encoder_layer = nn.TransformerEncoderLayer(\n",
    "            d_model=d_model, nhead=nhead, dim_feedforward=dim_feedforward, batch_first=True\n",
    "        )\n",
    "        self.transformer = nn.TransformerEncoder(encoder_layer, num_layers=num_layers)\n",
    "\n",
    "        # Projection vers une matrice T x T pour chaque moment (T moments au total)\n",
    "        self.output_proj = nn.Linear(d_model, T * T * T)\n",
    "\n",
    "    def forward(self, x):\n",
    "        # x: (batch_size, D, T)\n",
    "        x = x.permute(0, 2, 1)  # -> (batch_size, T, D)\n",
    "        x = self.input_proj(x)  # -> (batch_size, T, d_model)\n",
    "\n",
    "        # Ajout du positional embedding\n",
    "        x = x + self.pos_embedding  # broadcasting sur batch\n",
    "\n",
    "        # Passage dans le Transformer\n",
    "        x = self.transformer(x)  # (batch_size, T, d_model)\n",
    "\n",
    "        # Moyenne globale ou moyenne sur les positions\n",
    "        x_pooled = x.mean(dim=1)  # (batch_size, d_model)\n",
    "\n",
    "        # Projection finale\n",
    "        y_hat = self.output_proj(x_pooled)  # (batch_size, T*T*T)\n",
    "        y_hat = y_hat.view(-1, self.T, self.T, self.T)  # reshape en tenseur de moments\n",
    "\n",
    "        return y_hat\n"
   ]
  },
  {
   "cell_type": "code",
   "execution_count": 45,
   "id": "4a9a5785",
   "metadata": {},
   "outputs": [],
   "source": [
    "model = MomentTransformer(\n",
    "    d_model=D,     # correspond à la dimension des vecteurs d'entrée\n",
    "    nhead=2,\n",
    "    num_layers=2,\n",
    "    dim_feedforward=128,\n",
    "    T=T\n",
    ")\n"
   ]
  },
  {
   "cell_type": "code",
   "execution_count": 46,
   "id": "f79bcbf2",
   "metadata": {},
   "outputs": [],
   "source": [
    "criterion = nn.MSELoss()\n",
    "optimizer = optim.Adam(model.parameters(), lr=1e-3)"
   ]
  },
  {
   "cell_type": "code",
   "execution_count": 47,
   "id": "5134e137",
   "metadata": {},
   "outputs": [],
   "source": [
    "def evaluate(model, dataloader, device):\n",
    "    model.eval()\n",
    "    total_loss = 0\n",
    "    with torch.no_grad():\n",
    "        for X_batch, y_batch in dataloader:\n",
    "            X_batch = X_batch.to(device)\n",
    "            y_batch = y_batch.to(device)\n",
    "\n",
    "            y_pred = model(X_batch)\n",
    "            loss = criterion(y_pred, y_batch)\n",
    "            total_loss += loss.item()\n",
    "\n",
    "    return total_loss / len(dataloader)\n"
   ]
  },
  {
   "cell_type": "code",
   "execution_count": 48,
   "id": "0a351510",
   "metadata": {},
   "outputs": [
    {
     "name": "stdout",
     "output_type": "stream",
     "text": [
      "Epoch 1, Train Loss: 0.0267, Test Loss: 0.0052\n",
      "Epoch 2, Train Loss: 0.0068, Test Loss: 0.0035\n",
      "Epoch 3, Train Loss: 0.0056, Test Loss: 0.0031\n",
      "Epoch 4, Train Loss: 0.0050, Test Loss: 0.0030\n",
      "Epoch 5, Train Loss: 0.0047, Test Loss: 0.0029\n",
      "Epoch 6, Train Loss: 0.0044, Test Loss: 0.0029\n",
      "Epoch 7, Train Loss: 0.0042, Test Loss: 0.0028\n",
      "Epoch 8, Train Loss: 0.0040, Test Loss: 0.0028\n",
      "Epoch 9, Train Loss: 0.0038, Test Loss: 0.0028\n",
      "Epoch 10, Train Loss: 0.0037, Test Loss: 0.0029\n",
      "Epoch 11, Train Loss: 0.0036, Test Loss: 0.0029\n",
      "Epoch 12, Train Loss: 0.0035, Test Loss: 0.0027\n",
      "Epoch 13, Train Loss: 0.0034, Test Loss: 0.0027\n",
      "Epoch 14, Train Loss: 0.0033, Test Loss: 0.0027\n",
      "Epoch 15, Train Loss: 0.0032, Test Loss: 0.0027\n",
      "Epoch 16, Train Loss: 0.0031, Test Loss: 0.0028\n",
      "Epoch 17, Train Loss: 0.0030, Test Loss: 0.0028\n",
      "Epoch 18, Train Loss: 0.0029, Test Loss: 0.0027\n",
      "Epoch 19, Train Loss: 0.0028, Test Loss: 0.0026\n",
      "Epoch 20, Train Loss: 0.0026, Test Loss: 0.0026\n",
      "Epoch 21, Train Loss: 0.0025, Test Loss: 0.0028\n",
      "Epoch 22, Train Loss: 0.0024, Test Loss: 0.0031\n",
      "Epoch 23, Train Loss: 0.0023, Test Loss: 0.0026\n",
      "Epoch 24, Train Loss: 0.0021, Test Loss: 0.0026\n",
      "Epoch 25, Train Loss: 0.0020, Test Loss: 0.0026\n",
      "Epoch 26, Train Loss: 0.0019, Test Loss: 0.0027\n",
      "Epoch 27, Train Loss: 0.0018, Test Loss: 0.0027\n",
      "Epoch 28, Train Loss: 0.0017, Test Loss: 0.0028\n",
      "Epoch 29, Train Loss: 0.0016, Test Loss: 0.0026\n",
      "Epoch 30, Train Loss: 0.0016, Test Loss: 0.0026\n",
      "Epoch 31, Train Loss: 0.0015, Test Loss: 0.0026\n",
      "Epoch 32, Train Loss: 0.0014, Test Loss: 0.0030\n",
      "Epoch 33, Train Loss: 0.0014, Test Loss: 0.0028\n",
      "Epoch 34, Train Loss: 0.0013, Test Loss: 0.0027\n",
      "Epoch 35, Train Loss: 0.0013, Test Loss: 0.0025\n",
      "Epoch 36, Train Loss: 0.0013, Test Loss: 0.0027\n",
      "Epoch 37, Train Loss: 0.0012, Test Loss: 0.0028\n",
      "Epoch 38, Train Loss: 0.0012, Test Loss: 0.0026\n",
      "Epoch 39, Train Loss: 0.0011, Test Loss: 0.0026\n",
      "Epoch 40, Train Loss: 0.0011, Test Loss: 0.0027\n",
      "Epoch 41, Train Loss: 0.0010, Test Loss: 0.0027\n",
      "Epoch 42, Train Loss: 0.0010, Test Loss: 0.0026\n",
      "Epoch 43, Train Loss: 0.0011, Test Loss: 0.0030\n",
      "Epoch 44, Train Loss: 0.0010, Test Loss: 0.0025\n",
      "Epoch 45, Train Loss: 0.0010, Test Loss: 0.0026\n",
      "Epoch 46, Train Loss: 0.0010, Test Loss: 0.0025\n",
      "Epoch 47, Train Loss: 0.0010, Test Loss: 0.0026\n",
      "Epoch 48, Train Loss: 0.0009, Test Loss: 0.0027\n",
      "Epoch 49, Train Loss: 0.0009, Test Loss: 0.0026\n",
      "Epoch 50, Train Loss: 0.0009, Test Loss: 0.0027\n",
      "Epoch 51, Train Loss: 0.0009, Test Loss: 0.0028\n",
      "Epoch 52, Train Loss: 0.0008, Test Loss: 0.0030\n",
      "Epoch 53, Train Loss: 0.0009, Test Loss: 0.0027\n",
      "Epoch 54, Train Loss: 0.0008, Test Loss: 0.0026\n",
      "Epoch 55, Train Loss: 0.0008, Test Loss: 0.0026\n",
      "Epoch 56, Train Loss: 0.0008, Test Loss: 0.0025\n",
      "Epoch 57, Train Loss: 0.0008, Test Loss: 0.0026\n",
      "Epoch 58, Train Loss: 0.0007, Test Loss: 0.0027\n",
      "Epoch 59, Train Loss: 0.0007, Test Loss: 0.0026\n",
      "Epoch 60, Train Loss: 0.0007, Test Loss: 0.0026\n",
      "Epoch 61, Train Loss: 0.0007, Test Loss: 0.0028\n",
      "Epoch 62, Train Loss: 0.0007, Test Loss: 0.0026\n",
      "Epoch 63, Train Loss: 0.0007, Test Loss: 0.0026\n",
      "Epoch 64, Train Loss: 0.0007, Test Loss: 0.0027\n",
      "Epoch 65, Train Loss: 0.0006, Test Loss: 0.0025\n",
      "Epoch 66, Train Loss: 0.0007, Test Loss: 0.0027\n",
      "Epoch 67, Train Loss: 0.0007, Test Loss: 0.0025\n",
      "Epoch 68, Train Loss: 0.0007, Test Loss: 0.0026\n",
      "Epoch 69, Train Loss: 0.0006, Test Loss: 0.0027\n",
      "Epoch 70, Train Loss: 0.0006, Test Loss: 0.0025\n",
      "Epoch 71, Train Loss: 0.0006, Test Loss: 0.0027\n",
      "Epoch 72, Train Loss: 0.0006, Test Loss: 0.0025\n",
      "Epoch 73, Train Loss: 0.0006, Test Loss: 0.0025\n",
      "Epoch 74, Train Loss: 0.0006, Test Loss: 0.0026\n",
      "Epoch 75, Train Loss: 0.0006, Test Loss: 0.0026\n",
      "Epoch 76, Train Loss: 0.0006, Test Loss: 0.0025\n",
      "Epoch 77, Train Loss: 0.0006, Test Loss: 0.0026\n",
      "Epoch 78, Train Loss: 0.0006, Test Loss: 0.0026\n",
      "Epoch 79, Train Loss: 0.0005, Test Loss: 0.0027\n",
      "Epoch 80, Train Loss: 0.0006, Test Loss: 0.0026\n",
      "Epoch 81, Train Loss: 0.0006, Test Loss: 0.0027\n",
      "Epoch 82, Train Loss: 0.0005, Test Loss: 0.0026\n",
      "Epoch 83, Train Loss: 0.0005, Test Loss: 0.0026\n",
      "Epoch 84, Train Loss: 0.0006, Test Loss: 0.0025\n",
      "Epoch 85, Train Loss: 0.0005, Test Loss: 0.0026\n",
      "Epoch 86, Train Loss: 0.0005, Test Loss: 0.0025\n",
      "Epoch 87, Train Loss: 0.0005, Test Loss: 0.0025\n",
      "Epoch 88, Train Loss: 0.0005, Test Loss: 0.0025\n",
      "Epoch 89, Train Loss: 0.0005, Test Loss: 0.0027\n",
      "Epoch 90, Train Loss: 0.0005, Test Loss: 0.0026\n",
      "Epoch 91, Train Loss: 0.0005, Test Loss: 0.0025\n",
      "Epoch 92, Train Loss: 0.0005, Test Loss: 0.0025\n",
      "Epoch 93, Train Loss: 0.0005, Test Loss: 0.0025\n",
      "Epoch 94, Train Loss: 0.0005, Test Loss: 0.0025\n",
      "Epoch 95, Train Loss: 0.0005, Test Loss: 0.0025\n",
      "Epoch 96, Train Loss: 0.0005, Test Loss: 0.0025\n",
      "Epoch 97, Train Loss: 0.0004, Test Loss: 0.0025\n",
      "Epoch 98, Train Loss: 0.0004, Test Loss: 0.0026\n",
      "Epoch 99, Train Loss: 0.0004, Test Loss: 0.0024\n",
      "Epoch 100, Train Loss: 0.0005, Test Loss: 0.0025\n"
     ]
    }
   ],
   "source": [
    "device = torch.device(\"cuda\" if torch.cuda.is_available() else \"cpu\")\n",
    "model = model.to(device)\n",
    "\n",
    "for epoch in range(100):  # nombre d'epochs\n",
    "    model.train()\n",
    "    total_loss = 0\n",
    "\n",
    "    for X_batch, y_batch in train_loader:\n",
    "        X_batch = X_batch.to(device)\n",
    "        y_batch = y_batch.to(device)\n",
    "\n",
    "        optimizer.zero_grad()\n",
    "        y_pred = model(X_batch)  # prédiction\n",
    "        loss = criterion(y_pred, y_batch)\n",
    "        loss.backward()\n",
    "        optimizer.step()\n",
    "\n",
    "        total_loss += loss.item()\n",
    "    \n",
    "    # Évaluation sur le jeu de test\n",
    "    test_loss = evaluate(model, test_loader, device)\n",
    "\n",
    "\n",
    "    avg_loss = total_loss / len(train_loader)\n",
    "    print(f\"Epoch {epoch+1}, Train Loss: {avg_loss:.4f}, Test Loss: {test_loss:.4f}\")\n"
   ]
  }
 ],
 "metadata": {
  "kernelspec": {
   "display_name": "Python 3",
   "language": "python",
   "name": "python3"
  },
  "language_info": {
   "codemirror_mode": {
    "name": "ipython",
    "version": 3
   },
   "file_extension": ".py",
   "mimetype": "text/x-python",
   "name": "python",
   "nbconvert_exporter": "python",
   "pygments_lexer": "ipython3",
   "version": "3.9.21"
  }
 },
 "nbformat": 4,
 "nbformat_minor": 5
}
