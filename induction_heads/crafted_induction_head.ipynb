{
 "cells": [
  {
   "cell_type": "code",
   "execution_count": 390,
   "id": "f748264a",
   "metadata": {},
   "outputs": [],
   "source": [
    "import numpy as np\n",
    "import string\n",
    "import matplotlib.pyplot as plt\n",
    "import seaborn as sns\n",
    "import random"
   ]
  },
  {
   "cell_type": "code",
   "execution_count": 391,
   "id": "a9faaa26",
   "metadata": {},
   "outputs": [],
   "source": [
    "def generate_almost_orthogonal_embeddings(k, D, seed=None):\n",
    "    rng = np.random.default_rng(seed)\n",
    "    vecs = rng.normal(size=(k, D))\n",
    "    # Normalisation\n",
    "    vecs = vecs / np.linalg.norm(vecs, axis=1, keepdims=True)\n",
    "    return vecs.astype(np.float32)\n"
   ]
  },
  {
   "cell_type": "code",
   "execution_count": 392,
   "id": "7e3d6fec",
   "metadata": {},
   "outputs": [],
   "source": [
    "def orthogonality_score(embeddings):\n",
    "    dot_prods = embeddings @ embeddings.T\n",
    "    np.fill_diagonal(dot_prods, 0)\n",
    "    return np.max(np.abs(dot_prods))\n"
   ]
  },
  {
   "cell_type": "code",
   "execution_count": null,
   "id": "9868d2b9",
   "metadata": {},
   "outputs": [],
   "source": []
  },
  {
   "cell_type": "code",
   "execution_count": 393,
   "id": "bf89b0d2",
   "metadata": {},
   "outputs": [],
   "source": [
    "T = 20\n",
    "k = 26\n",
    "D = 2000"
   ]
  },
  {
   "cell_type": "code",
   "execution_count": 394,
   "id": "80d0b085",
   "metadata": {},
   "outputs": [],
   "source": [
    "embeddings = generate_almost_orthogonal_embeddings(1+k+T, D//2, seed=0)"
   ]
  },
  {
   "cell_type": "code",
   "execution_count": 546,
   "id": "04733e72",
   "metadata": {},
   "outputs": [],
   "source": [
    "def generate_dict(k, D):\n",
    "    assert D % 2 == 0, \"D doit être divisible par 2\"\n",
    "    letters = list(string.ascii_uppercase)\n",
    "    assert k <= len(letters), \"k ne doit pas dépasser 26\"\n",
    "\n",
    "    dico = {}\n",
    "\n",
    "    # Ajout du token 'b' (begin)\n",
    "    begin_half = embeddings[0]\n",
    "    begin_vec = np.concatenate([begin_half, np.zeros(D // 2, dtype=np.float32)])\n",
    "    dico['b'] = begin_vec\n",
    "\n",
    "    # Ajout des k lettres\n",
    "    for i in range(k):\n",
    "        key = letters[i]\n",
    "        half = embeddings[i + 1]\n",
    "        vec = np.concatenate([half, np.zeros(D // 2, dtype=np.float32)])\n",
    "        dico[key] = vec\n",
    "\n",
    "    return dico"
   ]
  },
  {
   "cell_type": "code",
   "execution_count": 547,
   "id": "2894e590",
   "metadata": {},
   "outputs": [],
   "source": [
    "dic = generate_dict(k, D)"
   ]
  },
  {
   "cell_type": "code",
   "execution_count": 548,
   "id": "b780c8b7",
   "metadata": {},
   "outputs": [
    {
     "data": {
      "text/plain": [
       "1.0"
      ]
     },
     "execution_count": 548,
     "metadata": {},
     "output_type": "execute_result"
    }
   ],
   "source": [
    "dic['C'] @ dic['C'].T"
   ]
  },
  {
   "cell_type": "code",
   "execution_count": 549,
   "id": "e42589e7",
   "metadata": {},
   "outputs": [],
   "source": [
    "def string_to_token(s):\n",
    "    return np.array([dic[c] for c in s]).astype(np.float32)"
   ]
  },
  {
   "cell_type": "code",
   "execution_count": 550,
   "id": "74b2cc7e",
   "metadata": {},
   "outputs": [],
   "source": [
    "def softmax(x, axis=None):\n",
    "    x_max = np.max(x, axis=axis, keepdims=True)\n",
    "    e_x = np.exp(x - x_max)\n",
    "    return e_x / np.sum(e_x, axis=axis, keepdims=True)"
   ]
  },
  {
   "cell_type": "code",
   "execution_count": null,
   "id": "b458aafd",
   "metadata": {},
   "outputs": [],
   "source": []
  },
  {
   "cell_type": "code",
   "execution_count": 653,
   "id": "a3a47f5a",
   "metadata": {},
   "outputs": [],
   "source": [
    "\n",
    "string_seq = ['b', 'C', 'A', 'E', 'C', 'H', 'E', 'A', 'A', 'D', 'B', 'H']\n",
    "T = len(string_seq)"
   ]
  },
  {
   "cell_type": "code",
   "execution_count": 654,
   "id": "9c6f7bf4",
   "metadata": {},
   "outputs": [],
   "source": [
    "P = np.zeros((T, D), dtype=np.float32)\n",
    "for i in range(T):\n",
    "    half = embeddings[k + i + 1]\n",
    "    P[i] = np.concatenate([half, np.zeros(D // 2, dtype=np.float32)])"
   ]
  },
  {
   "cell_type": "code",
   "execution_count": 655,
   "id": "37b33452",
   "metadata": {},
   "outputs": [
    {
     "data": {
      "text/plain": [
       "-0.0454307"
      ]
     },
     "execution_count": 655,
     "metadata": {},
     "output_type": "execute_result"
    }
   ],
   "source": [
    "P[0] @ P[1].T"
   ]
  },
  {
   "cell_type": "code",
   "execution_count": 656,
   "id": "e7a2f4e6",
   "metadata": {},
   "outputs": [],
   "source": [
    "def permutation_matrix(D):\n",
    "    assert D % 2 == 0, \"D doit être pair\"\n",
    "    d_half = D // 2\n",
    "    V = np.zeros((D, D))\n",
    "\n",
    "    # Remplit les blocs pour permuter les deux moitiés\n",
    "    V[:d_half, d_half:] = np.eye(d_half)  # Haut droit\n",
    "    V[d_half:, :d_half] = np.eye(d_half)  # Bas gauche\n",
    "\n",
    "    return V"
   ]
  },
  {
   "cell_type": "code",
   "execution_count": 657,
   "id": "f0dbcf23",
   "metadata": {},
   "outputs": [],
   "source": [
    "def embedding(P, S):\n",
    "    T = S.shape[0]\n",
    "    return P[:T,:]+S"
   ]
  },
  {
   "cell_type": "code",
   "execution_count": 658,
   "id": "715e319d",
   "metadata": {},
   "outputs": [],
   "source": [
    "def first_layer(P, S):\n",
    "    X = embedding(P, S)\n",
    "    QK1 = np.zeros((D,D), dtype=np.float32)\n",
    "    for i in range(1, len(P)):\n",
    "        QK1 = QK1 + (P[i].reshape(D, 1) @ P[i-1].reshape(1, D))\n",
    "    \n",
    "    Att = X @ QK1 @ (X.T)/ np.linalg.norm(X @ QK1 @ (X.T)) * 20\n",
    "    Att = softmax(Att, axis=1)\n",
    "    V = permutation_matrix(D)\n",
    "    Z = (Att @ X @ V)/np.linalg.norm(Att @ X @ V)+X/np.linalg.norm(X)\n",
    "    return Att, Z"
   ]
  },
  {
   "cell_type": "code",
   "execution_count": 659,
   "id": "9138d4af",
   "metadata": {},
   "outputs": [
    {
     "data": {
      "text/plain": [
       "array([[ 6.22970005e-03, -1.07063148e-02,  9.11480095e-03, ...,\n",
       "        -5.18664463e-03, -3.71283657e-03, -1.21414511e-03],\n",
       "       [ 7.29362131e-04,  1.15148583e-03, -8.39463144e-04, ...,\n",
       "         1.19379844e-03, -7.05947057e-03,  7.09772323e-05],\n",
       "       [ 8.06162413e-03, -4.10491461e-03, -3.16658476e-03, ...,\n",
       "         9.72683577e-04,  1.28799464e-02, -4.02636269e-03],\n",
       "       ...,\n",
       "       [ 8.34707357e-03, -1.84064644e-04, -8.59266985e-03, ...,\n",
       "        -1.32173684e-02, -1.84319332e-03,  3.70909753e-03],\n",
       "       [-1.40255932e-02, -5.02112601e-03,  1.30120362e-03, ...,\n",
       "        -1.88944518e-02, -1.28377493e-02, -9.14895654e-03],\n",
       "       [ 2.20385916e-03, -1.46633945e-02, -1.69974775e-03, ...,\n",
       "        -1.49904106e-02, -4.05636601e-03,  5.15186919e-03]])"
      ]
     },
     "execution_count": 659,
     "metadata": {},
     "output_type": "execute_result"
    }
   ],
   "source": [
    "Att1, Z1 = first_layer(P, string_to_token(string_seq))\n",
    "Z1"
   ]
  },
  {
   "cell_type": "code",
   "execution_count": 660,
   "id": "0c16e856",
   "metadata": {},
   "outputs": [],
   "source": [
    "def display_matrix(Att, string_seq):\n",
    "    plt.figure(figsize=(8, 6))\n",
    "    sns.heatmap(Att, annot=True, fmt=\".2f\", cmap=\"viridis\",\n",
    "                xticklabels=string_seq, yticklabels=string_seq)\n",
    "    plt.title(\"Attention Matrix\")\n",
    "    plt.xlabel(\"Key\")\n",
    "    plt.ylabel(\"Query\")\n",
    "    plt.show()\n"
   ]
  },
  {
   "cell_type": "code",
   "execution_count": 661,
   "id": "7f6309c7",
   "metadata": {},
   "outputs": [
    {
     "data": {
      "image/png": "[encoded data removed]",
      "text/plain": [
       "<Figure size 800x600 with 2 Axes>"
      ]
     },
     "metadata": {},
     "output_type": "display_data"
    }
   ],
   "source": [
    "display_matrix(Att1, string_seq)"
   ]
  },
  {
   "cell_type": "code",
   "execution_count": 662,
   "id": "d21f3342",
   "metadata": {},
   "outputs": [],
   "source": [
    "def second_layer(Z, beta=1):\n",
    "    K_2 = np.zeros((D, D), dtype=np.float32)\n",
    "    K_2[:D//2, D//2:] = np.eye(D//2)  \n",
    "    Att2 = Z @ (K_2) @ (Z.T) *100\n",
    "    Att2 = softmax(Att2, axis=1)\n",
    "    V2 = beta* np.eye(D)\n",
    "    Z2 = (Att2 @ Z @ V2)/np.linalg.norm(Att2 @ Z)\n",
    "    return Att2, Z2\n"
   ]
  },
  {
   "cell_type": "code",
   "execution_count": 663,
   "id": "fe61a719",
   "metadata": {},
   "outputs": [],
   "source": [
    "Att2, Z2 = second_layer(Z1)"
   ]
  },
  {
   "cell_type": "code",
   "execution_count": 664,
   "id": "8ed33dca",
   "metadata": {},
   "outputs": [
    {
     "data": {
      "image/png": "[encoded data removed]",
      "text/plain": [
       "<Figure size 800x600 with 2 Axes>"
      ]
     },
     "metadata": {},
     "output_type": "display_data"
    }
   ],
   "source": [
    "display_matrix(Att2, string_seq)"
   ]
  },
  {
   "cell_type": "code",
   "execution_count": 665,
   "id": "484dba67",
   "metadata": {},
   "outputs": [],
   "source": [
    "def classification(k, dico, Z):\n",
    "    mlp = np.zeros((k, D), dtype=np.float32)\n",
    "    letters = list(string.ascii_uppercase)\n",
    "    for i in range(k):\n",
    "        key = letters[i]\n",
    "        mlp[i] = dico[key] *30\n",
    "    logits = mlp @ Z[-1].T\n",
    "    return softmax(logits)\n",
    "    "
   ]
  },
  {
   "cell_type": "code",
   "execution_count": 666,
   "id": "f0b0ccc1",
   "metadata": {},
   "outputs": [
    {
     "name": "stdout",
     "output_type": "stream",
     "text": [
      "Classification result [0.01339951 0.01448805 0.01254738 0.01196919 0.62477017 0.01678739\n",
      " 0.02054357 0.01450899 0.01318539 0.01828388 0.02058337 0.01542992\n",
      " 0.01080342 0.01545548 0.01219204 0.01639658 0.01620089 0.01374616\n",
      " 0.01705527 0.01484959 0.0098792  0.01407867 0.01312595 0.01543885\n",
      " 0.01905612 0.01522498]\n"
     ]
    }
   ],
   "source": [
    "classification_result = classification(k, dic, Z2)\n",
    "print(\"Classification result\", classification_result)"
   ]
  },
  {
   "cell_type": "code",
   "execution_count": 677,
   "id": "5e88e3a1",
   "metadata": {},
   "outputs": [],
   "source": [
    "import matplotlib.pyplot as plt\n",
    "import seaborn as sns\n",
    "import pandas as pd\n",
    "import string\n",
    "\n",
    "def plot_output(output, k):\n",
    "    letters = list(string.ascii_uppercase[:k])\n",
    "    df = pd.DataFrame({'Lettre': letters, 'Probabilité': output})\n",
    "\n",
    "    plt.figure(figsize=(8, 4))\n",
    "    sns.barplot(data=df, x='Lettre', y='Probabilité')\n",
    "    plt.title(\"Distribution des probabilités (softmax)\")\n",
    "    plt.ylim(0, 1)\n",
    "    plt.grid(True, axis='y', linestyle='--', alpha=0.5)\n",
    "    plt.show()\n"
   ]
  },
  {
   "cell_type": "code",
   "execution_count": 678,
   "id": "62b05399",
   "metadata": {},
   "outputs": [
    {
     "data": {
      "image/png": "[encoded data removed]",
      "text/plain": [
       "<Figure size 800x400 with 1 Axes>"
      ]
     },
     "metadata": {},
     "output_type": "display_data"
    }
   ],
   "source": [
    "plot_output(classification_result, k)"
   ]
  },
  {
   "cell_type": "code",
   "execution_count": 667,
   "id": "22410451",
   "metadata": {},
   "outputs": [],
   "source": [
    "def generate_X_y(T, dico, n):\n",
    "    \"\"\"\n",
    "    Génère n séquences (X, y) :\n",
    "    - X est une séquence de T+1 lettres : 'b', ..., target (qui apparaît deux fois)\n",
    "    - y est la lettre juste après la première apparition du target\n",
    "    \"\"\"\n",
    "    assert 'b' in dico\n",
    "    letters = [k for k in dico if k != 'b']\n",
    "    assert len(letters) >= 2\n",
    "    assert T >= 3, \"T doit être au moins 3 pour que target puisse apparaître avant la fin et être suivi\"\n",
    "\n",
    "    X_list = []\n",
    "    y_list = []\n",
    "\n",
    "    for _ in range(n):\n",
    "        seq = ['b']\n",
    "        target = random.choice(letters)\n",
    "\n",
    "        # Position du target dans le corps, garanti < T - 1\n",
    "        insert_pos = random.randint(1, T - 2)\n",
    "\n",
    "        middle_letters = []\n",
    "        for i in range(1, T):\n",
    "            if i == insert_pos:\n",
    "                middle_letters.append(target)\n",
    "            else:\n",
    "                other_choices = [l for l in letters if l != target]\n",
    "                middle_letters.append(random.choice(other_choices))\n",
    "\n",
    "        seq.extend(middle_letters)\n",
    "        seq.append(target)  # target en dernière position\n",
    "\n",
    "        y = middle_letters[insert_pos]\n",
    "        X_list.append(seq)\n",
    "        y_list.append(y)\n",
    "\n",
    "    return X_list, y_list\n"
   ]
  },
  {
   "cell_type": "code",
   "execution_count": 668,
   "id": "6c08ec96",
   "metadata": {},
   "outputs": [],
   "source": [
    "def model(S):\n",
    "    Att1, Z1 = first_layer(P, S)\n",
    "    Att2, Z2 = second_layer(Z1)\n",
    "    logits = classification(k, dic, Z2)\n",
    "    return logits"
   ]
  },
  {
   "cell_type": "code",
   "execution_count": 669,
   "id": "dfd32a8d",
   "metadata": {},
   "outputs": [
    {
     "data": {
      "text/plain": [
       "((12, 2000), (12, 2000))"
      ]
     },
     "execution_count": 669,
     "metadata": {},
     "output_type": "execute_result"
    }
   ],
   "source": [
    "P.shape, string_to_token(string_seq).shape"
   ]
  },
  {
   "cell_type": "code",
   "execution_count": 670,
   "id": "5df8e4f0",
   "metadata": {},
   "outputs": [
    {
     "data": {
      "text/plain": [
       "array([0.01339951, 0.01448805, 0.01254738, 0.01196919, 0.62477017,\n",
       "       0.01678739, 0.02054357, 0.01450899, 0.01318539, 0.01828388,\n",
       "       0.02058337, 0.01542992, 0.01080342, 0.01545548, 0.01219204,\n",
       "       0.01639658, 0.01620089, 0.01374616, 0.01705527, 0.01484959,\n",
       "       0.0098792 , 0.01407867, 0.01312595, 0.01543885, 0.01905612,\n",
       "       0.01522498])"
      ]
     },
     "execution_count": 670,
     "metadata": {},
     "output_type": "execute_result"
    }
   ],
   "source": [
    "model(string_to_token(string_seq))"
   ]
  },
  {
   "cell_type": "code",
   "execution_count": 699,
   "id": "c4a7d9d7",
   "metadata": {},
   "outputs": [],
   "source": [
    "import numpy as np\n",
    "\n",
    "def display_predictions_numpy(X_seq, y_true, model, char_to_int, int_to_char):\n",
    "    \"\"\"\n",
    "    X_seq : liste de séquences de lettres (n x (T+1))\n",
    "    y_true : liste de lettres (n)\n",
    "    model  : fonction prenant S (n, T+1) indices → logits (n, k)\n",
    "    Retourne l'affichage coloré dans le terminal.\n",
    "    \"\"\"\n",
    "    error = 0\n",
    "    BLUE  = '\\033[94m'\n",
    "    GREEN = '\\033[92m'\n",
    "    RESET = '\\033[0m'\n",
    "\n",
    "    # Conversion une fois des séquences en indices\n",
    "    S_list = [string_to_token(x) for x in X_seq]  # shape (n, T+1)\n",
    "\n",
    "    for i, S in enumerate(S_list):\n",
    "        logits = model(S)             # shape (1, k) ou (k,)\n",
    "        # si model renvoie (1,k), on aplatit :\n",
    "        logits = logits.flatten()\n",
    "        y_pred_idx = np.argmax(logits)\n",
    "        pred_letter = int_to_char[y_pred_idx+1]\n",
    "        true_letter = y_true[i]\n",
    "\n",
    "        x_letters = X_seq[i]\n",
    "        last = x_letters[-1]\n",
    "        # trouver position unique de last dans le préfixe (sans compter b)\n",
    "        other_pos = next(j for j, c in enumerate(x_letters[1:-1], start=1) if c == last)\n",
    "\n",
    "        # marquer la séquence\n",
    "        colored = []\n",
    "        for j, c in enumerate(x_letters[1:], start=1):  # on ignore le 'b' à j=0\n",
    "            if j == other_pos or j == len(x_letters)-1:\n",
    "                # soit la première occurrence du last, soit la dernière\n",
    "                colored.append(f\"{BLUE}{c}{RESET}\")\n",
    "            elif c == true_letter:\n",
    "                colored.append(f\"{GREEN}{c}{RESET}\")\n",
    "            else:\n",
    "                colored.append(c)\n",
    "\n",
    "        print(f\"Sequence : {''.join(colored)}\")\n",
    "        print(f\"  True : {GREEN}{true_letter}{RESET}, Predicted : {GREEN}{pred_letter}{RESET}\")\n",
    "\n",
    "        # compter les erreurs\n",
    "        if logits.max() < 0.5 or pred_letter != true_letter:\n",
    "            error += 1\n",
    "\n",
    "    print(f\"\\nErreur : {error} / {len(X_seq)} séquences\")\n"
   ]
  },
  {
   "cell_type": "code",
   "execution_count": 672,
   "id": "ca81e983",
   "metadata": {},
   "outputs": [],
   "source": [
    "T=10\n",
    "X_seq, y = generate_X_y(T=T, dico=dic, n=30)\n"
   ]
  },
  {
   "cell_type": "code",
   "execution_count": 700,
   "id": "7318eca0",
   "metadata": {},
   "outputs": [
    {
     "name": "stdout",
     "output_type": "stream",
     "text": [
      "Sequence : G\u001b[94mM\u001b[0m\u001b[92mH\u001b[0mKWKOFC\u001b[94mM\u001b[0m\n",
      "  True : \u001b[92mH\u001b[0m, Predicted : \u001b[92mH\u001b[0m\n",
      "Sequence : BYDCR\u001b[94mI\u001b[0m\u001b[92mF\u001b[0mLQ\u001b[94mI\u001b[0m\n",
      "  True : \u001b[92mF\u001b[0m, Predicted : \u001b[92mF\u001b[0m\n",
      "Sequence : T\u001b[92mK\u001b[0mPJXTL\u001b[94mU\u001b[0m\u001b[92mK\u001b[0m\u001b[94mU\u001b[0m\n",
      "  True : \u001b[92mK\u001b[0m, Predicted : \u001b[92mK\u001b[0m\n",
      "Sequence : IC\u001b[94mH\u001b[0m\u001b[92mU\u001b[0mYRMVP\u001b[94mH\u001b[0m\n",
      "  True : \u001b[92mU\u001b[0m, Predicted : \u001b[92mU\u001b[0m\n",
      "Sequence : \u001b[94mL\u001b[0m\u001b[92mW\u001b[0mBBPZMMQ\u001b[94mL\u001b[0m\n",
      "  True : \u001b[92mW\u001b[0m, Predicted : \u001b[92mW\u001b[0m\n",
      "Sequence : RVYOO\u001b[94mL\u001b[0m\u001b[92mW\u001b[0mIX\u001b[94mL\u001b[0m\n",
      "  True : \u001b[92mW\u001b[0m, Predicted : \u001b[92mW\u001b[0m\n",
      "Sequence : XW\u001b[92mN\u001b[0m\u001b[94mP\u001b[0m\u001b[92mN\u001b[0mRTIT\u001b[94mP\u001b[0m\n",
      "  True : \u001b[92mN\u001b[0m, Predicted : \u001b[92mN\u001b[0m\n",
      "Sequence : RY\u001b[94mP\u001b[0m\u001b[92mS\u001b[0mUHTWG\u001b[94mP\u001b[0m\n",
      "  True : \u001b[92mS\u001b[0m, Predicted : \u001b[92mS\u001b[0m\n",
      "Sequence : UEE\u001b[94mO\u001b[0m\u001b[92mG\u001b[0mUKND\u001b[94mO\u001b[0m\n",
      "  True : \u001b[92mG\u001b[0m, Predicted : \u001b[92mG\u001b[0m\n",
      "Sequence : OKU\u001b[94mH\u001b[0m\u001b[92mM\u001b[0mNCXZ\u001b[94mH\u001b[0m\n",
      "  True : \u001b[92mM\u001b[0m, Predicted : \u001b[92mM\u001b[0m\n",
      "Sequence : PLXTGL\u001b[94mM\u001b[0m\u001b[92mV\u001b[0mZ\u001b[94mM\u001b[0m\n",
      "  True : \u001b[92mV\u001b[0m, Predicted : \u001b[92mV\u001b[0m\n",
      "Sequence : PVBS\u001b[94mC\u001b[0m\u001b[92mO\u001b[0mJMX\u001b[94mC\u001b[0m\n",
      "  True : \u001b[92mO\u001b[0m, Predicted : \u001b[92mO\u001b[0m\n",
      "Sequence : F\u001b[94mI\u001b[0m\u001b[92mT\u001b[0mHGMARG\u001b[94mI\u001b[0m\n",
      "  True : \u001b[92mT\u001b[0m, Predicted : \u001b[92mT\u001b[0m\n",
      "Sequence : N\u001b[94mZ\u001b[0m\u001b[92mU\u001b[0mAGTPCB\u001b[94mZ\u001b[0m\n",
      "  True : \u001b[92mU\u001b[0m, Predicted : \u001b[92mU\u001b[0m\n",
      "Sequence : RSFUTGL\u001b[94mA\u001b[0m\u001b[92mN\u001b[0m\u001b[94mA\u001b[0m\n",
      "  True : \u001b[92mN\u001b[0m, Predicted : \u001b[92mN\u001b[0m\n",
      "Sequence : DBK\u001b[94mC\u001b[0m\u001b[92mF\u001b[0mAXTU\u001b[94mC\u001b[0m\n",
      "  True : \u001b[92mF\u001b[0m, Predicted : \u001b[92mF\u001b[0m\n",
      "Sequence : VJ\u001b[94mM\u001b[0m\u001b[92mT\u001b[0mPWRNW\u001b[94mM\u001b[0m\n",
      "  True : \u001b[92mT\u001b[0m, Predicted : \u001b[92mT\u001b[0m\n",
      "Sequence : EBT\u001b[94mQ\u001b[0m\u001b[92mS\u001b[0mHPYI\u001b[94mQ\u001b[0m\n",
      "  True : \u001b[92mS\u001b[0m, Predicted : \u001b[92mS\u001b[0m\n",
      "Sequence : WNDQY\u001b[94mZ\u001b[0m\u001b[92mT\u001b[0mUG\u001b[94mZ\u001b[0m\n",
      "  True : \u001b[92mT\u001b[0m, Predicted : \u001b[92mT\u001b[0m\n",
      "Sequence : CBWINU\u001b[94mD\u001b[0m\u001b[92mF\u001b[0mL\u001b[94mD\u001b[0m\n",
      "  True : \u001b[92mF\u001b[0m, Predicted : \u001b[92mF\u001b[0m\n",
      "Sequence : JZS\u001b[94mO\u001b[0m\u001b[92mQ\u001b[0mXZJF\u001b[94mO\u001b[0m\n",
      "  True : \u001b[92mQ\u001b[0m, Predicted : \u001b[92mQ\u001b[0m\n",
      "Sequence : YVEN\u001b[94mC\u001b[0m\u001b[92mD\u001b[0mKOV\u001b[94mC\u001b[0m\n",
      "  True : \u001b[92mD\u001b[0m, Predicted : \u001b[92mD\u001b[0m\n",
      "Sequence : S\u001b[94mK\u001b[0m\u001b[92mL\u001b[0mFDTTXT\u001b[94mK\u001b[0m\n",
      "  True : \u001b[92mL\u001b[0m, Predicted : \u001b[92mL\u001b[0m\n",
      "Sequence : LEOLT\u001b[94mK\u001b[0m\u001b[92mQ\u001b[0mEO\u001b[94mK\u001b[0m\n",
      "  True : \u001b[92mQ\u001b[0m, Predicted : \u001b[92mQ\u001b[0m\n",
      "Sequence : KPJD\u001b[92mO\u001b[0mNQ\u001b[94mB\u001b[0m\u001b[92mO\u001b[0m\u001b[94mB\u001b[0m\n",
      "  True : \u001b[92mO\u001b[0m, Predicted : \u001b[92mO\u001b[0m\n",
      "Sequence : \u001b[94mN\u001b[0m\u001b[92mT\u001b[0mYCMRWSS\u001b[94mN\u001b[0m\n",
      "  True : \u001b[92mT\u001b[0m, Predicted : \u001b[92mT\u001b[0m\n",
      "Sequence : GIWM\u001b[94mH\u001b[0m\u001b[92mK\u001b[0mRFG\u001b[94mH\u001b[0m\n",
      "  True : \u001b[92mK\u001b[0m, Predicted : \u001b[92mK\u001b[0m\n",
      "Sequence : KVPX\u001b[94mF\u001b[0m\u001b[92mD\u001b[0mRIY\u001b[94mF\u001b[0m\n",
      "  True : \u001b[92mD\u001b[0m, Predicted : \u001b[92mD\u001b[0m\n",
      "Sequence : B\u001b[92mF\u001b[0m\u001b[94mI\u001b[0m\u001b[92mF\u001b[0mJVHYJ\u001b[94mI\u001b[0m\n",
      "  True : \u001b[92mF\u001b[0m, Predicted : \u001b[92mF\u001b[0m\n",
      "Sequence : OPID\u001b[94mK\u001b[0m\u001b[92mR\u001b[0mGSO\u001b[94mK\u001b[0m\n",
      "  True : \u001b[92mR\u001b[0m, Predicted : \u001b[92mR\u001b[0m\n",
      "\n",
      "Erreur : 0 / 30 séquences\n"
     ]
    }
   ],
   "source": [
    "char_to_int = {c: i for i, c in enumerate(dic)}\n",
    "int_to_char = {i: c for c, i in char_to_int.items()}\n",
    "\n",
    "\n",
    "display_predictions_numpy(X_seq[:30], y, model, char_to_int, int_to_char)\n"
   ]
  },
  {
   "cell_type": "code",
   "execution_count": 674,
   "id": "38f1fc09",
   "metadata": {},
   "outputs": [],
   "source": [
    "def generate_X(T, dico, n):\n",
    "    \"\"\"\n",
    "    Génère n séquences X de longueur T+1 :\n",
    "    - Chaque séquence commence par 'b'\n",
    "    - La dernière lettre (position T) n’apparaît pas ailleurs dans la séquence\n",
    "    - Il n'y a pas de sortie y associée\n",
    "    \"\"\"\n",
    "    assert 'b' in dico\n",
    "    letters = [k for k in dico if k != 'b']\n",
    "    assert len(letters) >= 2\n",
    "    assert T >= 2\n",
    "\n",
    "    X_list = []\n",
    "\n",
    "    for _ in range(n):\n",
    "        while True:\n",
    "            seq = ['b']\n",
    "            candidate_last = random.choice(letters)\n",
    "\n",
    "            # lettres disponibles pour le corps de la séquence (T-1 lettres après 'b')\n",
    "            other_choices = [l for l in letters if l != candidate_last]\n",
    "            middle_letters = [random.choice(other_choices) for _ in range(T - 1)]\n",
    "\n",
    "            if candidate_last not in middle_letters:\n",
    "                # on valide la séquence\n",
    "                seq.extend(middle_letters)\n",
    "                seq.append(candidate_last)\n",
    "                X_list.append(seq)\n",
    "                break  # passer à la suivante\n",
    "\n",
    "    return X_list\n"
   ]
  },
  {
   "cell_type": "code",
   "execution_count": 675,
   "id": "12c6876f",
   "metadata": {},
   "outputs": [],
   "source": [
    "X_no_repeat = generate_X(T=10, dico=dic, n=300)"
   ]
  },
  {
   "cell_type": "code",
   "execution_count": 676,
   "id": "6014b3c9",
   "metadata": {},
   "outputs": [],
   "source": [
    "# for i, x in enumerate(X_no_repeat):\n",
    "#     pass\n",
    "#     if (max(model(string_to_token(x)))) > 0.3:\n",
    "#         print(x)\n",
    "#         print(model(string_to_token(x)))\n",
    "#         print(max(model(string_to_token(x))))"
   ]
  }
 ],
 "metadata": {
  "kernelspec": {
   "display_name": "Python 3",
   "language": "python",
   "name": "python3"
  },
  "language_info": {
   "codemirror_mode": {
    "name": "ipython",
    "version": 3
   },
   "file_extension": ".py",
   "mimetype": "text/x-python",
   "name": "python",
   "nbconvert_exporter": "python",
   "pygments_lexer": "ipython3",
   "version": "3.9.21"
  }
 },
 "nbformat": 4,
 "nbformat_minor": 5
}
