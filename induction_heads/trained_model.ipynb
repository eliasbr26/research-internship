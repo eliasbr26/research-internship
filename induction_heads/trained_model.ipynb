{
 "cells": [
  {
   "cell_type": "code",
   "execution_count": 7,
   "id": "8c00f101",
   "metadata": {},
   "outputs": [
    {
     "data": {
      "text/plain": [
       "device(type='cuda')"
      ]
     },
     "execution_count": 7,
     "metadata": {},
     "output_type": "execute_result"
    }
   ],
   "source": [
    "import numpy as np\n",
    "import random\n",
    "import string\n",
    "import torch\n",
    "from torch.utils.data import TensorDataset, DataLoader\n",
    "from sklearn.model_selection import train_test_split\n",
    "import torch.nn as nn\n",
    "import torch.nn.functional as F\n",
    "import matplotlib.pyplot as plt\n",
    "import seaborn as sns\n",
    "device = torch.device(\"cuda\" if torch.cuda.is_available() else \"cpu\")\n",
    "device"
   ]
  },
  {
   "cell_type": "code",
   "execution_count": 26,
   "id": "1470021f",
   "metadata": {},
   "outputs": [],
   "source": [
    "n = 30000\n",
    "T = 25\n",
    "k = 3"
   ]
  },
  {
   "cell_type": "code",
   "execution_count": 27,
   "id": "7f72f3eb",
   "metadata": {},
   "outputs": [],
   "source": [
    "def generate_dict(k):\n",
    "\n",
    "    letters = list(string.ascii_uppercase)\n",
    "    assert k <= len(letters), \"k ne doit pas dépasser 26\"\n",
    "\n",
    "    dico = {}\n",
    "    embeddings = np.eye(k + 1, k+1, dtype=np.float32)\n",
    "    # Ajout du token 'b' (begin)\n",
    "    begin = embeddings[0]\n",
    "\n",
    "    dico['b'] = begin\n",
    "    char_to_id = {char: i for i, char in enumerate(letters)}\n",
    "    id_to_char = {i: char for char, i in char_to_id.items()}\n",
    "\n",
    "    # Ajout des k lettres\n",
    "    for i in range(k):\n",
    "        key = letters[i]\n",
    "        dico[key] = embeddings[i + 1]\n",
    "\n",
    "    return dico, char_to_id, id_to_char"
   ]
  },
  {
   "cell_type": "code",
   "execution_count": 28,
   "id": "12a4e014",
   "metadata": {},
   "outputs": [
    {
     "data": {
      "text/plain": [
       "{'b': array([1., 0., 0., 0.], dtype=float32),\n",
       " 'A': array([0., 1., 0., 0.], dtype=float32),\n",
       " 'B': array([0., 0., 1., 0.], dtype=float32),\n",
       " 'C': array([0., 0., 0., 1.], dtype=float32)}"
      ]
     },
     "execution_count": 28,
     "metadata": {},
     "output_type": "execute_result"
    }
   ],
   "source": [
    "dico, char_to_id, id_to_char = generate_dict(k)\n",
    "dico"
   ]
  },
  {
   "cell_type": "code",
   "execution_count": 29,
   "id": "dbec2bb7",
   "metadata": {},
   "outputs": [],
   "source": [
    "def generate_X_y(T, dico, n):\n",
    "    \"\"\"\n",
    "    Génère n séquences (X, y) :\n",
    "    - X est une séquence de T+1 lettres : 'b', ..., target (qui apparaît deux fois)\n",
    "    - y est la lettre juste après la première apparition du target\n",
    "    \"\"\"\n",
    "    assert 'b' in dico\n",
    "    letters = [k for k in dico if k != 'b']\n",
    "    assert len(letters) >= 2\n",
    "    assert T >= 3, \"T doit être au moins 3 pour que target puisse apparaître avant la fin et être suivi\"\n",
    "\n",
    "    X_list = []\n",
    "    y_list = []\n",
    "\n",
    "    for _ in range(n):\n",
    "        seq = ['b']\n",
    "        target = random.choice(letters)\n",
    "\n",
    "        # Position du target dans le corps, garanti < T - 1\n",
    "        insert_pos = random.randint(1, T - 2)\n",
    "\n",
    "        middle_letters = []\n",
    "        for i in range(1, T):\n",
    "            if i == insert_pos:\n",
    "                middle_letters.append(target)\n",
    "            else:\n",
    "                other_choices = [l for l in letters if l != target]\n",
    "                middle_letters.append(random.choice(other_choices))\n",
    "\n",
    "        seq.extend(middle_letters)\n",
    "        seq.append(target)  # target en dernière position\n",
    "\n",
    "        y = middle_letters[insert_pos]\n",
    "        X_list.append(seq)\n",
    "        y_list.append(y)\n",
    "\n",
    "    return X_list, y_list\n"
   ]
  },
  {
   "cell_type": "code",
   "execution_count": 35,
   "id": "7bb2188f",
   "metadata": {},
   "outputs": [],
   "source": [
    "X, y = generate_X_y(T, dico, n)"
   ]
  },
  {
   "cell_type": "code",
   "execution_count": 36,
   "id": "bf21ca0c",
   "metadata": {},
   "outputs": [],
   "source": [
    "def create_tensordataset(X_list, y_list, dico):\n",
    "    \"\"\"\n",
    "    Convertit X_list et y_list en TensorDataset.\n",
    "    \"\"\"\n",
    "    X_tensor = torch.tensor([[dico[char] for char in seq] for seq in X_list], dtype=torch.float32)\n",
    "    y_tensor = torch.tensor([char_to_id[y_char] for y_char in y_list], dtype=torch.long)\n",
    "\n",
    "    return X_tensor, y_tensor"
   ]
  },
  {
   "cell_type": "code",
   "execution_count": 37,
   "id": "b3eee7f9",
   "metadata": {},
   "outputs": [],
   "source": [
    "X, y = create_tensordataset(X, y, dico)"
   ]
  },
  {
   "cell_type": "code",
   "execution_count": 38,
   "id": "29ed5abd",
   "metadata": {},
   "outputs": [],
   "source": [
    "def token_accuracy(preds, targets):\n",
    "    \"\"\"\n",
    "    Calcule l'accuracy lettre par lettre (token par token).\n",
    "    \"\"\"\n",
    "    pred_classes = torch.argmax(preds, dim=-1)  # [B, T]\n",
    "    correct = (pred_classes == targets).float()\n",
    "    return correct.mean().item()\n",
    "\n",
    "def train_model(model, train_loader, test_loader, epochs=10, lr=1e-3, device='cuda' if torch.cuda.is_available() else 'cpu'):\n",
    "    model.to(device)\n",
    "    optimizer = torch.optim.Adam(model.parameters(), lr=lr)\n",
    "    criterion = nn.CrossEntropyLoss()  # attente [B, C, T] vs [B, T]\n",
    "\n",
    "    train_loss_list = []\n",
    "    test_loss_list = []\n",
    "    test_acc_list = []\n",
    "\n",
    "    for epoch in range(1, epochs + 1):\n",
    "        model.train()\n",
    "        total_train_loss = 0\n",
    "\n",
    "        for xb, yb in train_loader:\n",
    "            xb, yb = xb.to(device), yb.to(device)  # xb: [B, T, D], yb: [B, T]\n",
    "            preds = model(xb)                      # preds: [B, T, C]\n",
    "            preds = preds.permute(0, 2, 1)         # -> [B, C, T] pour CrossEntropy\n",
    "            loss = criterion(preds, yb)\n",
    "            \n",
    "            optimizer.zero_grad()\n",
    "            loss.backward()\n",
    "            optimizer.step()\n",
    "\n",
    "            train_loss_list.append(loss.item())\n",
    "            total_train_loss += loss.item()\n",
    "\n",
    "        # 🔍 Validation à la fin de l'epoch\n",
    "        model.eval()\n",
    "        total_val_loss = 0\n",
    "        total_acc = 0\n",
    "        total_samples = 0\n",
    "        with torch.no_grad():\n",
    "            for xb, yb in test_loader:\n",
    "                xb, yb = xb.to(device), yb.to(device)\n",
    "                preds = model(xb)\n",
    "                val_loss = criterion(preds.permute(0, 2, 1), yb)\n",
    "                total_val_loss += val_loss.item()\n",
    "                test_loss_list.append(val_loss.item())\n",
    "\n",
    "                acc = token_accuracy(preds, yb)\n",
    "                total_acc += acc * xb.size(0)\n",
    "                total_samples += xb.size(0)\n",
    "\n",
    "        avg_train_loss = total_train_loss / len(train_loader)\n",
    "        avg_val_loss = total_val_loss / len(test_loader)\n",
    "        avg_val_acc = total_acc / total_samples\n",
    "        test_acc_list.append(avg_val_acc)\n",
    "\n",
    "        print(f\"Epoch {epoch}/{epochs} | Train Loss: {avg_train_loss:.4f} | Val Loss: {avg_val_loss:.4f} | Val Acc: {avg_val_acc:.4f}\")\n",
    "\n",
    "    return train_loss_list, test_loss_list, test_acc_list\n",
    "\n"
   ]
  },
  {
   "cell_type": "code",
   "execution_count": null,
   "id": "062d2119",
   "metadata": {},
   "outputs": [],
   "source": [
    "class AttentionOnlyBlock(nn.Module):\n",
    "    def __init__(self, d_model):\n",
    "        super().__init__()\n",
    "        self.Wq = nn.Linear(d_model, d_model, bias=False)\n",
    "        self.Wk = nn.Linear(d_model, d_model, bias=False)\n",
    "        self.Wv = nn.Linear(d_model, d_model, bias=False)\n",
    "        self.norm = nn.LayerNorm(d_model)\n",
    "        self.attn_weights = None  # <-- pour garder la dernière attention\n",
    "\n",
    "    def forward(self, x):\n",
    "        Q = self.Wq(x)\n",
    "        K = self.Wk(x)\n",
    "        V = self.Wv(x)\n",
    "        attn_scores = torch.matmul(Q, Q.transpose(-2, -1)) / (Q.size(-1) ** 0.5)\n",
    "        attn_weights = F.softmax(attn_scores, dim=-1)\n",
    "        self.attn_weights = attn_weights.detach().cpu()  # stocker pour affichage\n",
    "\n",
    "        attn_output = torch.matmul(attn_weights, V)\n",
    "        return self.norm(attn_output + x)\n",
    "\n",
    "class AttentionOnlyTransformer(nn.Module):\n",
    "    def __init__(self, input_dim, num_classes, d_model=128, num_layers=2, max_len=100):\n",
    "        super().__init__()\n",
    "        self.embedding_proj = nn.Linear(input_dim, d_model)\n",
    "        self.pos_encoder = PositionalEncoding(d_model, max_len)\n",
    "        self.layers = nn.ModuleList([AttentionOnlyBlock(d_model) for _ in range(num_layers)])\n",
    "        self.classifier = nn.Linear(d_model, num_classes)\n",
    "\n",
    "    def forward(self, x):\n",
    "        x = self.embedding_proj(x)\n",
    "        x = self.pos_encoder(x)\n",
    "        for layer in self.layers:\n",
    "            x = layer(x)\n",
    "        return self.classifier(x)"
   ]
  }
 ],
 "metadata": {
  "kernelspec": {
   "display_name": "Python 3",
   "language": "python",
   "name": "python3"
  },
  "language_info": {
   "codemirror_mode": {
    "name": "ipython",
    "version": 3
   },
   "file_extension": ".py",
   "mimetype": "text/x-python",
   "name": "python",
   "nbconvert_exporter": "python",
   "pygments_lexer": "ipython3",
   "version": "3.9.21"
  }
 },
 "nbformat": 4,
 "nbformat_minor": 5
}
