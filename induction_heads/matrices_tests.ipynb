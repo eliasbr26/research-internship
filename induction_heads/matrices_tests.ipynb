{
 "cells": [
  {
   "cell_type": "code",
   "execution_count": 731,
   "id": "614f9f1c",
   "metadata": {},
   "outputs": [],
   "source": [
    "import numpy as np\n",
    "import matplotlib.pyplot as plt\n",
    "import seaborn as sns"
   ]
  },
  {
   "cell_type": "code",
   "execution_count": 732,
   "id": "71871b30",
   "metadata": {},
   "outputs": [],
   "source": [
    "D = 2000"
   ]
  },
  {
   "cell_type": "code",
   "execution_count": 733,
   "id": "a65f1fe5",
   "metadata": {},
   "outputs": [],
   "source": [
    "begin_token = np.random.randn(D//2).astype(np.float32)\n",
    "begin_token = np.concatenate([begin_token, np.zeros(D//2).astype(np.float32)])"
   ]
  },
  {
   "cell_type": "markdown",
   "id": "6e8fd3bd",
   "metadata": {},
   "source": []
  },
  {
   "cell_type": "code",
   "execution_count": 734,
   "id": "37d9a276",
   "metadata": {},
   "outputs": [
    {
     "data": {
      "text/plain": [
       "array([ 0.42856061, -1.04795492,  1.07990241, ...,  0.        ,\n",
       "        0.        ,  0.        ])"
      ]
     },
     "execution_count": 734,
     "metadata": {},
     "output_type": "execute_result"
    }
   ],
   "source": [
    "A = np.random.randn(D//2).astype(np.float32)\n",
    "B = np.random.randn(D//2).astype(np.float32)\n",
    "C = np.random.randn(D//2).astype(np.float32)\n",
    "\n",
    "A = np.concatenate([A, np.zeros(D//2)])\n",
    "B = np.concatenate([B, np.zeros(D//2)])\n",
    "C = np.concatenate([C, np.zeros(D//2)])\n",
    "A"
   ]
  },
  {
   "cell_type": "code",
   "execution_count": 735,
   "id": "403a7227",
   "metadata": {},
   "outputs": [],
   "source": [
    "dic = {\n",
    "    'b': begin_token,\n",
    "    'A': A,\n",
    "    'B': B,\n",
    "    'C': C\n",
    "}"
   ]
  },
  {
   "cell_type": "code",
   "execution_count": 736,
   "id": "80fbec72",
   "metadata": {},
   "outputs": [],
   "source": [
    "def string_to_token(s):\n",
    "    for c in s:\n",
    "        print(dic[c])\n",
    "    return np.array([dic[c] for c in s]).astype(np.float32)"
   ]
  },
  {
   "cell_type": "code",
   "execution_count": 771,
   "id": "2ed51280",
   "metadata": {},
   "outputs": [],
   "source": [
    "string_seq = ['b', 'C', 'B', 'A', 'C', 'A','A','A','C']"
   ]
  },
  {
   "cell_type": "code",
   "execution_count": 772,
   "id": "da13c555",
   "metadata": {},
   "outputs": [
    {
     "name": "stdout",
     "output_type": "stream",
     "text": [
      "[ 1.2404019  -0.5899514  -0.37258178 ...  0.          0.\n",
      "  0.        ]\n",
      "[ 0.5137639   0.70383841 -1.39076018 ...  0.          0.\n",
      "  0.        ]\n",
      "[ 0.2012132  -0.29142088  0.36351487 ...  0.          0.\n",
      "  0.        ]\n",
      "[ 0.42856061 -1.04795492  1.07990241 ...  0.          0.\n",
      "  0.        ]\n",
      "[ 0.5137639   0.70383841 -1.39076018 ...  0.          0.\n",
      "  0.        ]\n",
      "[ 0.42856061 -1.04795492  1.07990241 ...  0.          0.\n",
      "  0.        ]\n",
      "[ 0.42856061 -1.04795492  1.07990241 ...  0.          0.\n",
      "  0.        ]\n",
      "[ 0.42856061 -1.04795492  1.07990241 ...  0.          0.\n",
      "  0.        ]\n",
      "[ 0.5137639   0.70383841 -1.39076018 ...  0.          0.\n",
      "  0.        ]\n"
     ]
    },
    {
     "data": {
      "text/plain": [
       "(9, 2000)"
      ]
     },
     "execution_count": 772,
     "metadata": {},
     "output_type": "execute_result"
    }
   ],
   "source": [
    "S = np.array(string_to_token(string_seq), dtype=np.float32)\n",
    "T = len(S)\n",
    "S.shape"
   ]
  },
  {
   "cell_type": "code",
   "execution_count": 773,
   "id": "6d2adc7a",
   "metadata": {},
   "outputs": [],
   "source": [
    "# creat 4 positionnal embeddings\n",
    "P = np.random.randn(T, D//2).astype(np.float32)\n",
    "P = np.concatenate([P,np.zeros((T, D//2))], axis=1)"
   ]
  },
  {
   "cell_type": "code",
   "execution_count": 774,
   "id": "e5eacac2",
   "metadata": {},
   "outputs": [],
   "source": [
    "X =  P +S"
   ]
  },
  {
   "cell_type": "code",
   "execution_count": 775,
   "id": "ef330e1d",
   "metadata": {},
   "outputs": [
    {
     "data": {
      "text/plain": [
       "array([[-2.00473429,  1.34881159,  5.66768504, ...,  0.        ,\n",
       "         0.        ,  0.        ],\n",
       "       [-1.86910864,  0.06625355, -1.30686203, ...,  0.        ,\n",
       "         0.        ,  0.        ],\n",
       "       [ 4.72420144, -5.24936826, -0.70996342, ...,  0.        ,\n",
       "         0.        ,  0.        ],\n",
       "       ...,\n",
       "       [ 0.        ,  0.        ,  0.        , ...,  0.        ,\n",
       "         0.        ,  0.        ],\n",
       "       [ 0.        ,  0.        ,  0.        , ...,  0.        ,\n",
       "         0.        ,  0.        ],\n",
       "       [ 0.        ,  0.        ,  0.        , ...,  0.        ,\n",
       "         0.        ,  0.        ]])"
      ]
     },
     "execution_count": 775,
     "metadata": {},
     "output_type": "execute_result"
    }
   ],
   "source": [
    "QK = np.zeros((D,D), dtype=np.float32)\n",
    "for i in range(1, T):\n",
    "    QK = QK + (P[i].reshape(D, 1) @ P[i-1].reshape(1, D))\n",
    "QK"
   ]
  },
  {
   "cell_type": "code",
   "execution_count": 776,
   "id": "6104a534",
   "metadata": {},
   "outputs": [
    {
     "data": {
      "text/plain": [
       "(9, 9)"
      ]
     },
     "execution_count": 776,
     "metadata": {},
     "output_type": "execute_result"
    }
   ],
   "source": [
    "# get attention matrix\n",
    "Att = X @ QK @ (X.T)/ np.linalg.norm(X @ QK @ (X.T)) * 100\n",
    "Att.shape"
   ]
  },
  {
   "cell_type": "code",
   "execution_count": 777,
   "id": "c85270d6",
   "metadata": {},
   "outputs": [],
   "source": [
    "def softmax(x, axis=None):\n",
    "    x_max = np.max(x, axis=axis, keepdims=True)\n",
    "    e_x = np.exp(x - x_max)\n",
    "    return e_x / np.sum(e_x, axis=axis, keepdims=True)\n"
   ]
  },
  {
   "cell_type": "code",
   "execution_count": 778,
   "id": "3142c5b4",
   "metadata": {},
   "outputs": [],
   "source": [
    "Att = softmax(Att, axis=1)"
   ]
  },
  {
   "cell_type": "code",
   "execution_count": 779,
   "id": "9ce7743f",
   "metadata": {},
   "outputs": [
    {
     "data": {
      "image/png": "[encoded data removed]",
      "text/plain": [
       "<Figure size 800x600 with 2 Axes>"
      ]
     },
     "metadata": {},
     "output_type": "display_data"
    }
   ],
   "source": [
    "plt.figure(figsize=(8, 6))\n",
    "sns.heatmap(Att, annot=True, fmt=\".2f\", cmap=\"viridis\",\n",
    "            xticklabels=string_seq, yticklabels=string_seq)\n",
    "plt.title(\"Attention Matrix\")\n",
    "plt.xlabel(\"Key\")\n",
    "plt.ylabel(\"Query\")\n",
    "plt.show()\n"
   ]
  },
  {
   "cell_type": "code",
   "execution_count": 780,
   "id": "920a8a48",
   "metadata": {},
   "outputs": [],
   "source": [
    "def permutation_matrix(D):\n",
    "    assert D % 2 == 0, \"D doit être pair\"\n",
    "    d_half = D // 2\n",
    "    V = np.zeros((D, D))\n",
    "\n",
    "    # Remplit les blocs pour permuter les deux moitiés\n",
    "    V[:d_half, d_half:] = np.eye(d_half)  # Haut droit\n",
    "    V[d_half:, :d_half] = np.eye(d_half)  # Bas gauche\n",
    "\n",
    "    return V\n",
    "\n",
    "V = permutation_matrix(D)\n"
   ]
  },
  {
   "cell_type": "code",
   "execution_count": 781,
   "id": "fe24853b",
   "metadata": {},
   "outputs": [
    {
     "data": {
      "text/plain": [
       "0.0"
      ]
     },
     "execution_count": 781,
     "metadata": {},
     "output_type": "execute_result"
    }
   ],
   "source": [
    "(X[1]@V) @A"
   ]
  },
  {
   "cell_type": "code",
   "execution_count": 782,
   "id": "38ca4b47",
   "metadata": {},
   "outputs": [
    {
     "data": {
      "text/plain": [
       "(9, 2000)"
      ]
     },
     "execution_count": 782,
     "metadata": {},
     "output_type": "execute_result"
    }
   ],
   "source": [
    "Z = Z = (Att @ X @ V)/np.linalg.norm(Att @ X @ V)+X/np.linalg.norm(X)\n",
    "Z.shape"
   ]
  },
  {
   "cell_type": "code",
   "execution_count": 783,
   "id": "c2225f40",
   "metadata": {},
   "outputs": [],
   "source": [
    "K_2 = np.zeros((D, D), dtype=np.float32)\n",
    "K_2[:D//2, D//2:] = np.eye(D//2)  # Bas gauche"
   ]
  },
  {
   "cell_type": "code",
   "execution_count": 784,
   "id": "c82ab267",
   "metadata": {},
   "outputs": [
    {
     "data": {
      "text/plain": [
       "(9, 9)"
      ]
     },
     "execution_count": 784,
     "metadata": {},
     "output_type": "execute_result"
    }
   ],
   "source": [
    "Att2 = Z @ (K_2) @ (Z.T) *100\n",
    "Att2.shape"
   ]
  },
  {
   "cell_type": "code",
   "execution_count": 785,
   "id": "f1e50e05",
   "metadata": {},
   "outputs": [
    {
     "data": {
      "text/plain": [
       "7.149004077413446"
      ]
     },
     "execution_count": 785,
     "metadata": {},
     "output_type": "execute_result"
    }
   ],
   "source": [
    "Z[3] @ (V@B)"
   ]
  },
  {
   "cell_type": "code",
   "execution_count": 786,
   "id": "a6ed3e82",
   "metadata": {},
   "outputs": [],
   "source": [
    "Att2 = softmax(Att2, axis=1)"
   ]
  },
  {
   "cell_type": "code",
   "execution_count": 787,
   "id": "bdfc646f",
   "metadata": {},
   "outputs": [
    {
     "data": {
      "image/png": "[encoded data removed]",
      "text/plain": [
       "<Figure size 800x600 with 2 Axes>"
      ]
     },
     "metadata": {},
     "output_type": "display_data"
    }
   ],
   "source": [
    "plt.figure(figsize=(8, 6))\n",
    "sns.heatmap(Att2, annot=True, fmt=\".2f\", cmap=\"viridis\",\n",
    "            xticklabels=string_seq, yticklabels=string_seq)\n",
    "plt.title(\"Attention Matrix\")\n",
    "plt.xlabel(\"Key\")\n",
    "plt.ylabel(\"Query\")\n",
    "plt.show()\n"
   ]
  }
 ],
 "metadata": {
  "kernelspec": {
   "display_name": "Python 3",
   "language": "python",
   "name": "python3"
  },
  "language_info": {
   "codemirror_mode": {
    "name": "ipython",
    "version": 3
   },
   "file_extension": ".py",
   "mimetype": "text/x-python",
   "name": "python",
   "nbconvert_exporter": "python",
   "pygments_lexer": "ipython3",
   "version": "3.9.21"
  }
 },
 "nbformat": 4,
 "nbformat_minor": 5
}
