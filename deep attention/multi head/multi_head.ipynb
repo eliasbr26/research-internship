{
  "cells": [
    {
      "cell_type": "code",
      "execution_count": 14,
      "metadata": {
        "id": "EvuPYzXTcPgl"
      },
      "outputs": [],
      "source": [
        "import numpy as np\n",
        "import torch\n",
        "import torch.nn as nn\n",
        "import matplotlib.pyplot as plt\n",
        "from math import*\n",
        "from torch.utils.data import DataLoader, Dataset\n",
        "import torch.nn.functional as F\n",
        "import math\n"
      ]
    },
    {
      "cell_type": "code",
      "execution_count": 5,
      "metadata": {
        "colab": {
          "base_uri": "https://localhost:8080/"
        },
        "id": "rVTjYhW_sEcK",
        "outputId": "22864667-c31a-44f2-ae2c-0430a45aa587"
      },
      "outputs": [
        {
          "data": {
            "text/plain": [
              "device(type='cuda', index=0)"
            ]
          },
          "execution_count": 5,
          "metadata": {},
          "output_type": "execute_result"
        }
      ],
      "source": [
        "device = torch.device(\"cuda:0\" if torch.cuda.is_available() else \"cpu\")\n",
        "device"
      ]
    },
    {
      "cell_type": "code",
      "execution_count": 6,
      "metadata": {
        "id": "IfuJeXXrbQb_"
      },
      "outputs": [],
      "source": [
        "d=100\n",
        "L=2\n",
        "r=1"
      ]
    },
    {
      "cell_type": "code",
      "execution_count": 30,
      "metadata": {},
      "outputs": [],
      "source": [
        "class DeepMultiHeadAttention(nn.Module):\n",
        "    def __init__(self, d=500, r=1, num_heads=5, num_layers=2):\n",
        "        super().__init__()\n",
        "        self.d = d\n",
        "        self.r = r\n",
        "        self.num_heads = num_heads\n",
        "        self.num_layers = num_layers\n",
        "        self.Q = nn.ParameterList()\n",
        "\n",
        "        for _ in range(num_layers * num_heads):\n",
        "            init = torch.randn(d, r) * 0.9  # Initialisation aléatoire comme dans l'ancien code\n",
        "            self.Q.append(nn.Parameter(init))\n",
        "\n",
        "    def forward(self, x):\n",
        "        batch_size, seq_len, _ = x.shape\n",
        "        sftm = nn.Softmax(dim=-1)\n",
        "\n",
        "        for layer in range(self.num_layers):\n",
        "            attn_outputs = []\n",
        "            for head in range(self.num_heads):\n",
        "                idx = layer * self.num_heads + head\n",
        "                Q_proj = self.Q[idx]  # (d, r)\n",
        "                xQ = torch.einsum(\"imk,kr->imr\", x, Q_proj) / math.sqrt(self.d)  # (batch, seq_len, r)\n",
        "                scores = torch.einsum(\"imr,jnr->imj\", xQ, xQ)  # (batch, seq_len, seq_len)\n",
        "                Att = sftm(scores)\n",
        "                attn_output = torch.einsum(\"imj,jmk->imk\", Att, x)  # (batch, seq_len, d)\n",
        "                attn_outputs.append(attn_output)\n",
        "\n",
        "            # Moyenne des têtes\n",
        "            x_new = sum(attn_outputs) / self.num_heads\n",
        "\n",
        "            # Skip connection sauf pour la dernière couche\n",
        "            if layer < self.num_layers - 1:\n",
        "                x = x + x_new\n",
        "            else:\n",
        "                x = x_new\n",
        "\n",
        "        return x"
      ]
    },
    {
      "cell_type": "code",
      "execution_count": 31,
      "metadata": {},
      "outputs": [],
      "source": [
        "teacher = DeepMultiHeadAttention(\n",
        "    d=500,\n",
        "    r=1, \n",
        "    num_heads=5, \n",
        "    num_layers=2\n",
        ").to(device)\n",
        "\n",
        "# Figer ses poids pour en faire un vrai teacher\n",
        "for param in teacher.parameters():\n",
        "    param.requires_grad = False\n"
      ]
    },
    {
      "cell_type": "code",
      "execution_count": 32,
      "metadata": {
        "id": "f3idegQbbQq4"
      },
      "outputs": [],
      "source": [
        "\n",
        "def get_y(n):\n",
        "    x = torch.randn((n, 2, 500)).to(device)  # séquence de longueur 2, dimension 500\n",
        "\n",
        "    with torch.no_grad():\n",
        "        y = teacher(x)  # passe dans le modèle enseignant\n",
        "\n",
        "    return x, y\n",
        "\n"
      ]
    },
    {
      "cell_type": "code",
      "execution_count": 33,
      "metadata": {
        "id": "QjzIKO1jdxdA"
      },
      "outputs": [],
      "source": [
        "\n",
        "class generate_data(Dataset):\n",
        "  def __init__(self,n):\n",
        "    self.X,self.Y=get_y(n)\n",
        "    self.samples=n\n",
        "\n",
        "\n",
        "  def __getitem__(self,idx):\n",
        "    return self.X[idx].to(device),self.Y[idx].to(device)\n",
        "\n",
        "  def __len__(self):\n",
        "    return self.samples\n"
      ]
    },
    {
      "cell_type": "code",
      "execution_count": 34,
      "metadata": {
        "id": "_UzyH-Q5e4Je"
      },
      "outputs": [],
      "source": [
        "def quadloss(ypred, y):\n",
        "    return torch.sum((ypred-y)**2)/d"
      ]
    },
    {
      "cell_type": "code",
      "execution_count": 39,
      "metadata": {
        "id": "aEMvSNsPcPg-"
      },
      "outputs": [],
      "source": [
        "\n",
        "\n",
        "def train(train_data, X_test,y_test,tol=1e-5,verbose=False,tied=False,wd=0.07/d, seed=42, n_passes=1):\n",
        "    Att= DeepMultiHeadAttention(\n",
        "        d=500,\n",
        "        r=1,\n",
        "        num_heads=5,\n",
        "        num_layers=2\n",
        "    ).to(device)\n",
        "\n",
        "    optimizer = torch.optim.Adam(Att.parameters(), lr=0.01, weight_decay=wd)\n",
        "\n",
        "    gen_Loss_list=[]\n",
        "    epochs = 1500\n",
        "\n",
        "\n",
        "    for t in range(epochs):\n",
        "        train_loader = DataLoader(train_data, batch_size=300, shuffle=True)\n",
        "\n",
        "        if t%(epochs/10)==0: print(t)\n",
        "        for x,y in train_loader:\n",
        "\n",
        "\n",
        "\n",
        "          for j in range(n_passes):\n",
        "            y_pred = Att(x)\n",
        "            loss = quadloss(y_pred,y)\n",
        "            optimizer.zero_grad()\n",
        "            loss.backward()\n",
        "            optimizer.step()\n",
        "\n",
        "\n",
        "\n",
        "          gen_Loss_list.append(float(torch.mean((y_test-Att(X_test))**2)))\n",
        "\n",
        "    return gen_Loss_list"
      ]
    },
    {
      "cell_type": "code",
      "execution_count": 40,
      "metadata": {
        "id": "P4WiPnJUfnj9"
      },
      "outputs": [],
      "source": [
        "\n",
        "def get_errors(alpha,N_iter=1):\n",
        "    global theta\n",
        "    n=int(d*alpha)\n",
        "\n",
        "\n",
        "\n",
        "    print(\"############################################\")\n",
        "    X_test,y_test=get_y(2000)\n",
        "    train_data =generate_data(n)\n",
        "    \n",
        "\n",
        "    loss=train(train_data,X_test,y_test, seed=42)\n",
        "\n",
        "\n",
        "\n",
        "\n",
        "    return loss"
      ]
    },
    {
      "cell_type": "code",
      "execution_count": 41,
      "metadata": {
        "colab": {
          "base_uri": "https://localhost:8080/",
          "height": 1000
        },
        "id": "c7jcKBVBcPhe",
        "outputId": "22650cf3-9e15-4462-ad8c-ccc08c0b5cee"
      },
      "outputs": [
        {
          "name": "stdout",
          "output_type": "stream",
          "text": [
            "############################################\n",
            "0\n",
            "150\n",
            "300\n",
            "450\n",
            "600\n",
            "750\n",
            "900\n",
            "1050\n",
            "1200\n",
            "1350\n"
          ]
        }
      ],
      "source": [
        "alpha=15\n",
        "alphas=[alpha]\n",
        "\n",
        "test_loss =get_errors(alpha)\n",
        "\n",
        "# save the results\n",
        "\n",
        "np.save(\"results/alpha_{}_test_loss.npy\".format(alpha), test_loss)\n",
        "\n",
        "\n"
      ]
    },
    {
      "cell_type": "code",
      "execution_count": 42,
      "metadata": {},
      "outputs": [
        {
          "name": "stderr",
          "output_type": "stream",
          "text": [
            "No handles with labels found to put in legend.\n"
          ]
        },
        {
          "name": "stdout",
          "output_type": "stream",
          "text": [
            "(7500,)\n"
          ]
        },
        {
          "data": {
            "image/png": "[encoded data removed]",
            "text/plain": [
              "<Figure size 640x480 with 1 Axes>"
            ]
          },
          "metadata": {},
          "output_type": "display_data"
        }
      ],
      "source": [
        "\n",
        "Loss = np.load(\"results/alpha_{}_test_loss.npy\".format(alpha))\n",
        "\n",
        "\n",
        "print(Loss.shape)\n",
        "\n",
        "# normalize the loss \n",
        "normalized_loss = Loss/np.max(Loss)\n",
        "\n",
        "\n",
        "\n",
        "plt.xlabel(\"training time\"); plt.ylabel(\"normalized values\");plt.legend();plt.xscale(\"log\");plt.title(r\"$\\alpha={}$\".format(alpha))#;plt.show()\n",
        "\n",
        "plt.plot(normalized_loss, label=\"test loss\")\n",
        "\n",
        "plt.show()\n"
      ]
    },
    {
      "cell_type": "code",
      "execution_count": null,
      "metadata": {
        "colab": {
          "base_uri": "https://localhost:8080/"
        },
        "id": "keg2CHPJT-Qg",
        "outputId": "67b51e91-7d8c-4909-d2b6-a3a97e3d256b"
      },
      "outputs": [
        {
          "data": {
            "image/png": "[encoded data removed]",
            "text/plain": [
              "<Figure size 640x480 with 1 Axes>"
            ]
          },
          "metadata": {},
          "output_type": "display_data"
        }
      ],
      "source": [
        "for seed in range(C1.shape[0]):\n",
        "  plt.plot(np.abs(C1[seed]), c=\"red\")\n",
        "  plt.plot(np.abs(C2[seed]), c=\"blue\")\n",
        "\n",
        "\n",
        "plt.xscale(\"log\")"
      ]
    },
    {
      "cell_type": "code",
      "execution_count": null,
      "metadata": {
        "id": "I_xqHrhohfPl"
      },
      "outputs": [],
      "source": [
        "np.save(\"C1_informed0.npy\",C1)\n",
        "np.save(\"C2_informed0.npy\",C2)"
      ]
    },
    {
      "cell_type": "code",
      "execution_count": null,
      "metadata": {
        "id": "UOMZTSsMbadd"
      },
      "outputs": [],
      "source": [
        "\n",
        "fig, ax = plt.subplots(1,3, figsize=(12,3))\n",
        "ax=ax.flatten()\n",
        "ax[0].errorbar(alphas, Eg.mean(1),yerr=Eg.std(1), label=r\"$\\epsilon_g$\")\n",
        "ax[0].legend()\n",
        "\n",
        "\n",
        "\n",
        "\n",
        "ax[1].errorbar(alphas, Q.mean(1),yerr=Q.std(1), label=r\"$q_1$\")\n",
        "\n",
        "\n",
        "\n",
        "\n",
        "ax[1].legend()\n",
        "\n",
        "\n",
        "ax[2].errorbar(alphas, Loss.mean(1),yerr=Loss.std(1), label=r\"$Loss$\")\n",
        "ax[2].legend()\n",
        "\n",
        "for axx in ax:\n",
        "  axx.set_xlabel(r\"$\\alpha$\")\n",
        "\n"
      ]
    },
    {
      "cell_type": "code",
      "execution_count": null,
      "metadata": {
        "id": "epOxg3H8MBlL"
      },
      "outputs": [],
      "source": [
        "np.save(\"alphas.npy\", alphas)"
      ]
    },
    {
      "cell_type": "code",
      "execution_count": null,
      "metadata": {
        "id": "eu7vWObUG-Gz"
      },
      "outputs": [],
      "source": [
        "np.save(\"Eg_inf.npy\", Eg)\n",
        "np.save(\"Q_inf.npy\", alphas)\n",
        "np.save(\"Loss_inf.npy\", Loss)"
      ]
    },
    {
      "cell_type": "code",
      "execution_count": null,
      "metadata": {
        "id": "BYpoumXzkfOI"
      },
      "outputs": [],
      "source": [
        "\n",
        "\n",
        "def train(train_loader, X_test,y_test,tol=1e-5,verbose=False,tied=False,wd=0.07/d, seed=42, n_passes=3):\n",
        "    Att=Attention(d,r,seed).to(device)\n",
        "\n",
        "    optimizer = torch.optim.SGD([{'params': [Att.Q1,Att.Q2],\"weight_decay\":wd}],lr=15)\n",
        "\n",
        "    gen_Loss_list=[]\n",
        "    Loss_list=[]\n",
        "    Q1_list=[]\n",
        "    M1_list=[]\n",
        "    Q2_list=[]\n",
        "    M2_list=[]\n",
        "\n",
        "\n",
        "    for t in range(1700):\n",
        "\n",
        "        if t%500==0: print(t)\n",
        "        for x,y in train_loader:\n",
        "\n",
        "\n",
        "\n",
        "          for j in range(n_passes):\n",
        "            y_pred = Att(x)\n",
        "            loss = quadloss(y_pred,y)\n",
        "            optimizer.zero_grad()\n",
        "            loss.backward()\n",
        "            optimizer.step()\n",
        "\n",
        "          Loss_list.append(loss.item()+wd/2*float(torch.sum(Att.Q1.cpu().flatten()**2)))\n",
        "          M1_list.append(float(Att.Q1.cpu().flatten()@w1.flatten()/d))\n",
        "          Q1_list.append(float(Att.Q1.cpu().flatten()@Att.Q1.cpu().flatten()/d))\n",
        "          M2_list.append(float(Att.Q2.cpu().flatten()@w2.flatten()/d))\n",
        "          Q2_list.append(float(Att.Q2.cpu().flatten()@Att.Q2.cpu().flatten()/d))\n",
        "\n",
        "\n",
        "        if t%20==0 and t>0 :\n",
        "\n",
        "            gen_Loss_list.append(float(torch.mean((y_test-Att(X_test))**2)))\n",
        "\n",
        "    Q1=Att.Q1.cpu().flatten()\n",
        "    Q2=Att.Q2.cpu().flatten()\n",
        "\n",
        "\n",
        "\n",
        "\n",
        "\n",
        "\n",
        "\n",
        "    m1=Q1@w1.flatten()/d\n",
        "    q1=Q1@Q1/d\n",
        "    m2=Q2@w2.flatten()/d\n",
        "    q2=Q2@Q2/d\n",
        "    print(q1)\n",
        "\n",
        "\n",
        "    plt.plot(np.abs(np.array(M1_list)/np.array(Q1_list)**.5),  alpha=0.8, label=\"layer 1\")\n",
        "    plt.plot(np.abs(np.array(M2_list)/np.array(Q2_list)**.5),  alpha=0.3, label=\"layer 2\")\n",
        "    plt.xlabel(\"training time\"); plt.ylabel(\"cosine similarity\");plt.legend();plt.xscale(\"log\");plt.title(r\"$\\alpha={}$\".format(alpha));plt.show()\n",
        "    plt.plot(Loss_list, c=\"b\", alpha=0.3); plt.show()\n",
        "\n",
        "\n",
        "\n",
        "\n",
        "    return np.mean(gen_Loss_list[-5:]),m1.detach().numpy(),q1.detach().numpy(),m2.detach().numpy(),q2.detach().numpy(),np.mean(Loss_list[-1:])"
      ]
    }
  ],
  "metadata": {
    "accelerator": "GPU",
    "colab": {
      "provenance": []
    },
    "gpuClass": "standard",
    "kernelspec": {
      "display_name": "Python 3",
      "language": "python",
      "name": "python3"
    },
    "language_info": {
      "codemirror_mode": {
        "name": "ipython",
        "version": 3
      },
      "file_extension": ".py",
      "mimetype": "text/x-python",
      "name": "python",
      "nbconvert_exporter": "python",
      "pygments_lexer": "ipython3",
      "version": "3.9.21"
    }
  },
  "nbformat": 4,
  "nbformat_minor": 0
}
