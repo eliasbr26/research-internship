{
  "cells": [
    {
      "cell_type": "code",
      "execution_count": 1,
      "metadata": {
        "id": "EvuPYzXTcPgl"
      },
      "outputs": [],
      "source": [
        "import numpy as np\n",
        "import torch\n",
        "import matplotlib.pyplot as plt\n",
        "from math import*\n",
        "from torch.utils.data import DataLoader, Dataset\n",
        "\n"
      ]
    },
    {
      "cell_type": "code",
      "execution_count": 4,
      "metadata": {
        "colab": {
          "base_uri": "https://localhost:8080/"
        },
        "id": "rVTjYhW_sEcK",
        "outputId": "22864667-c31a-44f2-ae2c-0430a45aa587"
      },
      "outputs": [
        {
          "data": {
            "text/plain": [
              "device(type='cuda', index=0)"
            ]
          },
          "execution_count": 4,
          "metadata": {},
          "output_type": "execute_result"
        }
      ],
      "source": [
        "device = torch.device(\"cuda:0\" if torch.cuda.is_available() else \"cpu\")\n",
        "device"
      ]
    },
    {
      "cell_type": "code",
      "execution_count": 2,
      "metadata": {
        "id": "IfuJeXXrbQb_"
      },
      "outputs": [],
      "source": [
        "d=100\n",
        "L=2\n",
        "r=1\n",
        "\n",
        "np.random.seed(10)\n",
        "init1=np.random.randn(d,1).astype(np.float32)\n",
        "np.random.seed(20)\n",
        "init2=np.random.randn(d,1).astype(np.float32)\n",
        "\n",
        "\n",
        "w1=torch.from_numpy(init1)\n",
        "\n",
        "w2=torch.from_numpy(init2)\n",
        "\n",
        "\n",
        "\n",
        "\n"
      ]
    },
    {
      "cell_type": "code",
      "execution_count": 34,
      "metadata": {},
      "outputs": [
        {
          "name": "stdout",
          "output_type": "stream",
          "text": [
            "norm of w1:  9.702950477600098\n"
          ]
        }
      ],
      "source": [
        "# norm of w1\n",
        "norm_w1=torch.norm(w1,2)\n",
        "print(\"norm of w1: \", norm_w1.item())"
      ]
    },
    {
      "cell_type": "code",
      "execution_count": 11,
      "metadata": {
        "colab": {
          "base_uri": "https://localhost:8080/"
        },
        "id": "Rla4eBYQBO2I",
        "outputId": "56759ada-ed28-47de-dd48-697244d8b32a"
      },
      "outputs": [
        {
          "data": {
            "text/plain": [
              "tensor(0.1232)"
            ]
          },
          "execution_count": 11,
          "metadata": {},
          "output_type": "execute_result"
        }
      ],
      "source": [
        "w1.flatten()@w2.flatten()/d"
      ]
    },
    {
      "cell_type": "code",
      "execution_count": 12,
      "metadata": {
        "id": "f3idegQbbQq4"
      },
      "outputs": [],
      "source": [
        "\n",
        "def get_y(n):\n",
        "\n",
        "    x=torch.randn((n,L,d))\n",
        "\n",
        "    sftm=torch.nn.Softmax(dim=-1)\n",
        "\n",
        "    xQ=torch.einsum(\"imk,kl->iml\",x,w1)/np.sqrt(d)\n",
        "    Att1=sftm(torch.einsum(\"iml,inl->imn\",xQ,xQ))\n",
        "    h1=torch.einsum(\"imn, ink->imk\", Att1, x)+x\n",
        "    xQ2=torch.einsum(\"imk,kl->iml\",h1,w2)/np.sqrt(d)\n",
        "    Att2=sftm(torch.einsum(\"iml,inl->imn\",xQ2,xQ2))\n",
        "\n",
        "\n",
        "    y=Att2\n",
        "    return x.to(device),y.to(device)\n",
        "\n"
      ]
    },
    {
      "cell_type": "code",
      "execution_count": 13,
      "metadata": {
        "id": "QjzIKO1jdxdA"
      },
      "outputs": [],
      "source": [
        "\n",
        "class generate_data(Dataset):\n",
        "  def __init__(self,n):\n",
        "    self.X,self.Y=get_y(n)\n",
        "    self.samples=n\n",
        "\n",
        "\n",
        "  def __getitem__(self,idx):\n",
        "    return self.X[idx].to(device),self.Y[idx].to(device)\n",
        "\n",
        "  def __len__(self):\n",
        "    return self.samples\n"
      ]
    },
    {
      "cell_type": "code",
      "execution_count": 14,
      "metadata": {
        "id": "IDeqZ6B2Hby3"
      },
      "outputs": [],
      "source": [
        "proj1=torch.eye(w1.shape[0])-(w1@w1.T)/torch.linalg.norm(w1)**2\n",
        "proj2=torch.eye(w2.shape[0])-(w2@w2.T)/torch.linalg.norm(w2)**2"
      ]
    },
    {
      "cell_type": "code",
      "execution_count": 15,
      "metadata": {
        "id": "W8nBnENMH13g"
      },
      "outputs": [],
      "source": [
        "init=torch.randn(w1.shape)"
      ]
    },
    {
      "cell_type": "code",
      "execution_count": 16,
      "metadata": {
        "colab": {
          "base_uri": "https://localhost:8080/"
        },
        "id": "2Ltzb_UZH7Fn",
        "outputId": "23731411-080c-4544-c599-0225e5d63102"
      },
      "outputs": [
        {
          "data": {
            "text/plain": [
              "tensor([[-15.1649]])"
            ]
          },
          "execution_count": 16,
          "metadata": {},
          "output_type": "execute_result"
        }
      ],
      "source": [
        "w1.T@proj2@init"
      ]
    },
    {
      "cell_type": "code",
      "execution_count": 17,
      "metadata": {
        "id": "pnaj2J2dzm3X"
      },
      "outputs": [],
      "source": [
        "class Attention(torch.nn.Module):\n",
        "    def __init__(self, d,r,seed):\n",
        "        super(Attention, self).__init__()\n",
        "        self.planting1=0.0\n",
        "        np.random.seed(seed)\n",
        "        init1=np.random.randn(d,r).astype(np.float32)\n",
        "        np.random.seed(seed+20)\n",
        "        init2=np.random.randn(d,r).astype(np.float32)\n",
        "        init1=torch.from_numpy(init1)\n",
        "        init2=torch.from_numpy(init2)\n",
        "\n",
        "        self.Q1=torch.nn.Parameter(init1*(1-self.planting1)*.9+self.planting1*w1)\n",
        "        self.Q2=torch.nn.Parameter(init2*(1-self.planting1)*.9+self.planting1*w2)\n",
        "        print(self.Q1[0])\n",
        "\n",
        "        self.Att1=None\n",
        "\n",
        "\n",
        "\n",
        "    def forward(self, x):\n",
        "        sftm=torch.nn.Softmax(dim=-1)\n",
        "        xQ=torch.einsum(\"imk,kl->iml\",x,self.Q1)/np.sqrt(d)\n",
        "        Att1=sftm(torch.einsum(\"iml,inl->imn\",xQ,xQ))\n",
        "        h1=torch.einsum(\"imk,ikl->iml\",Att1, x)+x\n",
        "        xQ2=torch.einsum(\"imk,kl->iml\",h1,self.Q2)/np.sqrt(d)\n",
        "        Att2=sftm(torch.einsum(\"iml,inl->imn\",xQ2,xQ2))\n",
        "\n",
        "\n",
        "        yhat=Att2\n",
        "        return yhat"
      ]
    },
    {
      "cell_type": "code",
      "execution_count": 18,
      "metadata": {
        "id": "_UzyH-Q5e4Je"
      },
      "outputs": [],
      "source": [
        "def quadloss(ypred, y):\n",
        "    return torch.sum((ypred-y)**2)/d"
      ]
    },
    {
      "cell_type": "code",
      "execution_count": 67,
      "metadata": {
        "id": "aEMvSNsPcPg-"
      },
      "outputs": [],
      "source": [
        "\n",
        "\n",
        "def train(train_data, X_test,y_test,tol=1e-5,verbose=False,tied=False,wd=0.07/d, seed=42, n_passes=1):\n",
        "    Att=Attention(d,r,seed).to(device)\n",
        "\n",
        "    optimizer = torch.optim.SGD([{'params': [Att.Q1,Att.Q2],\"weight_decay\":wd}],lr=15)\n",
        "\n",
        "    gen_Loss_list=[]\n",
        "    Loss_list=[]\n",
        "    Q1_list=[]\n",
        "    M1_list=[]\n",
        "    Q2_list=[]\n",
        "    M2_list=[]\n",
        "    epochs = 600\n",
        "\n",
        "\n",
        "    for t in range(epochs):\n",
        "        train_loader = DataLoader(train_data, batch_size=300, shuffle=True)\n",
        "\n",
        "        if t%(epochs/10)==0: print(t)\n",
        "        for x,y in train_loader:\n",
        "\n",
        "\n",
        "\n",
        "          for j in range(n_passes):\n",
        "            y_pred = Att(x)\n",
        "            loss = quadloss(y_pred,y)\n",
        "            optimizer.zero_grad()\n",
        "            loss.backward()\n",
        "            optimizer.step()\n",
        "\n",
        "          Loss_list.append(loss.item()+wd/2*float(torch.sum(Att.Q1.cpu().flatten()**2)))\n",
        "          M1_list.append(float(Att.Q1.cpu().flatten()@w1.flatten()/d))\n",
        "          Q1_list.append(float(Att.Q1.cpu().flatten()@Att.Q1.cpu().flatten()/d))\n",
        "          M2_list.append(float(Att.Q2.cpu().flatten()@w2.flatten()/d))\n",
        "          Q2_list.append(float(Att.Q2.cpu().flatten()@Att.Q2.cpu().flatten()/d))\n",
        "\n",
        "\n",
        "\n",
        "          gen_Loss_list.append(float(torch.mean((y_test-Att(X_test))**2)))\n",
        "\n",
        "    Q1=Att.Q1.cpu().flatten()\n",
        "    Q2=Att.Q2.cpu().flatten()\n",
        "\n",
        "\n",
        "\n",
        "\n",
        "\n",
        "\n",
        "\n",
        "    m1=Q1@w1.flatten()/d\n",
        "    q1=Q1@Q1/d\n",
        "    m2=Q2@w2.flatten()/d\n",
        "    q2=Q2@Q2/d\n",
        "    norm_w1 = float((w1.flatten()@w1.flatten()/d)**.5)\n",
        "    norm_w2 = float((w2.flatten()@w2.flatten()/d)**.5)\n",
        "    \n",
        "    print(q1)\n",
        "    print(q2)\n",
        "\n",
        "\n",
        "\n",
        "    c1=np.array(M1_list)/(np.array(Q1_list)**.5 * norm_w1)\n",
        "    c2=np.array(M2_list)/(np.array(Q2_list)**.5 * norm_w2)\n",
        "\n",
        "\n",
        "    \n",
        "\n",
        "\n",
        "\n",
        "    return c1, c2, gen_Loss_list"
      ]
    },
    {
      "cell_type": "code",
      "execution_count": 68,
      "metadata": {
        "id": "P4WiPnJUfnj9"
      },
      "outputs": [],
      "source": [
        "\n",
        "def get_errors(alpha,N_iter=1):\n",
        "    global theta\n",
        "    n=int(d*alpha)\n",
        "\n",
        "\n",
        "\n",
        "    print(\"############################################\")\n",
        "    X_test,y_test=get_y(2000)\n",
        "    train_data =generate_data(n)\n",
        "    \n",
        "\n",
        "    c1, c2, loss=train(train_data,X_test,y_test, seed=42)\n",
        "\n",
        "\n",
        "\n",
        "\n",
        "    return c1,c2, loss"
      ]
    },
    {
      "cell_type": "code",
      "execution_count": 69,
      "metadata": {
        "colab": {
          "base_uri": "https://localhost:8080/",
          "height": 1000
        },
        "id": "c7jcKBVBcPhe",
        "outputId": "22650cf3-9e15-4462-ad8c-ccc08c0b5cee"
      },
      "outputs": [
        {
          "name": "stdout",
          "output_type": "stream",
          "text": [
            "############################################\n",
            "tensor([0.4470], grad_fn=<SelectBackward0>)\n",
            "0\n",
            "60\n",
            "120\n",
            "180\n",
            "240\n",
            "300\n",
            "360\n",
            "420\n",
            "480\n",
            "540\n",
            "tensor(0.5629, grad_fn=<DivBackward0>)\n",
            "tensor(1.1228, grad_fn=<DivBackward0>)\n"
          ]
        }
      ],
      "source": [
        "alpha=15\n",
        "alphas=[alpha]\n",
        "\n",
        "c1, c2, test_loss =get_errors(alpha)\n",
        "\n",
        "# save the results\n",
        "\n",
        "np.save(\"results/GD_2w/alpha_{}_c1.npy\".format(alpha), c1)\n",
        "np.save(\"results/GD_2w/alpha_{}_c2.npy\".format(alpha), c2)\n",
        "np.save(\"results/GD_2w/alpha_{}_test_loss.npy\".format(alpha), test_loss)\n",
        "\n",
        "\n"
      ]
    },
    {
      "cell_type": "code",
      "execution_count": 71,
      "metadata": {},
      "outputs": [
        {
          "name": "stdout",
          "output_type": "stream",
          "text": [
            "(3000,)\n",
            "(3000,)\n",
            "(3000,)\n"
          ]
        },
        {
          "data": {
            "image/png": "[encoded data removed]",
            "text/plain": [
              "<Figure size 640x480 with 1 Axes>"
            ]
          },
          "metadata": {},
          "output_type": "display_data"
        }
      ],
      "source": [
        "C1 = np.load(\"results/GD_2w/alpha_{}_c1.npy\".format(alpha))\n",
        "C2 = np.load(\"results/GD_2w/alpha_{}_c2.npy\".format(alpha))\n",
        "Loss = np.load(\"results/GD_2w/alpha_{}_test_loss.npy\".format(alpha))\n",
        "\n",
        "print(C1.shape)\n",
        "print(C2.shape)\n",
        "print(Loss.shape)\n",
        "\n",
        "# normalize the loss \n",
        "normalized_loss = Loss/np.max(Loss)\n",
        "\n",
        "\n",
        "plt.plot(np.abs(C1),  alpha=0.8, label=\"layer 1\")\n",
        "plt.plot(np.abs(C2),  alpha=0.3, label=\"layer 2\")\n",
        "plt.xlabel(\"training time\"); plt.ylabel(\"normalized values\");plt.legend();plt.xscale(\"log\");plt.title(r\"$\\alpha={}$\".format(alpha))#;plt.show()\n",
        "\n",
        "plt.plot(normalized_loss, label=\"test loss\")\n",
        "\n",
        "plt.show()\n"
      ]
    },
    {
      "cell_type": "code",
      "execution_count": null,
      "metadata": {
        "colab": {
          "base_uri": "https://localhost:8080/"
        },
        "id": "keg2CHPJT-Qg",
        "outputId": "67b51e91-7d8c-4909-d2b6-a3a97e3d256b"
      },
      "outputs": [
        {
          "data": {
            "image/png": "[encoded data removed]",
            "text/plain": [
              "<Figure size 640x480 with 1 Axes>"
            ]
          },
          "metadata": {},
          "output_type": "display_data"
        }
      ],
      "source": [
        "for seed in range(C1.shape[0]):\n",
        "  plt.plot(np.abs(C1[seed]), c=\"red\")\n",
        "  plt.plot(np.abs(C2[seed]), c=\"blue\")\n",
        "\n",
        "\n",
        "plt.xscale(\"log\")"
      ]
    },
    {
      "cell_type": "code",
      "execution_count": null,
      "metadata": {
        "id": "I_xqHrhohfPl"
      },
      "outputs": [],
      "source": [
        "np.save(\"C1_informed0.npy\",C1)\n",
        "np.save(\"C2_informed0.npy\",C2)"
      ]
    },
    {
      "cell_type": "code",
      "execution_count": null,
      "metadata": {
        "id": "UOMZTSsMbadd"
      },
      "outputs": [],
      "source": [
        "\n",
        "fig, ax = plt.subplots(1,3, figsize=(12,3))\n",
        "ax=ax.flatten()\n",
        "ax[0].errorbar(alphas, Eg.mean(1),yerr=Eg.std(1), label=r\"$\\epsilon_g$\")\n",
        "ax[0].legend()\n",
        "\n",
        "\n",
        "\n",
        "\n",
        "ax[1].errorbar(alphas, Q.mean(1),yerr=Q.std(1), label=r\"$q_1$\")\n",
        "\n",
        "\n",
        "\n",
        "\n",
        "ax[1].legend()\n",
        "\n",
        "\n",
        "ax[2].errorbar(alphas, Loss.mean(1),yerr=Loss.std(1), label=r\"$Loss$\")\n",
        "ax[2].legend()\n",
        "\n",
        "for axx in ax:\n",
        "  axx.set_xlabel(r\"$\\alpha$\")\n",
        "\n"
      ]
    },
    {
      "cell_type": "code",
      "execution_count": null,
      "metadata": {
        "id": "epOxg3H8MBlL"
      },
      "outputs": [],
      "source": [
        "np.save(\"alphas.npy\", alphas)"
      ]
    },
    {
      "cell_type": "code",
      "execution_count": null,
      "metadata": {
        "id": "eu7vWObUG-Gz"
      },
      "outputs": [],
      "source": [
        "np.save(\"Eg_inf.npy\", Eg)\n",
        "np.save(\"Q_inf.npy\", alphas)\n",
        "np.save(\"Loss_inf.npy\", Loss)"
      ]
    },
    {
      "cell_type": "code",
      "execution_count": null,
      "metadata": {
        "id": "BYpoumXzkfOI"
      },
      "outputs": [],
      "source": [
        "\n",
        "\n",
        "def train(train_loader, X_test,y_test,tol=1e-5,verbose=False,tied=False,wd=0.07/d, seed=42, n_passes=3):\n",
        "    Att=Attention(d,r,seed).to(device)\n",
        "\n",
        "    optimizer = torch.optim.SGD([{'params': [Att.Q1,Att.Q2],\"weight_decay\":wd}],lr=15)\n",
        "\n",
        "    gen_Loss_list=[]\n",
        "    Loss_list=[]\n",
        "    Q1_list=[]\n",
        "    M1_list=[]\n",
        "    Q2_list=[]\n",
        "    M2_list=[]\n",
        "\n",
        "\n",
        "    for t in range(1700):\n",
        "\n",
        "        if t%500==0: print(t)\n",
        "        for x,y in train_loader:\n",
        "\n",
        "\n",
        "\n",
        "          for j in range(n_passes):\n",
        "            y_pred = Att(x)\n",
        "            loss = quadloss(y_pred,y)\n",
        "            optimizer.zero_grad()\n",
        "            loss.backward()\n",
        "            optimizer.step()\n",
        "\n",
        "          Loss_list.append(loss.item()+wd/2*float(torch.sum(Att.Q1.cpu().flatten()**2)))\n",
        "          M1_list.append(float(Att.Q1.cpu().flatten()@w1.flatten()/d))\n",
        "          Q1_list.append(float(Att.Q1.cpu().flatten()@Att.Q1.cpu().flatten()/d))\n",
        "          M2_list.append(float(Att.Q2.cpu().flatten()@w2.flatten()/d))\n",
        "          Q2_list.append(float(Att.Q2.cpu().flatten()@Att.Q2.cpu().flatten()/d))\n",
        "\n",
        "\n",
        "        if t%20==0 and t>0 :\n",
        "\n",
        "            gen_Loss_list.append(float(torch.mean((y_test-Att(X_test))**2)))\n",
        "\n",
        "    Q1=Att.Q1.cpu().flatten()\n",
        "    Q2=Att.Q2.cpu().flatten()\n",
        "\n",
        "\n",
        "\n",
        "\n",
        "\n",
        "\n",
        "\n",
        "    m1=Q1@w1.flatten()/d\n",
        "    q1=Q1@Q1/d\n",
        "    m2=Q2@w2.flatten()/d\n",
        "    q2=Q2@Q2/d\n",
        "    print(q1)\n",
        "\n",
        "\n",
        "    plt.plot(np.abs(np.array(M1_list)/np.array(Q1_list)**.5),  alpha=0.8, label=\"layer 1\")\n",
        "    plt.plot(np.abs(np.array(M2_list)/np.array(Q2_list)**.5),  alpha=0.3, label=\"layer 2\")\n",
        "    plt.xlabel(\"training time\"); plt.ylabel(\"cosine similarity\");plt.legend();plt.xscale(\"log\");plt.title(r\"$\\alpha={}$\".format(alpha));plt.show()\n",
        "    plt.plot(Loss_list, c=\"b\", alpha=0.3); plt.show()\n",
        "\n",
        "\n",
        "\n",
        "\n",
        "    return np.mean(gen_Loss_list[-5:]),m1.detach().numpy(),q1.detach().numpy(),m2.detach().numpy(),q2.detach().numpy(),np.mean(Loss_list[-1:])"
      ]
    }
  ],
  "metadata": {
    "accelerator": "GPU",
    "colab": {
      "provenance": []
    },
    "gpuClass": "standard",
    "kernelspec": {
      "display_name": "Python 3",
      "language": "python",
      "name": "python3"
    },
    "language_info": {
      "codemirror_mode": {
        "name": "ipython",
        "version": 3
      },
      "file_extension": ".py",
      "mimetype": "text/x-python",
      "name": "python",
      "nbconvert_exporter": "python",
      "pygments_lexer": "ipython3",
      "version": "3.9.21"
    }
  },
  "nbformat": 4,
  "nbformat_minor": 0
}
