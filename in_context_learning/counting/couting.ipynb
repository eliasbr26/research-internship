{
 "cells": [
  {
   "cell_type": "code",
   "execution_count": 729,
   "id": "ab316308",
   "metadata": {},
   "outputs": [],
   "source": [
    "import numpy as np\n",
    "import matplotlib.pyplot as plt\n",
    "import seaborn as sns\n"
   ]
  },
  {
   "cell_type": "code",
   "execution_count": 730,
   "id": "dd1925a8",
   "metadata": {},
   "outputs": [],
   "source": [
    "D = 2000"
   ]
  },
  {
   "cell_type": "code",
   "execution_count": 731,
   "id": "df88dadb",
   "metadata": {},
   "outputs": [],
   "source": [
    "begin = np.random.randn(D).astype(np.float32)"
   ]
  },
  {
   "cell_type": "code",
   "execution_count": 732,
   "id": "137bebbc",
   "metadata": {},
   "outputs": [],
   "source": [
    "A = np.random.randn(D).astype(np.float32)\n",
    "B = np.random.randn(D).astype(np.float32)\n",
    "C = np.random.randn(D).astype(np.float32)"
   ]
  },
  {
   "cell_type": "code",
   "execution_count": 733,
   "id": "30332c64",
   "metadata": {},
   "outputs": [
    {
     "data": {
      "text/plain": [
       "(5, 2000)"
      ]
     },
     "execution_count": 733,
     "metadata": {},
     "output_type": "execute_result"
    }
   ],
   "source": [
    "S = np.array([begin, A, B, A, B], dtype=np.float32)\n",
    "S.shape"
   ]
  },
  {
   "cell_type": "code",
   "execution_count": 734,
   "id": "444903ce",
   "metadata": {},
   "outputs": [
    {
     "data": {
      "text/plain": [
       "(5, 2000)"
      ]
     },
     "execution_count": 734,
     "metadata": {},
     "output_type": "execute_result"
    }
   ],
   "source": [
    "# creat 4 positionnal embeddings\n",
    "P = np.random.randn(5, D).astype(np.float32)\n",
    "P.shape"
   ]
  },
  {
   "cell_type": "code",
   "execution_count": 735,
   "id": "b48869ca",
   "metadata": {},
   "outputs": [],
   "source": [
    "X =  P/5 +S"
   ]
  },
  {
   "cell_type": "code",
   "execution_count": 736,
   "id": "846e8b78",
   "metadata": {},
   "outputs": [
    {
     "data": {
      "text/plain": [
       "(2000, 2000)"
      ]
     },
     "execution_count": 736,
     "metadata": {},
     "output_type": "execute_result"
    }
   ],
   "source": [
    "QK = (P[1].reshape(D, 1) @ P[0].reshape(1, D)) + (P[2].reshape(D, 1) @ P[1].reshape(1, D)) + (P[3].reshape(D, 1) @ P[2].reshape(1, D)) + (P[4].reshape(D, 1) @ P[3].reshape(1, D))\n",
    "QK.shape"
   ]
  },
  {
   "cell_type": "code",
   "execution_count": 737,
   "id": "a22a51e7",
   "metadata": {},
   "outputs": [
    {
     "data": {
      "text/plain": [
       "(5, 5)"
      ]
     },
     "execution_count": 737,
     "metadata": {},
     "output_type": "execute_result"
    }
   ],
   "source": [
    "# get attention matrix\n",
    "Att = X @ QK @ (X.T)\n",
    "Att.shape"
   ]
  },
  {
   "cell_type": "code",
   "execution_count": 738,
   "id": "9a048e50",
   "metadata": {},
   "outputs": [],
   "source": [
    "def softmax(x, axis=None):\n",
    "    x_max = np.max(x, axis=axis, keepdims=True)\n",
    "    e_x = np.exp(x - x_max)\n",
    "    return e_x / np.sum(e_x, axis=axis, keepdims=True)\n"
   ]
  },
  {
   "cell_type": "code",
   "execution_count": 739,
   "id": "8916eab2",
   "metadata": {},
   "outputs": [],
   "source": [
    "Att = softmax(Att, axis=1)"
   ]
  },
  {
   "cell_type": "code",
   "execution_count": null,
   "id": "03af3799",
   "metadata": {},
   "outputs": [],
   "source": []
  },
  {
   "cell_type": "code",
   "execution_count": 740,
   "id": "921f7030",
   "metadata": {},
   "outputs": [
    {
     "data": {
      "image/png": "[encoded data removed]",
      "text/plain": [
       "<Figure size 800x600 with 2 Axes>"
      ]
     },
     "metadata": {},
     "output_type": "display_data"
    }
   ],
   "source": [
    "# plot the attention matrix\n",
    "plt.figure(figsize=(8, 6))\n",
    "sns.heatmap(Att, annot=True, fmt=\".2f\", cmap=\"viridis\")\n",
    "plt.title(\"Attention Matrix\")\n",
    "plt.xlabel(\"Key\")\n",
    "plt.ylabel(\"Query\")\n",
    "plt.show()\n"
   ]
  },
  {
   "cell_type": "code",
   "execution_count": null,
   "id": "0c51608c",
   "metadata": {},
   "outputs": [],
   "source": []
  },
  {
   "cell_type": "code",
   "execution_count": 741,
   "id": "237aefab",
   "metadata": {},
   "outputs": [
    {
     "data": {
      "text/plain": [
       "(2000, 2000)"
      ]
     },
     "execution_count": 741,
     "metadata": {},
     "output_type": "execute_result"
    }
   ],
   "source": [
    "V = np.random.randn(D, D).astype(np.float32)\n",
    "V.shape"
   ]
  },
  {
   "cell_type": "code",
   "execution_count": 742,
   "id": "9b0c6c6d",
   "metadata": {},
   "outputs": [
    {
     "data": {
      "text/plain": [
       "array([-0.01142558, -0.00770881, -0.01048377, -0.00581521, -0.01080479],\n",
       "      dtype=float32)"
      ]
     },
     "execution_count": 742,
     "metadata": {},
     "output_type": "execute_result"
    }
   ],
   "source": [
    "(X @ V)/np.linalg.norm(X @ V)@ (V@A/np.linalg.norm(V@A))"
   ]
  },
  {
   "cell_type": "code",
   "execution_count": 743,
   "id": "c152a241",
   "metadata": {},
   "outputs": [
    {
     "data": {
      "text/plain": [
       "4136070.8"
      ]
     },
     "execution_count": 743,
     "metadata": {},
     "output_type": "execute_result"
    }
   ],
   "source": [
    "(V@A).T@(V@A)"
   ]
  },
  {
   "cell_type": "code",
   "execution_count": 744,
   "id": "57b48667",
   "metadata": {},
   "outputs": [
    {
     "data": {
      "text/plain": [
       "array([ 0.0014653 ,  0.02382789,  0.00459367,  0.01644807, -0.0131624 ],\n",
       "      dtype=float32)"
      ]
     },
     "execution_count": 744,
     "metadata": {},
     "output_type": "execute_result"
    }
   ],
   "source": [
    "Z@ (V@A/np.linalg.norm(V@A))"
   ]
  },
  {
   "cell_type": "code",
   "execution_count": 745,
   "id": "5e4a963c",
   "metadata": {},
   "outputs": [
    {
     "data": {
      "text/plain": [
       "(5, 2000)"
      ]
     },
     "execution_count": 745,
     "metadata": {},
     "output_type": "execute_result"
    }
   ],
   "source": [
    "Z = (Att @ X @ V)/np.linalg.norm(Att @ X @ V)+X/np.linalg.norm(X)\n",
    "Z.shape"
   ]
  },
  {
   "cell_type": "code",
   "execution_count": null,
   "id": "344dff63",
   "metadata": {},
   "outputs": [],
   "source": []
  },
  {
   "cell_type": "code",
   "execution_count": 746,
   "id": "ef354206",
   "metadata": {},
   "outputs": [],
   "source": [
    "Sem_A =  V.T@A/np.linalg.norm(V.T@A)\n",
    "Sem_B = V.T@B/np.linalg.norm(V.T@B)\n",
    "Sem_C = V.T@C/np.linalg.norm(V.T@C)"
   ]
  },
  {
   "cell_type": "code",
   "execution_count": 747,
   "id": "70a2f70a",
   "metadata": {},
   "outputs": [
    {
     "data": {
      "text/plain": [
       "(2000,)"
      ]
     },
     "execution_count": 747,
     "metadata": {},
     "output_type": "execute_result"
    }
   ],
   "source": [
    "Sem_A.shape"
   ]
  },
  {
   "cell_type": "code",
   "execution_count": 748,
   "id": "28a13d47",
   "metadata": {},
   "outputs": [],
   "source": [
    "QK2 = (Sem_A.reshape(D,1)@Sem_A.reshape(1,D)) + (Sem_B.reshape(D,1)@Sem_B.reshape(1,D)) + (Sem_C.reshape(D,1)@Sem_C.reshape(1,D)) + ((A/np.linalg.norm(A)).reshape(D,1)@(A/np.linalg.norm(A)).reshape(1,D)) + ((B/np.linalg.norm(B)).reshape(D,1)@(B/np.linalg.norm(B)).reshape(1,D)) + ((C/np.linalg.norm(C)).reshape(D,1)@(C/np.linalg.norm(C)).reshape(1,D))"
   ]
  },
  {
   "cell_type": "code",
   "execution_count": null,
   "id": "f7ba15b1",
   "metadata": {},
   "outputs": [],
   "source": [
    "QK2 = "
   ]
  },
  {
   "cell_type": "code",
   "execution_count": 749,
   "id": "1182c7ff",
   "metadata": {},
   "outputs": [],
   "source": [
    "Att2 = Z  @ (Z.T)"
   ]
  },
  {
   "cell_type": "code",
   "execution_count": 750,
   "id": "10b119b6",
   "metadata": {},
   "outputs": [
    {
     "data": {
      "image/png": "[encoded data removed]",
      "text/plain": [
       "<Figure size 800x600 with 2 Axes>"
      ]
     },
     "metadata": {},
     "output_type": "display_data"
    }
   ],
   "source": [
    "# plot the attention matrix\n",
    "plt.figure(figsize=(8, 6))\n",
    "sns.heatmap(Att2, annot=True, fmt=\".2f\", cmap=\"viridis\")\n",
    "plt.title(\"Attention Matrix\")\n",
    "plt.xlabel(\"Key\")\n",
    "plt.ylabel(\"Query\")\n",
    "plt.show()\n"
   ]
  }
 ],
 "metadata": {
  "kernelspec": {
   "display_name": "Python 3",
   "language": "python",
   "name": "python3"
  },
  "language_info": {
   "codemirror_mode": {
    "name": "ipython",
    "version": 3
   },
   "file_extension": ".py",
   "mimetype": "text/x-python",
   "name": "python",
   "nbconvert_exporter": "python",
   "pygments_lexer": "ipython3",
   "version": "3.9.21"
  }
 },
 "nbformat": 4,
 "nbformat_minor": 5
}
