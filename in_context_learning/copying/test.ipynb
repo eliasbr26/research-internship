{
 "cells": [
  {
   "cell_type": "code",
   "execution_count": 14,
   "id": "f68047c5",
   "metadata": {},
   "outputs": [],
   "source": [
    "import numpy as np\n",
    "import torch\n",
    "import torch.nn.functional as F"
   ]
  },
  {
   "cell_type": "code",
   "execution_count": 21,
   "id": "8a2c7358",
   "metadata": {},
   "outputs": [],
   "source": [
    "QK = np.zeros((4,\n",
    "               4))"
   ]
  },
  {
   "cell_type": "code",
   "execution_count": 22,
   "id": "c6df3352",
   "metadata": {},
   "outputs": [
    {
     "data": {
      "text/plain": [
       "array([[  0.,   1.,   0.,   0.],\n",
       "       [  0., 100.,   0.,   0.],\n",
       "       [  0.,   1.,   0.,   0.],\n",
       "       [  0., 100.,   0.,   0.]])"
      ]
     },
     "execution_count": 22,
     "metadata": {},
     "output_type": "execute_result"
    }
   ],
   "source": [
    "QK[0,1] = 1\n",
    "QK[1,1] = 100\n",
    "QK[2,1] = 1\n",
    "QK[3,1] = 100\n",
    "QK"
   ]
  },
  {
   "cell_type": "code",
   "execution_count": 23,
   "id": "6e60b011",
   "metadata": {},
   "outputs": [],
   "source": [
    "# get torch tensor\n",
    "QK = torch.from_numpy(QK)"
   ]
  },
  {
   "cell_type": "code",
   "execution_count": 24,
   "id": "cbc97641",
   "metadata": {},
   "outputs": [
    {
     "data": {
      "text/plain": [
       "tensor([[  0.,   1.,   0.,   0.],\n",
       "        [  0., 100.,   0.,   0.],\n",
       "        [  0.,   1.,   0.,   0.],\n",
       "        [  0., 100.,   0.,   0.]], dtype=torch.float64)"
      ]
     },
     "execution_count": 24,
     "metadata": {},
     "output_type": "execute_result"
    }
   ],
   "source": [
    "QK"
   ]
  },
  {
   "cell_type": "code",
   "execution_count": 25,
   "id": "4842c429",
   "metadata": {},
   "outputs": [
    {
     "name": "stdout",
     "output_type": "stream",
     "text": [
      "tensor([[1.7488e-01, 4.7537e-01, 1.7488e-01, 1.7488e-01],\n",
      "        [3.7201e-44, 1.0000e+00, 3.7201e-44, 3.7201e-44],\n",
      "        [1.7488e-01, 4.7537e-01, 1.7488e-01, 1.7488e-01],\n",
      "        [3.7201e-44, 1.0000e+00, 3.7201e-44, 3.7201e-44]], dtype=torch.float64)\n"
     ]
    }
   ],
   "source": [
    "print(F.softmax(QK, dim=-1))"
   ]
  }
 ],
 "metadata": {
  "kernelspec": {
   "display_name": "Python 3",
   "language": "python",
   "name": "python3"
  },
  "language_info": {
   "codemirror_mode": {
    "name": "ipython",
    "version": 3
   },
   "file_extension": ".py",
   "mimetype": "text/x-python",
   "name": "python",
   "nbconvert_exporter": "python",
   "pygments_lexer": "ipython3",
   "version": "3.9.21"
  }
 },
 "nbformat": 4,
 "nbformat_minor": 5
}
