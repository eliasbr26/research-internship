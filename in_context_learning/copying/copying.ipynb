{
 "cells": [
  {
   "cell_type": "code",
   "execution_count": 2,
   "id": "153c7e92",
   "metadata": {},
   "outputs": [
    {
     "data": {
      "text/plain": [
       "device(type='cuda')"
      ]
     },
     "execution_count": 2,
     "metadata": {},
     "output_type": "execute_result"
    }
   ],
   "source": [
    "import numpy as np\n",
    "import random\n",
    "import string\n",
    "import torch\n",
    "from torch.utils.data import TensorDataset, DataLoader\n",
    "from sklearn.model_selection import train_test_split\n",
    "import torch.nn as nn\n",
    "import torch.nn.functional as F\n",
    "device = torch.device(\"cuda\" if torch.cuda.is_available() else \"cpu\")\n",
    "device"
   ]
  },
  {
   "cell_type": "code",
   "execution_count": 3,
   "id": "94fa143c",
   "metadata": {},
   "outputs": [],
   "source": [
    "def generate_dictionaries(k):\n",
    "    \"\"\"\n",
    "    Génère les dictionnaires char<->id et char<->embedding pour k lettres + un token vide.\n",
    "    \"\"\"\n",
    "    import numpy as np\n",
    "\n",
    "    letters = [chr(ord('A') + i) for i in range(k)]\n",
    "    letters.append('_')  # token vide\n",
    "    dim = k \n",
    "    basis = np.eye(dim)  # Embeddings orthogonaux\n",
    "\n",
    "    char_to_id = {char: i for i, char in enumerate(letters)}\n",
    "    id_to_char = {i: char for char, i in char_to_id.items()}\n",
    "    char_to_embed = {char: basis[i] for i, char in enumerate(letters[:-1])}\n",
    "\n",
    "    return char_to_id, id_to_char, char_to_embed"
   ]
  },
  {
   "cell_type": "code",
   "execution_count": 6,
   "id": "74fc5248",
   "metadata": {},
   "outputs": [],
   "source": [
    "def generate_sequences(n, T, k):\n",
    "    assert 1 <= k <= 26, \"k doit être entre 1 et 26\"\n",
    "    alphabet = list(string.ascii_uppercase[:k])\n",
    "    sequences = [random.choices(alphabet, k=T) for _ in range(n)]\n",
    "    return sequences\n"
   ]
  },
  {
   "cell_type": "code",
   "execution_count": 8,
   "id": "478ef3e6",
   "metadata": {},
   "outputs": [],
   "source": [
    "def generate_dataset(n, T, D, seed=None):\n",
    "    \"\"\"\n",
    "    Génère un dataset où chaque lettre après un 'A' (sauf le premier) est remplacée par\n",
    "    celle qui suit le premier 'A'. Ex: [C, A, B, A, C] -> [C, A, B, A, B]\n",
    "    \"\"\"\n",
    "    import numpy as np\n",
    "    import torch\n",
    "\n",
    "    if seed is not None:\n",
    "        np.random.seed(seed)\n",
    "\n",
    "    # Dictionnaires et embeddings\n",
    "    char_to_id, id_to_char, char_to_embed = generate_dictionaries(D)\n",
    "    letters = [chr(ord('A') + i) for i in range(D)]\n",
    "\n",
    "    X = []\n",
    "    y = []\n",
    "\n",
    "    sequences = generate_sequences(n, T, D)\n",
    "\n",
    "    for seq in sequences:\n",
    "        embeddings = [char_to_embed[char] for char in seq]\n",
    "        X.append(embeddings)\n",
    "\n",
    "        seq_out = seq.copy()\n",
    "\n",
    "        # Trouver tous les indices de 'A'\n",
    "        A_indices = [i for i, c in enumerate(seq) if c == 'A']\n",
    "        \n",
    "        if len(A_indices) >= 2 and A_indices[0] + 1 < T:\n",
    "            substitute_char = seq[A_indices[0] + 1]\n",
    "            for idx in A_indices[1:]:\n",
    "                if idx + 1 < T:\n",
    "                    seq_out[idx + 1] = substitute_char\n",
    "\n",
    "        class_ids = [char_to_id[c] for c in seq_out]\n",
    "        y.append(class_ids)\n",
    "\n",
    "    X = torch.tensor(X).float()    # [B, T, D]\n",
    "    y = torch.tensor(y).long()     # [B, T]\n",
    "    return X, y, char_to_id, id_to_char\n"
   ]
  },
  {
   "cell_type": "code",
   "execution_count": 13,
   "id": "de7204ec",
   "metadata": {},
   "outputs": [],
   "source": [
    "n = 1000\n",
    "T = 50\n",
    "D = 5"
   ]
  },
  {
   "cell_type": "code",
   "execution_count": 16,
   "id": "4eab5d76",
   "metadata": {},
   "outputs": [],
   "source": [
    "X, y, char_to_id, id_to_char = generate_dataset(n, T, D)"
   ]
  },
  {
   "cell_type": "code",
   "execution_count": 18,
   "id": "ab7e6eed",
   "metadata": {},
   "outputs": [],
   "source": [
    "X_train, X_test, y_train, y_test = train_test_split(X, y, test_size=0.2, random_state=42)"
   ]
  },
  {
   "cell_type": "code",
   "execution_count": 20,
   "id": "990da04a",
   "metadata": {},
   "outputs": [],
   "source": [
    "train_dataset = TensorDataset(X_train, y_train)\n",
    "test_dataset = TensorDataset(X_test, y_test)\n",
    "\n",
    "# Création des DataLoaders\n",
    "train_loader = DataLoader(train_dataset, batch_size=30, shuffle=True)\n",
    "test_loader = DataLoader(test_dataset)"
   ]
  },
  {
   "cell_type": "code",
   "execution_count": 21,
   "id": "44f905dc",
   "metadata": {},
   "outputs": [],
   "source": [
    "class PositionalEncoding(nn.Module):\n",
    "    def __init__(self, d_model, max_len=100):\n",
    "        super().__init__()\n",
    "        pe = torch.zeros(max_len, d_model)\n",
    "        position = torch.arange(0, max_len, dtype=torch.float32).unsqueeze(1)\n",
    "        div_term = torch.exp(torch.arange(0, d_model, 2).float() * (-torch.log(torch.tensor(10000.0)) / d_model))\n",
    "        pe[:, 0::2] = torch.sin(position * div_term)\n",
    "        pe[:, 1::2] = torch.cos(position * div_term)\n",
    "        self.pe = pe.unsqueeze(0)  # [1, max_len, d_model]\n",
    "\n",
    "    def forward(self, x):\n",
    "        x = x + self.pe[:, :x.size(1)].to(x.device)\n",
    "        return x"
   ]
  },
  {
   "cell_type": "code",
   "execution_count": 22,
   "id": "9657aea7",
   "metadata": {},
   "outputs": [],
   "source": [
    "def token_accuracy(preds, targets):\n",
    "    \"\"\"\n",
    "    Calcule l'accuracy lettre par lettre (token par token).\n",
    "    \"\"\"\n",
    "    pred_classes = torch.argmax(preds, dim=-1)  # [B, T]\n",
    "    correct = (pred_classes == targets).float()\n",
    "    return correct.mean().item()\n",
    "\n",
    "def train_model(model, train_loader, test_loader, epochs=10, lr=1e-3, device='cuda' if torch.cuda.is_available() else 'cpu'):\n",
    "    model.to(device)\n",
    "    optimizer = torch.optim.Adam(model.parameters(), lr=lr)\n",
    "    criterion = nn.CrossEntropyLoss()  # attente [B, C, T] vs [B, T]\n",
    "\n",
    "    train_loss_list = []\n",
    "    test_loss_list = []\n",
    "    test_acc_list = []\n",
    "\n",
    "    for epoch in range(1, epochs + 1):\n",
    "        model.train()\n",
    "        total_train_loss = 0\n",
    "\n",
    "        for xb, yb in train_loader:\n",
    "            xb, yb = xb.to(device), yb.to(device)  # xb: [B, T, D], yb: [B, T]\n",
    "            preds = model(xb)                      # preds: [B, T, C]\n",
    "            preds = preds.permute(0, 2, 1)         # -> [B, C, T] pour CrossEntropy\n",
    "            loss = criterion(preds, yb)\n",
    "            \n",
    "            optimizer.zero_grad()\n",
    "            loss.backward()\n",
    "            optimizer.step()\n",
    "\n",
    "            train_loss_list.append(loss.item())\n",
    "            total_train_loss += loss.item()\n",
    "\n",
    "        # 🔍 Validation à la fin de l'epoch\n",
    "        model.eval()\n",
    "        total_val_loss = 0\n",
    "        total_acc = 0\n",
    "        total_samples = 0\n",
    "        with torch.no_grad():\n",
    "            for xb, yb in test_loader:\n",
    "                xb, yb = xb.to(device), yb.to(device)\n",
    "                preds = model(xb)\n",
    "                val_loss = criterion(preds.permute(0, 2, 1), yb)\n",
    "                total_val_loss += val_loss.item()\n",
    "                test_loss_list.append(val_loss.item())\n",
    "\n",
    "                acc = token_accuracy(preds, yb)\n",
    "                total_acc += acc * xb.size(0)\n",
    "                total_samples += xb.size(0)\n",
    "\n",
    "        avg_train_loss = total_train_loss / len(train_loader)\n",
    "        avg_val_loss = total_val_loss / len(test_loader)\n",
    "        avg_val_acc = total_acc / total_samples\n",
    "        test_acc_list.append(avg_val_acc)\n",
    "\n",
    "        print(f\"Epoch {epoch}/{epochs} | Train Loss: {avg_train_loss:.4f} | Val Loss: {avg_val_loss:.4f} | Val Acc: {avg_val_acc:.4f}\")\n",
    "\n",
    "    return train_loss_list, test_loss_list, test_acc_list\n",
    "\n"
   ]
  },
  {
   "cell_type": "code",
   "execution_count": 23,
   "id": "385f6e2c",
   "metadata": {},
   "outputs": [],
   "source": [
    "class AttentionOnlyBlock(nn.Module):\n",
    "    def __init__(self, d_model):\n",
    "        super().__init__()\n",
    "        self.Wq = nn.Linear(d_model, d_model, bias=False)\n",
    "        self.Wk = nn.Linear(d_model, d_model, bias=False)\n",
    "        self.Wv = nn.Linear(d_model, d_model, bias=False)\n",
    "        self.norm = nn.LayerNorm(d_model)\n",
    "        self.attn_weights = None  # <-- pour garder la dernière attention\n",
    "\n",
    "    def forward(self, x):\n",
    "        Q = self.Wq(x)\n",
    "        K = self.Wk(x)\n",
    "        V = self.Wv(x)\n",
    "        attn_scores = torch.matmul(Q, K.transpose(-2, -1)) / (Q.size(-1) ** 0.5)\n",
    "        attn_weights = F.softmax(attn_scores, dim=-1)\n",
    "        self.attn_weights = attn_weights.detach().cpu()  # stocker pour affichage\n",
    "        #attn_output = torch.matmul(attn_weights, V)\n",
    "        attn_output = torch.matmul(attn_weights, V)\n",
    "        return self.norm(attn_output + x)\n",
    "\n",
    "class AttentionOnlyTransformer(nn.Module):\n",
    "    def __init__(self, input_dim, num_classes, d_model=128, num_layers=2, max_len=100):\n",
    "        super().__init__()\n",
    "        self.embedding_proj = nn.Linear(input_dim, d_model)\n",
    "        self.pos_encoder = PositionalEncoding(d_model, max_len)\n",
    "        self.layers = nn.ModuleList([AttentionOnlyBlock(d_model) for _ in range(num_layers)])\n",
    "        self.classifier = nn.Linear(d_model, num_classes)\n",
    "\n",
    "    def forward(self, x):\n",
    "        x = self.embedding_proj(x)\n",
    "        x = self.pos_encoder(x)\n",
    "        for layer in self.layers:\n",
    "            x = layer(x)\n",
    "        return self.classifier(x)"
   ]
  }
 ],
 "metadata": {
  "kernelspec": {
   "display_name": "Python 3",
   "language": "python",
   "name": "python3"
  },
  "language_info": {
   "codemirror_mode": {
    "name": "ipython",
    "version": 3
   },
   "file_extension": ".py",
   "mimetype": "text/x-python",
   "name": "python",
   "nbconvert_exporter": "python",
   "pygments_lexer": "ipython3",
   "version": "3.9.21"
  }
 },
 "nbformat": 4,
 "nbformat_minor": 5
}
