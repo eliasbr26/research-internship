{
 "cells": [
  {
   "cell_type": "code",
   "execution_count": 1069,
   "id": "74e496aa",
   "metadata": {},
   "outputs": [],
   "source": [
    "import numpy as np\n",
    "import matplotlib.pyplot as plt\n"
   ]
  },
  {
   "cell_type": "code",
   "execution_count": 1070,
   "id": "af5656d7",
   "metadata": {},
   "outputs": [],
   "source": [
    "import seaborn as sns"
   ]
  },
  {
   "cell_type": "code",
   "execution_count": 1071,
   "id": "e17e00b6",
   "metadata": {},
   "outputs": [],
   "source": [
    "D = 2000"
   ]
  },
  {
   "cell_type": "code",
   "execution_count": 1072,
   "id": "ffe8eb99",
   "metadata": {},
   "outputs": [],
   "source": [
    "# create an embedding\n",
    "A = np.random.randn(D).astype(np.float32)\n",
    "B = np.random.randn(D).astype(np.float32)\n",
    "C = np.random.randn(D).astype(np.float32)"
   ]
  },
  {
   "cell_type": "code",
   "execution_count": 1073,
   "id": "391884de",
   "metadata": {},
   "outputs": [
    {
     "data": {
      "text/plain": [
       "(4, 2000)"
      ]
     },
     "execution_count": 1073,
     "metadata": {},
     "output_type": "execute_result"
    }
   ],
   "source": [
    "S = np.array([A, B, A, C], dtype=np.float32)\n",
    "S.shape"
   ]
  },
  {
   "cell_type": "code",
   "execution_count": 1074,
   "id": "e98c4380",
   "metadata": {},
   "outputs": [
    {
     "data": {
      "text/plain": [
       "array([[ 0.11170782,  0.47093746, -0.18748295, ...,  0.5092787 ,\n",
       "        -1.5124216 , -1.0888779 ],\n",
       "       [-2.198302  , -1.6899872 ,  0.54204565, ...,  1.4048678 ,\n",
       "        -1.7648374 ,  0.98693484],\n",
       "       [ 3.0224566 , -0.1343424 ,  0.86910313, ..., -1.4565439 ,\n",
       "        -0.26455966,  0.6554414 ],\n",
       "       [ 1.5147711 , -0.6386862 , -0.5649487 , ...,  1.1235123 ,\n",
       "         1.8084735 , -0.26895404]], dtype=float32)"
      ]
     },
     "execution_count": 1074,
     "metadata": {},
     "output_type": "execute_result"
    }
   ],
   "source": [
    "# creat 4 positionnal embeddings\n",
    "P = np.random.randn(4, D).astype(np.float32)\n",
    "P"
   ]
  },
  {
   "cell_type": "code",
   "execution_count": 1075,
   "id": "4a5088f0",
   "metadata": {},
   "outputs": [
    {
     "data": {
      "text/plain": [
       "(2000,)"
      ]
     },
     "execution_count": 1075,
     "metadata": {},
     "output_type": "execute_result"
    }
   ],
   "source": [
    "(P[0].T).shape"
   ]
  },
  {
   "cell_type": "code",
   "execution_count": 1076,
   "id": "15301239",
   "metadata": {},
   "outputs": [],
   "source": [
    "X =  P +S"
   ]
  },
  {
   "cell_type": "code",
   "execution_count": 1077,
   "id": "f7e47cdc",
   "metadata": {},
   "outputs": [
    {
     "data": {
      "text/plain": [
       "(2000, 2000)"
      ]
     },
     "execution_count": 1077,
     "metadata": {},
     "output_type": "execute_result"
    }
   ],
   "source": [
    "QK = (P[1].reshape(D, 1) @ P[0].reshape(1, D)) + (P[2].reshape(D, 1) @ P[1].reshape(1, D)) + (P[3].reshape(D, 1) @ P[2].reshape(1, D))\n",
    "QK.shape"
   ]
  },
  {
   "cell_type": "code",
   "execution_count": 1078,
   "id": "a562880a",
   "metadata": {},
   "outputs": [
    {
     "name": "stdout",
     "output_type": "stream",
     "text": [
      "(4, 2000)\n",
      "(2000, 2000)\n"
     ]
    }
   ],
   "source": [
    "print(X.shape)\n",
    "print(QK.shape)"
   ]
  },
  {
   "cell_type": "code",
   "execution_count": 1079,
   "id": "dbf7df4f",
   "metadata": {},
   "outputs": [
    {
     "data": {
      "text/plain": [
       "(4, 4)"
      ]
     },
     "execution_count": 1079,
     "metadata": {},
     "output_type": "execute_result"
    }
   ],
   "source": [
    "# get attention matrix\n",
    "Att = X @ QK @ (X.T)\n",
    "Att.shape"
   ]
  },
  {
   "cell_type": "code",
   "execution_count": 1080,
   "id": "060f2dce",
   "metadata": {},
   "outputs": [],
   "source": [
    "def softmax(x, axis=None):\n",
    "    x_max = np.max(x, axis=axis, keepdims=True)\n",
    "    e_x = np.exp(x - x_max)\n",
    "    return e_x / np.sum(e_x, axis=axis, keepdims=True)\n"
   ]
  },
  {
   "cell_type": "code",
   "execution_count": 1081,
   "id": "2870e74d",
   "metadata": {},
   "outputs": [
    {
     "data": {
      "text/plain": [
       "array([[  63191.574 ,  155142.28  ,   64871.48  ,    4997.1143],\n",
       "       [4304415.5   ,  120376.91  ,  140394.55  ,  151909.47  ],\n",
       "       [ 104197.87  , 4351602.    ,  -70182.414 ,   67960.29  ],\n",
       "       [ 213428.16  ,    6884.8438, 4147294.8   ,   39182.758 ]],\n",
       "      dtype=float32)"
      ]
     },
     "execution_count": 1081,
     "metadata": {},
     "output_type": "execute_result"
    }
   ],
   "source": [
    "Att"
   ]
  },
  {
   "cell_type": "code",
   "execution_count": 1082,
   "id": "049cffe6",
   "metadata": {},
   "outputs": [],
   "source": [
    "Att = softmax(Att, axis=1)"
   ]
  },
  {
   "cell_type": "code",
   "execution_count": 1083,
   "id": "e5397d71",
   "metadata": {},
   "outputs": [
    {
     "data": {
      "image/png": "[encoded data removed]",
      "text/plain": [
       "<Figure size 800x600 with 2 Axes>"
      ]
     },
     "metadata": {},
     "output_type": "display_data"
    }
   ],
   "source": [
    "# plot the attention matrix\n",
    "plt.figure(figsize=(8, 6))\n",
    "sns.heatmap(Att, annot=True, fmt=\".2f\", cmap=\"viridis\")\n",
    "plt.title(\"Attention Matrix\")\n",
    "plt.xlabel(\"Key\")\n",
    "plt.ylabel(\"Query\")\n",
    "plt.show()\n"
   ]
  },
  {
   "cell_type": "code",
   "execution_count": 1084,
   "id": "066357b4",
   "metadata": {},
   "outputs": [
    {
     "data": {
      "text/plain": [
       "(2000, 2000)"
      ]
     },
     "execution_count": 1084,
     "metadata": {},
     "output_type": "execute_result"
    }
   ],
   "source": [
    "V = np.random.randn(D, D).astype(np.float32)\n",
    "V.shape"
   ]
  },
  {
   "cell_type": "code",
   "execution_count": null,
   "id": "bcce5957",
   "metadata": {},
   "outputs": [],
   "source": []
  },
  {
   "cell_type": "code",
   "execution_count": 1085,
   "id": "2835eafe",
   "metadata": {},
   "outputs": [
    {
     "data": {
      "text/plain": [
       "array([[-3.2296486 , -1.0795565 , -1.2063191 , ...,  0.67948437,\n",
       "        -1.3519437 ,  0.79315084],\n",
       "       [ 0.6692021 ,  1.1709601 , -1.0641487 , ...,  1.7440131 ,\n",
       "        -0.6363341 , -2.7515614 ],\n",
       "       [-3.2296486 , -1.0795565 , -1.2063191 , ...,  0.67948437,\n",
       "        -1.3519437 ,  0.79315084],\n",
       "       [ 3.5799508 ,  0.56568015, -0.00756258, ..., -0.22180963,\n",
       "         0.6115278 , -1.0072421 ]], dtype=float32)"
      ]
     },
     "execution_count": 1085,
     "metadata": {},
     "output_type": "execute_result"
    }
   ],
   "source": [
    "Att@X"
   ]
  },
  {
   "cell_type": "code",
   "execution_count": 1086,
   "id": "bf8504d4",
   "metadata": {},
   "outputs": [
    {
     "data": {
      "text/plain": [
       "(4, 2000)"
      ]
     },
     "execution_count": 1086,
     "metadata": {},
     "output_type": "execute_result"
    }
   ],
   "source": [
    "Z = (Att @ X @ V)/np.linalg.norm(Att @ X @ V)+X/np.linalg.norm(X)\n",
    "Z.shape"
   ]
  },
  {
   "cell_type": "code",
   "execution_count": 1087,
   "id": "d89812c0",
   "metadata": {},
   "outputs": [
    {
     "data": {
      "text/plain": [
       "127.477516"
      ]
     },
     "execution_count": 1087,
     "metadata": {},
     "output_type": "execute_result"
    }
   ],
   "source": [
    "np.linalg.norm(X)"
   ]
  },
  {
   "cell_type": "code",
   "execution_count": 1088,
   "id": "97fc62d8",
   "metadata": {},
   "outputs": [
    {
     "data": {
      "text/plain": [
       "5634.8887"
      ]
     },
     "execution_count": 1088,
     "metadata": {},
     "output_type": "execute_result"
    }
   ],
   "source": [
    "# norm :\n",
    "np.linalg.norm(Att @ X @ V)"
   ]
  },
  {
   "cell_type": "code",
   "execution_count": 1089,
   "id": "720d061b",
   "metadata": {},
   "outputs": [
    {
     "data": {
      "text/plain": [
       "array([[-0.17039926, 16.562098  , -0.20903671, -0.12655942]],\n",
       "      dtype=float32)"
      ]
     },
     "execution_count": 1089,
     "metadata": {},
     "output_type": "execute_result"
    }
   ],
   "source": [
    "P[1].reshape(1,D) @ Z.T"
   ]
  },
  {
   "cell_type": "code",
   "execution_count": 1090,
   "id": "3ee44591",
   "metadata": {},
   "outputs": [],
   "source": [
    "QK2 =(V.T) @ (A.reshape(D,1)) @ (P[1].reshape(1, D))"
   ]
  },
  {
   "cell_type": "code",
   "execution_count": 1091,
   "id": "731119a9",
   "metadata": {},
   "outputs": [],
   "source": [
    "Att2 = Z @ QK2 @ (Z.T)"
   ]
  },
  {
   "cell_type": "code",
   "execution_count": 1092,
   "id": "1d2683ac",
   "metadata": {},
   "outputs": [],
   "source": [
    "Att2 = softmax(Att2, axis=1)"
   ]
  },
  {
   "cell_type": "code",
   "execution_count": 1093,
   "id": "9965b46b",
   "metadata": {},
   "outputs": [
    {
     "data": {
      "image/png": "[encoded data removed]",
      "text/plain": [
       "<Figure size 800x600 with 2 Axes>"
      ]
     },
     "metadata": {},
     "output_type": "display_data"
    }
   ],
   "source": [
    "# plot the attention matrix\n",
    "plt.figure(figsize=(8, 6))\n",
    "sns.heatmap(Att2, annot=True, fmt=\".2f\", cmap=\"viridis\")\n",
    "plt.title(\"Attention Matrix\")\n",
    "plt.xlabel(\"Key\")\n",
    "plt.ylabel(\"Query\")\n",
    "plt.show()\n"
   ]
  }
 ],
 "metadata": {
  "kernelspec": {
   "display_name": "Python 3",
   "language": "python",
   "name": "python3"
  },
  "language_info": {
   "codemirror_mode": {
    "name": "ipython",
    "version": 3
   },
   "file_extension": ".py",
   "mimetype": "text/x-python",
   "name": "python",
   "nbconvert_exporter": "python",
   "pygments_lexer": "ipython3",
   "version": "3.9.21"
  }
 },
 "nbformat": 4,
 "nbformat_minor": 5
}
