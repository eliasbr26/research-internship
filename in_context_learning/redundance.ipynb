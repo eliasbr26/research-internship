{
 "cells": [
  {
   "cell_type": "code",
   "execution_count": 206,
   "id": "326d3a19",
   "metadata": {},
   "outputs": [],
   "source": [
    "import numpy as np\n",
    "import random\n",
    "import string\n",
    "import torch\n",
    "from torch.utils.data import TensorDataset, DataLoader\n",
    "from sklearn.model_selection import train_test_split\n",
    "import torch.nn as nn\n",
    "import torch.nn.functional as F\n"
   ]
  },
  {
   "cell_type": "code",
   "execution_count": 207,
   "id": "0e3f3395",
   "metadata": {},
   "outputs": [],
   "source": [
    "def generate_orthogonal_vectors(n):\n",
    "    random_vectors = np.random.rand(n, n)\n",
    "    orthogonal_vectors, _ = np.linalg.qr(random_vectors)\n",
    "    return orthogonal_vectors"
   ]
  },
  {
   "cell_type": "code",
   "execution_count": 208,
   "id": "27607b90",
   "metadata": {},
   "outputs": [],
   "source": [
    "v = generate_orthogonal_vectors(3)"
   ]
  },
  {
   "cell_type": "code",
   "execution_count": 209,
   "id": "3b44a102",
   "metadata": {},
   "outputs": [],
   "source": [
    "def generate_sequences(n, T, k):\n",
    "    assert 1 <= k <= 26, \"k doit être entre 1 et 26\"\n",
    "    alphabet = list(string.ascii_uppercase[:k])\n",
    "    sequences = [random.choices(alphabet, k=T) for _ in range(n)]\n",
    "    return sequences\n"
   ]
  },
  {
   "cell_type": "code",
   "execution_count": 210,
   "id": "9f143d35",
   "metadata": {},
   "outputs": [],
   "source": [
    "def generate_dictionnary(k, empty_token='*'):\n",
    "    assert 1 <= k <= 26, \"k doit être entre 1 et 26\"\n",
    "    \n",
    "    # Lettres + symbole spécial\n",
    "    letters = list(string.ascii_uppercase[:k]) + [empty_token]\n",
    "    d = k + 1  # Dimension de l'espace\n",
    "    \n",
    "    # Générer une base orthonormée de dimension (k+1)\n",
    "    random_matrix = np.random.rand(d, d)\n",
    "    orthogonal_basis, _ = np.linalg.qr(random_matrix)\n",
    "    \n",
    "    # Dictionnaires\n",
    "    char_to_emb = {char: vec for char, vec in zip(letters, orthogonal_basis)}\n",
    "    emb_to_char = {tuple(np.round(vec, 8)): char for char, vec in zip(letters, orthogonal_basis)}\n",
    "    \n",
    "    return char_to_emb, emb_to_char"
   ]
  },
  {
   "cell_type": "code",
   "execution_count": 211,
   "id": "48b645cb",
   "metadata": {},
   "outputs": [],
   "source": [
    "def compress_and_pad_left(sequence, empty_token='*'):\n",
    "    if not sequence:\n",
    "        return []\n",
    "\n",
    "    # Supprimer les redondances consécutives\n",
    "    compressed = [sequence[0]]\n",
    "    for c in sequence[1:]:\n",
    "        if c != compressed[-1]:\n",
    "            compressed.append(c)\n",
    "\n",
    "    # Ajout des tokens vides au début\n",
    "    padding_length = len(sequence) - len(compressed)\n",
    "    padded = [empty_token] * padding_length + compressed\n",
    "    return padded\n"
   ]
  },
  {
   "cell_type": "code",
   "execution_count": 212,
   "id": "fff0b100",
   "metadata": {},
   "outputs": [],
   "source": [
    "def generate_dataset(n, T, k, empty_token='*'):\n",
    "    char_to_emb, emb_to_char = generate_dictionnary(k)\n",
    "    alphabet = [c for c in char_to_emb if c != empty_token]\n",
    "    emb_dim = len(next(iter(char_to_emb.values())))\n",
    "    \n",
    "    X_list = []\n",
    "    y_list = []\n",
    "\n",
    "    for _ in range(n):\n",
    "        seq = random.choices(alphabet, k=T)\n",
    "        emb_seq = [char_to_emb[c] for c in seq]\n",
    "        \n",
    "        compressed_seq = compress_and_pad_left(seq, empty_token)\n",
    "        target_emb_seq = [char_to_emb[c] for c in compressed_seq]\n",
    "\n",
    "        X_list.append(emb_seq)\n",
    "        y_list.append(target_emb_seq)\n",
    "\n",
    "    # Convertir en tensors (facultatif selon ton usage)\n",
    "    X_tensor = torch.tensor(X_list, dtype=torch.float32)\n",
    "    y_tensor = torch.tensor(y_list, dtype=torch.float32)\n",
    "\n",
    "    return X_tensor, y_tensor, char_to_emb, emb_to_char"
   ]
  },
  {
   "cell_type": "code",
   "execution_count": 314,
   "id": "3cfe5ecf",
   "metadata": {},
   "outputs": [],
   "source": [
    "X, y, char_to_emb, emb_to_char = generate_dataset(20000, 10, 5)"
   ]
  },
  {
   "cell_type": "code",
   "execution_count": 315,
   "id": "433410c8",
   "metadata": {},
   "outputs": [],
   "source": [
    "X_train, X_test, y_train, y_test = train_test_split(X, y, test_size=0.2, random_state=42)"
   ]
  },
  {
   "cell_type": "code",
   "execution_count": 262,
   "id": "77382715",
   "metadata": {},
   "outputs": [
    {
     "data": {
      "text/plain": [
       "(tensor([[-0.5195,  0.8267, -0.2161],\n",
       "         [-0.4840, -0.4931, -0.7229],\n",
       "         [-0.4840, -0.4931, -0.7229]]),\n",
       " tensor([[-0.7042, -0.2709,  0.6563],\n",
       "         [-0.5195,  0.8267, -0.2161],\n",
       "         [-0.4840, -0.4931, -0.7229]]))"
      ]
     },
     "execution_count": 262,
     "metadata": {},
     "output_type": "execute_result"
    }
   ],
   "source": [
    "X_train[1], y_train[1]"
   ]
  },
  {
   "cell_type": "code",
   "execution_count": 316,
   "id": "42550ec4",
   "metadata": {},
   "outputs": [],
   "source": [
    "train_dataset = TensorDataset(X_train, y_train)\n",
    "test_dataset = TensorDataset(X_test, y_test)\n",
    "\n",
    "# Création des DataLoaders\n",
    "train_loader = DataLoader(train_dataset, batch_size=300, shuffle=True)\n",
    "test_loader = DataLoader(test_dataset)"
   ]
  },
  {
   "cell_type": "code",
   "execution_count": 264,
   "id": "76da6814",
   "metadata": {},
   "outputs": [],
   "source": [
    "class CustomAttentionOnlyBlock(nn.Module):\n",
    "    def __init__(self, embed_dim):\n",
    "        super().__init__()\n",
    "        self.Wq = nn.Linear(embed_dim, embed_dim, bias=False)  # Wq = Wk\n",
    "        self.Wk = nn.Linear(embed_dim, embed_dim, bias=False)\n",
    "        self.Wv = nn.Linear(embed_dim, embed_dim, bias=False)\n",
    "        self.att_weights = None\n",
    "    def forward(self, x):\n",
    "        # V = x (identité)\n",
    "        V = self.Wv(x)\n",
    "        Q = self.Wq(x)\n",
    "        K = self.Wk(x)\n",
    "\n",
    "        # Attention scores : [B, T, T]\n",
    "        scores = torch.matmul(Q, K.transpose(-2, -1)) / (Q.size(-1) ** 0.5)\n",
    "        attn_weights = torch.softmax(scores, dim=-1)\n",
    "        self.att_weights = attn_weights.detach().cpu().numpy()\n",
    "\n",
    "        # Attention output : [B, T, D]\n",
    "        attn_output = torch.matmul(attn_weights, V)\n",
    "\n",
    "        # Résidu\n",
    "        return x + attn_output\n"
   ]
  },
  {
   "cell_type": "code",
   "execution_count": 265,
   "id": "09550eb9",
   "metadata": {},
   "outputs": [],
   "source": [
    "class FinalDAProjection(nn.Module):\n",
    "    def __init__(self, dim, activation='sigmoid'):\n",
    "        super().__init__()\n",
    "        self.Wq = nn.Linear(dim, dim, bias=False)\n",
    "        self.Wk = nn.Linear(dim, dim, bias=False)\n",
    "        self.V = nn.Linear(dim, dim, bias=False)\n",
    "        self.att_weights = None\n",
    "\n",
    "\n",
    "    def forward(self, x):\n",
    "        # x : [B, T, D]\n",
    "        Q = self.Wq(x)                    \n",
    "        K = self.Wk(x)\n",
    "        V = self.V(x)\n",
    "        # Attention scores : [B, T, T]\n",
    "        scores = torch.matmul(Q, K.transpose(-2, -1)) / (Q.size(-1) ** 0.5)\n",
    "        attn_output = torch.softmax(scores, dim=-1)\n",
    "        self.att_weights = attn_output.detach().cpu().numpy()\n",
    "        output = torch.matmul(attn_output, V)\n",
    "        return output"
   ]
  },
  {
   "cell_type": "code",
   "execution_count": 266,
   "id": "2ed3c943",
   "metadata": {},
   "outputs": [],
   "source": [
    "class CustomTransformerAttentionOnly(nn.Module):\n",
    "    def __init__(self, embed_dim, num_layers=2):\n",
    "        super().__init__()\n",
    "        layers = [CustomAttentionOnlyBlock(embed_dim) for _ in range(num_layers - 1)]\n",
    "        layers.append(FinalDAProjection(embed_dim))  # <-- ajout ici\n",
    "        self.layers = nn.ModuleList(layers)\n",
    "\n",
    "    def forward(self, x):\n",
    "        for layer in self.layers:\n",
    "            x = layer(x)\n",
    "        return x  # [B, T] (si FinalDAProjection retourne un score par token)\n"
   ]
  },
  {
   "cell_type": "code",
   "execution_count": 267,
   "id": "43faefcc",
   "metadata": {},
   "outputs": [],
   "source": [
    "loss_fn = nn.MSELoss()"
   ]
  },
  {
   "cell_type": "code",
   "execution_count": 268,
   "id": "513cc3b3",
   "metadata": {},
   "outputs": [],
   "source": [
    "def train_model(model, train_loader, test_loader, epochs=10, lr=1e-3, device='cpu'):\n",
    "    model.to(device)\n",
    "    optimizer = torch.optim.Adam(model.parameters(), lr=lr)\n",
    "    loss_fn = nn.MSELoss()\n",
    "\n",
    "    for epoch in range(epochs):\n",
    "        model.eval()\n",
    "        with torch.no_grad():\n",
    "            total_val_loss = 0\n",
    "            for xb, yb in test_loader:\n",
    "                xb, yb = xb.to(device), yb.to(device)\n",
    "                pred = model(xb)\n",
    "                loss = loss_fn(pred, yb)\n",
    "                total_val_loss += loss.item()\n",
    "\n",
    "        avg_val_loss = total_val_loss / len(test_loader)\n",
    "        model.train()\n",
    "        total_loss = 0\n",
    "\n",
    "        for xb, yb in train_loader:\n",
    "            xb, yb = xb.to(device), yb.to(device)\n",
    "\n",
    "            optimizer.zero_grad()\n",
    "            pred = model(xb)  # [B, T, D]\n",
    "            loss = loss_fn(pred, yb)\n",
    "            loss.backward()\n",
    "            optimizer.step()\n",
    "            total_loss += loss.item()\n",
    "\n",
    "        avg_train_loss = total_loss / len(train_loader)\n",
    "\n",
    "        # Évaluation\n",
    "\n",
    "        print(f\"Epoch {epoch+1}/{epochs} | Train Loss: {avg_train_loss:.4f} | Val Loss: {avg_val_loss:.4f}\")\n"
   ]
  },
  {
   "cell_type": "code",
   "execution_count": 269,
   "id": "ef851cc3",
   "metadata": {},
   "outputs": [
    {
     "name": "stdout",
     "output_type": "stream",
     "text": [
      "Epoch 1/20 | Train Loss: 0.2567 | Val Loss: 0.4132\n",
      "Epoch 2/20 | Train Loss: 0.1780 | Val Loss: 0.1921\n",
      "Epoch 3/20 | Train Loss: 0.1715 | Val Loss: 0.1722\n",
      "Epoch 4/20 | Train Loss: 0.1710 | Val Loss: 0.1711\n",
      "Epoch 5/20 | Train Loss: 0.1708 | Val Loss: 0.1708\n",
      "Epoch 6/20 | Train Loss: 0.1707 | Val Loss: 0.1706\n",
      "Epoch 7/20 | Train Loss: 0.1705 | Val Loss: 0.1706\n",
      "Epoch 8/20 | Train Loss: 0.1706 | Val Loss: 0.1706\n",
      "Epoch 9/20 | Train Loss: 0.1706 | Val Loss: 0.1704\n",
      "Epoch 10/20 | Train Loss: 0.1705 | Val Loss: 0.1707\n",
      "Epoch 11/20 | Train Loss: 0.1706 | Val Loss: 0.1704\n",
      "Epoch 12/20 | Train Loss: 0.1705 | Val Loss: 0.1705\n",
      "Epoch 13/20 | Train Loss: 0.1705 | Val Loss: 0.1704\n",
      "Epoch 14/20 | Train Loss: 0.1705 | Val Loss: 0.1705\n",
      "Epoch 15/20 | Train Loss: 0.1705 | Val Loss: 0.1704\n",
      "Epoch 16/20 | Train Loss: 0.1708 | Val Loss: 0.1705\n",
      "Epoch 17/20 | Train Loss: 0.1706 | Val Loss: 0.1704\n",
      "Epoch 18/20 | Train Loss: 0.1706 | Val Loss: 0.1703\n",
      "Epoch 19/20 | Train Loss: 0.1705 | Val Loss: 0.1705\n",
      "Epoch 20/20 | Train Loss: 0.1706 | Val Loss: 0.1704\n"
     ]
    }
   ],
   "source": [
    "model = CustomTransformerAttentionOnly(embed_dim=X_train.shape[-1], num_layers=2)\n",
    "train_model(model, train_loader, test_loader, epochs=20, lr=0.01)"
   ]
  },
  {
   "cell_type": "code",
   "execution_count": 289,
   "id": "b0e53eac",
   "metadata": {},
   "outputs": [],
   "source": [
    "def evaluate_on_sequence(model, seq, char_to_emb, emb_to_char, empty_token='*', device='cpu'):\n",
    "    model.eval()\n",
    "    \n",
    "    # 1. Encoder la séquence d'entrée\n",
    "    emb_seq = [char_to_emb[c] for c in seq]\n",
    "\n",
    "    x = torch.tensor(emb_seq, dtype=torch.float32).unsqueeze(0).to(device)  # [1, T, D]\n",
    "\n",
    "    # 2. Prédiction\n",
    "    with torch.no_grad():\n",
    "        pred = model(x)[0]  # [T, D]\n",
    "    \n",
    "\n",
    "    # 3. Décoder la sortie\n",
    "    def closest_embedding(vec):\n",
    "        return min(emb_to_char.items(), key=lambda kv: np.linalg.norm(vec - np.array(kv[0])))[1]\n",
    "\n",
    "    decoded_pred = [closest_embedding(p.cpu().numpy()) for p in pred]\n",
    "\n",
    "    # 4. Cible attendue (compress + pad)\n",
    "    target_seq = compress_and_pad_left(seq, empty_token)\n",
    "\n",
    "    # 5. Affichage\n",
    "    print(\"Séquence d’entrée      :\", seq)\n",
    "    print(\"Séquence compressée     :\", target_seq)\n",
    "    print(\"Séquence prédite (model):\", decoded_pred)\n"
   ]
  },
  {
   "cell_type": "code",
   "execution_count": 275,
   "id": "36392c0e",
   "metadata": {},
   "outputs": [],
   "source": [
    "import matplotlib.pyplot as plt\n",
    "import seaborn as sns\n",
    "\n",
    "def show_attention_maps(model, input_sequence, char_to_emb, layer_names=None):\n",
    "    model.eval()\n",
    "    seq_len = len(input_sequence)\n",
    "    emb_seq = [char_to_emb[c] for c in input_sequence]\n",
    "    x = torch.tensor(emb_seq, dtype=torch.float32).unsqueeze(0)  # [1, T, D]\n",
    "    \n",
    "    # Run forward to populate attn_weights\n",
    "    with torch.no_grad():\n",
    "        model(x)\n",
    "\n",
    "    # Afficher les matrices d'attention de chaque couche\n",
    "    for i, layer in enumerate(model.layers):\n",
    "        print(i)\n",
    "        attn = layer.att_weights[0]  # [T, T]\n",
    "        plt.figure(figsize=(6, 5))\n",
    "        sns.heatmap(attn, annot=True, fmt=\".2f\", cmap=\"Blues\", cbar=True)\n",
    "        title = layer_names[i] if layer_names else f\"Attention Layer {i+1}\"\n",
    "        plt.title(title)\n",
    "        plt.xlabel(\"Key position\")\n",
    "        plt.ylabel(\"Query position\")\n",
    "        plt.show()\n"
   ]
  },
  {
   "cell_type": "code",
   "execution_count": 282,
   "id": "4a5b2d82",
   "metadata": {},
   "outputs": [
    {
     "name": "stdout",
     "output_type": "stream",
     "text": [
      "0\n"
     ]
    },
    {
     "data": {
      "image/png": "[encoded data removed]",
      "text/plain": [
       "<Figure size 600x500 with 2 Axes>"
      ]
     },
     "metadata": {},
     "output_type": "display_data"
    },
    {
     "name": "stdout",
     "output_type": "stream",
     "text": [
      "1\n"
     ]
    },
    {
     "data": {
      "image/png": "[encoded data removed]",
      "text/plain": [
       "<Figure size 600x500 with 2 Axes>"
      ]
     },
     "metadata": {},
     "output_type": "display_data"
    }
   ],
   "source": [
    "sequence = ['A', 'B', 'A']\n",
    "show_attention_maps(model, sequence, char_to_emb)"
   ]
  },
  {
   "cell_type": "code",
   "execution_count": 281,
   "id": "8664c460",
   "metadata": {},
   "outputs": [
    {
     "name": "stdout",
     "output_type": "stream",
     "text": [
      "\n",
      "Séquence d'entrée : ['*', 'B', 'B']\n",
      "emb_seq [array([-0.7041772 , -0.27090326,  0.65631235]), array([-0.48404207, -0.4931019 , -0.72287882]), array([-0.48404207, -0.4931019 , -0.72287882])]\n",
      "Prédiction brute (embeddings) : tensor([[ 0.1971, -0.3666,  0.4056],\n",
      "        [-0.0512, -0.6308,  0.2465],\n",
      "        [-0.0512, -0.6308,  0.2465]])\n",
      "Séquence d’entrée      : ['*', 'B', 'B']\n",
      "Séquence compressée     : ['*', '*', 'B']\n",
      "Séquence prédite (model): ['*', '*', '*']\n"
     ]
    }
   ],
   "source": [
    "# Exemple : test sur une séquence simple\n",
    "sequences = [['A','B', 'B']]\n",
    "\n",
    "for sequence in sequences:\n",
    "    print(\"\\nSéquence d'entrée :\", sequence)\n",
    "    evaluate_on_sequence(model, sequence, char_to_emb, emb_to_char, empty_token='*')\n"
   ]
  },
  {
   "cell_type": "code",
   "execution_count": 324,
   "id": "408b9724",
   "metadata": {},
   "outputs": [],
   "source": [
    "import torch\n",
    "import torch.nn as nn\n",
    "import torch.nn.functional as F\n",
    "\n",
    "\n",
    "class TransformerModel(nn.Module):\n",
    "    def __init__(self, input_dim, d_model=128, nhead=8, num_layers=4, dim_feedforward=512, dropout=0.1, max_len=512):\n",
    "        super().__init__()\n",
    "        self.input_proj = nn.Linear(input_dim, d_model)\n",
    "        encoder_layer = nn.TransformerEncoderLayer(d_model=d_model, nhead=nhead, dim_feedforward=dim_feedforward, dropout=dropout, batch_first=True)\n",
    "        self.transformer_encoder = nn.TransformerEncoder(encoder_layer, num_layers=num_layers)\n",
    "        self.output_proj = nn.Linear(d_model, input_dim)\n",
    "\n",
    "    def forward(self, src):\n",
    "        x = self.input_proj(src)  # [B, T, D_model]\n",
    "        x = self.transformer_encoder(x)\n",
    "        out = self.output_proj(x)  # [B, T, D_input] (embedding)\n",
    "        return out\n"
   ]
  },
  {
   "cell_type": "code",
   "execution_count": 325,
   "id": "47ee6406",
   "metadata": {},
   "outputs": [],
   "source": [
    "def train_model(model, train_loader, test_loader, epochs=10, lr=1e-3, device='cpu'):\n",
    "    model = model.to(device)\n",
    "    optimizer = torch.optim.Adam(model.parameters(), lr=lr)\n",
    "    loss_fn = nn.MSELoss()\n",
    "\n",
    "    for epoch in range(1, epochs + 1):\n",
    "        model.train()\n",
    "        total_train_loss = 0\n",
    "        for xb, yb in train_loader:\n",
    "            xb, yb = xb.to(device), yb.to(device)\n",
    "            pred = model(xb)\n",
    "            loss = loss_fn(pred, yb)\n",
    "            optimizer.zero_grad()\n",
    "            loss.backward()\n",
    "            optimizer.step()\n",
    "            total_train_loss += loss.item()\n",
    "\n",
    "        model.eval()\n",
    "        total_val_loss = 0\n",
    "        with torch.no_grad():\n",
    "            for xb, yb in test_loader:\n",
    "                xb, yb = xb.to(device), yb.to(device)\n",
    "                pred = model(xb)\n",
    "                loss = loss_fn(pred, yb)\n",
    "                total_val_loss += loss.item()\n",
    "\n",
    "        print(f\"Epoch {epoch}/{epochs} | Train Loss: {total_train_loss/len(train_loader):.4f} | Val Loss: {total_val_loss/len(test_loader):.4f}\")\n"
   ]
  },
  {
   "cell_type": "code",
   "execution_count": 320,
   "id": "a613caec",
   "metadata": {},
   "outputs": [],
   "source": [
    "embedding_dim = X_train.shape[-1]"
   ]
  },
  {
   "cell_type": "code",
   "execution_count": 326,
   "id": "c002375e",
   "metadata": {},
   "outputs": [
    {
     "name": "stdout",
     "output_type": "stream",
     "text": [
      "Epoch 1/10 | Train Loss: 0.1921 | Val Loss: 0.1210\n",
      "Epoch 2/10 | Train Loss: 0.1263 | Val Loss: 0.1191\n",
      "Epoch 3/10 | Train Loss: 0.1226 | Val Loss: 0.1189\n",
      "Epoch 4/10 | Train Loss: 0.1205 | Val Loss: 0.1184\n",
      "Epoch 5/10 | Train Loss: 0.1193 | Val Loss: 0.1180\n",
      "Epoch 6/10 | Train Loss: 0.1185 | Val Loss: 0.1180\n",
      "Epoch 7/10 | Train Loss: 0.1180 | Val Loss: 0.1178\n",
      "Epoch 8/10 | Train Loss: 0.1176 | Val Loss: 0.1177\n",
      "Epoch 9/10 | Train Loss: 0.1175 | Val Loss: 0.1175\n",
      "Epoch 10/10 | Train Loss: 0.1172 | Val Loss: 0.1175\n"
     ]
    }
   ],
   "source": [
    "model = TransformerModel(input_dim=embedding_dim)\n",
    "train_model(model, train_loader, test_loader, epochs=10, lr=1e-3)\n"
   ]
  },
  {
   "cell_type": "code",
   "execution_count": 327,
   "id": "13ee4260",
   "metadata": {},
   "outputs": [
    {
     "name": "stdout",
     "output_type": "stream",
     "text": [
      "___________________________\n",
      "Séquence d’entrée      : ['E', 'C', 'E', 'B', 'A', 'D', 'B', 'D', 'B', 'A']\n",
      "Séquence compressée     : ['E', 'C', 'E', 'B', 'A', 'D', 'B', 'D', 'B', 'A']\n",
      "Séquence prédite (model): ['E', 'C', 'E', 'B', 'A', 'D', 'B', 'D', 'B', 'A']\n",
      "___________________________\n",
      "Séquence d’entrée      : ['B', 'A', 'B', 'A', 'E', 'D', 'D', 'C', 'C', 'C']\n",
      "Séquence compressée     : ['*', '*', '*', 'B', 'A', 'B', 'A', 'E', 'D', 'C']\n",
      "Séquence prédite (model): ['B', 'A', 'B', 'A', 'E', 'D', 'D', 'C', 'C', 'C']\n",
      "___________________________\n",
      "Séquence d’entrée      : ['C', 'A', 'E', 'A', 'D', 'E', 'A', 'C', 'D', 'B']\n",
      "Séquence compressée     : ['C', 'A', 'E', 'A', 'D', 'E', 'A', 'C', 'D', 'B']\n",
      "Séquence prédite (model): ['C', 'A', 'E', 'A', 'D', 'E', 'A', 'C', 'D', 'B']\n",
      "___________________________\n",
      "Séquence d’entrée      : ['E', 'A', 'D', 'C', 'E', 'B', 'D', 'D', 'E', 'B']\n",
      "Séquence compressée     : ['*', 'E', 'A', 'D', 'C', 'E', 'B', 'D', 'E', 'B']\n",
      "Séquence prédite (model): ['E', 'A', 'D', 'C', 'E', 'B', 'D', 'D', 'E', 'B']\n",
      "___________________________\n",
      "Séquence d’entrée      : ['A', 'A', 'A', 'D', 'E', 'C', 'A', 'A', 'E', 'E']\n",
      "Séquence compressée     : ['*', '*', '*', '*', 'A', 'D', 'E', 'C', 'A', 'E']\n",
      "Séquence prédite (model): ['A', 'A', 'A', 'D', 'E', 'C', 'A', 'A', 'E', 'E']\n"
     ]
    }
   ],
   "source": [
    "# generate sequences\n",
    "sequences = generate_sequences(5, 10, 5)\n",
    "\n",
    "\n",
    "for sequence in sequences:\n",
    "    print('___________________________')\n",
    "    evaluate_on_sequence(model, sequence, char_to_emb, emb_to_char, empty_token='*')"
   ]
  }
 ],
 "metadata": {
  "kernelspec": {
   "display_name": "Python 3",
   "language": "python",
   "name": "python3"
  },
  "language_info": {
   "codemirror_mode": {
    "name": "ipython",
    "version": 3
   },
   "file_extension": ".py",
   "mimetype": "text/x-python",
   "name": "python",
   "nbconvert_exporter": "python",
   "pygments_lexer": "ipython3",
   "version": "3.9.21"
  }
 },
 "nbformat": 4,
 "nbformat_minor": 5
}
