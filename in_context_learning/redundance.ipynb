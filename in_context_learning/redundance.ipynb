{
 "cells": [
  {
   "cell_type": "code",
   "execution_count": 57,
   "id": "326d3a19",
   "metadata": {},
   "outputs": [],
   "source": [
    "import numpy as np\n",
    "import random\n",
    "import string\n",
    "import torch\n",
    "from torch.utils.data import TensorDataset, DataLoader\n",
    "from sklearn.model_selection import train_test_split\n",
    "import torch.nn as nn\n",
    "import torch.nn.functional as F\n"
   ]
  },
  {
   "cell_type": "code",
   "execution_count": 3,
   "id": "0e3f3395",
   "metadata": {},
   "outputs": [],
   "source": [
    "def generate_orthogonal_vectors(n):\n",
    "    random_vectors = np.random.rand(n, n)\n",
    "    orthogonal_vectors, _ = np.linalg.qr(random_vectors)\n",
    "    return orthogonal_vectors"
   ]
  },
  {
   "cell_type": "code",
   "execution_count": 11,
   "id": "27607b90",
   "metadata": {},
   "outputs": [],
   "source": [
    "v = generate_orthogonal_vectors(3)"
   ]
  },
  {
   "cell_type": "code",
   "execution_count": null,
   "id": "3b44a102",
   "metadata": {},
   "outputs": [],
   "source": [
    "def generate_sequences(n, T, k):\n",
    "    assert 1 <= k <= 26, \"k doit être entre 1 et 26\"\n",
    "    alphabet = list(string.ascii_uppercase[:k])\n",
    "    sequences = [random.choices(alphabet, k=T) for _ in range(n)]\n",
    "    return sequences\n"
   ]
  },
  {
   "cell_type": "code",
   "execution_count": 23,
   "id": "9f143d35",
   "metadata": {},
   "outputs": [],
   "source": [
    "def generate_dictionnary(k, empty_token='*'):\n",
    "    assert 1 <= k <= 26, \"k doit être entre 1 et 26\"\n",
    "    \n",
    "    # Lettres + symbole spécial\n",
    "    letters = list(string.ascii_uppercase[:k]) + [empty_token]\n",
    "    d = k + 1  # Dimension de l'espace\n",
    "    \n",
    "    # Générer une base orthonormée de dimension (k+1)\n",
    "    random_matrix = np.random.rand(d, d)\n",
    "    orthogonal_basis, _ = np.linalg.qr(random_matrix)\n",
    "    \n",
    "    # Dictionnaires\n",
    "    char_to_emb = {char: vec for char, vec in zip(letters, orthogonal_basis)}\n",
    "    emb_to_char = {tuple(np.round(vec, 8)): char for char, vec in zip(letters, orthogonal_basis)}\n",
    "    \n",
    "    return char_to_emb, emb_to_char"
   ]
  },
  {
   "cell_type": "code",
   "execution_count": 25,
   "id": "48b645cb",
   "metadata": {},
   "outputs": [],
   "source": [
    "def compress_and_pad(sequence, empty_token='*'):\n",
    "    if not sequence:\n",
    "        return []\n",
    "\n",
    "    # Supprimer les redondances consécutives\n",
    "    compressed = [sequence[0]]\n",
    "    for c in sequence[1:]:\n",
    "        if c != compressed[-1]:\n",
    "            compressed.append(c)\n",
    "    \n",
    "    # Ajouter des tokens vides à la fin pour conserver la taille originale\n",
    "    padding_length = len(sequence) - len(compressed)\n",
    "    padded = compressed + [empty_token] * padding_length\n",
    "    return padded\n"
   ]
  },
  {
   "cell_type": "code",
   "execution_count": 47,
   "id": "fff0b100",
   "metadata": {},
   "outputs": [],
   "source": [
    "def generate_dataset(n, T, k, empty_token='*'):\n",
    "    char_to_emb, emb_to_char = generate_dictionnary(k)\n",
    "    alphabet = [c for c in char_to_emb if c != empty_token]\n",
    "    emb_dim = len(next(iter(char_to_emb.values())))\n",
    "    \n",
    "    X_list = []\n",
    "    y_list = []\n",
    "\n",
    "    for _ in range(n):\n",
    "        seq = random.choices(alphabet, k=T)\n",
    "        emb_seq = [char_to_emb[c] for c in seq]\n",
    "        \n",
    "        compressed_seq = compress_and_pad(seq, empty_token)\n",
    "        target_emb_seq = [char_to_emb[c] for c in compressed_seq]\n",
    "\n",
    "        X_list.append(emb_seq)\n",
    "        y_list.append(target_emb_seq)\n",
    "\n",
    "    # Convertir en tensors (facultatif selon ton usage)\n",
    "    X_tensor = torch.tensor(X_list, dtype=torch.float32)\n",
    "    y_tensor = torch.tensor(y_list, dtype=torch.float32)\n",
    "\n",
    "    return X_tensor, y_tensor, char_to_emb, emb_to_char"
   ]
  },
  {
   "cell_type": "code",
   "execution_count": 48,
   "id": "3cfe5ecf",
   "metadata": {},
   "outputs": [],
   "source": [
    "X, y, char_to_emb, emb_to_char = generate_dataset(10, 5, 3)"
   ]
  },
  {
   "cell_type": "code",
   "execution_count": 52,
   "id": "433410c8",
   "metadata": {},
   "outputs": [],
   "source": [
    "X_train, X_test, y_train, y_test = train_test_split(X, y, test_size=0.2, random_state=42)"
   ]
  },
  {
   "cell_type": "code",
   "execution_count": 53,
   "id": "42550ec4",
   "metadata": {},
   "outputs": [],
   "source": [
    "train_dataset = TensorDataset(X_train, y_train)\n",
    "test_dataset = TensorDataset(X_test, y_test)\n",
    "\n",
    "# Création des DataLoaders\n",
    "train_loader = DataLoader(train_dataset, batch_size=32, shuffle=True)\n",
    "test_loader = DataLoader(test_dataset, batch_size=32)"
   ]
  },
  {
   "cell_type": "code",
   "execution_count": 55,
   "id": "76da6814",
   "metadata": {},
   "outputs": [],
   "source": [
    "class AttentionOnlyBlock(nn.Module):\n",
    "    def __init__(self, embed_dim, num_heads):\n",
    "        super().__init__()\n",
    "        self.attn = nn.MultiheadAttention(embed_dim, num_heads, batch_first=True)\n",
    "        self.norm = nn.LayerNorm(embed_dim)\n",
    "\n",
    "    def forward(self, x):\n",
    "        # Self-attention + résiduel + normalisation\n",
    "        attn_output, _ = self.attn(x, x, x, need_weights=False)\n",
    "        x = self.norm(x + attn_output)\n",
    "        return x\n",
    "\n",
    "class TransformerAttentionOnly(nn.Module):\n",
    "    def __init__(self, embed_dim, num_heads=1, num_layers=2):\n",
    "        super().__init__()\n",
    "        self.layers = nn.ModuleList([\n",
    "            AttentionOnlyBlock(embed_dim, num_heads) for _ in range(num_layers)\n",
    "        ])\n",
    "        self.output = nn.Linear(embed_dim, embed_dim)  # projection finale vers l’espace embedding\n",
    "\n",
    "    def forward(self, x):\n",
    "        for layer in self.layers:\n",
    "            x = layer(x)\n",
    "        return self.output(x)\n"
   ]
  }
 ],
 "metadata": {
  "kernelspec": {
   "display_name": "Python 3",
   "language": "python",
   "name": "python3"
  },
  "language_info": {
   "codemirror_mode": {
    "name": "ipython",
    "version": 3
   },
   "file_extension": ".py",
   "mimetype": "text/x-python",
   "name": "python",
   "nbconvert_exporter": "python",
   "pygments_lexer": "ipython3",
   "version": "3.9.21"
  }
 },
 "nbformat": 4,
 "nbformat_minor": 5
}
