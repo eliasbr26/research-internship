{
 "cells": [
  {
   "cell_type": "code",
   "execution_count": 206,
   "id": "326d3a19",
   "metadata": {},
   "outputs": [],
   "source": [
    "import numpy as np\n",
    "import random\n",
    "import string\n",
    "import torch\n",
    "from torch.utils.data import TensorDataset, DataLoader\n",
    "from sklearn.model_selection import train_test_split\n",
    "import torch.nn as nn\n",
    "import torch.nn.functional as F\n"
   ]
  },
  {
   "cell_type": "code",
   "execution_count": 207,
   "id": "0e3f3395",
   "metadata": {},
   "outputs": [],
   "source": [
    "def generate_orthogonal_vectors(n):\n",
    "    random_vectors = np.random.rand(n, n)\n",
    "    orthogonal_vectors, _ = np.linalg.qr(random_vectors)\n",
    "    return orthogonal_vectors"
   ]
  },
  {
   "cell_type": "code",
   "execution_count": 208,
   "id": "27607b90",
   "metadata": {},
   "outputs": [],
   "source": [
    "v = generate_orthogonal_vectors(3)"
   ]
  },
  {
   "cell_type": "code",
   "execution_count": 209,
   "id": "3b44a102",
   "metadata": {},
   "outputs": [],
   "source": [
    "def generate_sequences(n, T, k):\n",
    "    assert 1 <= k <= 26, \"k doit être entre 1 et 26\"\n",
    "    alphabet = list(string.ascii_uppercase[:k])\n",
    "    sequences = [random.choices(alphabet, k=T) for _ in range(n)]\n",
    "    return sequences\n"
   ]
  },
  {
   "cell_type": "code",
   "execution_count": 210,
   "id": "9f143d35",
   "metadata": {},
   "outputs": [],
   "source": [
    "def generate_dictionnary(k, empty_token='*'):\n",
    "    assert 1 <= k <= 26, \"k doit être entre 1 et 26\"\n",
    "    \n",
    "    # Lettres + symbole spécial\n",
    "    letters = list(string.ascii_uppercase[:k]) + [empty_token]\n",
    "    d = k + 1  # Dimension de l'espace\n",
    "    \n",
    "    # Générer une base orthonormée de dimension (k+1)\n",
    "    random_matrix = np.random.rand(d, d)\n",
    "    orthogonal_basis, _ = np.linalg.qr(random_matrix)\n",
    "    \n",
    "    # Dictionnaires\n",
    "    char_to_emb = {char: vec for char, vec in zip(letters, orthogonal_basis)}\n",
    "    emb_to_char = {tuple(np.round(vec, 8)): char for char, vec in zip(letters, orthogonal_basis)}\n",
    "    \n",
    "    return char_to_emb, emb_to_char"
   ]
  },
  {
   "cell_type": "code",
   "execution_count": 211,
   "id": "48b645cb",
   "metadata": {},
   "outputs": [],
   "source": [
    "def compress_and_pad_left(sequence, empty_token='*'):\n",
    "    if not sequence:\n",
    "        return []\n",
    "\n",
    "    # Supprimer les redondances consécutives\n",
    "    compressed = [sequence[0]]\n",
    "    for c in sequence[1:]:\n",
    "        if c != compressed[-1]:\n",
    "            compressed.append(c)\n",
    "\n",
    "    # Ajout des tokens vides au début\n",
    "    padding_length = len(sequence) - len(compressed)\n",
    "    padded = [empty_token] * padding_length + compressed\n",
    "    return padded\n"
   ]
  },
  {
   "cell_type": "code",
   "execution_count": 212,
   "id": "fff0b100",
   "metadata": {},
   "outputs": [],
   "source": [
    "def generate_dataset(n, T, k, empty_token='*'):\n",
    "    char_to_emb, emb_to_char = generate_dictionnary(k)\n",
    "    alphabet = [c for c in char_to_emb if c != empty_token]\n",
    "    emb_dim = len(next(iter(char_to_emb.values())))\n",
    "    \n",
    "    X_list = []\n",
    "    y_list = []\n",
    "\n",
    "    for _ in range(n):\n",
    "        seq = random.choices(alphabet, k=T)\n",
    "        emb_seq = [char_to_emb[c] for c in seq]\n",
    "        \n",
    "        compressed_seq = compress_and_pad_left(seq, empty_token)\n",
    "        target_emb_seq = [char_to_emb[c] for c in compressed_seq]\n",
    "\n",
    "        X_list.append(emb_seq)\n",
    "        y_list.append(target_emb_seq)\n",
    "\n",
    "    # Convertir en tensors (facultatif selon ton usage)\n",
    "    X_tensor = torch.tensor(X_list, dtype=torch.float32)\n",
    "    y_tensor = torch.tensor(y_list, dtype=torch.float32)\n",
    "\n",
    "    return X_tensor, y_tensor, char_to_emb, emb_to_char"
   ]
  },
  {
   "cell_type": "code",
   "execution_count": 213,
   "id": "3cfe5ecf",
   "metadata": {},
   "outputs": [],
   "source": [
    "X, y, char_to_emb, emb_to_char = generate_dataset(20000, 2, 2)"
   ]
  },
  {
   "cell_type": "code",
   "execution_count": 214,
   "id": "433410c8",
   "metadata": {},
   "outputs": [],
   "source": [
    "X_train, X_test, y_train, y_test = train_test_split(X, y, test_size=0.2, random_state=42)"
   ]
  },
  {
   "cell_type": "code",
   "execution_count": 215,
   "id": "77382715",
   "metadata": {},
   "outputs": [
    {
     "data": {
      "text/plain": [
       "(tensor([[-0.6827,  0.0768, -0.7266],\n",
       "         [-0.6827,  0.0768, -0.7266]]),\n",
       " tensor([[-0.1490,  0.9589,  0.2414],\n",
       "         [-0.6827,  0.0768, -0.7266]]))"
      ]
     },
     "execution_count": 215,
     "metadata": {},
     "output_type": "execute_result"
    }
   ],
   "source": [
    "X_train[1], y_train[1]"
   ]
  },
  {
   "cell_type": "code",
   "execution_count": 216,
   "id": "42550ec4",
   "metadata": {},
   "outputs": [],
   "source": [
    "train_dataset = TensorDataset(X_train, y_train)\n",
    "test_dataset = TensorDataset(X_test, y_test)\n",
    "\n",
    "# Création des DataLoaders\n",
    "train_loader = DataLoader(train_dataset, batch_size=300, shuffle=True)\n",
    "test_loader = DataLoader(test_dataset)"
   ]
  },
  {
   "cell_type": "code",
   "execution_count": 217,
   "id": "76da6814",
   "metadata": {},
   "outputs": [],
   "source": [
    "class CustomAttentionOnlyBlock(nn.Module):\n",
    "    def __init__(self, embed_dim):\n",
    "        super().__init__()\n",
    "        self.Wq = nn.Linear(embed_dim, embed_dim, bias=False)  # Wq = Wk\n",
    "        self.Wk = nn.Linear(embed_dim, embed_dim, bias=False)\n",
    "        self.Wv = nn.Linear(embed_dim, embed_dim, bias=False)\n",
    "    def forward(self, x):\n",
    "        # V = x (identité)\n",
    "        V = self.Wv(x)\n",
    "        Q = self.Wq(x)\n",
    "        K = self.Wk(x)\n",
    "\n",
    "        # Attention scores : [B, T, T]\n",
    "        scores = torch.matmul(Q, K.transpose(-2, -1)) / (Q.size(-1) ** 0.5)\n",
    "        attn_weights = torch.softmax(scores, dim=-1)\n",
    "\n",
    "        # Attention output : [B, T, D]\n",
    "        attn_output = torch.matmul(attn_weights, V)\n",
    "\n",
    "        # Résidu\n",
    "        return x + attn_output\n"
   ]
  },
  {
   "cell_type": "code",
   "execution_count": 218,
   "id": "09550eb9",
   "metadata": {},
   "outputs": [],
   "source": [
    "class FinalDAProjection(nn.Module):\n",
    "    def __init__(self, dim, activation='sigmoid'):\n",
    "        super().__init__()\n",
    "        self.Wq = nn.Linear(dim, dim, bias=False)\n",
    "        self.Wk = nn.Linear(dim, dim, bias=False)\n",
    "        self.V = nn.Linear(dim, dim, bias=False)\n",
    "\n",
    "\n",
    "    def forward(self, x):\n",
    "        # x : [B, T, D]\n",
    "        Q = self.Wq(x)                    \n",
    "        K = self.Wk(x)\n",
    "        V = self.V(x)\n",
    "        # Attention scores : [B, T, T]\n",
    "        scores = torch.matmul(Q, K.transpose(-2, -1)) / (Q.size(-1) ** 0.5)\n",
    "        attn_output = torch.softmax(scores, dim=-1)\n",
    "        output = torch.matmul(attn_output, V)\n",
    "        return output"
   ]
  },
  {
   "cell_type": "code",
   "execution_count": 219,
   "id": "2ed3c943",
   "metadata": {},
   "outputs": [],
   "source": [
    "class CustomTransformerAttentionOnly(nn.Module):\n",
    "    def __init__(self, embed_dim, num_layers=2):\n",
    "        super().__init__()\n",
    "        layers = [CustomAttentionOnlyBlock(embed_dim) for _ in range(num_layers - 1)]\n",
    "        layers.append(FinalDAProjection(embed_dim))  # <-- ajout ici\n",
    "        self.layers = nn.ModuleList(layers)\n",
    "\n",
    "    def forward(self, x):\n",
    "        for layer in self.layers:\n",
    "            x = layer(x)\n",
    "        return x  # [B, T] (si FinalDAProjection retourne un score par token)\n"
   ]
  },
  {
   "cell_type": "code",
   "execution_count": 220,
   "id": "43faefcc",
   "metadata": {},
   "outputs": [],
   "source": [
    "loss_fn = nn.MSELoss()"
   ]
  },
  {
   "cell_type": "code",
   "execution_count": 221,
   "id": "513cc3b3",
   "metadata": {},
   "outputs": [],
   "source": [
    "def train_model(model, train_loader, test_loader, epochs=10, lr=1e-3, device='cpu'):\n",
    "    model.to(device)\n",
    "    optimizer = torch.optim.Adam(model.parameters(), lr=lr)\n",
    "    loss_fn = nn.MSELoss()\n",
    "\n",
    "    for epoch in range(epochs):\n",
    "        model.eval()\n",
    "        with torch.no_grad():\n",
    "            total_val_loss = 0\n",
    "            for xb, yb in test_loader:\n",
    "                xb, yb = xb.to(device), yb.to(device)\n",
    "                pred = model(xb)\n",
    "                loss = loss_fn(pred, yb)\n",
    "                total_val_loss += loss.item()\n",
    "\n",
    "        avg_val_loss = total_val_loss / len(test_loader)\n",
    "        model.train()\n",
    "        total_loss = 0\n",
    "\n",
    "        for xb, yb in train_loader:\n",
    "            xb, yb = xb.to(device), yb.to(device)\n",
    "\n",
    "            optimizer.zero_grad()\n",
    "            pred = model(xb)  # [B, T, D]\n",
    "            loss = loss_fn(pred, yb)\n",
    "            loss.backward()\n",
    "            optimizer.step()\n",
    "            total_loss += loss.item()\n",
    "\n",
    "        avg_train_loss = total_loss / len(train_loader)\n",
    "\n",
    "        # Évaluation\n",
    "\n",
    "        print(f\"Epoch {epoch+1}/{epochs} | Train Loss: {avg_train_loss:.4f} | Val Loss: {avg_val_loss:.4f}\")\n"
   ]
  },
  {
   "cell_type": "code",
   "execution_count": 230,
   "id": "ef851cc3",
   "metadata": {},
   "outputs": [
    {
     "name": "stdout",
     "output_type": "stream",
     "text": [
      "Epoch 1/20 | Train Loss: 0.2565 | Val Loss: 0.2674\n",
      "Epoch 2/20 | Train Loss: 0.2393 | Val Loss: 0.2464\n",
      "Epoch 3/20 | Train Loss: 0.2277 | Val Loss: 0.2326\n",
      "Epoch 4/20 | Train Loss: 0.2186 | Val Loss: 0.2227\n",
      "Epoch 5/20 | Train Loss: 0.2091 | Val Loss: 0.2140\n",
      "Epoch 6/20 | Train Loss: 0.1930 | Val Loss: 0.2025\n",
      "Epoch 7/20 | Train Loss: 0.1674 | Val Loss: 0.1805\n",
      "Epoch 8/20 | Train Loss: 0.1424 | Val Loss: 0.1533\n",
      "Epoch 9/20 | Train Loss: 0.1237 | Val Loss: 0.1299\n",
      "Epoch 10/20 | Train Loss: 0.1164 | Val Loss: 0.1169\n",
      "Epoch 11/20 | Train Loss: 0.1150 | Val Loss: 0.1140\n",
      "Epoch 12/20 | Train Loss: 0.1148 | Val Loss: 0.1134\n",
      "Epoch 13/20 | Train Loss: 0.1146 | Val Loss: 0.1132\n",
      "Epoch 14/20 | Train Loss: 0.1146 | Val Loss: 0.1132\n",
      "Epoch 15/20 | Train Loss: 0.1147 | Val Loss: 0.1131\n",
      "Epoch 16/20 | Train Loss: 0.1147 | Val Loss: 0.1131\n",
      "Epoch 17/20 | Train Loss: 0.1146 | Val Loss: 0.1131\n",
      "Epoch 18/20 | Train Loss: 0.1146 | Val Loss: 0.1131\n",
      "Epoch 19/20 | Train Loss: 0.1146 | Val Loss: 0.1131\n",
      "Epoch 20/20 | Train Loss: 0.1145 | Val Loss: 0.1131\n"
     ]
    }
   ],
   "source": [
    "model = CustomTransformerAttentionOnly(embed_dim=X_train.shape[-1], num_layers=2)\n",
    "train_model(model, train_loader, test_loader, epochs=20, lr=1e-3)"
   ]
  },
  {
   "cell_type": "code",
   "execution_count": 231,
   "id": "b0e53eac",
   "metadata": {},
   "outputs": [],
   "source": [
    "def evaluate_on_sequence(model, seq, char_to_emb, emb_to_char, empty_token='*', device='cpu'):\n",
    "    model.eval()\n",
    "    \n",
    "    # 1. Encoder la séquence d'entrée\n",
    "    emb_seq = [char_to_emb[c] for c in seq]\n",
    "    print(\"emb_seq\", emb_seq)\n",
    "    x = torch.tensor(emb_seq, dtype=torch.float32).unsqueeze(0).to(device)  # [1, T, D]\n",
    "\n",
    "    # 2. Prédiction\n",
    "    with torch.no_grad():\n",
    "        pred = model(x)[0]  # [T, D]\n",
    "    \n",
    "    print(\"Prédiction brute (embeddings) :\", pred)\n",
    "\n",
    "    # 3. Décoder la sortie\n",
    "    def closest_embedding(vec):\n",
    "        return min(emb_to_char.items(), key=lambda kv: np.linalg.norm(vec - np.array(kv[0])))[1]\n",
    "\n",
    "    decoded_pred = [closest_embedding(p.cpu().numpy()) for p in pred]\n",
    "\n",
    "    # 4. Cible attendue (compress + pad)\n",
    "    target_seq = compress_and_pad_left(seq, empty_token)\n",
    "\n",
    "    # 5. Affichage\n",
    "    print(\"Séquence d’entrée      :\", seq)\n",
    "    print(\"Séquence compressée     :\", target_seq)\n",
    "    print(\"Séquence prédite (model):\", decoded_pred)\n"
   ]
  },
  {
   "cell_type": "code",
   "execution_count": 233,
   "id": "8664c460",
   "metadata": {},
   "outputs": [
    {
     "name": "stdout",
     "output_type": "stream",
     "text": [
      "emb_seq [array([-0.68270758,  0.07681195, -0.72664316]), array([-0.68270758,  0.07681195, -0.72664316])]\n",
      "Prédiction brute (embeddings) : tensor([[-0.5572,  0.2461, -0.3147],\n",
      "        [-0.5572,  0.2461, -0.3147]])\n",
      "Séquence d’entrée      : ['A', 'A']\n",
      "Séquence compressée     : ['*', 'A']\n",
      "Séquence prédite (model): ['A', 'A']\n"
     ]
    }
   ],
   "source": [
    "# Exemple : test sur une séquence simple\n",
    "sequence = ['A', 'A']\n",
    "evaluate_on_sequence(model, sequence, char_to_emb, emb_to_char, empty_token='*')\n"
   ]
  }
 ],
 "metadata": {
  "kernelspec": {
   "display_name": "Python 3",
   "language": "python",
   "name": "python3"
  },
  "language_info": {
   "codemirror_mode": {
    "name": "ipython",
    "version": 3
   },
   "file_extension": ".py",
   "mimetype": "text/x-python",
   "name": "python",
   "nbconvert_exporter": "python",
   "pygments_lexer": "ipython3",
   "version": "3.9.21"
  }
 },
 "nbformat": 4,
 "nbformat_minor": 5
}
