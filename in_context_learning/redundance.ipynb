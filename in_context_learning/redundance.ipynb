{
 "cells": [
  {
   "cell_type": "code",
   "execution_count": 57,
   "id": "326d3a19",
   "metadata": {},
   "outputs": [],
   "source": [
    "import numpy as np\n",
    "import random\n",
    "import string\n",
    "import torch\n",
    "from torch.utils.data import TensorDataset, DataLoader\n",
    "from sklearn.model_selection import train_test_split\n",
    "import torch.nn as nn\n",
    "import torch.nn.functional as F\n"
   ]
  },
  {
   "cell_type": "code",
   "execution_count": 152,
   "id": "0e3f3395",
   "metadata": {},
   "outputs": [],
   "source": [
    "def generate_orthogonal_vectors(n):\n",
    "    random_vectors = np.random.rand(n, n)\n",
    "    orthogonal_vectors, _ = np.linalg.qr(random_vectors)\n",
    "    return orthogonal_vectors"
   ]
  },
  {
   "cell_type": "code",
   "execution_count": 153,
   "id": "27607b90",
   "metadata": {},
   "outputs": [],
   "source": [
    "v = generate_orthogonal_vectors(3)"
   ]
  },
  {
   "cell_type": "code",
   "execution_count": 154,
   "id": "3b44a102",
   "metadata": {},
   "outputs": [],
   "source": [
    "def generate_sequences(n, T, k):\n",
    "    assert 1 <= k <= 26, \"k doit être entre 1 et 26\"\n",
    "    alphabet = list(string.ascii_uppercase[:k])\n",
    "    sequences = [random.choices(alphabet, k=T) for _ in range(n)]\n",
    "    return sequences\n"
   ]
  },
  {
   "cell_type": "code",
   "execution_count": 155,
   "id": "9f143d35",
   "metadata": {},
   "outputs": [],
   "source": [
    "def generate_dictionnary(k, empty_token='*'):\n",
    "    assert 1 <= k <= 26, \"k doit être entre 1 et 26\"\n",
    "    \n",
    "    # Lettres + symbole spécial\n",
    "    letters = list(string.ascii_uppercase[:k]) + [empty_token]\n",
    "    d = k + 1  # Dimension de l'espace\n",
    "    \n",
    "    # Générer une base orthonormée de dimension (k+1)\n",
    "    random_matrix = np.random.rand(d, d)\n",
    "    orthogonal_basis, _ = np.linalg.qr(random_matrix)\n",
    "    \n",
    "    # Dictionnaires\n",
    "    char_to_emb = {char: vec for char, vec in zip(letters, orthogonal_basis)}\n",
    "    emb_to_char = {tuple(np.round(vec, 8)): char for char, vec in zip(letters, orthogonal_basis)}\n",
    "    \n",
    "    return char_to_emb, emb_to_char"
   ]
  },
  {
   "cell_type": "code",
   "execution_count": 175,
   "id": "48b645cb",
   "metadata": {},
   "outputs": [],
   "source": [
    "def compress_and_pad_left(sequence, empty_token='*'):\n",
    "    if not sequence:\n",
    "        return []\n",
    "\n",
    "    # Supprimer les redondances consécutives\n",
    "    compressed = [sequence[0]]\n",
    "    for c in sequence[1:]:\n",
    "        if c != compressed[-1]:\n",
    "            compressed.append(c)\n",
    "\n",
    "    # Ajout des tokens vides au début\n",
    "    padding_length = len(sequence) - len(compressed)\n",
    "    padded = [empty_token] * padding_length + compressed\n",
    "    return padded\n"
   ]
  },
  {
   "cell_type": "code",
   "execution_count": 176,
   "id": "fff0b100",
   "metadata": {},
   "outputs": [],
   "source": [
    "def generate_dataset(n, T, k, empty_token='*'):\n",
    "    char_to_emb, emb_to_char = generate_dictionnary(k)\n",
    "    alphabet = [c for c in char_to_emb if c != empty_token]\n",
    "    emb_dim = len(next(iter(char_to_emb.values())))\n",
    "    \n",
    "    X_list = []\n",
    "    y_list = []\n",
    "\n",
    "    for _ in range(n):\n",
    "        seq = random.choices(alphabet, k=T)\n",
    "        emb_seq = [char_to_emb[c] for c in seq]\n",
    "        \n",
    "        compressed_seq = compress_and_pad_left(seq, empty_token)\n",
    "        target_emb_seq = [char_to_emb[c] for c in compressed_seq]\n",
    "\n",
    "        X_list.append(emb_seq)\n",
    "        y_list.append(target_emb_seq)\n",
    "\n",
    "    # Convertir en tensors (facultatif selon ton usage)\n",
    "    X_tensor = torch.tensor(X_list, dtype=torch.float32)\n",
    "    y_tensor = torch.tensor(y_list, dtype=torch.float32)\n",
    "\n",
    "    return X_tensor, y_tensor, char_to_emb, emb_to_char"
   ]
  },
  {
   "cell_type": "code",
   "execution_count": 177,
   "id": "3cfe5ecf",
   "metadata": {},
   "outputs": [],
   "source": [
    "X, y, char_to_emb, emb_to_char = generate_dataset(20000, 2, 2)"
   ]
  },
  {
   "cell_type": "code",
   "execution_count": 178,
   "id": "433410c8",
   "metadata": {},
   "outputs": [],
   "source": [
    "X_train, X_test, y_train, y_test = train_test_split(X, y, test_size=0.2, random_state=42)"
   ]
  },
  {
   "cell_type": "code",
   "execution_count": 181,
   "id": "77382715",
   "metadata": {},
   "outputs": [
    {
     "data": {
      "text/plain": [
       "(tensor([[-0.9039,  0.4277,  0.0062],\n",
       "         [-0.9039,  0.4277,  0.0062]]),\n",
       " tensor([[-0.3809, -0.8115,  0.4432],\n",
       "         [-0.9039,  0.4277,  0.0062]]))"
      ]
     },
     "execution_count": 181,
     "metadata": {},
     "output_type": "execute_result"
    }
   ],
   "source": [
    "X_train[1], y_train[1]"
   ]
  },
  {
   "cell_type": "code",
   "execution_count": 160,
   "id": "42550ec4",
   "metadata": {},
   "outputs": [],
   "source": [
    "train_dataset = TensorDataset(X_train, y_train)\n",
    "test_dataset = TensorDataset(X_test, y_test)\n",
    "\n",
    "# Création des DataLoaders\n",
    "train_loader = DataLoader(train_dataset, batch_size=300, shuffle=True)\n",
    "test_loader = DataLoader(test_dataset)"
   ]
  },
  {
   "cell_type": "code",
   "execution_count": 183,
   "id": "76da6814",
   "metadata": {},
   "outputs": [],
   "source": [
    "class CustomAttentionOnlyBlock(nn.Module):\n",
    "    def __init__(self, embed_dim):\n",
    "        super().__init__()\n",
    "        self.Wq = nn.Linear(embed_dim, embed_dim, bias=False)  # Wq = Wk\n",
    "        self.Wk = nn.Linear(embed_dim, embed_dim, bias=False)\n",
    "        self.Wv = nn.Linear(embed_dim, embed_dim, bias=False)\n",
    "    def forward(self, x):\n",
    "        # V = x (identité)\n",
    "        V = self.Wv(x)\n",
    "        Q = self.Wq(x)\n",
    "        K = self.Wk(x)\n",
    "\n",
    "        # Attention scores : [B, T, T]\n",
    "        scores = torch.matmul(Q, K.transpose(-2, -1)) / (Q.size(-1) ** 0.5)\n",
    "        attn_weights = torch.softmax(scores, dim=-1)\n",
    "\n",
    "        # Attention output : [B, T, D]\n",
    "        attn_output = torch.matmul(attn_weights, V)\n",
    "\n",
    "        # Résidu\n",
    "        return x + attn_output\n"
   ]
  },
  {
   "cell_type": "code",
   "execution_count": 184,
   "id": "09550eb9",
   "metadata": {},
   "outputs": [],
   "source": [
    "class FinalDAProjection(nn.Module):\n",
    "    def __init__(self, dim, activation='sigmoid'):\n",
    "        super().__init__()\n",
    "        self.Wq = nn.Linear(dim, dim, bias=False)\n",
    "        self.Wk = nn.Linear(dim, dim, bias=False)\n",
    "        self.V = nn.Linear(dim, dim, bias=False)\n",
    "\n",
    "\n",
    "    def forward(self, x):\n",
    "        # x : [B, T, D]\n",
    "        Q = self.Wq(x)                    \n",
    "        K = self.Wk(x)\n",
    "        V = self.V(x)\n",
    "        # Attention scores : [B, T, T]\n",
    "        scores = torch.matmul(Q, K.transpose(-2, -1)) / (Q.size(-1) ** 0.5)\n",
    "        attn_output = torch.softmax(scores, dim=-1)\n",
    "        output = torch.matmul(attn_output, V)\n",
    "        return torch.softmax(output, dim=-1)            \n"
   ]
  },
  {
   "cell_type": "code",
   "execution_count": 185,
   "id": "2ed3c943",
   "metadata": {},
   "outputs": [],
   "source": [
    "class CustomTransformerAttentionOnly(nn.Module):\n",
    "    def __init__(self, embed_dim, num_layers=2):\n",
    "        super().__init__()\n",
    "        layers = [CustomAttentionOnlyBlock(embed_dim) for _ in range(num_layers - 1)]\n",
    "        layers.append(FinalDAProjection(embed_dim))  # <-- ajout ici\n",
    "        self.layers = nn.ModuleList(layers)\n",
    "\n",
    "    def forward(self, x):\n",
    "        for layer in self.layers:\n",
    "            x = layer(x)\n",
    "        return x  # [B, T] (si FinalDAProjection retourne un score par token)\n"
   ]
  },
  {
   "cell_type": "code",
   "execution_count": 186,
   "id": "43faefcc",
   "metadata": {},
   "outputs": [],
   "source": [
    "loss_fn = nn.MSELoss()"
   ]
  },
  {
   "cell_type": "code",
   "execution_count": 187,
   "id": "513cc3b3",
   "metadata": {},
   "outputs": [],
   "source": [
    "def train_model(model, train_loader, test_loader, epochs=10, lr=1e-3, device='cpu'):\n",
    "    model.to(device)\n",
    "    optimizer = torch.optim.Adam(model.parameters(), lr=lr)\n",
    "    loss_fn = nn.MSELoss()\n",
    "\n",
    "    for epoch in range(epochs):\n",
    "        model.eval()\n",
    "        with torch.no_grad():\n",
    "            total_val_loss = 0\n",
    "            for xb, yb in test_loader:\n",
    "                xb, yb = xb.to(device), yb.to(device)\n",
    "                pred = model(xb)\n",
    "                loss = loss_fn(pred, yb)\n",
    "                total_val_loss += loss.item()\n",
    "\n",
    "        avg_val_loss = total_val_loss / len(test_loader)\n",
    "        model.train()\n",
    "        total_loss = 0\n",
    "\n",
    "        for xb, yb in train_loader:\n",
    "            xb, yb = xb.to(device), yb.to(device)\n",
    "\n",
    "            optimizer.zero_grad()\n",
    "            pred = model(xb)  # [B, T, D]\n",
    "            loss = loss_fn(pred, yb)\n",
    "            loss.backward()\n",
    "            optimizer.step()\n",
    "            total_loss += loss.item()\n",
    "\n",
    "        avg_train_loss = total_loss / len(train_loader)\n",
    "\n",
    "        # Évaluation\n",
    "\n",
    "        print(f\"Epoch {epoch+1}/{epochs} | Train Loss: {avg_train_loss:.4f} | Val Loss: {avg_val_loss:.4f}\")\n"
   ]
  },
  {
   "cell_type": "code",
   "execution_count": 188,
   "id": "ef851cc3",
   "metadata": {},
   "outputs": [
    {
     "name": "stdout",
     "output_type": "stream",
     "text": [
      "Epoch 1/100 | Train Loss: 0.4654 | Val Loss: 0.4826\n",
      "Epoch 2/100 | Train Loss: 0.4375 | Val Loss: 0.4490\n",
      "Epoch 3/100 | Train Loss: 0.4206 | Val Loss: 0.4269\n",
      "Epoch 4/100 | Train Loss: 0.4094 | Val Loss: 0.4139\n",
      "Epoch 5/100 | Train Loss: 0.4016 | Val Loss: 0.4047\n",
      "Epoch 6/100 | Train Loss: 0.3967 | Val Loss: 0.3987\n",
      "Epoch 7/100 | Train Loss: 0.3938 | Val Loss: 0.3949\n",
      "Epoch 8/100 | Train Loss: 0.3908 | Val Loss: 0.3921\n",
      "Epoch 9/100 | Train Loss: 0.3883 | Val Loss: 0.3895\n",
      "Epoch 10/100 | Train Loss: 0.3851 | Val Loss: 0.3865\n",
      "Epoch 11/100 | Train Loss: 0.3818 | Val Loss: 0.3832\n",
      "Epoch 12/100 | Train Loss: 0.3781 | Val Loss: 0.3796\n",
      "Epoch 13/100 | Train Loss: 0.3750 | Val Loss: 0.3764\n",
      "Epoch 14/100 | Train Loss: 0.3729 | Val Loss: 0.3739\n",
      "Epoch 15/100 | Train Loss: 0.3720 | Val Loss: 0.3724\n",
      "Epoch 16/100 | Train Loss: 0.3716 | Val Loss: 0.3718\n",
      "Epoch 17/100 | Train Loss: 0.3715 | Val Loss: 0.3716\n",
      "Epoch 18/100 | Train Loss: 0.3717 | Val Loss: 0.3715\n",
      "Epoch 19/100 | Train Loss: 0.3717 | Val Loss: 0.3714\n",
      "Epoch 20/100 | Train Loss: 0.3714 | Val Loss: 0.3713\n",
      "Epoch 21/100 | Train Loss: 0.3713 | Val Loss: 0.3713\n"
     ]
    },
    {
     "ename": "KeyboardInterrupt",
     "evalue": "",
     "output_type": "error",
     "traceback": [
      "\u001b[0;31m---------------------------------------------------------------------------\u001b[0m",
      "\u001b[0;31mKeyboardInterrupt\u001b[0m                         Traceback (most recent call last)",
      "Cell \u001b[0;32mIn[188], line 2\u001b[0m\n\u001b[1;32m      1\u001b[0m model \u001b[38;5;241m=\u001b[39m CustomTransformerAttentionOnly(embed_dim\u001b[38;5;241m=\u001b[39mX_train\u001b[38;5;241m.\u001b[39mshape[\u001b[38;5;241m-\u001b[39m\u001b[38;5;241m1\u001b[39m], num_layers\u001b[38;5;241m=\u001b[39m\u001b[38;5;241m4\u001b[39m)\n\u001b[0;32m----> 2\u001b[0m \u001b[43mtrain_model\u001b[49m\u001b[43m(\u001b[49m\u001b[43mmodel\u001b[49m\u001b[43m,\u001b[49m\u001b[43m \u001b[49m\u001b[43mtrain_loader\u001b[49m\u001b[43m,\u001b[49m\u001b[43m \u001b[49m\u001b[43mtest_loader\u001b[49m\u001b[43m,\u001b[49m\u001b[43m \u001b[49m\u001b[43mepochs\u001b[49m\u001b[38;5;241;43m=\u001b[39;49m\u001b[38;5;241;43m100\u001b[39;49m\u001b[43m,\u001b[49m\u001b[43m \u001b[49m\u001b[43mlr\u001b[49m\u001b[38;5;241;43m=\u001b[39;49m\u001b[38;5;241;43m1e-3\u001b[39;49m\u001b[43m)\u001b[49m\n",
      "Cell \u001b[0;32mIn[187], line 10\u001b[0m, in \u001b[0;36mtrain_model\u001b[0;34m(model, train_loader, test_loader, epochs, lr, device)\u001b[0m\n\u001b[1;32m      8\u001b[0m \u001b[38;5;28;01mwith\u001b[39;00m torch\u001b[38;5;241m.\u001b[39mno_grad():\n\u001b[1;32m      9\u001b[0m     total_val_loss \u001b[38;5;241m=\u001b[39m \u001b[38;5;241m0\u001b[39m\n\u001b[0;32m---> 10\u001b[0m     \u001b[38;5;28;01mfor\u001b[39;00m xb, yb \u001b[38;5;129;01min\u001b[39;00m test_loader:\n\u001b[1;32m     11\u001b[0m         xb, yb \u001b[38;5;241m=\u001b[39m xb\u001b[38;5;241m.\u001b[39mto(device), yb\u001b[38;5;241m.\u001b[39mto(device)\n\u001b[1;32m     12\u001b[0m         pred \u001b[38;5;241m=\u001b[39m model(xb)\n",
      "File \u001b[0;32m~/.local/lib/python3.9/site-packages/torch/utils/data/dataloader.py:629\u001b[0m, in \u001b[0;36m_BaseDataLoaderIter.__next__\u001b[0;34m(self)\u001b[0m\n\u001b[1;32m    628\u001b[0m \u001b[38;5;28;01mdef\u001b[39;00m \u001b[38;5;21m__next__\u001b[39m(\u001b[38;5;28mself\u001b[39m) \u001b[38;5;241m-\u001b[39m\u001b[38;5;241m>\u001b[39m Any:\n\u001b[0;32m--> 629\u001b[0m     \u001b[38;5;28;01mwith\u001b[39;00m torch\u001b[38;5;241m.\u001b[39mautograd\u001b[38;5;241m.\u001b[39mprofiler\u001b[38;5;241m.\u001b[39mrecord_function(\u001b[38;5;28mself\u001b[39m\u001b[38;5;241m.\u001b[39m_profile_name):\n\u001b[1;32m    630\u001b[0m         \u001b[38;5;28;01mif\u001b[39;00m \u001b[38;5;28mself\u001b[39m\u001b[38;5;241m.\u001b[39m_sampler_iter \u001b[38;5;129;01mis\u001b[39;00m \u001b[38;5;28;01mNone\u001b[39;00m:\n\u001b[1;32m    631\u001b[0m             \u001b[38;5;66;03m# TODO(https://github.com/pytorch/pytorch/issues/76750)\u001b[39;00m\n\u001b[1;32m    632\u001b[0m             \u001b[38;5;28mself\u001b[39m\u001b[38;5;241m.\u001b[39m_reset()  \u001b[38;5;66;03m# type: ignore[call-arg]\u001b[39;00m\n",
      "File \u001b[0;32m~/.local/lib/python3.9/site-packages/torch/autograd/profiler.py:492\u001b[0m, in \u001b[0;36mrecord_function.__enter__\u001b[0;34m(self)\u001b[0m\n\u001b[1;32m    491\u001b[0m \u001b[38;5;28;01mdef\u001b[39;00m \u001b[38;5;21m__enter__\u001b[39m(\u001b[38;5;28mself\u001b[39m):\n\u001b[0;32m--> 492\u001b[0m     \u001b[38;5;28mself\u001b[39m\u001b[38;5;241m.\u001b[39mrecord \u001b[38;5;241m=\u001b[39m \u001b[43mtorch\u001b[49m\u001b[38;5;241;43m.\u001b[39;49m\u001b[43mops\u001b[49m\u001b[38;5;241;43m.\u001b[39;49m\u001b[43mprofiler\u001b[49m\u001b[38;5;241;43m.\u001b[39;49m\u001b[43m_record_function_enter_new\u001b[49m\u001b[43m(\u001b[49m\u001b[38;5;28;43mself\u001b[39;49m\u001b[38;5;241;43m.\u001b[39;49m\u001b[43mname\u001b[49m\u001b[43m,\u001b[49m\u001b[43m \u001b[49m\u001b[38;5;28;43mself\u001b[39;49m\u001b[38;5;241;43m.\u001b[39;49m\u001b[43margs\u001b[49m\u001b[43m)\u001b[49m\n\u001b[1;32m    493\u001b[0m     \u001b[38;5;28;01mreturn\u001b[39;00m \u001b[38;5;28mself\u001b[39m\n",
      "File \u001b[0;32m~/.local/lib/python3.9/site-packages/torch/_ops.py:502\u001b[0m, in \u001b[0;36mOpOverloadPacket.__call__\u001b[0;34m(self, *args, **kwargs)\u001b[0m\n\u001b[1;32m    497\u001b[0m \u001b[38;5;28;01mdef\u001b[39;00m \u001b[38;5;21m__call__\u001b[39m(\u001b[38;5;28mself\u001b[39m, \u001b[38;5;241m*\u001b[39margs, \u001b[38;5;241m*\u001b[39m\u001b[38;5;241m*\u001b[39mkwargs):\n\u001b[1;32m    498\u001b[0m     \u001b[38;5;66;03m# overloading __call__ to ensure torch.ops.foo.bar()\u001b[39;00m\n\u001b[1;32m    499\u001b[0m     \u001b[38;5;66;03m# is still callable from JIT\u001b[39;00m\n\u001b[1;32m    500\u001b[0m     \u001b[38;5;66;03m# We save the function ptr as the `op` attribute on\u001b[39;00m\n\u001b[1;32m    501\u001b[0m     \u001b[38;5;66;03m# OpOverloadPacket to access it here.\u001b[39;00m\n\u001b[0;32m--> 502\u001b[0m     \u001b[38;5;28;01mreturn\u001b[39;00m \u001b[38;5;28;43mself\u001b[39;49m\u001b[38;5;241;43m.\u001b[39;49m\u001b[43m_op\u001b[49m\u001b[43m(\u001b[49m\u001b[38;5;241;43m*\u001b[39;49m\u001b[43margs\u001b[49m\u001b[43m,\u001b[49m\u001b[43m \u001b[49m\u001b[38;5;241;43m*\u001b[39;49m\u001b[38;5;241;43m*\u001b[39;49m\u001b[43mkwargs\u001b[49m\u001b[43m \u001b[49m\u001b[38;5;129;43;01mor\u001b[39;49;00m\u001b[43m \u001b[49m\u001b[43m{\u001b[49m\u001b[43m}\u001b[49m\u001b[43m)\u001b[49m\n",
      "\u001b[0;31mKeyboardInterrupt\u001b[0m: "
     ]
    }
   ],
   "source": [
    "model = CustomTransformerAttentionOnly(embed_dim=X_train.shape[-1], num_layers=4)\n",
    "train_model(model, train_loader, test_loader, epochs=100, lr=1e-3)"
   ]
  },
  {
   "cell_type": "code",
   "execution_count": 189,
   "id": "b0e53eac",
   "metadata": {},
   "outputs": [],
   "source": [
    "def evaluate_on_sequence(model, seq, char_to_emb, emb_to_char, empty_token='*', device='cpu'):\n",
    "    model.eval()\n",
    "    \n",
    "    # 1. Encoder la séquence d'entrée\n",
    "    emb_seq = [char_to_emb[c] for c in seq]\n",
    "    x = torch.tensor(emb_seq, dtype=torch.float32).unsqueeze(0).to(device)  # [1, T, D]\n",
    "\n",
    "    # 2. Prédiction\n",
    "    with torch.no_grad():\n",
    "        pred = model(x)[0]  # [T, D]\n",
    "    \n",
    "    print(\"Prédiction brute (embeddings) :\", pred)\n",
    "\n",
    "    # 3. Décoder la sortie\n",
    "    def closest_embedding(vec):\n",
    "        return min(emb_to_char.items(), key=lambda kv: np.linalg.norm(vec - np.array(kv[0])))[1]\n",
    "\n",
    "    decoded_pred = [closest_embedding(p.cpu().numpy()) for p in pred]\n",
    "\n",
    "    # 4. Cible attendue (compress + pad)\n",
    "    target_seq = compress_and_pad_left(seq, empty_token)\n",
    "\n",
    "    # 5. Affichage\n",
    "    print(\"Séquence d’entrée      :\", seq)\n",
    "    print(\"Séquence compressée     :\", target_seq)\n",
    "    print(\"Séquence prédite (model):\", decoded_pred)\n"
   ]
  },
  {
   "cell_type": "code",
   "execution_count": 190,
   "id": "8664c460",
   "metadata": {},
   "outputs": [
    {
     "name": "stdout",
     "output_type": "stream",
     "text": [
      "Prédiction brute (embeddings) : tensor([[0.3349, 0.2225, 0.4425],\n",
      "        [0.3349, 0.2225, 0.4425]])\n",
      "Séquence d’entrée      : ['B', 'B']\n",
      "Séquence compressée     : ['*', 'B']\n",
      "Séquence prédite (model): ['*', '*']\n"
     ]
    }
   ],
   "source": [
    "# Exemple : test sur une séquence simple\n",
    "sequence = ['B', 'B']\n",
    "evaluate_on_sequence(model, sequence, char_to_emb, emb_to_char, empty_token='*')\n"
   ]
  }
 ],
 "metadata": {
  "kernelspec": {
   "display_name": "Python 3",
   "language": "python",
   "name": "python3"
  },
  "language_info": {
   "codemirror_mode": {
    "name": "ipython",
    "version": 3
   },
   "file_extension": ".py",
   "mimetype": "text/x-python",
   "name": "python",
   "nbconvert_exporter": "python",
   "pygments_lexer": "ipython3",
   "version": "3.9.21"
  }
 },
 "nbformat": 4,
 "nbformat_minor": 5
}
