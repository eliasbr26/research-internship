{
 "cells": [
  {
   "cell_type": "code",
   "execution_count": 238,
   "id": "9a92c6ed",
   "metadata": {},
   "outputs": [
    {
     "data": {
      "text/plain": [
       "device(type='cuda')"
      ]
     },
     "execution_count": 238,
     "metadata": {},
     "output_type": "execute_result"
    }
   ],
   "source": [
    "import numpy as np\n",
    "import random\n",
    "import string\n",
    "import torch\n",
    "from torch.utils.data import TensorDataset, DataLoader\n",
    "from sklearn.model_selection import train_test_split\n",
    "import torch.nn as nn\n",
    "import torch.nn.functional as F\n",
    "from torch.utils.data import Dataset\n",
    "device = torch.device(\"cuda\" if torch.cuda.is_available() else \"cpu\")\n",
    "device"
   ]
  },
  {
   "cell_type": "code",
   "execution_count": 239,
   "id": "11d1c176",
   "metadata": {},
   "outputs": [],
   "source": [
    "def generate_counting_dataset(n, T, k, special_char='A', special_value=7, seed=None):\n",
    "    \"\"\"\n",
    "    Génère un dataset de comptage avec traitement spécial pour une lettre (ex: 'A').\n",
    "    \n",
    "    Args:\n",
    "        n: nombre de séquences\n",
    "        T: longueur de chaque séquence\n",
    "        k: nombre de lettres (A, B, C, ..., jusqu’à la k-ème)\n",
    "        special_char: caractère à traiter spécialement (ex: 'A')\n",
    "        special_value: valeur assignée à ce caractère (ex: 7)\n",
    "    \n",
    "    Returns:\n",
    "        X: [n, T, D] embeddings\n",
    "        y: [n, T] entiers cibles\n",
    "        char_to_id, id_to_char: dictionnaires utiles\n",
    "    \"\"\"\n",
    "    if seed is not None:\n",
    "        random.seed(seed)\n",
    "        np.random.seed(seed)\n",
    "\n",
    "    # Dictionnaires et embeddings\n",
    "    letters = list(string.ascii_uppercase[:k])\n",
    "    assert special_char in letters, \"Le caractère spécial doit être dans l'alphabet\"\n",
    "    char_to_id = {c: i for i, c in enumerate(letters)}\n",
    "    id_to_char = {i: c for c, i in char_to_id.items()}\n",
    "    D = len(letters)\n",
    "    embeddings = np.eye(D)\n",
    "\n",
    "    X = []\n",
    "    y = []\n",
    "\n",
    "    for _ in range(n):\n",
    "        seq = random.choices(letters, k=T)\n",
    "        counts = {c: seq.count(c) for c in letters}\n",
    "        y_seq = [special_value if c == special_char else counts[c] for c in seq]\n",
    "        x_seq = [embeddings[char_to_id[c]] for c in seq]\n",
    "        X.append(x_seq)\n",
    "        y.append(y_seq)\n",
    "\n",
    "    return torch.tensor(X, dtype=torch.float32), torch.tensor(y, dtype=torch.long), char_to_id, id_to_char\n"
   ]
  },
  {
   "cell_type": "code",
   "execution_count": 363,
   "id": "50546c8c",
   "metadata": {},
   "outputs": [],
   "source": [
    "n = 100000\n",
    "T = 20\n",
    "D = 10"
   ]
  },
  {
   "cell_type": "code",
   "execution_count": 364,
   "id": "fb5bcbba",
   "metadata": {},
   "outputs": [
    {
     "name": "stdout",
     "output_type": "stream",
     "text": [
      "torch.Size([100000, 20, 10])\n",
      "torch.Size([100000, 20])\n",
      "\n",
      "Exemple : tensor([5, 3, 3, 7, 2, 1, 3, 5, 5, 3, 2, 5, 5, 2, 3, 3, 3, 3, 3, 2])\n"
     ]
    }
   ],
   "source": [
    "X, y, char_to_id, id_to_char = generate_counting_dataset(n=n, T=T, k=D, special_char='A', special_value=7)\n",
    "print(X.shape)  # torch.Size([1000, 10, 5])\n",
    "print(y.shape)  # torch.Size([1000, 10])\n",
    "print()\n",
    "print(\"Exemple :\", y[0])\n"
   ]
  },
  {
   "cell_type": "code",
   "execution_count": 365,
   "id": "d61c0367",
   "metadata": {},
   "outputs": [],
   "source": [
    "X_train, X_test, y_train, y_test = train_test_split(X, y, test_size=0.2, random_state=42)"
   ]
  },
  {
   "cell_type": "code",
   "execution_count": 366,
   "id": "eff15ba1",
   "metadata": {},
   "outputs": [
    {
     "data": {
      "text/plain": [
       "(tensor([[0., 0., 0., 0., 0., 0., 0., 0., 0., 1.],\n",
       "         [0., 0., 0., 0., 0., 0., 0., 1., 0., 0.],\n",
       "         [1., 0., 0., 0., 0., 0., 0., 0., 0., 0.],\n",
       "         [0., 0., 0., 0., 0., 0., 0., 0., 1., 0.],\n",
       "         [0., 0., 0., 0., 0., 0., 0., 0., 0., 1.],\n",
       "         [0., 0., 0., 1., 0., 0., 0., 0., 0., 0.],\n",
       "         [0., 1., 0., 0., 0., 0., 0., 0., 0., 0.],\n",
       "         [1., 0., 0., 0., 0., 0., 0., 0., 0., 0.],\n",
       "         [0., 0., 1., 0., 0., 0., 0., 0., 0., 0.],\n",
       "         [0., 0., 0., 0., 0., 0., 1., 0., 0., 0.],\n",
       "         [0., 0., 1., 0., 0., 0., 0., 0., 0., 0.],\n",
       "         [0., 0., 0., 0., 0., 0., 1., 0., 0., 0.],\n",
       "         [0., 1., 0., 0., 0., 0., 0., 0., 0., 0.],\n",
       "         [0., 1., 0., 0., 0., 0., 0., 0., 0., 0.],\n",
       "         [0., 0., 0., 0., 0., 0., 1., 0., 0., 0.],\n",
       "         [0., 0., 0., 0., 0., 0., 0., 0., 0., 1.],\n",
       "         [0., 0., 0., 0., 0., 1., 0., 0., 0., 0.],\n",
       "         [0., 0., 0., 0., 0., 1., 0., 0., 0., 0.],\n",
       "         [0., 0., 0., 1., 0., 0., 0., 0., 0., 0.],\n",
       "         [0., 0., 0., 0., 0., 1., 0., 0., 0., 0.]]),\n",
       " tensor([3, 1, 7, 1, 3, 2, 3, 7, 2, 3, 2, 3, 3, 3, 3, 3, 3, 3, 2, 3]))"
      ]
     },
     "execution_count": 366,
     "metadata": {},
     "output_type": "execute_result"
    }
   ],
   "source": [
    "X_train[1], y_train[1]"
   ]
  },
  {
   "cell_type": "code",
   "execution_count": 367,
   "id": "f4c65d13",
   "metadata": {},
   "outputs": [],
   "source": [
    "class PositionalEncoding(nn.Module):\n",
    "    def __init__(self, d_model, max_len=100):\n",
    "        super().__init__()\n",
    "        pe = torch.zeros(max_len, d_model)\n",
    "        position = torch.arange(0, max_len, dtype=torch.float32).unsqueeze(1)\n",
    "        div_term = torch.exp(torch.arange(0, d_model, 2).float() * (-torch.log(torch.tensor(10000.0)) / d_model))\n",
    "        pe[:, 0::2] = torch.sin(position * div_term)\n",
    "        pe[:, 1::2] = torch.cos(position * div_term)\n",
    "        self.pe = pe.unsqueeze(0)  # [1, max_len, d_model]\n",
    "\n",
    "    def forward(self, x):\n",
    "        x = x + self.pe[:, :x.size(1)].to(x.device)\n",
    "        return x"
   ]
  },
  {
   "cell_type": "code",
   "execution_count": 368,
   "id": "1be407da",
   "metadata": {},
   "outputs": [],
   "source": [
    "class AttentionOnlyBlock(nn.Module):\n",
    "    def __init__(self, d_model):\n",
    "        super(AttentionOnlyBlock, self).__init__()\n",
    "        self.Wq = nn.Linear(d_model, d_model)\n",
    "        self.Wk = nn.Linear(d_model, d_model)\n",
    "        self.Wv = nn.Linear(d_model, d_model)\n",
    "        self.norm = nn.LayerNorm(d_model)\n",
    "        self.attn_weights = None\n",
    "\n",
    "    def forward(self, x):\n",
    "        Q = self.Wq(x)\n",
    "        K = Q\n",
    "        V = self.Wv(x)\n",
    "        attn_scores = torch.matmul(Q, K.transpose(-2, -1)) / np.sqrt(x.size(-1))\n",
    "        \n",
    "        self.attn_weights = attn_scores\n",
    "        attn_weights = F.softmax(attn_scores, dim=-1)\n",
    "        x = x + torch.matmul(attn_weights, V)\n",
    "        x = self.norm(x)\n",
    "        return x\n"
   ]
  },
  {
   "cell_type": "code",
   "execution_count": 369,
   "id": "bcb3cdb2",
   "metadata": {},
   "outputs": [],
   "source": [
    "class TransformerModel(nn.Module):\n",
    "    def __init__(self, input_dim, d_model, nhead, num_layers):\n",
    "        super(TransformerModel, self).__init__()\n",
    "        self.embedding = nn.Linear(input_dim, d_model)\n",
    "        self.positional_encoding = PositionalEncoding(d_model)\n",
    "        self.transformer_blocks = nn.ModuleList([AttentionOnlyBlock(d_model) for _ in range(num_layers)])\n",
    "        # regression\n",
    "        self.fc = nn.Linear(d_model, 1)\n",
    "    def forward(self, x):\n",
    "        x = self.embedding(x)\n",
    "        x = self.positional_encoding(x)\n",
    "        for block in self.transformer_blocks:\n",
    "            x = block(x)\n",
    "        x = self.fc(x)\n",
    "        return x"
   ]
  },
  {
   "cell_type": "code",
   "execution_count": 370,
   "id": "1b877e38",
   "metadata": {},
   "outputs": [],
   "source": [
    "def counting_accuracy(preds, targets):\n",
    "    \"\"\"\n",
    "    Calcule l'accuracy lettre par lettre : proportion de tokens dont le compte prédit (arrondi)\n",
    "    correspond exactement au compte attendu.\n",
    "\n",
    "    Args:\n",
    "        preds: Tensor de forme [B, T], prédictions continues du modèle (après squeeze)\n",
    "        targets: Tensor de forme [B, T], entiers attendus\n",
    "\n",
    "    Returns:\n",
    "        Float : accuracy moyenne sur l'ensemble du batch\n",
    "    \"\"\"\n",
    "    rounded_preds = torch.round(preds).long()\n",
    "    correct = (rounded_preds == targets).float()\n",
    "    return correct.mean().item()\n"
   ]
  },
  {
   "cell_type": "code",
   "execution_count": null,
   "id": "b11a8fb6",
   "metadata": {},
   "outputs": [],
   "source": []
  },
  {
   "cell_type": "code",
   "execution_count": 371,
   "id": "8049cd76",
   "metadata": {},
   "outputs": [],
   "source": [
    "def train_model(model, train_loader, test_loader, epochs=10, lr=1e-3, device='cuda' if torch.cuda.is_available() else 'cpu'):\n",
    "    model.to(device)\n",
    "    optimizer = torch.optim.Adam(model.parameters(), lr=lr)\n",
    "    criterion = nn.MSELoss()\n",
    "\n",
    "    for epoch in range(1, epochs + 1):\n",
    "        model.train()\n",
    "        total_train_loss = 0\n",
    "\n",
    "        for xb, yb in train_loader:\n",
    "            xb, yb = xb.to(device), yb.to(device)  # xb: [B, T, D], yb: [B, T]\n",
    "            preds = model(xb).squeeze(-1)          # [B, T, 1] -> [B, T]\n",
    "            loss = criterion(preds, yb.float())\n",
    "\n",
    "            optimizer.zero_grad()\n",
    "            loss.backward()\n",
    "            optimizer.step()\n",
    "            total_train_loss += loss.item()\n",
    "\n",
    "        # Validation\n",
    "        model.eval()\n",
    "        total_val_loss = 0\n",
    "        total_acc = 0\n",
    "        with torch.no_grad():\n",
    "            for xb, yb in test_loader:\n",
    "                xb, yb = xb.to(device), yb.to(device)\n",
    "                preds = model(xb).squeeze(-1)\n",
    "                acc = counting_accuracy(preds, yb)\n",
    "\n",
    "                val_loss = criterion(preds, yb.float())\n",
    "                total_val_loss += val_loss.item()\n",
    "                # Calcul de l'accuracy\n",
    "                total_acc += acc\n",
    "\n",
    "        \n",
    "\n",
    "        avg_train_loss = total_train_loss / len(train_loader)\n",
    "        avg_val_loss = total_val_loss / len(test_loader)\n",
    "        avg_acc = total_acc / len(test_loader)\n",
    "\n",
    "        print(f\"Epoch {epoch}/{epochs} | Train Loss: {avg_train_loss:.4f} | Val Loss: {avg_val_loss:.4f} | Val Acc: {avg_acc:.4f}\")\n"
   ]
  },
  {
   "cell_type": "code",
   "execution_count": 372,
   "id": "7f17aeff",
   "metadata": {},
   "outputs": [],
   "source": [
    "train_dataset = TensorDataset(X_train, y_train)\n",
    "test_dataset = TensorDataset(X_test, y_test)\n",
    "\n",
    "train_loader = DataLoader(train_dataset, batch_size=100, shuffle=True)\n",
    "test_loader = DataLoader(test_dataset, shuffle=False)"
   ]
  },
  {
   "cell_type": "code",
   "execution_count": 373,
   "id": "df3eb010",
   "metadata": {},
   "outputs": [],
   "source": [
    "model = TransformerModel(input_dim=D, d_model=256, nhead=1, num_layers=2)"
   ]
  },
  {
   "cell_type": "code",
   "execution_count": 374,
   "id": "6dd5475f",
   "metadata": {},
   "outputs": [
    {
     "name": "stdout",
     "output_type": "stream",
     "text": [
      "Epoch 1/20 | Train Loss: 1.1364 | Val Loss: 0.4436 | Val Acc: 0.4968\n",
      "Epoch 2/20 | Train Loss: 0.1762 | Val Loss: 0.0980 | Val Acc: 0.9114\n",
      "Epoch 3/20 | Train Loss: 0.1144 | Val Loss: 0.0946 | Val Acc: 0.9185\n",
      "Epoch 4/20 | Train Loss: 0.1046 | Val Loss: 0.1105 | Val Acc: 0.8978\n",
      "Epoch 5/20 | Train Loss: 0.1011 | Val Loss: 0.0858 | Val Acc: 0.9217\n",
      "Epoch 6/20 | Train Loss: 0.0927 | Val Loss: 0.0799 | Val Acc: 0.9331\n",
      "Epoch 7/20 | Train Loss: 0.0867 | Val Loss: 0.0966 | Val Acc: 0.9094\n",
      "Epoch 8/20 | Train Loss: 0.0839 | Val Loss: 0.0710 | Val Acc: 0.9397\n",
      "Epoch 9/20 | Train Loss: 0.0775 | Val Loss: 0.0640 | Val Acc: 0.9471\n",
      "Epoch 10/20 | Train Loss: 0.0750 | Val Loss: 0.0650 | Val Acc: 0.9483\n",
      "Epoch 11/20 | Train Loss: 0.0734 | Val Loss: 0.0794 | Val Acc: 0.9347\n",
      "Epoch 12/20 | Train Loss: 0.0704 | Val Loss: 0.0776 | Val Acc: 0.9339\n",
      "Epoch 13/20 | Train Loss: 0.0684 | Val Loss: 0.0654 | Val Acc: 0.9494\n",
      "Epoch 14/20 | Train Loss: 0.0644 | Val Loss: 0.0595 | Val Acc: 0.9522\n",
      "Epoch 15/20 | Train Loss: 0.0628 | Val Loss: 0.0672 | Val Acc: 0.9414\n",
      "Epoch 16/20 | Train Loss: 0.0626 | Val Loss: 0.0567 | Val Acc: 0.9541\n",
      "Epoch 17/20 | Train Loss: 0.0590 | Val Loss: 0.0467 | Val Acc: 0.9624\n",
      "Epoch 18/20 | Train Loss: 0.0565 | Val Loss: 0.0453 | Val Acc: 0.9635\n",
      "Epoch 19/20 | Train Loss: 0.0551 | Val Loss: 0.0462 | Val Acc: 0.9619\n",
      "Epoch 20/20 | Train Loss: 0.0530 | Val Loss: 0.0490 | Val Acc: 0.9628\n"
     ]
    }
   ],
   "source": [
    "train_model(model, train_loader, test_loader, epochs=20, lr=1e-3, device=device)"
   ]
  },
  {
   "cell_type": "code",
   "execution_count": 379,
   "id": "6374eece",
   "metadata": {},
   "outputs": [],
   "source": [
    "def test_model_on_sequence(model, sequence, char_to_id, special_char='A', special_value=7, device='cuda' if torch.cuda.is_available() else 'cpu'):\n",
    "    \"\"\"\n",
    "    Teste le modèle sur une séquence de lettres donnée.\n",
    "    Affiche la séquence, les cibles attendues et les prédictions du modèle.\n",
    "    Colore en vert les bons prédits, en rouge les erreurs. Les colonnes sont alignées.\n",
    "    \"\"\"\n",
    "    import numpy as np\n",
    "    D = len(char_to_id)\n",
    "    embeddings = np.eye(D)\n",
    "    \n",
    "    \n",
    "    x_seq = [embeddings[char_to_id[c]] for c in sequence]\n",
    "    x_tensor = torch.tensor([x_seq], dtype=torch.float32).to(device)\n",
    "\n",
    "    counts = {c: sequence.count(c) for c in char_to_id}\n",
    "    y_target = [special_value if c == special_char else counts[c] for c in sequence]\n",
    "\n",
    "    model.eval()\n",
    "    with torch.no_grad():\n",
    "        preds = model(x_tensor).squeeze(0).squeeze(-1).cpu().numpy()\n",
    "        preds_rounded = [round(p) for p in preds]\n",
    "\n",
    "    print(\"📝 Input sequence  : \", end=\"\")\n",
    "    for i, c in enumerate(sequence):\n",
    "        color = \"\\033[92m\" if preds_rounded[i] == y_target[i] else \"\\033[91m\"\n",
    "        print(f\"{color}{c:>3}\\033[0m\", end=\"\")  # lettre alignée à droite sur 3 espaces\n",
    "    print()\n",
    "\n",
    "    print(\"🎯 Expected counts : \", end=\"\")\n",
    "    for i, y in enumerate(y_target):\n",
    "        color = \"\\033[92m\" if preds_rounded[i] == y else \"\\033[91m\"\n",
    "        print(f\"{color}{y:>3}\\033[0m\", end=\"\")  # nombre aligné à droite sur 3 espaces\n",
    "    print()\n",
    "\n",
    "    print(\"🔮 Model predicts  : \", end=\"\")\n",
    "    for i, y in enumerate(preds_rounded):\n",
    "        color = \"\\033[92m\" if y == y_target[i] else \"\\033[91m\"\n",
    "        print(f\"{color}{y:>3}\\033[0m\", end=\"\")  # aligné à droite\n",
    "    print()\n"
   ]
  },
  {
   "cell_type": "code",
   "execution_count": 380,
   "id": "b7fce89b",
   "metadata": {},
   "outputs": [],
   "source": [
    "\n",
    "def generate_random_letter_sequence(T, D, seed=None):\n",
    "    \"\"\"\n",
    "    Génère une séquence de T lettres aléatoires parmi les D premières lettres majuscules.\n",
    "    \"\"\"\n",
    "    assert D <= 26, \"D ne peut pas dépasser 26 (nombre de lettres majuscules).\"\n",
    "    if seed is not None:\n",
    "        random.seed(seed)\n",
    "    alphabet = list(string.ascii_uppercase[:D])\n",
    "    sequence = random.choices(alphabet, k=T)\n",
    "    return sequence"
   ]
  },
  {
   "cell_type": "code",
   "execution_count": 381,
   "id": "2d562a6c",
   "metadata": {},
   "outputs": [
    {
     "name": "stdout",
     "output_type": "stream",
     "text": [
      "Sequence 1: GDHBCIEIGIAIHJDCHAFE_______________\n",
      "📝 Input sequence  : \u001b[92m  G\u001b[0m\u001b[92m  D\u001b[0m\u001b[92m  H\u001b[0m\u001b[92m  B\u001b[0m\u001b[92m  C\u001b[0m\u001b[92m  I\u001b[0m\u001b[92m  E\u001b[0m\u001b[92m  I\u001b[0m\u001b[92m  G\u001b[0m\u001b[92m  I\u001b[0m\u001b[92m  A\u001b[0m\u001b[92m  I\u001b[0m\u001b[92m  H\u001b[0m\u001b[92m  J\u001b[0m\u001b[92m  D\u001b[0m\u001b[92m  C\u001b[0m\u001b[92m  H\u001b[0m\u001b[92m  A\u001b[0m\u001b[92m  F\u001b[0m\u001b[92m  E\u001b[0m\n",
      "🎯 Expected counts : \u001b[92m  2\u001b[0m\u001b[92m  2\u001b[0m\u001b[92m  3\u001b[0m\u001b[92m  1\u001b[0m\u001b[92m  2\u001b[0m\u001b[92m  4\u001b[0m\u001b[92m  2\u001b[0m\u001b[92m  4\u001b[0m\u001b[92m  2\u001b[0m\u001b[92m  4\u001b[0m\u001b[92m  7\u001b[0m\u001b[92m  4\u001b[0m\u001b[92m  3\u001b[0m\u001b[92m  1\u001b[0m\u001b[92m  2\u001b[0m\u001b[92m  2\u001b[0m\u001b[92m  3\u001b[0m\u001b[92m  7\u001b[0m\u001b[92m  1\u001b[0m\u001b[92m  2\u001b[0m\n",
      "🔮 Model predicts  : \u001b[92m  2\u001b[0m\u001b[92m  2\u001b[0m\u001b[92m  3\u001b[0m\u001b[92m  1\u001b[0m\u001b[92m  2\u001b[0m\u001b[92m  4\u001b[0m\u001b[92m  2\u001b[0m\u001b[92m  4\u001b[0m\u001b[92m  2\u001b[0m\u001b[92m  4\u001b[0m\u001b[92m  7\u001b[0m\u001b[92m  4\u001b[0m\u001b[92m  3\u001b[0m\u001b[92m  1\u001b[0m\u001b[92m  2\u001b[0m\u001b[92m  2\u001b[0m\u001b[92m  3\u001b[0m\u001b[92m  7\u001b[0m\u001b[92m  1\u001b[0m\u001b[92m  2\u001b[0m\n",
      "Sequence 2: GCHBEDBGICIFGAIDDAIG_______________\n",
      "📝 Input sequence  : \u001b[92m  G\u001b[0m\u001b[92m  C\u001b[0m\u001b[92m  H\u001b[0m\u001b[92m  B\u001b[0m\u001b[92m  E\u001b[0m\u001b[92m  D\u001b[0m\u001b[92m  B\u001b[0m\u001b[92m  G\u001b[0m\u001b[92m  I\u001b[0m\u001b[92m  C\u001b[0m\u001b[92m  I\u001b[0m\u001b[92m  F\u001b[0m\u001b[92m  G\u001b[0m\u001b[92m  A\u001b[0m\u001b[92m  I\u001b[0m\u001b[92m  D\u001b[0m\u001b[92m  D\u001b[0m\u001b[92m  A\u001b[0m\u001b[92m  I\u001b[0m\u001b[92m  G\u001b[0m\n",
      "🎯 Expected counts : \u001b[92m  4\u001b[0m\u001b[92m  2\u001b[0m\u001b[92m  1\u001b[0m\u001b[92m  2\u001b[0m\u001b[92m  1\u001b[0m\u001b[92m  3\u001b[0m\u001b[92m  2\u001b[0m\u001b[92m  4\u001b[0m\u001b[92m  4\u001b[0m\u001b[92m  2\u001b[0m\u001b[92m  4\u001b[0m\u001b[92m  1\u001b[0m\u001b[92m  4\u001b[0m\u001b[92m  7\u001b[0m\u001b[92m  4\u001b[0m\u001b[92m  3\u001b[0m\u001b[92m  3\u001b[0m\u001b[92m  7\u001b[0m\u001b[92m  4\u001b[0m\u001b[92m  4\u001b[0m\n",
      "🔮 Model predicts  : \u001b[92m  4\u001b[0m\u001b[92m  2\u001b[0m\u001b[92m  1\u001b[0m\u001b[92m  2\u001b[0m\u001b[92m  1\u001b[0m\u001b[92m  3\u001b[0m\u001b[92m  2\u001b[0m\u001b[92m  4\u001b[0m\u001b[92m  4\u001b[0m\u001b[92m  2\u001b[0m\u001b[92m  4\u001b[0m\u001b[92m  1\u001b[0m\u001b[92m  4\u001b[0m\u001b[92m  7\u001b[0m\u001b[92m  4\u001b[0m\u001b[92m  3\u001b[0m\u001b[92m  3\u001b[0m\u001b[92m  7\u001b[0m\u001b[92m  4\u001b[0m\u001b[92m  4\u001b[0m\n",
      "Sequence 3: JHAAIACGIGBIDEGHHGFI_______________\n",
      "📝 Input sequence  : \u001b[92m  J\u001b[0m\u001b[92m  H\u001b[0m\u001b[92m  A\u001b[0m\u001b[92m  A\u001b[0m\u001b[92m  I\u001b[0m\u001b[92m  A\u001b[0m\u001b[92m  C\u001b[0m\u001b[92m  G\u001b[0m\u001b[92m  I\u001b[0m\u001b[92m  G\u001b[0m\u001b[92m  B\u001b[0m\u001b[92m  I\u001b[0m\u001b[92m  D\u001b[0m\u001b[92m  E\u001b[0m\u001b[92m  G\u001b[0m\u001b[92m  H\u001b[0m\u001b[92m  H\u001b[0m\u001b[92m  G\u001b[0m\u001b[92m  F\u001b[0m\u001b[92m  I\u001b[0m\n",
      "🎯 Expected counts : \u001b[92m  1\u001b[0m\u001b[92m  3\u001b[0m\u001b[92m  7\u001b[0m\u001b[92m  7\u001b[0m\u001b[92m  4\u001b[0m\u001b[92m  7\u001b[0m\u001b[92m  1\u001b[0m\u001b[92m  4\u001b[0m\u001b[92m  4\u001b[0m\u001b[92m  4\u001b[0m\u001b[92m  1\u001b[0m\u001b[92m  4\u001b[0m\u001b[92m  1\u001b[0m\u001b[92m  1\u001b[0m\u001b[92m  4\u001b[0m\u001b[92m  3\u001b[0m\u001b[92m  3\u001b[0m\u001b[92m  4\u001b[0m\u001b[92m  1\u001b[0m\u001b[92m  4\u001b[0m\n",
      "🔮 Model predicts  : \u001b[92m  1\u001b[0m\u001b[92m  3\u001b[0m\u001b[92m  7\u001b[0m\u001b[92m  7\u001b[0m\u001b[92m  4\u001b[0m\u001b[92m  7\u001b[0m\u001b[92m  1\u001b[0m\u001b[92m  4\u001b[0m\u001b[92m  4\u001b[0m\u001b[92m  4\u001b[0m\u001b[92m  1\u001b[0m\u001b[92m  4\u001b[0m\u001b[92m  1\u001b[0m\u001b[92m  1\u001b[0m\u001b[92m  4\u001b[0m\u001b[92m  3\u001b[0m\u001b[92m  3\u001b[0m\u001b[92m  4\u001b[0m\u001b[92m  1\u001b[0m\u001b[92m  4\u001b[0m\n",
      "Sequence 4: EIHBIHAIJGICBGBCICEJ_______________\n",
      "📝 Input sequence  : \u001b[92m  E\u001b[0m\u001b[92m  I\u001b[0m\u001b[92m  H\u001b[0m\u001b[92m  B\u001b[0m\u001b[92m  I\u001b[0m\u001b[92m  H\u001b[0m\u001b[92m  A\u001b[0m\u001b[92m  I\u001b[0m\u001b[92m  J\u001b[0m\u001b[92m  G\u001b[0m\u001b[92m  I\u001b[0m\u001b[92m  C\u001b[0m\u001b[92m  B\u001b[0m\u001b[92m  G\u001b[0m\u001b[92m  B\u001b[0m\u001b[92m  C\u001b[0m\u001b[92m  I\u001b[0m\u001b[92m  C\u001b[0m\u001b[92m  E\u001b[0m\u001b[92m  J\u001b[0m\n",
      "🎯 Expected counts : \u001b[92m  2\u001b[0m\u001b[92m  5\u001b[0m\u001b[92m  2\u001b[0m\u001b[92m  3\u001b[0m\u001b[92m  5\u001b[0m\u001b[92m  2\u001b[0m\u001b[92m  7\u001b[0m\u001b[92m  5\u001b[0m\u001b[92m  2\u001b[0m\u001b[92m  2\u001b[0m\u001b[92m  5\u001b[0m\u001b[92m  3\u001b[0m\u001b[92m  3\u001b[0m\u001b[92m  2\u001b[0m\u001b[92m  3\u001b[0m\u001b[92m  3\u001b[0m\u001b[92m  5\u001b[0m\u001b[92m  3\u001b[0m\u001b[92m  2\u001b[0m\u001b[92m  2\u001b[0m\n",
      "🔮 Model predicts  : \u001b[92m  2\u001b[0m\u001b[92m  5\u001b[0m\u001b[92m  2\u001b[0m\u001b[92m  3\u001b[0m\u001b[92m  5\u001b[0m\u001b[92m  2\u001b[0m\u001b[92m  7\u001b[0m\u001b[92m  5\u001b[0m\u001b[92m  2\u001b[0m\u001b[92m  2\u001b[0m\u001b[92m  5\u001b[0m\u001b[92m  3\u001b[0m\u001b[92m  3\u001b[0m\u001b[92m  2\u001b[0m\u001b[92m  3\u001b[0m\u001b[92m  3\u001b[0m\u001b[92m  5\u001b[0m\u001b[92m  3\u001b[0m\u001b[92m  2\u001b[0m\u001b[92m  2\u001b[0m\n",
      "Sequence 5: AGHBDEDDDJIFFHHIFIHC_______________\n",
      "📝 Input sequence  : \u001b[92m  A\u001b[0m\u001b[92m  G\u001b[0m\u001b[92m  H\u001b[0m\u001b[92m  B\u001b[0m\u001b[91m  D\u001b[0m\u001b[92m  E\u001b[0m\u001b[91m  D\u001b[0m\u001b[91m  D\u001b[0m\u001b[91m  D\u001b[0m\u001b[92m  J\u001b[0m\u001b[92m  I\u001b[0m\u001b[92m  F\u001b[0m\u001b[92m  F\u001b[0m\u001b[92m  H\u001b[0m\u001b[92m  H\u001b[0m\u001b[92m  I\u001b[0m\u001b[92m  F\u001b[0m\u001b[92m  I\u001b[0m\u001b[92m  H\u001b[0m\u001b[92m  C\u001b[0m\n",
      "🎯 Expected counts : \u001b[92m  7\u001b[0m\u001b[92m  1\u001b[0m\u001b[92m  4\u001b[0m\u001b[92m  1\u001b[0m\u001b[91m  4\u001b[0m\u001b[92m  1\u001b[0m\u001b[91m  4\u001b[0m\u001b[91m  4\u001b[0m\u001b[91m  4\u001b[0m\u001b[92m  1\u001b[0m\u001b[92m  3\u001b[0m\u001b[92m  3\u001b[0m\u001b[92m  3\u001b[0m\u001b[92m  4\u001b[0m\u001b[92m  4\u001b[0m\u001b[92m  3\u001b[0m\u001b[92m  3\u001b[0m\u001b[92m  3\u001b[0m\u001b[92m  4\u001b[0m\u001b[92m  1\u001b[0m\n",
      "🔮 Model predicts  : \u001b[92m  7\u001b[0m\u001b[92m  1\u001b[0m\u001b[92m  4\u001b[0m\u001b[92m  1\u001b[0m\u001b[91m  3\u001b[0m\u001b[92m  1\u001b[0m\u001b[91m  3\u001b[0m\u001b[91m  3\u001b[0m\u001b[91m  3\u001b[0m\u001b[92m  1\u001b[0m\u001b[92m  3\u001b[0m\u001b[92m  3\u001b[0m\u001b[92m  3\u001b[0m\u001b[92m  4\u001b[0m\u001b[92m  4\u001b[0m\u001b[92m  3\u001b[0m\u001b[92m  3\u001b[0m\u001b[92m  3\u001b[0m\u001b[92m  4\u001b[0m\u001b[92m  1\u001b[0m\n",
      "Sequence 6: GHIBDIDGBABCCAFEHGIA_______________\n",
      "📝 Input sequence  : \u001b[92m  G\u001b[0m\u001b[92m  H\u001b[0m\u001b[92m  I\u001b[0m\u001b[92m  B\u001b[0m\u001b[92m  D\u001b[0m\u001b[92m  I\u001b[0m\u001b[92m  D\u001b[0m\u001b[92m  G\u001b[0m\u001b[92m  B\u001b[0m\u001b[92m  A\u001b[0m\u001b[92m  B\u001b[0m\u001b[92m  C\u001b[0m\u001b[92m  C\u001b[0m\u001b[92m  A\u001b[0m\u001b[92m  F\u001b[0m\u001b[92m  E\u001b[0m\u001b[92m  H\u001b[0m\u001b[92m  G\u001b[0m\u001b[92m  I\u001b[0m\u001b[92m  A\u001b[0m\n",
      "🎯 Expected counts : \u001b[92m  3\u001b[0m\u001b[92m  2\u001b[0m\u001b[92m  3\u001b[0m\u001b[92m  3\u001b[0m\u001b[92m  2\u001b[0m\u001b[92m  3\u001b[0m\u001b[92m  2\u001b[0m\u001b[92m  3\u001b[0m\u001b[92m  3\u001b[0m\u001b[92m  7\u001b[0m\u001b[92m  3\u001b[0m\u001b[92m  2\u001b[0m\u001b[92m  2\u001b[0m\u001b[92m  7\u001b[0m\u001b[92m  1\u001b[0m\u001b[92m  1\u001b[0m\u001b[92m  2\u001b[0m\u001b[92m  3\u001b[0m\u001b[92m  3\u001b[0m\u001b[92m  7\u001b[0m\n",
      "🔮 Model predicts  : \u001b[92m  3\u001b[0m\u001b[92m  2\u001b[0m\u001b[92m  3\u001b[0m\u001b[92m  3\u001b[0m\u001b[92m  2\u001b[0m\u001b[92m  3\u001b[0m\u001b[92m  2\u001b[0m\u001b[92m  3\u001b[0m\u001b[92m  3\u001b[0m\u001b[92m  7\u001b[0m\u001b[92m  3\u001b[0m\u001b[92m  2\u001b[0m\u001b[92m  2\u001b[0m\u001b[92m  7\u001b[0m\u001b[92m  1\u001b[0m\u001b[92m  1\u001b[0m\u001b[92m  2\u001b[0m\u001b[92m  3\u001b[0m\u001b[92m  3\u001b[0m\u001b[92m  7\u001b[0m\n",
      "Sequence 7: GDABBFDAGECBAGHIGIJC_______________\n",
      "📝 Input sequence  : \u001b[92m  G\u001b[0m\u001b[92m  D\u001b[0m\u001b[92m  A\u001b[0m\u001b[92m  B\u001b[0m\u001b[92m  B\u001b[0m\u001b[92m  F\u001b[0m\u001b[92m  D\u001b[0m\u001b[92m  A\u001b[0m\u001b[91m  G\u001b[0m\u001b[92m  E\u001b[0m\u001b[92m  C\u001b[0m\u001b[92m  B\u001b[0m\u001b[92m  A\u001b[0m\u001b[91m  G\u001b[0m\u001b[92m  H\u001b[0m\u001b[92m  I\u001b[0m\u001b[91m  G\u001b[0m\u001b[92m  I\u001b[0m\u001b[92m  J\u001b[0m\u001b[92m  C\u001b[0m\n",
      "🎯 Expected counts : \u001b[92m  4\u001b[0m\u001b[92m  2\u001b[0m\u001b[92m  7\u001b[0m\u001b[92m  3\u001b[0m\u001b[92m  3\u001b[0m\u001b[92m  1\u001b[0m\u001b[92m  2\u001b[0m\u001b[92m  7\u001b[0m\u001b[91m  4\u001b[0m\u001b[92m  1\u001b[0m\u001b[92m  2\u001b[0m\u001b[92m  3\u001b[0m\u001b[92m  7\u001b[0m\u001b[91m  4\u001b[0m\u001b[92m  1\u001b[0m\u001b[92m  2\u001b[0m\u001b[91m  4\u001b[0m\u001b[92m  2\u001b[0m\u001b[92m  1\u001b[0m\u001b[92m  2\u001b[0m\n",
      "🔮 Model predicts  : \u001b[92m  4\u001b[0m\u001b[92m  2\u001b[0m\u001b[92m  7\u001b[0m\u001b[92m  3\u001b[0m\u001b[92m  3\u001b[0m\u001b[92m  1\u001b[0m\u001b[92m  2\u001b[0m\u001b[92m  7\u001b[0m\u001b[91m  5\u001b[0m\u001b[92m  1\u001b[0m\u001b[92m  2\u001b[0m\u001b[92m  3\u001b[0m\u001b[92m  7\u001b[0m\u001b[91m  5\u001b[0m\u001b[92m  1\u001b[0m\u001b[92m  2\u001b[0m\u001b[91m  5\u001b[0m\u001b[92m  2\u001b[0m\u001b[92m  1\u001b[0m\u001b[92m  2\u001b[0m\n",
      "Sequence 8: FHCFCCGJEIGEFHIDCFIJ_______________\n",
      "📝 Input sequence  : \u001b[92m  F\u001b[0m\u001b[92m  H\u001b[0m\u001b[92m  C\u001b[0m\u001b[92m  F\u001b[0m\u001b[92m  C\u001b[0m\u001b[92m  C\u001b[0m\u001b[92m  G\u001b[0m\u001b[92m  J\u001b[0m\u001b[92m  E\u001b[0m\u001b[92m  I\u001b[0m\u001b[92m  G\u001b[0m\u001b[92m  E\u001b[0m\u001b[92m  F\u001b[0m\u001b[92m  H\u001b[0m\u001b[92m  I\u001b[0m\u001b[92m  D\u001b[0m\u001b[92m  C\u001b[0m\u001b[92m  F\u001b[0m\u001b[92m  I\u001b[0m\u001b[92m  J\u001b[0m\n",
      "🎯 Expected counts : \u001b[92m  4\u001b[0m\u001b[92m  2\u001b[0m\u001b[92m  4\u001b[0m\u001b[92m  4\u001b[0m\u001b[92m  4\u001b[0m\u001b[92m  4\u001b[0m\u001b[92m  2\u001b[0m\u001b[92m  2\u001b[0m\u001b[92m  2\u001b[0m\u001b[92m  3\u001b[0m\u001b[92m  2\u001b[0m\u001b[92m  2\u001b[0m\u001b[92m  4\u001b[0m\u001b[92m  2\u001b[0m\u001b[92m  3\u001b[0m\u001b[92m  1\u001b[0m\u001b[92m  4\u001b[0m\u001b[92m  4\u001b[0m\u001b[92m  3\u001b[0m\u001b[92m  2\u001b[0m\n",
      "🔮 Model predicts  : \u001b[92m  4\u001b[0m\u001b[92m  2\u001b[0m\u001b[92m  4\u001b[0m\u001b[92m  4\u001b[0m\u001b[92m  4\u001b[0m\u001b[92m  4\u001b[0m\u001b[92m  2\u001b[0m\u001b[92m  2\u001b[0m\u001b[92m  2\u001b[0m\u001b[92m  3\u001b[0m\u001b[92m  2\u001b[0m\u001b[92m  2\u001b[0m\u001b[92m  4\u001b[0m\u001b[92m  2\u001b[0m\u001b[92m  3\u001b[0m\u001b[92m  1\u001b[0m\u001b[92m  4\u001b[0m\u001b[92m  4\u001b[0m\u001b[92m  3\u001b[0m\u001b[92m  2\u001b[0m\n",
      "Sequence 9: EHGDCCFJGFDFAFIIFIJA_______________\n",
      "📝 Input sequence  : \u001b[92m  E\u001b[0m\u001b[92m  H\u001b[0m\u001b[92m  G\u001b[0m\u001b[92m  D\u001b[0m\u001b[92m  C\u001b[0m\u001b[92m  C\u001b[0m\u001b[92m  F\u001b[0m\u001b[92m  J\u001b[0m\u001b[92m  G\u001b[0m\u001b[92m  F\u001b[0m\u001b[92m  D\u001b[0m\u001b[92m  F\u001b[0m\u001b[92m  A\u001b[0m\u001b[92m  F\u001b[0m\u001b[92m  I\u001b[0m\u001b[92m  I\u001b[0m\u001b[92m  F\u001b[0m\u001b[92m  I\u001b[0m\u001b[92m  J\u001b[0m\u001b[92m  A\u001b[0m\n",
      "🎯 Expected counts : \u001b[92m  1\u001b[0m\u001b[92m  1\u001b[0m\u001b[92m  2\u001b[0m\u001b[92m  2\u001b[0m\u001b[92m  2\u001b[0m\u001b[92m  2\u001b[0m\u001b[92m  5\u001b[0m\u001b[92m  2\u001b[0m\u001b[92m  2\u001b[0m\u001b[92m  5\u001b[0m\u001b[92m  2\u001b[0m\u001b[92m  5\u001b[0m\u001b[92m  7\u001b[0m\u001b[92m  5\u001b[0m\u001b[92m  3\u001b[0m\u001b[92m  3\u001b[0m\u001b[92m  5\u001b[0m\u001b[92m  3\u001b[0m\u001b[92m  2\u001b[0m\u001b[92m  7\u001b[0m\n",
      "🔮 Model predicts  : \u001b[92m  1\u001b[0m\u001b[92m  1\u001b[0m\u001b[92m  2\u001b[0m\u001b[92m  2\u001b[0m\u001b[92m  2\u001b[0m\u001b[92m  2\u001b[0m\u001b[92m  5\u001b[0m\u001b[92m  2\u001b[0m\u001b[92m  2\u001b[0m\u001b[92m  5\u001b[0m\u001b[92m  2\u001b[0m\u001b[92m  5\u001b[0m\u001b[92m  7\u001b[0m\u001b[92m  5\u001b[0m\u001b[92m  3\u001b[0m\u001b[92m  3\u001b[0m\u001b[92m  5\u001b[0m\u001b[92m  3\u001b[0m\u001b[92m  2\u001b[0m\u001b[92m  7\u001b[0m\n",
      "Sequence 10: FJEBJACFEGACBDGGGJGI_______________\n",
      "📝 Input sequence  : \u001b[92m  F\u001b[0m\u001b[92m  J\u001b[0m\u001b[92m  E\u001b[0m\u001b[92m  B\u001b[0m\u001b[92m  J\u001b[0m\u001b[92m  A\u001b[0m\u001b[92m  C\u001b[0m\u001b[92m  F\u001b[0m\u001b[92m  E\u001b[0m\u001b[92m  G\u001b[0m\u001b[92m  A\u001b[0m\u001b[92m  C\u001b[0m\u001b[92m  B\u001b[0m\u001b[92m  D\u001b[0m\u001b[92m  G\u001b[0m\u001b[92m  G\u001b[0m\u001b[92m  G\u001b[0m\u001b[92m  J\u001b[0m\u001b[92m  G\u001b[0m\u001b[92m  I\u001b[0m\n",
      "🎯 Expected counts : \u001b[92m  2\u001b[0m\u001b[92m  3\u001b[0m\u001b[92m  2\u001b[0m\u001b[92m  2\u001b[0m\u001b[92m  3\u001b[0m\u001b[92m  7\u001b[0m\u001b[92m  2\u001b[0m\u001b[92m  2\u001b[0m\u001b[92m  2\u001b[0m\u001b[92m  5\u001b[0m\u001b[92m  7\u001b[0m\u001b[92m  2\u001b[0m\u001b[92m  2\u001b[0m\u001b[92m  1\u001b[0m\u001b[92m  5\u001b[0m\u001b[92m  5\u001b[0m\u001b[92m  5\u001b[0m\u001b[92m  3\u001b[0m\u001b[92m  5\u001b[0m\u001b[92m  1\u001b[0m\n",
      "🔮 Model predicts  : \u001b[92m  2\u001b[0m\u001b[92m  3\u001b[0m\u001b[92m  2\u001b[0m\u001b[92m  2\u001b[0m\u001b[92m  3\u001b[0m\u001b[92m  7\u001b[0m\u001b[92m  2\u001b[0m\u001b[92m  2\u001b[0m\u001b[92m  2\u001b[0m\u001b[92m  5\u001b[0m\u001b[92m  7\u001b[0m\u001b[92m  2\u001b[0m\u001b[92m  2\u001b[0m\u001b[92m  1\u001b[0m\u001b[92m  5\u001b[0m\u001b[92m  5\u001b[0m\u001b[92m  5\u001b[0m\u001b[92m  3\u001b[0m\u001b[92m  5\u001b[0m\u001b[92m  1\u001b[0m\n"
     ]
    }
   ],
   "source": [
    "number_of_sequences = 10\n",
    "for i in range(number_of_sequences):\n",
    "    sequence = generate_random_letter_sequence(T, D)\n",
    "    print(f\"Sequence {i+1}: {''.join(sequence)}_______________\")\n",
    "    test_model_on_sequence(model, sequence, char_to_id, special_char='A', special_value=7, device=device)\n",
    "\n"
   ]
  },
  {
   "cell_type": "code",
   "execution_count": 385,
   "id": "253054fa",
   "metadata": {},
   "outputs": [
    {
     "data": {
      "image/png": "[encoded data removed]",
      "text/plain": [
       "<Figure size 1200x1000 with 2 Axes>"
      ]
     },
     "metadata": {},
     "output_type": "display_data"
    }
   ],
   "source": [
    "\n",
    "import seaborn as sns\n",
    "import matplotlib.pyplot as plt\n",
    "\n",
    "D = len(char_to_id)\n",
    "embeddings = np.eye(D)\n",
    "\n",
    "\n",
    "x_seq = [embeddings[char_to_id[c]] for c in sequence]\n",
    "x_tensor = torch.tensor([x_seq], dtype=torch.float32).to(device)\n",
    "_ = model(x_tensor)  # où x_tensor contient ta séquence test\n",
    "\n",
    "# Récupérer la matrice d'attention de la première couche\n",
    "attn_matrix = F.softmax(model.transformer_blocks[0].attn_weights, dim=-1).detach().squeeze(0).cpu().numpy()  # [T, T]\n",
    "\n",
    "# Extraire les lettres de la séquence\n",
    "tokens = sequence  # ex: ['G', 'A', 'C', ...]\n",
    "\n",
    "fig = plt.figure(figsize=(12, 10))\n",
    "sns.heatmap(attn_matrix, cmap=\"viridis\", xticklabels=tokens, yticklabels=tokens, square=True, cbar=True)\n",
    "plt.title(\"Attention Matrix – Layer 0\")\n",
    "plt.xlabel(\"Attended Tokens\")\n",
    "plt.ylabel(\"Attending Tokens\")\n",
    "plt.xticks(rotation=90)\n",
    "plt.yticks(rotation=0)\n",
    "plt.tight_layout()\n",
    "plt.show()\n"
   ]
  }
 ],
 "metadata": {
  "kernelspec": {
   "display_name": "Python 3",
   "language": "python",
   "name": "python3"
  },
  "language_info": {
   "codemirror_mode": {
    "name": "ipython",
    "version": 3
   },
   "file_extension": ".py",
   "mimetype": "text/x-python",
   "name": "python",
   "nbconvert_exporter": "python",
   "pygments_lexer": "ipython3",
   "version": "3.9.21"
  }
 },
 "nbformat": 4,
 "nbformat_minor": 5
}
