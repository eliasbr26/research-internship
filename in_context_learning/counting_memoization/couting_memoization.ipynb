{
 "cells": [
  {
   "cell_type": "code",
   "execution_count": 126,
   "id": "9a92c6ed",
   "metadata": {},
   "outputs": [
    {
     "data": {
      "text/plain": [
       "device(type='cuda')"
      ]
     },
     "execution_count": 126,
     "metadata": {},
     "output_type": "execute_result"
    }
   ],
   "source": [
    "import numpy as np\n",
    "import random\n",
    "import string\n",
    "import torch\n",
    "from torch.utils.data import TensorDataset, DataLoader\n",
    "from sklearn.model_selection import train_test_split\n",
    "import torch.nn as nn\n",
    "import torch.nn.functional as F\n",
    "from torch.utils.data import Dataset\n",
    "device = torch.device(\"cuda\" if torch.cuda.is_available() else \"cpu\")\n",
    "device"
   ]
  },
  {
   "cell_type": "code",
   "execution_count": 127,
   "id": "11d1c176",
   "metadata": {},
   "outputs": [],
   "source": [
    "def generate_counting_dataset(n, T, k, special_char='A', special_value=7, seed=None):\n",
    "    \"\"\"\n",
    "    Génère un dataset de comptage avec traitement spécial pour une lettre (ex: 'A').\n",
    "    \n",
    "    Args:\n",
    "        n: nombre de séquences\n",
    "        T: longueur de chaque séquence\n",
    "        k: nombre de lettres (A, B, C, ..., jusqu’à la k-ème)\n",
    "        special_char: caractère à traiter spécialement (ex: 'A')\n",
    "        special_value: valeur assignée à ce caractère (ex: 7)\n",
    "    \n",
    "    Returns:\n",
    "        X: [n, T, D] embeddings\n",
    "        y: [n, T] entiers cibles\n",
    "        char_to_id, id_to_char: dictionnaires utiles\n",
    "    \"\"\"\n",
    "    if seed is not None:\n",
    "        random.seed(seed)\n",
    "        np.random.seed(seed)\n",
    "\n",
    "    # Dictionnaires et embeddings\n",
    "    letters = list(string.ascii_uppercase[:k])\n",
    "    assert special_char in letters, \"Le caractère spécial doit être dans l'alphabet\"\n",
    "    char_to_id = {c: i for i, c in enumerate(letters)}\n",
    "    id_to_char = {i: c for c, i in char_to_id.items()}\n",
    "    D = len(letters)\n",
    "    embeddings = np.eye(D)\n",
    "\n",
    "    X = []\n",
    "    y = []\n",
    "\n",
    "    for _ in range(n):\n",
    "        seq = random.choices(letters, k=T)\n",
    "        counts = {c: seq.count(c) for c in letters}\n",
    "        y_seq = [special_value if c == special_char else counts[c] for c in seq]\n",
    "        x_seq = [embeddings[char_to_id[c]] for c in seq]\n",
    "        X.append(x_seq)\n",
    "        y.append(y_seq)\n",
    "\n",
    "    return torch.tensor(X, dtype=torch.float32), torch.tensor(y, dtype=torch.long), char_to_id, id_to_char\n"
   ]
  },
  {
   "cell_type": "code",
   "execution_count": 200,
   "id": "50546c8c",
   "metadata": {},
   "outputs": [],
   "source": [
    "n = 30000\n",
    "T = 100\n",
    "D = 10"
   ]
  },
  {
   "cell_type": "code",
   "execution_count": 201,
   "id": "fb5bcbba",
   "metadata": {},
   "outputs": [
    {
     "name": "stdout",
     "output_type": "stream",
     "text": [
      "torch.Size([30000, 100, 10])\n",
      "torch.Size([30000, 100])\n",
      "\n",
      "Exemple : tensor([ 7,  8,  8, 10, 15,  8,  8, 14, 14, 10, 11, 15, 10,  8, 10, 11, 15,  8,\n",
      "         8,  8,  8, 10,  8, 10,  7,  5,  7, 10, 11, 11,  5,  7, 11, 10,  7, 14,\n",
      "         7,  8,  8,  8, 14, 10, 15, 11, 14, 15, 10,  8, 15,  5, 10,  8, 14, 10,\n",
      "         8, 15,  5, 10, 15, 15,  7,  8, 15, 10, 11,  7, 15,  8, 15,  8, 10, 10,\n",
      "        14,  8, 11,  8,  7, 14, 14, 14,  8,  8, 10,  7, 14,  5, 11, 15,  8, 14,\n",
      "        14, 15, 15, 10, 14, 11, 10,  7, 10, 11])\n"
     ]
    }
   ],
   "source": [
    "X, y, char_to_id, id_to_char = generate_counting_dataset(n=n, T=T, k=D, special_char='A', special_value=7)\n",
    "print(X.shape)  # torch.Size([1000, 10, 5])\n",
    "print(y.shape)  # torch.Size([1000, 10])\n",
    "print()\n",
    "print(\"Exemple :\", y[0])\n"
   ]
  },
  {
   "cell_type": "code",
   "execution_count": 202,
   "id": "d61c0367",
   "metadata": {},
   "outputs": [],
   "source": [
    "X_train, X_test, y_train, y_test = train_test_split(X, y, test_size=0.2, random_state=42)"
   ]
  },
  {
   "cell_type": "code",
   "execution_count": 203,
   "id": "eff15ba1",
   "metadata": {},
   "outputs": [
    {
     "data": {
      "text/plain": [
       "(tensor([[0., 0., 0., 0., 0., 0., 0., 0., 1., 0.],\n",
       "         [0., 0., 0., 0., 0., 0., 0., 0., 0., 1.],\n",
       "         [0., 0., 0., 0., 0., 0., 0., 0., 1., 0.],\n",
       "         [0., 0., 0., 0., 0., 0., 0., 0., 1., 0.],\n",
       "         [0., 0., 0., 0., 0., 0., 0., 1., 0., 0.],\n",
       "         [0., 1., 0., 0., 0., 0., 0., 0., 0., 0.],\n",
       "         [1., 0., 0., 0., 0., 0., 0., 0., 0., 0.],\n",
       "         [0., 0., 0., 1., 0., 0., 0., 0., 0., 0.],\n",
       "         [0., 0., 0., 0., 1., 0., 0., 0., 0., 0.],\n",
       "         [0., 1., 0., 0., 0., 0., 0., 0., 0., 0.],\n",
       "         [1., 0., 0., 0., 0., 0., 0., 0., 0., 0.],\n",
       "         [1., 0., 0., 0., 0., 0., 0., 0., 0., 0.],\n",
       "         [0., 0., 0., 0., 0., 0., 0., 1., 0., 0.],\n",
       "         [1., 0., 0., 0., 0., 0., 0., 0., 0., 0.],\n",
       "         [0., 0., 1., 0., 0., 0., 0., 0., 0., 0.],\n",
       "         [0., 0., 0., 1., 0., 0., 0., 0., 0., 0.],\n",
       "         [0., 0., 0., 0., 0., 0., 1., 0., 0., 0.],\n",
       "         [0., 0., 0., 1., 0., 0., 0., 0., 0., 0.],\n",
       "         [0., 0., 0., 0., 0., 0., 0., 0., 1., 0.],\n",
       "         [0., 0., 0., 0., 0., 0., 0., 0., 0., 1.],\n",
       "         [0., 0., 0., 1., 0., 0., 0., 0., 0., 0.],\n",
       "         [1., 0., 0., 0., 0., 0., 0., 0., 0., 0.],\n",
       "         [1., 0., 0., 0., 0., 0., 0., 0., 0., 0.],\n",
       "         [0., 0., 0., 1., 0., 0., 0., 0., 0., 0.],\n",
       "         [1., 0., 0., 0., 0., 0., 0., 0., 0., 0.],\n",
       "         [0., 0., 0., 0., 1., 0., 0., 0., 0., 0.],\n",
       "         [1., 0., 0., 0., 0., 0., 0., 0., 0., 0.],\n",
       "         [0., 0., 0., 0., 0., 0., 0., 1., 0., 0.],\n",
       "         [0., 0., 0., 0., 0., 0., 0., 0., 1., 0.],\n",
       "         [0., 0., 0., 0., 0., 0., 1., 0., 0., 0.],\n",
       "         [0., 0., 0., 0., 0., 0., 0., 0., 1., 0.],\n",
       "         [0., 0., 0., 0., 1., 0., 0., 0., 0., 0.],\n",
       "         [0., 0., 0., 0., 0., 0., 1., 0., 0., 0.],\n",
       "         [0., 0., 0., 1., 0., 0., 0., 0., 0., 0.],\n",
       "         [0., 0., 0., 0., 0., 0., 0., 1., 0., 0.],\n",
       "         [0., 0., 0., 1., 0., 0., 0., 0., 0., 0.],\n",
       "         [0., 0., 0., 0., 1., 0., 0., 0., 0., 0.],\n",
       "         [0., 0., 0., 0., 0., 0., 0., 0., 1., 0.],\n",
       "         [0., 0., 0., 0., 1., 0., 0., 0., 0., 0.],\n",
       "         [0., 0., 0., 0., 0., 0., 0., 1., 0., 0.],\n",
       "         [0., 0., 0., 1., 0., 0., 0., 0., 0., 0.],\n",
       "         [0., 0., 0., 0., 0., 0., 0., 0., 0., 1.],\n",
       "         [0., 0., 0., 1., 0., 0., 0., 0., 0., 0.],\n",
       "         [0., 0., 0., 0., 0., 0., 0., 1., 0., 0.],\n",
       "         [0., 0., 0., 0., 0., 0., 0., 1., 0., 0.],\n",
       "         [0., 1., 0., 0., 0., 0., 0., 0., 0., 0.],\n",
       "         [0., 0., 0., 0., 0., 1., 0., 0., 0., 0.],\n",
       "         [0., 1., 0., 0., 0., 0., 0., 0., 0., 0.],\n",
       "         [0., 0., 0., 0., 0., 0., 0., 0., 0., 1.],\n",
       "         [0., 0., 0., 0., 0., 0., 0., 0., 1., 0.],\n",
       "         [0., 0., 0., 0., 0., 1., 0., 0., 0., 0.],\n",
       "         [0., 0., 0., 1., 0., 0., 0., 0., 0., 0.],\n",
       "         [1., 0., 0., 0., 0., 0., 0., 0., 0., 0.],\n",
       "         [0., 0., 0., 1., 0., 0., 0., 0., 0., 0.],\n",
       "         [1., 0., 0., 0., 0., 0., 0., 0., 0., 0.],\n",
       "         [0., 0., 0., 0., 0., 0., 1., 0., 0., 0.],\n",
       "         [0., 0., 0., 0., 0., 0., 0., 1., 0., 0.],\n",
       "         [0., 1., 0., 0., 0., 0., 0., 0., 0., 0.],\n",
       "         [0., 0., 0., 0., 1., 0., 0., 0., 0., 0.],\n",
       "         [0., 1., 0., 0., 0., 0., 0., 0., 0., 0.],\n",
       "         [0., 0., 0., 0., 0., 0., 1., 0., 0., 0.],\n",
       "         [0., 0., 0., 1., 0., 0., 0., 0., 0., 0.],\n",
       "         [0., 0., 0., 0., 0., 0., 1., 0., 0., 0.],\n",
       "         [0., 0., 0., 0., 0., 0., 1., 0., 0., 0.],\n",
       "         [1., 0., 0., 0., 0., 0., 0., 0., 0., 0.],\n",
       "         [1., 0., 0., 0., 0., 0., 0., 0., 0., 0.],\n",
       "         [0., 0., 0., 0., 0., 0., 0., 1., 0., 0.],\n",
       "         [0., 0., 0., 0., 0., 0., 0., 0., 1., 0.],\n",
       "         [0., 0., 0., 0., 0., 0., 0., 1., 0., 0.],\n",
       "         [0., 0., 0., 0., 0., 1., 0., 0., 0., 0.],\n",
       "         [0., 1., 0., 0., 0., 0., 0., 0., 0., 0.],\n",
       "         [0., 0., 0., 0., 0., 0., 1., 0., 0., 0.],\n",
       "         [0., 1., 0., 0., 0., 0., 0., 0., 0., 0.],\n",
       "         [0., 0., 0., 0., 0., 0., 0., 1., 0., 0.],\n",
       "         [0., 0., 0., 0., 1., 0., 0., 0., 0., 0.],\n",
       "         [0., 1., 0., 0., 0., 0., 0., 0., 0., 0.],\n",
       "         [0., 0., 0., 0., 0., 0., 0., 0., 1., 0.],\n",
       "         [0., 0., 0., 0., 0., 0., 0., 0., 0., 1.],\n",
       "         [0., 1., 0., 0., 0., 0., 0., 0., 0., 0.],\n",
       "         [1., 0., 0., 0., 0., 0., 0., 0., 0., 0.],\n",
       "         [0., 0., 0., 0., 0., 0., 0., 0., 1., 0.],\n",
       "         [0., 0., 0., 1., 0., 0., 0., 0., 0., 0.],\n",
       "         [0., 0., 0., 0., 0., 0., 1., 0., 0., 0.],\n",
       "         [0., 1., 0., 0., 0., 0., 0., 0., 0., 0.],\n",
       "         [0., 0., 0., 0., 0., 0., 0., 1., 0., 0.],\n",
       "         [0., 0., 0., 0., 0., 0., 0., 0., 1., 0.],\n",
       "         [0., 0., 0., 0., 0., 1., 0., 0., 0., 0.],\n",
       "         [0., 0., 0., 1., 0., 0., 0., 0., 0., 0.],\n",
       "         [0., 1., 0., 0., 0., 0., 0., 0., 0., 0.],\n",
       "         [0., 0., 0., 0., 0., 1., 0., 0., 0., 0.],\n",
       "         [0., 0., 0., 0., 0., 0., 1., 0., 0., 0.],\n",
       "         [0., 0., 0., 0., 1., 0., 0., 0., 0., 0.],\n",
       "         [0., 0., 0., 0., 0., 0., 0., 1., 0., 0.],\n",
       "         [0., 0., 0., 0., 0., 0., 0., 1., 0., 0.],\n",
       "         [0., 0., 0., 0., 0., 0., 0., 1., 0., 0.],\n",
       "         [1., 0., 0., 0., 0., 0., 0., 0., 0., 0.],\n",
       "         [0., 0., 0., 0., 0., 1., 0., 0., 0., 0.],\n",
       "         [0., 1., 0., 0., 0., 0., 0., 0., 0., 0.],\n",
       "         [0., 0., 0., 0., 0., 0., 0., 1., 0., 0.],\n",
       "         [0., 0., 0., 0., 0., 0., 1., 0., 0., 0.]]),\n",
       " tensor([12,  5, 12, 12, 16, 13,  7, 14,  8, 13,  7,  7, 16,  7,  1, 14, 11, 14,\n",
       "         12,  5, 14,  7,  7, 14,  7,  8,  7, 16, 12, 11, 12,  8, 11, 14, 16, 14,\n",
       "          8, 12,  8, 16, 14,  5, 14, 16, 16, 13,  6, 13,  5, 12,  6, 14,  7, 14,\n",
       "          7, 11, 16, 13,  8, 13, 11, 14, 11, 11,  7,  7, 16, 12, 16,  6, 13, 11,\n",
       "         13, 16,  8, 13, 12,  5, 13,  7, 12, 14, 11, 13, 16, 12,  6, 14, 13,  6,\n",
       "         11,  8, 16, 16, 16,  7,  6, 13, 16, 11]))"
      ]
     },
     "execution_count": 203,
     "metadata": {},
     "output_type": "execute_result"
    }
   ],
   "source": [
    "X_train[1], y_train[1]"
   ]
  },
  {
   "cell_type": "code",
   "execution_count": 204,
   "id": "f4c65d13",
   "metadata": {},
   "outputs": [],
   "source": [
    "class PositionalEncoding(nn.Module):\n",
    "    def __init__(self, d_model, max_len=100):\n",
    "        super().__init__()\n",
    "        pe = torch.zeros(max_len, d_model)\n",
    "        position = torch.arange(0, max_len, dtype=torch.float32).unsqueeze(1)\n",
    "        div_term = torch.exp(torch.arange(0, d_model, 2).float() * (-torch.log(torch.tensor(10000.0)) / d_model))\n",
    "        pe[:, 0::2] = torch.sin(position * div_term)\n",
    "        pe[:, 1::2] = torch.cos(position * div_term)\n",
    "        self.pe = pe.unsqueeze(0)  # [1, max_len, d_model]\n",
    "\n",
    "    def forward(self, x):\n",
    "        x = x + self.pe[:, :x.size(1)].to(x.device)\n",
    "        return x"
   ]
  },
  {
   "cell_type": "code",
   "execution_count": 205,
   "id": "1be407da",
   "metadata": {},
   "outputs": [],
   "source": [
    "class AttentionOnlyBlock(nn.Module):\n",
    "    def __init__(self, d_model):\n",
    "        super(AttentionOnlyBlock, self).__init__()\n",
    "        self.Wq = nn.Linear(d_model, d_model)\n",
    "        self.Wk = nn.Linear(d_model, d_model)\n",
    "        self.Wv = nn.Linear(d_model, d_model)\n",
    "        self.norm = nn.LayerNorm(d_model)\n",
    "        self.attn_weights = None\n",
    "\n",
    "    def forward(self, x):\n",
    "        Q = self.Wq(x)\n",
    "        K = self.Wk(x)\n",
    "        V = self.Wv(x)\n",
    "        attn_scores = torch.matmul(Q, K.transpose(-2, -1)) / np.sqrt(x.size(-1))\n",
    "        attn_weights = F.softmax(attn_scores, dim=-1)\n",
    "        self.attn_weights = attn_weights\n",
    "        x = x + torch.matmul(attn_weights, V)\n",
    "        x = self.norm(x)\n",
    "        return x\n"
   ]
  },
  {
   "cell_type": "code",
   "execution_count": 206,
   "id": "bcb3cdb2",
   "metadata": {},
   "outputs": [],
   "source": [
    "class TransformerModel(nn.Module):\n",
    "    def __init__(self, input_dim, d_model, nhead, num_layers):\n",
    "        super(TransformerModel, self).__init__()\n",
    "        self.embedding = nn.Linear(input_dim, d_model)\n",
    "        self.positional_encoding = PositionalEncoding(d_model)\n",
    "        self.transformer_blocks = nn.ModuleList([AttentionOnlyBlock(d_model) for _ in range(num_layers)])\n",
    "        # regression\n",
    "        self.fc = nn.Linear(d_model, 1)\n",
    "    def forward(self, x):\n",
    "        x = self.embedding(x)\n",
    "        x = self.positional_encoding(x)\n",
    "        for block in self.transformer_blocks:\n",
    "            x = block(x)\n",
    "        x = self.fc(x)\n",
    "        return x"
   ]
  },
  {
   "cell_type": "code",
   "execution_count": 207,
   "id": "8049cd76",
   "metadata": {},
   "outputs": [],
   "source": [
    "def train_model(model, train_loader, test_loader, epochs=10, lr=1e-3, device='cuda' if torch.cuda.is_available() else 'cpu'):\n",
    "    model.to(device)\n",
    "    optimizer = torch.optim.Adam(model.parameters(), lr=lr)\n",
    "    criterion = nn.MSELoss()\n",
    "\n",
    "    for epoch in range(1, epochs + 1):\n",
    "        model.train()\n",
    "        total_train_loss = 0\n",
    "\n",
    "        for xb, yb in train_loader:\n",
    "            xb, yb = xb.to(device), yb.to(device)  # xb: [B, T, D], yb: [B, T]\n",
    "            preds = model(xb).squeeze(-1)          # [B, T, 1] -> [B, T]\n",
    "            loss = criterion(preds, yb.float())\n",
    "\n",
    "            optimizer.zero_grad()\n",
    "            loss.backward()\n",
    "            optimizer.step()\n",
    "            total_train_loss += loss.item()\n",
    "\n",
    "        # Validation\n",
    "        model.eval()\n",
    "        total_val_loss = 0\n",
    "        with torch.no_grad():\n",
    "            for xb, yb in test_loader:\n",
    "                xb, yb = xb.to(device), yb.to(device)\n",
    "                preds = model(xb).squeeze(-1)\n",
    "\n",
    "                val_loss = criterion(preds, yb.float())\n",
    "                total_val_loss += val_loss.item()\n",
    "\n",
    "        avg_train_loss = total_train_loss / len(train_loader)\n",
    "        avg_val_loss = total_val_loss / len(test_loader)\n",
    "\n",
    "        print(f\"Epoch {epoch}/{epochs} | Train Loss: {avg_train_loss:.4f} | Val Loss: {avg_val_loss:.4f}\")\n"
   ]
  },
  {
   "cell_type": "code",
   "execution_count": 208,
   "id": "7f17aeff",
   "metadata": {},
   "outputs": [],
   "source": [
    "train_dataset = TensorDataset(X_train, y_train)\n",
    "test_dataset = TensorDataset(X_test, y_test)\n",
    "\n",
    "train_loader = DataLoader(train_dataset, batch_size=32, shuffle=True)\n",
    "test_loader = DataLoader(test_dataset, shuffle=False)"
   ]
  },
  {
   "cell_type": "code",
   "execution_count": 209,
   "id": "df3eb010",
   "metadata": {},
   "outputs": [],
   "source": [
    "model = TransformerModel(input_dim=D, d_model=128, nhead=1, num_layers=1)"
   ]
  },
  {
   "cell_type": "code",
   "execution_count": 217,
   "id": "6dd5475f",
   "metadata": {},
   "outputs": [
    {
     "name": "stdout",
     "output_type": "stream",
     "text": [
      "Epoch 1/20 | Train Loss: 2.0305 | Val Loss: 1.9892\n",
      "Epoch 2/20 | Train Loss: 1.9842 | Val Loss: 2.0452\n",
      "Epoch 3/20 | Train Loss: 1.9453 | Val Loss: 2.0130\n",
      "Epoch 4/20 | Train Loss: 1.9681 | Val Loss: 2.0405\n",
      "Epoch 5/20 | Train Loss: 1.9145 | Val Loss: 1.9863\n",
      "Epoch 6/20 | Train Loss: 1.9215 | Val Loss: 1.9360\n",
      "Epoch 7/20 | Train Loss: 1.8851 | Val Loss: 1.9128\n",
      "Epoch 8/20 | Train Loss: 1.8846 | Val Loss: 1.8686\n",
      "Epoch 9/20 | Train Loss: 1.8751 | Val Loss: 1.8285\n",
      "Epoch 10/20 | Train Loss: 1.8807 | Val Loss: 1.8403\n",
      "Epoch 11/20 | Train Loss: 1.8465 | Val Loss: 1.8352\n",
      "Epoch 12/20 | Train Loss: 1.8481 | Val Loss: 1.9543\n",
      "Epoch 13/20 | Train Loss: 1.8466 | Val Loss: 1.9729\n",
      "Epoch 14/20 | Train Loss: 1.8247 | Val Loss: 1.9143\n",
      "Epoch 15/20 | Train Loss: 1.8288 | Val Loss: 1.7639\n",
      "Epoch 16/20 | Train Loss: 1.8272 | Val Loss: 1.8290\n",
      "Epoch 17/20 | Train Loss: 1.8091 | Val Loss: 1.8928\n",
      "Epoch 18/20 | Train Loss: 1.8174 | Val Loss: 1.9718\n",
      "Epoch 19/20 | Train Loss: 1.8023 | Val Loss: 1.7548\n",
      "Epoch 20/20 | Train Loss: 1.7977 | Val Loss: 1.7575\n"
     ]
    }
   ],
   "source": [
    "train_model(model, train_loader, test_loader, epochs=20, lr=1e-3, device=device)"
   ]
  },
  {
   "cell_type": "code",
   "execution_count": 234,
   "id": "6374eece",
   "metadata": {},
   "outputs": [],
   "source": [
    "def test_model_on_sequence(model, sequence, char_to_id, special_char='A', special_value=7, device='cuda' if torch.cuda.is_available() else 'cpu'):\n",
    "    \"\"\"\n",
    "    Teste le modèle sur une séquence de lettres donnée.\n",
    "    Affiche la séquence, les cibles attendues et les prédictions du modèle.\n",
    "    Colore en vert les bons prédits, en rouge les erreurs. Les colonnes sont alignées.\n",
    "    \"\"\"\n",
    "    import numpy as np\n",
    "    D = len(char_to_id)\n",
    "    embeddings = np.eye(D)\n",
    "    \n",
    "    x_seq = [embeddings[char_to_id[c]] for c in sequence]\n",
    "    x_tensor = torch.tensor([x_seq], dtype=torch.float32).to(device)\n",
    "\n",
    "    counts = {c: sequence.count(c) for c in char_to_id}\n",
    "    y_target = [special_value if c == special_char else counts[c] for c in sequence]\n",
    "\n",
    "    model.eval()\n",
    "    with torch.no_grad():\n",
    "        preds = model(x_tensor).squeeze(0).squeeze(-1).cpu().numpy()\n",
    "        preds_rounded = [round(p) for p in preds]\n",
    "\n",
    "    print(\"📝 Input sequence  : \", end=\"\")\n",
    "    for i, c in enumerate(sequence):\n",
    "        color = \"\\033[92m\" if preds_rounded[i] == y_target[i] else \"\\033[91m\"\n",
    "        print(f\"{color}{c:>3}\\033[0m\", end=\"\")  # lettre alignée à droite sur 3 espaces\n",
    "    print()\n",
    "\n",
    "    print(\"🎯 Expected counts : \", end=\"\")\n",
    "    for i, y in enumerate(y_target):\n",
    "        color = \"\\033[92m\" if preds_rounded[i] == y else \"\\033[91m\"\n",
    "        print(f\"{color}{y:>3}\\033[0m\", end=\"\")  # nombre aligné à droite sur 3 espaces\n",
    "    print()\n",
    "\n",
    "    print(\"🔮 Model predicts  : \", end=\"\")\n",
    "    for i, y in enumerate(preds_rounded):\n",
    "        color = \"\\033[92m\" if y == y_target[i] else \"\\033[91m\"\n",
    "        print(f\"{color}{y:>3}\\033[0m\", end=\"\")  # aligné à droite\n",
    "    print()\n"
   ]
  },
  {
   "cell_type": "code",
   "execution_count": 235,
   "id": "b7fce89b",
   "metadata": {},
   "outputs": [],
   "source": [
    "\n",
    "def generate_random_letter_sequence(T, D, seed=None):\n",
    "    \"\"\"\n",
    "    Génère une séquence de T lettres aléatoires parmi les D premières lettres majuscules.\n",
    "    \"\"\"\n",
    "    assert D <= 26, \"D ne peut pas dépasser 26 (nombre de lettres majuscules).\"\n",
    "    if seed is not None:\n",
    "        random.seed(seed)\n",
    "    alphabet = list(string.ascii_uppercase[:D])\n",
    "    sequence = random.choices(alphabet, k=T)\n",
    "    return sequence"
   ]
  },
  {
   "cell_type": "code",
   "execution_count": 236,
   "id": "2d562a6c",
   "metadata": {},
   "outputs": [
    {
     "name": "stdout",
     "output_type": "stream",
     "text": [
      "📝 Input sequence  : \u001b[91m  G\u001b[0m\u001b[92m  A\u001b[0m\u001b[91m  C\u001b[0m\u001b[91m  C\u001b[0m\u001b[92m  H\u001b[0m\u001b[91m  G\u001b[0m\u001b[91m  I\u001b[0m\u001b[92m  A\u001b[0m\u001b[91m  E\u001b[0m\u001b[92m  A\u001b[0m\u001b[91m  C\u001b[0m\u001b[91m  F\u001b[0m\u001b[92m  A\u001b[0m\u001b[91m  B\u001b[0m\u001b[91m  G\u001b[0m\u001b[91m  F\u001b[0m\u001b[91m  C\u001b[0m\u001b[91m  F\u001b[0m\u001b[91m  I\u001b[0m\u001b[92m  A\u001b[0m\u001b[91m  I\u001b[0m\u001b[91m  G\u001b[0m\u001b[91m  D\u001b[0m\u001b[91m  B\u001b[0m\u001b[91m  J\u001b[0m\u001b[91m  D\u001b[0m\u001b[92m  A\u001b[0m\u001b[92m  A\u001b[0m\u001b[91m  I\u001b[0m\u001b[91m  G\u001b[0m\u001b[91m  I\u001b[0m\u001b[92m  H\u001b[0m\u001b[91m  F\u001b[0m\u001b[91m  J\u001b[0m\u001b[91m  D\u001b[0m\u001b[91m  F\u001b[0m\u001b[91m  I\u001b[0m\u001b[91m  G\u001b[0m\u001b[91m  I\u001b[0m\u001b[91m  F\u001b[0m\u001b[92m  H\u001b[0m\u001b[92m  A\u001b[0m\u001b[91m  C\u001b[0m\u001b[91m  C\u001b[0m\u001b[92m  A\u001b[0m\u001b[91m  C\u001b[0m\u001b[91m  B\u001b[0m\u001b[91m  C\u001b[0m\u001b[91m  G\u001b[0m\u001b[91m  D\u001b[0m\u001b[91m  D\u001b[0m\u001b[91m  C\u001b[0m\u001b[91m  C\u001b[0m\u001b[91m  J\u001b[0m\u001b[91m  G\u001b[0m\u001b[91m  G\u001b[0m\u001b[91m  B\u001b[0m\u001b[92m  H\u001b[0m\u001b[91m  B\u001b[0m\u001b[91m  D\u001b[0m\u001b[91m  J\u001b[0m\u001b[91m  G\u001b[0m\u001b[91m  F\u001b[0m\u001b[91m  G\u001b[0m\u001b[92m  I\u001b[0m\u001b[92m  H\u001b[0m\u001b[91m  C\u001b[0m\u001b[92m  A\u001b[0m\u001b[91m  D\u001b[0m\u001b[91m  C\u001b[0m\u001b[91m  C\u001b[0m\u001b[91m  J\u001b[0m\u001b[92m  I\u001b[0m\u001b[91m  D\u001b[0m\u001b[91m  G\u001b[0m\u001b[91m  D\u001b[0m\u001b[91m  J\u001b[0m\u001b[91m  E\u001b[0m\u001b[91m  C\u001b[0m\u001b[91m  C\u001b[0m\u001b[91m  F\u001b[0m\u001b[91m  C\u001b[0m\u001b[91m  F\u001b[0m\u001b[92m  I\u001b[0m\u001b[91m  D\u001b[0m\u001b[91m  C\u001b[0m\u001b[91m  J\u001b[0m\u001b[91m  F\u001b[0m\u001b[92m  A\u001b[0m\u001b[92m  A\u001b[0m\u001b[91m  B\u001b[0m\u001b[91m  G\u001b[0m\u001b[92m  H\u001b[0m\u001b[91m  E\u001b[0m\u001b[92m  A\u001b[0m\u001b[91m  D\u001b[0m\u001b[91m  J\u001b[0m\u001b[91m  F\u001b[0m\u001b[91m  J\u001b[0m\u001b[91m  I\u001b[0m\n",
      "🎯 Expected counts : \u001b[91m 13\u001b[0m\u001b[92m  7\u001b[0m\u001b[91m 17\u001b[0m\u001b[91m 17\u001b[0m\u001b[92m  6\u001b[0m\u001b[91m 13\u001b[0m\u001b[91m 11\u001b[0m\u001b[92m  7\u001b[0m\u001b[91m  3\u001b[0m\u001b[92m  7\u001b[0m\u001b[91m 17\u001b[0m\u001b[91m 11\u001b[0m\u001b[92m  7\u001b[0m\u001b[91m  6\u001b[0m\u001b[91m 13\u001b[0m\u001b[91m 11\u001b[0m\u001b[91m 17\u001b[0m\u001b[91m 11\u001b[0m\u001b[91m 11\u001b[0m\u001b[92m  7\u001b[0m\u001b[91m 11\u001b[0m\u001b[91m 13\u001b[0m\u001b[91m 11\u001b[0m\u001b[91m  6\u001b[0m\u001b[91m  9\u001b[0m\u001b[91m 11\u001b[0m\u001b[92m  7\u001b[0m\u001b[92m  7\u001b[0m\u001b[91m 11\u001b[0m\u001b[91m 13\u001b[0m\u001b[91m 11\u001b[0m\u001b[92m  6\u001b[0m\u001b[91m 11\u001b[0m\u001b[91m  9\u001b[0m\u001b[91m 11\u001b[0m\u001b[91m 11\u001b[0m\u001b[91m 11\u001b[0m\u001b[91m 13\u001b[0m\u001b[91m 11\u001b[0m\u001b[91m 11\u001b[0m\u001b[92m  6\u001b[0m\u001b[92m  7\u001b[0m\u001b[91m 17\u001b[0m\u001b[91m 17\u001b[0m\u001b[92m  7\u001b[0m\u001b[91m 17\u001b[0m\u001b[91m  6\u001b[0m\u001b[91m 17\u001b[0m\u001b[91m 13\u001b[0m\u001b[91m 11\u001b[0m\u001b[91m 11\u001b[0m\u001b[91m 17\u001b[0m\u001b[91m 17\u001b[0m\u001b[91m  9\u001b[0m\u001b[91m 13\u001b[0m\u001b[91m 13\u001b[0m\u001b[91m  6\u001b[0m\u001b[92m  6\u001b[0m\u001b[91m  6\u001b[0m\u001b[91m 11\u001b[0m\u001b[91m  9\u001b[0m\u001b[91m 13\u001b[0m\u001b[91m 11\u001b[0m\u001b[91m 13\u001b[0m\u001b[92m 11\u001b[0m\u001b[92m  6\u001b[0m\u001b[91m 17\u001b[0m\u001b[92m  7\u001b[0m\u001b[91m 11\u001b[0m\u001b[91m 17\u001b[0m\u001b[91m 17\u001b[0m\u001b[91m  9\u001b[0m\u001b[92m 11\u001b[0m\u001b[91m 11\u001b[0m\u001b[91m 13\u001b[0m\u001b[91m 11\u001b[0m\u001b[91m  9\u001b[0m\u001b[91m  3\u001b[0m\u001b[91m 17\u001b[0m\u001b[91m 17\u001b[0m\u001b[91m 11\u001b[0m\u001b[91m 17\u001b[0m\u001b[91m 11\u001b[0m\u001b[92m 11\u001b[0m\u001b[91m 11\u001b[0m\u001b[91m 17\u001b[0m\u001b[91m  9\u001b[0m\u001b[91m 11\u001b[0m\u001b[92m  7\u001b[0m\u001b[92m  7\u001b[0m\u001b[91m  6\u001b[0m\u001b[91m 13\u001b[0m\u001b[92m  6\u001b[0m\u001b[91m  3\u001b[0m\u001b[92m  7\u001b[0m\u001b[91m 11\u001b[0m\u001b[91m  9\u001b[0m\u001b[91m 11\u001b[0m\u001b[91m  9\u001b[0m\u001b[91m 11\u001b[0m\n",
      "🔮 Model predicts  : \u001b[91m 11\u001b[0m\u001b[92m  7\u001b[0m\u001b[91m 16\u001b[0m\u001b[91m 15\u001b[0m\u001b[92m  6\u001b[0m\u001b[91m 11\u001b[0m\u001b[91m 10\u001b[0m\u001b[92m  7\u001b[0m\u001b[91m  2\u001b[0m\u001b[92m  7\u001b[0m\u001b[91m 15\u001b[0m\u001b[91m 10\u001b[0m\u001b[92m  7\u001b[0m\u001b[91m  5\u001b[0m\u001b[91m 11\u001b[0m\u001b[91m 10\u001b[0m\u001b[91m 15\u001b[0m\u001b[91m 10\u001b[0m\u001b[91m 10\u001b[0m\u001b[92m  7\u001b[0m\u001b[91m 10\u001b[0m\u001b[91m 11\u001b[0m\u001b[91m  9\u001b[0m\u001b[91m  5\u001b[0m\u001b[91m  7\u001b[0m\u001b[91m  9\u001b[0m\u001b[92m  7\u001b[0m\u001b[92m  7\u001b[0m\u001b[91m 10\u001b[0m\u001b[91m 11\u001b[0m\u001b[91m 10\u001b[0m\u001b[92m  6\u001b[0m\u001b[91m 10\u001b[0m\u001b[91m  7\u001b[0m\u001b[91m  9\u001b[0m\u001b[91m 10\u001b[0m\u001b[91m 10\u001b[0m\u001b[91m 11\u001b[0m\u001b[91m 10\u001b[0m\u001b[91m 10\u001b[0m\u001b[92m  6\u001b[0m\u001b[92m  7\u001b[0m\u001b[91m 15\u001b[0m\u001b[91m 15\u001b[0m\u001b[92m  7\u001b[0m\u001b[91m 14\u001b[0m\u001b[91m  5\u001b[0m\u001b[91m 15\u001b[0m\u001b[91m 11\u001b[0m\u001b[91m  9\u001b[0m\u001b[91m  9\u001b[0m\u001b[91m 15\u001b[0m\u001b[91m 15\u001b[0m\u001b[91m  7\u001b[0m\u001b[91m 11\u001b[0m\u001b[91m 11\u001b[0m\u001b[91m  5\u001b[0m\u001b[92m  6\u001b[0m\u001b[91m  4\u001b[0m\u001b[91m  9\u001b[0m\u001b[91m  7\u001b[0m\u001b[91m 11\u001b[0m\u001b[91m 10\u001b[0m\u001b[91m 11\u001b[0m\u001b[92m 11\u001b[0m\u001b[92m  6\u001b[0m\u001b[91m 16\u001b[0m\u001b[92m  7\u001b[0m\u001b[91m 10\u001b[0m\u001b[91m 15\u001b[0m\u001b[91m 15\u001b[0m\u001b[91m  7\u001b[0m\u001b[92m 11\u001b[0m\u001b[91m  9\u001b[0m\u001b[91m 11\u001b[0m\u001b[91m  9\u001b[0m\u001b[91m  7\u001b[0m\u001b[91m  2\u001b[0m\u001b[91m 15\u001b[0m\u001b[91m 15\u001b[0m\u001b[91m 10\u001b[0m\u001b[91m 15\u001b[0m\u001b[91m 10\u001b[0m\u001b[92m 11\u001b[0m\u001b[91m  9\u001b[0m\u001b[91m 15\u001b[0m\u001b[91m  7\u001b[0m\u001b[91m 10\u001b[0m\u001b[92m  7\u001b[0m\u001b[92m  7\u001b[0m\u001b[91m  5\u001b[0m\u001b[91m 11\u001b[0m\u001b[92m  6\u001b[0m\u001b[91m  2\u001b[0m\u001b[92m  7\u001b[0m\u001b[91m  9\u001b[0m\u001b[91m  7\u001b[0m\u001b[91m 10\u001b[0m\u001b[91m  7\u001b[0m\u001b[91m 10\u001b[0m\n"
     ]
    }
   ],
   "source": [
    "sequence = generate_random_letter_sequence(T=T, D=D, seed=42)\n",
    "test_model_on_sequence(model, sequence, char_to_id)\n"
   ]
  },
  {
   "cell_type": "code",
   "execution_count": null,
   "id": "253054fa",
   "metadata": {},
   "outputs": [],
   "source": [
    "\n"
   ]
  }
 ],
 "metadata": {
  "kernelspec": {
   "display_name": "Python 3",
   "language": "python",
   "name": "python3"
  },
  "language_info": {
   "codemirror_mode": {
    "name": "ipython",
    "version": 3
   },
   "file_extension": ".py",
   "mimetype": "text/x-python",
   "name": "python",
   "nbconvert_exporter": "python",
   "pygments_lexer": "ipython3",
   "version": "3.9.21"
  }
 },
 "nbformat": 4,
 "nbformat_minor": 5
}
