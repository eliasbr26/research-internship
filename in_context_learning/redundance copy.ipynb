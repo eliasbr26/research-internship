{
 "cells": [
  {
   "cell_type": "code",
   "execution_count": 1,
   "id": "326d3a19",
   "metadata": {},
   "outputs": [],
   "source": [
    "import numpy as np\n",
    "import random\n",
    "import string\n",
    "import torch\n",
    "from torch.utils.data import TensorDataset, DataLoader\n",
    "from sklearn.model_selection import train_test_split\n",
    "import torch.nn as nn\n",
    "import torch.nn.functional as F\n"
   ]
  },
  {
   "cell_type": "code",
   "execution_count": 2,
   "id": "03d31002",
   "metadata": {},
   "outputs": [],
   "source": [
    "device = torch.device(\"cuda\" if torch.cuda.is_available() else \"cpu\")"
   ]
  },
  {
   "cell_type": "code",
   "execution_count": 3,
   "id": "0e3f3395",
   "metadata": {},
   "outputs": [],
   "source": [
    "def generate_orthogonal_vectors(n):\n",
    "    random_vectors = np.random.rand(n, n)\n",
    "    orthogonal_vectors, _ = np.linalg.qr(random_vectors)\n",
    "    return orthogonal_vectors"
   ]
  },
  {
   "cell_type": "code",
   "execution_count": 4,
   "id": "27607b90",
   "metadata": {},
   "outputs": [],
   "source": [
    "v = generate_orthogonal_vectors(3)"
   ]
  },
  {
   "cell_type": "code",
   "execution_count": 5,
   "id": "80d8c32f",
   "metadata": {},
   "outputs": [],
   "source": [
    "def generate_markov_sequences(n, T, k, p_self=0.7, seed=None):\n",
    "    \"\"\"\n",
    "    Génère n séquences de longueur T avec k lettres (A, B, C...), en favorisant les répétitions.\n",
    "    \n",
    "    - p_self : probabilité de répéter la même lettre (ex: 0.7)\n",
    "    - seed : graine pour reproductibilité\n",
    "    \"\"\"\n",
    "    if seed is not None:\n",
    "        np.random.seed(seed)\n",
    "\n",
    "    letters = [chr(ord('A') + i) for i in range(k)]\n",
    "    \n",
    "    # Matrice de transition avec p_self pour la diagonale\n",
    "    transition_matrix = np.full((k, k), (1 - p_self) / (k - 1))\n",
    "    np.fill_diagonal(transition_matrix, p_self)\n",
    "\n",
    "    sequences = []\n",
    "    for _ in range(n):\n",
    "        seq = [np.random.choice(letters)]\n",
    "        for _ in range(1, T):\n",
    "            prev = letters.index(seq[-1])\n",
    "            next_letter = np.random.choice(letters, p=transition_matrix[prev])\n",
    "            seq.append(next_letter)\n",
    "        sequences.append(seq)\n",
    "\n",
    "    return sequences\n"
   ]
  },
  {
   "cell_type": "code",
   "execution_count": 6,
   "id": "a5007bc8",
   "metadata": {},
   "outputs": [
    {
     "data": {
      "text/plain": [
       "[['G', 'H', 'H', 'H', 'H'],\n",
       " ['S', 'G', 'G', 'G', 'G'],\n",
       " ['C', 'B', 'S', 'S', 'N'],\n",
       " ['A', 'A', 'A', 'A', 'A'],\n",
       " ['J', 'C', 'S', 'O', 'F'],\n",
       " ['S', 'S', 'S', 'S', 'S'],\n",
       " ['G', 'G', 'E', 'Q', 'R'],\n",
       " ['R', 'R', 'B', 'B', 'B'],\n",
       " ['G', 'G', 'J', 'J', 'J'],\n",
       " ['R', 'R', 'R', 'R', 'R']]"
      ]
     },
     "execution_count": 6,
     "metadata": {},
     "output_type": "execute_result"
    }
   ],
   "source": [
    "generate_markov_sequences(10, 5, 20, seed=42)"
   ]
  },
  {
   "cell_type": "code",
   "execution_count": 9,
   "id": "3b44a102",
   "metadata": {},
   "outputs": [],
   "source": [
    "def generate_sequences(n, T, k):\n",
    "    assert 1 <= k <= 26, \"k doit être entre 1 et 26\"\n",
    "    alphabet = list(string.ascii_uppercase[:k])\n",
    "    sequences = [random.choices(alphabet, k=T) for _ in range(n)]\n",
    "    return sequences\n"
   ]
  },
  {
   "cell_type": "code",
   "execution_count": 10,
   "id": "9f143d35",
   "metadata": {},
   "outputs": [],
   "source": [
    "def generate_dictionaries(k):\n",
    "    \"\"\"\n",
    "    Génère les dictionnaires char<->id et char<->embedding pour k lettres + un token vide.\n",
    "    \"\"\"\n",
    "    import numpy as np\n",
    "\n",
    "    letters = [chr(ord('A') + i) for i in range(k)]\n",
    "    letters.append('_')  # token vide\n",
    "    dim = k \n",
    "    basis = np.eye(dim)  # Embeddings orthogonaux\n",
    "\n",
    "    char_to_id = {char: i for i, char in enumerate(letters)}\n",
    "    id_to_char = {i: char for char, i in char_to_id.items()}\n",
    "    char_to_embed = {char: basis[i] for i, char in enumerate(letters[:-1])}\n",
    "\n",
    "    return char_to_id, id_to_char, char_to_embed"
   ]
  },
  {
   "cell_type": "code",
   "execution_count": 11,
   "id": "48b645cb",
   "metadata": {},
   "outputs": [],
   "source": [
    "def remove_redundancies_and_pad_class(sequence, pad_token='_', char_to_id=None):\n",
    "    \"\"\"\n",
    "    Supprime les redondances successives dans la séquence.\n",
    "    Les lettres redondantes sont remplacées par le pad_token à la même position.\n",
    "    Retourne une liste d'entiers (class ids).\n",
    "    \"\"\"\n",
    "    assert char_to_id is not None\n",
    "    if not sequence:\n",
    "        return []\n",
    "\n",
    "    output = [sequence[0]]\n",
    "    for i in range(1, len(sequence)):\n",
    "        if sequence[i] == sequence[i-1]:\n",
    "            output.append(pad_token)\n",
    "        else:\n",
    "            output.append(sequence[i])\n",
    "\n",
    "    return [char_to_id[c] for c in output]\n"
   ]
  },
  {
   "cell_type": "code",
   "execution_count": 15,
   "id": "fff0b100",
   "metadata": {},
   "outputs": [],
   "source": [
    "def generate_class_dataset(n, T, D, seed=None):\n",
    "    \"\"\"\n",
    "    Génère un dataset de n séquences (X, y) :\n",
    "    - X est une séquence d'embeddings\n",
    "    - y est une séquence d'indices de classes (après suppression des redondances)\n",
    "    \"\"\"\n",
    "    import numpy as np\n",
    "    import torch\n",
    "\n",
    "    if seed is not None:\n",
    "        np.random.seed(seed)\n",
    "\n",
    "    char_to_id, id_to_char, char_to_embed = generate_dictionaries(D)\n",
    "    letters = [chr(ord('A') + i) for i in range(D)]\n",
    "    pad_token = '_'\n",
    "\n",
    "\n",
    "    X = []\n",
    "    y = []\n",
    "\n",
    "    sequences = generate_sequences(n, T, D)\n",
    "\n",
    "    for seq in sequences:\n",
    "        # Séquence d'embeddings\n",
    "        embeddings = [char_to_embed[char] for char in seq]\n",
    "        X.append(embeddings)\n",
    "\n",
    "        # Séquence d'indices de classes (après suppression des redondances)\n",
    "        class_ids = remove_redundancies_and_pad_class(seq, pad_token=pad_token, char_to_id=char_to_id)\n",
    "        y.append(class_ids)\n",
    "\n",
    "    X = torch.tensor(X).float()    # [B, T, D]\n",
    "    y = torch.tensor(y).long()     # [B, T]\n",
    "    return X, y, char_to_id, id_to_char"
   ]
  },
  {
   "cell_type": "code",
   "execution_count": 60,
   "id": "06849be6",
   "metadata": {},
   "outputs": [],
   "source": [
    "n = 20000\n",
    "T = 100\n",
    "D = 2"
   ]
  },
  {
   "cell_type": "code",
   "execution_count": 61,
   "id": "3cfe5ecf",
   "metadata": {},
   "outputs": [],
   "source": [
    "X, y, char_to_id, id_to_char = generate_class_dataset(n, T, D)"
   ]
  },
  {
   "cell_type": "code",
   "execution_count": 62,
   "id": "433410c8",
   "metadata": {},
   "outputs": [],
   "source": [
    "X_train, X_test, y_train, y_test = train_test_split(X, y, test_size=0.2, random_state=42)"
   ]
  },
  {
   "cell_type": "code",
   "execution_count": 63,
   "id": "77382715",
   "metadata": {},
   "outputs": [
    {
     "data": {
      "text/plain": [
       "(tensor([[1., 0.],\n",
       "         [0., 1.],\n",
       "         [1., 0.],\n",
       "         [0., 1.],\n",
       "         [0., 1.],\n",
       "         [0., 1.],\n",
       "         [1., 0.],\n",
       "         [0., 1.],\n",
       "         [0., 1.],\n",
       "         [1., 0.],\n",
       "         [1., 0.],\n",
       "         [1., 0.],\n",
       "         [0., 1.],\n",
       "         [0., 1.],\n",
       "         [0., 1.],\n",
       "         [1., 0.],\n",
       "         [1., 0.],\n",
       "         [1., 0.],\n",
       "         [0., 1.],\n",
       "         [1., 0.],\n",
       "         [0., 1.],\n",
       "         [0., 1.],\n",
       "         [1., 0.],\n",
       "         [1., 0.],\n",
       "         [0., 1.],\n",
       "         [0., 1.],\n",
       "         [1., 0.],\n",
       "         [0., 1.],\n",
       "         [0., 1.],\n",
       "         [0., 1.],\n",
       "         [0., 1.],\n",
       "         [1., 0.],\n",
       "         [0., 1.],\n",
       "         [0., 1.],\n",
       "         [0., 1.],\n",
       "         [1., 0.],\n",
       "         [0., 1.],\n",
       "         [1., 0.],\n",
       "         [0., 1.],\n",
       "         [0., 1.],\n",
       "         [1., 0.],\n",
       "         [1., 0.],\n",
       "         [1., 0.],\n",
       "         [0., 1.],\n",
       "         [0., 1.],\n",
       "         [0., 1.],\n",
       "         [0., 1.],\n",
       "         [0., 1.],\n",
       "         [0., 1.],\n",
       "         [0., 1.],\n",
       "         [1., 0.],\n",
       "         [1., 0.],\n",
       "         [0., 1.],\n",
       "         [0., 1.],\n",
       "         [1., 0.],\n",
       "         [1., 0.],\n",
       "         [1., 0.],\n",
       "         [1., 0.],\n",
       "         [0., 1.],\n",
       "         [0., 1.],\n",
       "         [1., 0.],\n",
       "         [0., 1.],\n",
       "         [1., 0.],\n",
       "         [1., 0.],\n",
       "         [0., 1.],\n",
       "         [1., 0.],\n",
       "         [0., 1.],\n",
       "         [0., 1.],\n",
       "         [0., 1.],\n",
       "         [1., 0.],\n",
       "         [0., 1.],\n",
       "         [0., 1.],\n",
       "         [0., 1.],\n",
       "         [1., 0.],\n",
       "         [0., 1.],\n",
       "         [1., 0.],\n",
       "         [1., 0.],\n",
       "         [0., 1.],\n",
       "         [0., 1.],\n",
       "         [0., 1.],\n",
       "         [0., 1.],\n",
       "         [1., 0.],\n",
       "         [0., 1.],\n",
       "         [1., 0.],\n",
       "         [1., 0.],\n",
       "         [0., 1.],\n",
       "         [1., 0.],\n",
       "         [0., 1.],\n",
       "         [1., 0.],\n",
       "         [0., 1.],\n",
       "         [1., 0.],\n",
       "         [0., 1.],\n",
       "         [1., 0.],\n",
       "         [0., 1.],\n",
       "         [1., 0.],\n",
       "         [0., 1.],\n",
       "         [1., 0.],\n",
       "         [0., 1.],\n",
       "         [0., 1.],\n",
       "         [1., 0.]]),\n",
       " tensor([0, 1, 0, 1, 2, 2, 0, 1, 2, 0, 2, 2, 1, 2, 2, 0, 2, 2, 1, 0, 1, 2, 0, 2,\n",
       "         1, 2, 0, 1, 2, 2, 2, 0, 1, 2, 2, 0, 1, 0, 1, 2, 0, 2, 2, 1, 2, 2, 2, 2,\n",
       "         2, 2, 0, 2, 1, 2, 0, 2, 2, 2, 1, 2, 0, 1, 0, 2, 1, 0, 1, 2, 2, 0, 1, 2,\n",
       "         2, 0, 1, 0, 2, 1, 2, 2, 2, 0, 1, 0, 2, 1, 0, 1, 0, 1, 0, 1, 0, 1, 0, 1,\n",
       "         0, 1, 2, 0]))"
      ]
     },
     "execution_count": 63,
     "metadata": {},
     "output_type": "execute_result"
    }
   ],
   "source": [
    "X_train[1], y_train[1]"
   ]
  },
  {
   "cell_type": "code",
   "execution_count": 82,
   "id": "42550ec4",
   "metadata": {},
   "outputs": [],
   "source": [
    "train_dataset = TensorDataset(X_train, y_train)\n",
    "test_dataset = TensorDataset(X_test, y_test)\n",
    "\n",
    "# Création des DataLoaders\n",
    "train_loader = DataLoader(train_dataset, batch_size=30, shuffle=True)\n",
    "test_loader = DataLoader(test_dataset, 1000)"
   ]
  },
  {
   "cell_type": "code",
   "execution_count": 21,
   "id": "1e063ffb",
   "metadata": {},
   "outputs": [],
   "source": [
    "class PositionalEncoding(nn.Module):\n",
    "    def __init__(self, d_model, max_len=100):\n",
    "        super().__init__()\n",
    "        pe = torch.zeros(max_len, d_model)\n",
    "        position = torch.arange(0, max_len, dtype=torch.float32).unsqueeze(1)\n",
    "        div_term = torch.exp(torch.arange(0, d_model, 2).float() * (-torch.log(torch.tensor(10000.0)) / d_model))\n",
    "        pe[:, 0::2] = torch.sin(position * div_term)\n",
    "        pe[:, 1::2] = torch.cos(position * div_term)\n",
    "        self.pe = pe.unsqueeze(0)  # [1, max_len, d_model]\n",
    "\n",
    "    def forward(self, x):\n",
    "        x = x + self.pe[:, :x.size(1)].to(x.device)\n",
    "        return x"
   ]
  },
  {
   "cell_type": "code",
   "execution_count": 35,
   "id": "9c9d55e8",
   "metadata": {},
   "outputs": [],
   "source": [
    "class RedundancyRemovalTransformer(nn.Module):\n",
    "    def __init__(self, input_dim, num_classes, d_model=128, nhead=4, num_layers=2, dim_feedforward=256, dropout=0.1, max_len=100):\n",
    "        super().__init__()\n",
    "        self.embedding_proj = nn.Linear(input_dim, d_model)\n",
    "        self.pos_encoder = PositionalEncoding(d_model, max_len)\n",
    "        encoder_layer = nn.TransformerEncoderLayer(d_model, nhead, dim_feedforward, dropout, batch_first=True)\n",
    "        self.transformer_encoder = nn.TransformerEncoder(encoder_layer, num_layers)\n",
    "        self.classifier = nn.Linear(d_model, num_classes)  # logits pour les classes\n",
    "\n",
    "    def forward(self, x):\n",
    "        x = self.embedding_proj(x)          # [B, T, d_model]\n",
    "        x = self.pos_encoder(x)             # [B, T, d_model]\n",
    "        x = self.transformer_encoder(x)     # [B, T, d_model]\n",
    "        logits = self.classifier(x)         # [B, T, C]\n",
    "        return logits\n"
   ]
  },
  {
   "cell_type": "code",
   "execution_count": 102,
   "id": "09550eb9",
   "metadata": {},
   "outputs": [],
   "source": [
    "def token_accuracy(preds, targets):\n",
    "    \"\"\"\n",
    "    Calcule l'accuracy lettre par lettre (token par token).\n",
    "    \"\"\"\n",
    "    pred_classes = torch.argmax(preds, dim=-1)  # [B, T]\n",
    "    correct = (pred_classes == targets).float()\n",
    "    return correct.mean().item()\n",
    "\n",
    "def train_model(model, train_loader, test_loader, epochs=10, lr=1e-3, device='cuda' if torch.cuda.is_available() else 'cpu'):\n",
    "    model.to(device)\n",
    "    optimizer = torch.optim.Adam(model.parameters(), lr=lr)\n",
    "    criterion = nn.CrossEntropyLoss()  # attente [B, C, T] vs [B, T]\n",
    "\n",
    "    train_loss_list = []\n",
    "    test_loss_list = []\n",
    "    test_acc_list = []\n",
    "\n",
    "    for epoch in range(1, epochs + 1):\n",
    "        model.train()\n",
    "        total_train_loss = 0\n",
    "\n",
    "        for xb, yb in train_loader:\n",
    "            xb, yb = xb.to(device), yb.to(device)  # xb: [B, T, D], yb: [B, T]\n",
    "            preds = model(xb)                      # preds: [B, T, C]\n",
    "            preds = preds.permute(0, 2, 1)         # -> [B, C, T] pour CrossEntropy\n",
    "            loss = criterion(preds, yb)\n",
    "            \n",
    "            optimizer.zero_grad()\n",
    "            loss.backward()\n",
    "            optimizer.step()\n",
    "\n",
    "            train_loss_list.append(loss.item())\n",
    "            total_train_loss += loss.item()\n",
    "\n",
    "        # 🔍 Validation à la fin de l'epoch\n",
    "        model.eval()\n",
    "        total_val_loss = 0\n",
    "        total_acc = 0\n",
    "        total_samples = 0\n",
    "        with torch.no_grad():\n",
    "            for xb, yb in test_loader:\n",
    "                xb, yb = xb.to(device), yb.to(device)\n",
    "                preds = model(xb)\n",
    "                val_loss = criterion(preds.permute(0, 2, 1), yb)\n",
    "                total_val_loss += val_loss.item()\n",
    "                test_loss_list.append(val_loss.item())\n",
    "\n",
    "                acc = token_accuracy(preds, yb)\n",
    "                total_acc += acc * xb.size(0)\n",
    "                total_samples += xb.size(0)\n",
    "\n",
    "        avg_train_loss = total_train_loss / len(train_loader)\n",
    "        avg_val_loss = total_val_loss / len(test_loader)\n",
    "        avg_val_acc = total_acc / total_samples\n",
    "        test_acc_list.append(avg_val_acc)\n",
    "\n",
    "        print(f\"Epoch {epoch}/{epochs} | Train Loss: {avg_train_loss:.4f} | Val Loss: {avg_val_loss:.4f} | Val Acc: {avg_val_acc:.4f}\")\n",
    "\n",
    "    return train_loss_list, test_loss_list, test_acc_list\n",
    "\n"
   ]
  },
  {
   "cell_type": "code",
   "execution_count": 103,
   "id": "61a2ad55",
   "metadata": {},
   "outputs": [],
   "source": [
    "import torch\n",
    "import torch.nn as nn\n",
    "import torch.nn.functional as F\n",
    "\n",
    "class PositionalEncoding(nn.Module):\n",
    "    def __init__(self, d_model, max_len=500):\n",
    "        super().__init__()\n",
    "        pe = torch.zeros(max_len, d_model)\n",
    "        position = torch.arange(0, max_len, dtype=torch.float).unsqueeze(1)\n",
    "        div_term = torch.exp(torch.arange(0, d_model, 2).float() * (-torch.log(torch.tensor(10000.0)) / d_model))\n",
    "        pe[:, 0::2] = torch.sin(position * div_term)\n",
    "        pe[:, 1::2] = torch.cos(position * div_term)\n",
    "        self.pe = pe.unsqueeze(0)\n",
    "\n",
    "    def forward(self, x):\n",
    "        return x + self.pe[:, :x.size(1)].to(x.device)\n",
    "    \n",
    "\n",
    "import torch\n",
    "import torch.nn as nn\n",
    "\n",
    "class BinaryPositionalEncoding(nn.Module):\n",
    "    def __init__(self, d_model, max_len=500):\n",
    "        super().__init__()\n",
    "        assert d_model >= 1, \"d_model must be at least 1\"\n",
    "        \n",
    "        pe = torch.zeros(max_len, d_model)\n",
    "        for pos in range(max_len):\n",
    "            if pos % 2 == 0:\n",
    "                pe[pos, 0] = 1.0  # encode 'even' with a 1\n",
    "            else:\n",
    "                pe[pos, 0] = -1.0  # encode 'odd' with a -1\n",
    "        self.pe = pe.unsqueeze(0)  # shape: [1, max_len, d_model]\n",
    "\n",
    "    def forward(self, x):\n",
    "        # x: [B, T, D]\n",
    "        return x + self.pe[:, :x.size(1)].to(x.device)\n",
    "\n",
    "\n",
    "class AttentionOnlyBlock(nn.Module):\n",
    "    def __init__(self, d_model):\n",
    "        super().__init__()\n",
    "        self.Wq = nn.Linear(d_model, d_model, bias=False)\n",
    "        self.Wk = nn.Linear(d_model, d_model, bias=False)\n",
    "        self.Wv = nn.Linear(d_model, d_model, bias=False)\n",
    "        self.attn_weights = None  # <-- pour garder la dernière attention\n",
    "\n",
    "    def forward(self, x):\n",
    "        Q = self.Wq(x)\n",
    "        K = self.Wk(x)\n",
    "        V = self.Wv(x)\n",
    "        attn_scores = torch.matmul(Q, K.transpose(-2, -1)) / (Q.size(-1) ** 0.5)\n",
    "        attn_weights = F.softmax(attn_scores, dim=-1)\n",
    "        self.attn_weights = attn_weights.detach().cpu()  # stocker pour affichage\n",
    "        attn_output = torch.matmul(attn_weights, V)\n",
    "        return x + attn_output\n",
    "\n",
    "class AttentionOnlyTransformer(nn.Module):\n",
    "    def __init__(self, input_dim, num_classes, d_model=128, num_layers=2, max_len=100):\n",
    "        super().__init__()\n",
    "        self.embedding_proj = nn.Linear(input_dim, d_model)\n",
    "        self.pos_encoder = PositionalEncoding(d_model, max_len)\n",
    "        self.layers = nn.ModuleList([AttentionOnlyBlock(d_model) for _ in range(num_layers)])\n",
    "        self.classifier = nn.Linear(d_model, num_classes)\n",
    "\n",
    "    def forward(self, x):\n",
    "        x = self.embedding_proj(x)\n",
    "        x = self.pos_encoder(x)\n",
    "        for layer in self.layers:\n",
    "            x = layer(x)\n",
    "        return self.classifier(x)\n"
   ]
  },
  {
   "cell_type": "code",
   "execution_count": 113,
   "id": "c1705b64",
   "metadata": {},
   "outputs": [],
   "source": [
    "model = AttentionOnlyTransformer(input_dim=D, num_classes=len(char_to_id), d_model=128, num_layers=2, max_len=T)"
   ]
  },
  {
   "cell_type": "code",
   "execution_count": 114,
   "id": "2ed3c943",
   "metadata": {},
   "outputs": [
    {
     "name": "stdout",
     "output_type": "stream",
     "text": [
      "Epoch 1/12 | Train Loss: 0.7401 | Val Loss: 0.6885 | Val Acc: 0.5385\n",
      "Epoch 2/12 | Train Loss: 0.6737 | Val Loss: 0.6493 | Val Acc: 0.6107\n",
      "Epoch 3/12 | Train Loss: 0.5837 | Val Loss: 0.4844 | Val Acc: 0.7503\n",
      "Epoch 4/12 | Train Loss: 0.3456 | Val Loss: 0.2049 | Val Acc: 0.9065\n",
      "Epoch 5/12 | Train Loss: 0.1140 | Val Loss: 0.0475 | Val Acc: 0.9816\n",
      "Epoch 6/12 | Train Loss: 0.0200 | Val Loss: 0.0061 | Val Acc: 0.9988\n",
      "Epoch 7/12 | Train Loss: 0.0029 | Val Loss: 0.0014 | Val Acc: 0.9998\n",
      "Epoch 8/12 | Train Loss: 0.0009 | Val Loss: 0.0006 | Val Acc: 0.9999\n",
      "Epoch 9/12 | Train Loss: 0.0005 | Val Loss: 0.0004 | Val Acc: 0.9999\n",
      "Epoch 10/12 | Train Loss: 0.0003 | Val Loss: 0.0002 | Val Acc: 1.0000\n",
      "Epoch 11/12 | Train Loss: 0.0002 | Val Loss: 0.0002 | Val Acc: 1.0000\n",
      "Epoch 12/12 | Train Loss: 0.0001 | Val Loss: 0.0001 | Val Acc: 1.0000\n"
     ]
    }
   ],
   "source": [
    "train_loss_list, test_loss_list, test_acc_list = train_model(model, train_loader, test_loader, epochs=12, lr=0.0001)"
   ]
  },
  {
   "cell_type": "code",
   "execution_count": 115,
   "id": "7c362239",
   "metadata": {},
   "outputs": [
    {
     "data": {
      "image/png": "[encoded data removed]",
      "text/plain": [
       "<Figure size 640x480 with 2 Axes>"
      ]
     },
     "metadata": {},
     "output_type": "display_data"
    }
   ],
   "source": [
    "import matplotlib.pyplot as plt\n",
    "\n",
    "fig, ax1 = plt.subplots()\n",
    "\n",
    "# Axe 1 : Train Loss par batch\n",
    "color = 'tab:blue'\n",
    "ax1.set_xlabel('Batch number')\n",
    "ax1.set_ylabel('Train Loss', color=color)\n",
    "ax1.plot(train_loss_list, color=color, label='Train Loss')\n",
    "ax1.tick_params(axis='y', labelcolor=color)\n",
    "\n",
    "# Axe 2 : Accuracy par epoch\n",
    "ax2 = ax1.twinx()  # second axe Y\n",
    "color = 'tab:orange'\n",
    "ax2.set_ylabel('Val Accuracy', color=color)\n",
    "ax2.plot(\n",
    "    [len(train_loss_list) // len(test_acc_list) * i for i in range(len(test_acc_list))],\n",
    "    test_acc_list,\n",
    "    color=color,\n",
    "    marker='o',\n",
    "    label='Val Accuracy'\n",
    ")\n",
    "ax2.tick_params(axis='y', labelcolor=color)\n",
    "\n",
    "plt.title(\"Training Loss per Batch and Validation Accuracy per Epoch\")\n",
    "plt.tight_layout()\n",
    "plt.show()\n"
   ]
  },
  {
   "cell_type": "code",
   "execution_count": 117,
   "id": "89dd588c",
   "metadata": {},
   "outputs": [],
   "source": [
    "#save fig\n",
    "fig.savefig(\"images/train_loss_val_accuracy.png\")"
   ]
  },
  {
   "cell_type": "code",
   "execution_count": 31,
   "id": "501a04ac",
   "metadata": {},
   "outputs": [
    {
     "name": "stdout",
     "output_type": "stream",
     "text": [
      "📝 Séquence : ABAABABBBBBBABBBBBBBBBBAAAAABBBBBBAABABAABABBABABAABBABBBBABBAABBAAAABABABABBBBAAAAABAAABBAABABBABAA\n"
     ]
    },
    {
     "data": {
      "image/png": "[encoded data removed]",
      "text/plain": [
       "<Figure size 600x500 with 2 Axes>"
      ]
     },
     "metadata": {},
     "output_type": "display_data"
    }
   ],
   "source": [
    "# exemple d’entrée (batch size 1)\n",
    "sample = X_test[5].unsqueeze(0).to(device)\n",
    "_ = model(sample)  # passage pour stocker l'attention\n",
    "\n",
    "# extraire la matrice d'attention du premier bloc\n",
    "attn_matrix = model.layers[0].attn_weights.squeeze(0).numpy()  # [T, T]\n",
    "token_ids = sample.squeeze(0).argmax(dim=-1).cpu().numpy()\n",
    "tokens = [id_to_char[i] for i in token_ids]\n",
    "\n",
    "# Print la séquence\n",
    "print(\"📝 Séquence :\", \"\".join(tokens))\n",
    "import seaborn as sns\n",
    "import matplotlib.pyplot as plt\n",
    "\n",
    "plt.figure(figsize=(6, 5))\n",
    "k = 5\n",
    "sns.heatmap(attn_matrix[:k, :k], cmap=\"viridis\", square=True, cbar=True)\n",
    "plt.title(\"Matrice d'attention (Layer 0)\")\n",
    "plt.xlabel(\"Positions assistées\")\n",
    "plt.ylabel(\"Positions qui assistent\")\n",
    "plt.show()\n",
    "\n",
    "\n"
   ]
  },
  {
   "cell_type": "code",
   "execution_count": 70,
   "id": "4e0e62bf",
   "metadata": {},
   "outputs": [
    {
     "data": {
      "image/png": "[encoded data removed]",
      "text/plain": [
       "<Figure size 600x500 with 2 Axes>"
      ]
     },
     "metadata": {},
     "output_type": "display_data"
    }
   ],
   "source": [
    "import seaborn as sns\n",
    "import matplotlib.pyplot as plt\n",
    "\n",
    "plt.figure(figsize=(6, 5))\n",
    "sns.heatmap(attn_matrix, cmap=\"viridis\", square=True, cbar=True)\n",
    "plt.title(\"Matrice d'attention (Layer 0)\")\n",
    "plt.xlabel(\"Positions assistées\")\n",
    "plt.ylabel(\"Positions qui assistent\")\n",
    "plt.show()\n"
   ]
  },
  {
   "cell_type": "code",
   "execution_count": 76,
   "id": "9f1882f0",
   "metadata": {},
   "outputs": [],
   "source": [
    "import seaborn as sns\n",
    "import matplotlib.pyplot as plt\n",
    "import torch.nn.functional as F\n",
    "\n",
    "def plot_attention_matrix(model, input_tensor, id_to_char, layer_idx=0, device='cpu'):\n",
    "    \"\"\"\n",
    "    Affiche la matrice d'attention de la couche `layer_idx` sous forme de heatmap\n",
    "    + print la séquence de lettres.\n",
    "    \n",
    "    Args:\n",
    "        model: instance de AttentionOnlyTransformer\n",
    "        input_tensor: [T, D] un batch de taille 1\n",
    "        id_to_char: dico int -> lettre\n",
    "        layer_idx: index de la couche d'attention à visualiser\n",
    "    \"\"\"\n",
    "    model.eval()\n",
    "    input_tensor = input_tensor.unsqueeze(0).to(device)  # [1, T, D]\n",
    "\n",
    "    # Hook temporaire pour capturer l'attention\n",
    "    attn_weights = {}\n",
    "\n",
    "    def save_attn_weights(module, input, output):\n",
    "        Q = module.Wq(input[0])\n",
    "        K = module.Wk(input[0])\n",
    "        scores = torch.matmul(Q, K.transpose(-2, -1)) / (Q.size(-1) ** 0.5)\n",
    "        attn = F.softmax(scores, dim=-1)\n",
    "        attn_weights['matrix'] = attn.squeeze(0).detach().cpu().numpy()\n",
    "\n",
    "    # Enregistre temporairement le forward hook\n",
    "    handle = model.layers[layer_idx].register_forward_hook(save_attn_weights)\n",
    "\n",
    "    # Propagation\n",
    "    _ = model(input_tensor)\n",
    "\n",
    "    # Supprimer le hook\n",
    "    handle.remove()\n",
    "\n",
    "    # Obtenir les lettres\n",
    "    token_ids = input_tensor.squeeze(0).argmax(dim=-1).cpu().numpy()\n",
    "    tokens = [id_to_char[i] for i in token_ids]\n",
    "\n",
    "    # Print la séquence\n",
    "    print(\"📝 Séquence :\", \"\".join(tokens))\n"
   ]
  },
  {
   "cell_type": "code",
   "execution_count": 77,
   "id": "b8bd3dc9",
   "metadata": {},
   "outputs": [
    {
     "name": "stdout",
     "output_type": "stream",
     "text": [
      "📝 Séquence : HHCCCCCCCCCKKKKKKDLAEEDDBBBBAAIBIIHHJJHKKKFFFJJJJJJJHHCCCIIIIIKKKKKKEEEDDDDDDDDEEEEEEBBHHHHHLLLLLLHH\n"
     ]
    }
   ],
   "source": [
    "plot_attention_matrix(model, X_test[0], id_to_char, layer_idx=0, device=device)"
   ]
  },
  {
   "cell_type": "code",
   "execution_count": 72,
   "id": "fa36770f",
   "metadata": {},
   "outputs": [
    {
     "data": {
      "text/plain": [
       "(tensor([[0., 0., 0.,  ..., 0., 0., 0.],\n",
       "         [0., 0., 0.,  ..., 0., 0., 0.],\n",
       "         [0., 0., 0.,  ..., 0., 0., 0.],\n",
       "         ...,\n",
       "         [0., 0., 0.,  ..., 0., 1., 0.],\n",
       "         [0., 0., 0.,  ..., 0., 1., 0.],\n",
       "         [0., 0., 0.,  ..., 0., 1., 0.]]),\n",
       " tensor([ 3, 12, 12,  5, 12,  6, 12, 12, 10,  9, 12,  0, 12, 12, 10, 12, 12, 12,\n",
       "         12,  6, 11, 12,  4, 12, 12, 12, 12,  9,  3,  4, 11,  0, 12, 12,  4, 12,\n",
       "          7, 12, 12, 12, 12, 12, 12, 12, 12, 11, 12, 12, 12, 12, 12, 12, 12, 12,\n",
       "         12, 12, 12, 12, 12, 12, 12, 12,  4, 12, 12, 12,  7,  5, 12,  2, 12, 12,\n",
       "          6, 12, 12, 12,  5, 12,  7, 12, 12, 12, 12, 12,  3, 12, 10, 12, 12, 12,\n",
       "         12,  7, 12, 12, 12, 10, 12, 12, 12, 12]))"
      ]
     },
     "execution_count": 72,
     "metadata": {},
     "output_type": "execute_result"
    }
   ],
   "source": [
    "X_train[1], y_train[1]"
   ]
  },
  {
   "cell_type": "code",
   "execution_count": 32,
   "id": "43faefcc",
   "metadata": {},
   "outputs": [],
   "source": [
    "def show_predictions(model, data_loader, id_to_char, device='cpu', num_batches=1):\n",
    "    model.eval()\n",
    "    model.to(device)\n",
    "    with torch.no_grad():\n",
    "        for i, (xb, yb) in enumerate(data_loader):\n",
    "            xb, yb = xb.to(device), yb.to(device)\n",
    "            logits = model(xb)  # [B, T, C]\n",
    "            preds = torch.argmax(logits, dim=-1)  # [B, T]\n",
    "\n",
    "            for seq_idx in range(xb.size(0)):\n",
    "                # Récupérer les tokens initiaux via l'embedding le plus proche\n",
    "                input_seq = torch.argmax(xb[seq_idx], dim=-1)  # [T], car one-hot\n",
    "                input_letters = [id_to_char[id.item()] for id in input_seq]\n",
    "                true_seq = [id_to_char[id.item()] for id in yb[seq_idx]]\n",
    "                pred_seq = [id_to_char[id.item()] for id in preds[seq_idx]]\n",
    "\n",
    "                print(f\"🔡 Input : {''.join(input_letters)}\")\n",
    "                print(f\"🟢 Truth : {''.join(true_seq)}\")\n",
    "                print(f\"🔵 Pred. : {''.join(pred_seq)}\")\n",
    "                print(\"-\" * 30)\n",
    "\n",
    "            if i + 1 >= num_batches:\n",
    "                break\n"
   ]
  },
  {
   "cell_type": "code",
   "execution_count": 33,
   "id": "a97ec7fc",
   "metadata": {},
   "outputs": [
    {
     "name": "stdout",
     "output_type": "stream",
     "text": [
      "🔡 Input : AAABBBABBABABBAABAAAABBAAABAABBAAABBBBBBAABBAABBBBAAABBABABAAABBBAABAAAAABBABBAABAAAABBBABBBBBBBABAA\n",
      "🟢 Truth : A__B__AB_ABAB_A_BA___B_A__BA_B_A__B_____A_B_A_B___A__B_ABABA__B__A_BA____B_AB_A_BA___B__AB______ABA_\n",
      "🔵 Pred. : A__B__AB_ABAB_A_BA___B_A__BA_B_A__B_____A_B_A_B___A__B_ABABA__B__A_BA____B_AB_A_BA___B__AB______ABA_\n",
      "------------------------------\n",
      "🔡 Input : ABAAABBAAABAAABAAABBBAAABBBBABBABAABAAAAABBAAAAAAAABAAAABABBABBAABBBBAABBABABAABABAABBBBBBAAAABBABAA\n",
      "🟢 Truth : ABA__B_A__BA__BA__B__A__B___AB_ABA_BA____B_A_______BA___BAB_AB_A_B___A_B_ABABA_BABA_B_____A___B_ABA_\n",
      "🔵 Pred. : ABA__B_A__BA__BA__B__A__B___AB_ABA_BA____B_A_______BA___BAB_AB_A_B___A_B_ABABA_BABA_B_____A___B_ABA_\n",
      "------------------------------\n",
      "🔡 Input : ABBAABAAAABBABBBAAABABAAAAABBABABBBABABAAABABABBBABABABAAAAABABBAAABBBBBABBABBBBABAABBAABBAAAAAAAAAA\n",
      "🟢 Truth : AB_A_BA___B_AB__A__BABA____B_ABAB__ABABA__BABAB__ABABABA____BAB_A__B____AB_AB___ABA_B_A_B_A_________\n",
      "🔵 Pred. : AB_A_BA___B_AB__A__BABA____B_ABAB__ABABA__BABAB__ABABABA____BAB_A__B____AB_AB___ABA_B_A_B_A_________\n",
      "------------------------------\n",
      "🔡 Input : BBAAAAABBBBAAABBBAAAAABABBBBABABAAAABBAABBBBBAAABABABBBBAABAAABBABBAABBAABBBBABAAAABAABAAAAABAABBBAB\n",
      "🟢 Truth : B_A____B___A__B__A____BAB___ABABA___B_A_B____A__BABAB___A_BA__B_AB_A_B_A_B___ABA___BA_BA____BA_B__AB\n",
      "🔵 Pred. : B_A____B___A__B__A____BAB___ABABA___B_A_B____A__BABAB___A_BA__B_AB_A_B_A_B___ABA___BA_BA____BA_B__AB\n",
      "------------------------------\n",
      "🔡 Input : BBABBAABABABABBBBAABABBAAABAAABBBBBBBAAABBABBABBABBBAABAABBAAABABBBBBABBBBBBBAABBBBBBABABAAAABBABBBB\n",
      "🟢 Truth : B_AB_A_BABABAB___A_BAB_A__BA__B______A__B_AB_AB_AB__A_BA_B_A__BAB____AB______A_B_____ABABA___B_AB___\n",
      "🔵 Pred. : B_AB_A_BABABAB___A_BAB_A__BA__B______A__B_AB_AB_AB__A_BA_B_A__BAB____AB______A_B_____ABABA___B_AB___\n",
      "------------------------------\n",
      "🔡 Input : ABAABABBBBBBABBBBBBBBBBAAAAABBBBBBAABABAABABBABABAABBABBBBABBAABBAAAABABABABBBBAAAAABAAABBAABABBABAA\n",
      "🟢 Truth : ABA_BAB_____AB_________A____B_____A_BABA_BAB_ABABA_B_AB___AB_A_B_A___BABABAB___A____BA__B_A_BAB_ABA_\n",
      "🔵 Pred. : ABA_BAB_____AB_________A____B_____A_BABA_BAB_ABABA_B_AB___AB_A_B_A___BABABAB___A____BA__B_A_BAB_ABA_\n",
      "------------------------------\n",
      "🔡 Input : BBBBAABABBBAAAABBBABAABBAAABBBBAAABBAAAAABABAABBAABBAAAABABABAAAAAAABAABBBABBABABABABABAAAABBAAABBAB\n",
      "🟢 Truth : B___A_BAB__A___B__ABA_B_A__B___A__B_A____BABA_B_A_B_A___BABABA______BA_B__AB_ABABABABABA___B_A__B_AB\n",
      "🔵 Pred. : B___A_BAB__A___B__ABA_B_A__B___A__B_A____BABA_B_A_B_A___BABABA______BA_B__AB_ABABABABABA___B_A__B_AB\n",
      "------------------------------\n",
      "🔡 Input : BBAAAAAABBBBAAAAABAAAAAABBABABAAAABBBAAABABBBABABBABBBABBBAABABBAAAAABABABBAABAABBBBBAABBABABBAABBAB\n",
      "🟢 Truth : B_A_____B___A____BA_____B_ABABA___B__A__BAB__ABAB_AB__AB__A_BAB_A____BABAB_A_BA_B____A_B_ABAB_A_B_AB\n",
      "🔵 Pred. : B_A_____B___A____BA_____B_ABABA___B__A__BAB__ABAB_AB__AB__A_BAB_A____BABAB_A_BA_B____A_B_ABAB_A_B_AB\n",
      "------------------------------\n",
      "🔡 Input : ABAABABBBBBAABABABBBBBABBBABABBABABBBAABBBAAABBBABBBAABBABBBBBBABAAAABABABBAAAAABBBBBBBBBABABABBAABB\n",
      "🟢 Truth : ABA_BAB____A_BABAB____AB__ABAB_ABAB__A_B__A__B__AB__A_B_AB_____ABA___BABAB_A____B________ABABAB_A_B_\n",
      "🔵 Pred. : ABA_BAB____A_BABAB____AB__ABAB_ABAB__A_B__A__B__AB__A_B_AB_____ABA___BABAB_A____B________ABABAB_A_B_\n",
      "------------------------------\n",
      "🔡 Input : ABABBAABABBBBABBABBBAABAABBAABBABABAABABABABAAABBBAAABBBAAAAAAABABBAABAABBBBAAAABBBBAABAAABBBAABBBBA\n",
      "🟢 Truth : ABAB_A_BAB___AB_AB__A_BA_B_A_B_ABABA_BABABABA__B__A__B__A______BAB_A_BA_B___A___B___A_BA__B__A_B___A\n",
      "🔵 Pred. : ABAB_A_BAB___AB_AB__A_BA_B_A_B_ABABA_BABABABA__B__A__B__A______BAB_A_BA_B___A___B___A_BA__B__A_B___A\n",
      "------------------------------\n",
      "🔡 Input : BABBAAABBAAABBAAAABBBAAABBBAAAABABBBBAAABABAABABABBBABABAAAAABAABAAABABBABBABAAABABAAAAABABBBBABABBA\n",
      "🟢 Truth : BAB_A__B_A__B_A___B__A__B__A___BAB___A__BABA_BABAB__ABABA____BA_BA__BAB_AB_ABA__BABA____BAB___ABAB_A\n",
      "🔵 Pred. : BAB_A__B_A__B_A___B__A__B__A___BAB___A__BABA_BABAB__ABABA____BA_BA__BAB_AB_ABA__BABA____BAB___ABAB_A\n",
      "------------------------------\n",
      "🔡 Input : ABAABABBBBBBAABABBABAAABAABBABABABAABBBAABAABAABABAABABABBBABBABBABBAAABBAAABBABABBAAABABBBAAABAAAAB\n",
      "🟢 Truth : ABA_BAB_____A_BAB_ABA__BA_B_ABABABA_B__A_BA_BA_BABA_BABAB__AB_AB_AB_A__B_A__B_ABAB_A__BAB__A__BA___B\n",
      "🔵 Pred. : ABA_BAB_____A_BAB_ABA__BA_B_ABABABA_B__A_BA_BA_BABA_BABAB__AB_AB_AB_A__B_A__B_ABAB_A__BAB__A__BA___B\n",
      "------------------------------\n",
      "🔡 Input : BAAAABBABBBAABBBABBBBABBABABBAABBABBBBABBABABABBBAABBBABBAABBABBAABAAAAABBBABAABBABBABABAAAABBAABBBB\n",
      "🟢 Truth : BA___B_AB__A_B__AB___AB_ABAB_A_B_AB___AB_ABABAB__A_B__AB_A_B_AB_A_BA____B__ABA_B_AB_ABABA___B_A_B___\n",
      "🔵 Pred. : BA___B_AB__A_B__AB___AB_ABAB_A_B_AB___AB_ABABAB__A_B__AB_A_B_AB_A_BA____B__ABA_B_AB_ABABA___B_A_B___\n",
      "------------------------------\n",
      "🔡 Input : ABAABBBABAAAAABABBAABAAABBBAABABABAAAABBABAAABBBBBBBAAABAABAABABBBBBBAABABABABABABAAAABBABBBAABAABBA\n",
      "🟢 Truth : ABA_B__ABA____BAB_A_BA__B__A_BABABA___B_ABA__B______A__BA_BA_BAB_____A_BABABABABABA___B_AB__A_BA_B_A\n",
      "🔵 Pred. : ABA_B__ABA____BAB_A_BA__B__A_BABABA___B_ABA__B______A__BA_BA_BAB_____A_BABABABABABA___B_AB__A_BA_B_A\n",
      "------------------------------\n",
      "🔡 Input : ABAABBBBBBAABABBAAABBABBBABAAABAAAAABAAABAAAAAAABAABBBAABBBBABABBBAAABABABBABAAABAAABAAABABABABAAABA\n",
      "🟢 Truth : ABA_B_____A_BAB_A__B_AB__ABA__BA____BA__BA______BA_B__A_B___ABAB__A__BABAB_ABA__BA__BA__BABABABA__BA\n",
      "🔵 Pred. : ABA_B_____A_BAB_A__B_AB__ABA__BA____BA__BA______BA_B__A_B___ABAB__A__BABAB_ABA__BA__BA__BABABABA__BA\n",
      "------------------------------\n",
      "🔡 Input : AAABAAAABBAAABABBBABBABBBAABABAABBABBBBABBAAABAABBBBAABBBBBBABBBABBBBBBBBABAABAABABBBBBBAAABBABBBBBA\n",
      "🟢 Truth : A__BA___B_A__BAB__AB_AB__A_BABA_B_AB___AB_A__BA_B___A_B_____AB__AB_______ABA_BA_BAB_____A__B_AB____A\n",
      "🔵 Pred. : A__BA___B_A__BAB__AB_AB__A_BABA_B_AB___AB_A__BA_B___A_B_____AB__AB_______ABA_BA_BAB_____A__B_AB____A\n",
      "------------------------------\n",
      "🔡 Input : BAABBABBBBABABAABAABBABBAABABAABBBBAABBBAAAAAABBAABBABBAABBBABBBBAABBBBAABAABABAAABAAABBAABBBABBBAAA\n",
      "🟢 Truth : BA_B_AB___ABABA_BA_B_AB_A_BABA_B___A_B__A_____B_A_B_AB_A_B__AB___A_B___A_BA_BABA__BA__B_A_B__AB__A__\n",
      "🔵 Pred. : BA_B_AB___ABABA_BA_B_AB_A_BABA_B___A_B__A_____B_A_B_AB_A_B__AB___A_B___A_BA_BABA__BA__B_A_B__AB__A__\n",
      "------------------------------\n",
      "🔡 Input : AAABBAABBAAABBBBAAABBABAAABAAABBBAAABABABABBAAAAAABAABBBABAABAABBBAAAABBAAAAAAAABBAABBAABBABABAABBAA\n",
      "🟢 Truth : A__B_A_B_A__B___A__B_ABA__BA__B__A__BABABAB_A_____BA_B__ABA_BA_B__A___B_A_______B_A_B_A_B_ABABA_B_A_\n",
      "🔵 Pred. : A__B_A_B_A__B___A__B_ABA__BA__B__A__BABABAB_A_____BA_B__ABA_BA_B__A___B_A_______B_A_B_A_B_ABABA_B_A_\n",
      "------------------------------\n",
      "🔡 Input : ABBAABABBBBBAAAAABABABAABABABAABABABAABBBAABBBBAAABAAAABABABBBAAAABABABBAAAABABAAAABABBAABAABBAABBBA\n",
      "🟢 Truth : AB_A_BAB____A____BABABA_BABABA_BABABA_B__A_B___A__BA___BABAB__A___BABAB_A___BABA___BAB_A_BA_B_A_B__A\n",
      "🔵 Pred. : AB_A_BAB____A____BABABA_BABABA_BABABA_B__A_B___A__BA___BABAB__A___BABAB_A___BABA___BAB_A_BA_B_A_B__A\n",
      "------------------------------\n",
      "🔡 Input : BABBBABAABABBABABABABAAAABBABBAABABAABBABABAAABBABAABBAAABBBBABBBAAABBABBBBAABBBBBABAABAABBBAAAAABAB\n",
      "🟢 Truth : BAB__ABA_BAB_ABABABABA___B_AB_A_BABA_B_ABABA__B_ABA_B_A__B___AB__A__B_AB___A_B____ABA_BA_B__A____BAB\n",
      "🔵 Pred. : BAB__ABA_BAB_ABABABABA___B_AB_A_BABA_B_ABABA__B_ABA_B_A__B___AB__A__B_AB___A_B____ABA_BA_B__A____BAB\n",
      "------------------------------\n"
     ]
    }
   ],
   "source": [
    "show_predictions(model, test_loader, id_to_char, device=device, num_batches=20)"
   ]
  },
  {
   "cell_type": "code",
   "execution_count": 34,
   "id": "951db423",
   "metadata": {},
   "outputs": [],
   "source": [
    "def token_accuracy(preds, targets):\n",
    "    \"\"\"\n",
    "    Calcule l'accuracy lettre par lettre (token par token).\n",
    "    :param preds: Tensor [B, T, C] - logits en sortie du modèle\n",
    "    :param targets: Tensor [B, T] - indices des vraies classes\n",
    "    :return: float - accuracy moyenne par token\n",
    "    \"\"\"\n",
    "    pred_classes = torch.argmax(preds, dim=-1)  # [B, T]\n",
    "    correct = (pred_classes == targets).float()\n",
    "    return correct.mean().item()\n"
   ]
  },
  {
   "cell_type": "code",
   "execution_count": 35,
   "id": "144a94c7",
   "metadata": {},
   "outputs": [
    {
     "name": "stdout",
     "output_type": "stream",
     "text": [
      "Letter-level accuracy: 1.0000\n"
     ]
    }
   ],
   "source": [
    "model.eval()\n",
    "total_acc = 0\n",
    "total_samples = 0\n",
    "\n",
    "with torch.no_grad():\n",
    "    for xb, yb in test_loader:\n",
    "        xb, yb = xb.to(device), yb.to(device)\n",
    "        logits = model(xb)\n",
    "        acc = token_accuracy(logits, yb)\n",
    "        total_acc += acc * xb.size(0)\n",
    "        total_samples += xb.size(0)\n",
    "\n",
    "print(f\"Letter-level accuracy: {total_acc / total_samples:.4f}\")\n"
   ]
  },
  {
   "cell_type": "code",
   "execution_count": null,
   "id": "513cc3b3",
   "metadata": {},
   "outputs": [],
   "source": [
    "def train_model(model, train_loader, test_loader, epochs=10, lr=1e-3, device='cpu'):\n",
    "    model.to(device)\n",
    "    optimizer = torch.optim.Adam(model.parameters(), lr=lr)\n",
    "    loss_fn = nn.MSELoss()\n",
    "\n",
    "    for epoch in range(epochs):\n",
    "        model.eval()\n",
    "        with torch.no_grad():\n",
    "            total_val_loss = 0\n",
    "            for xb, yb in test_loader:\n",
    "                xb, yb = xb.to(device), yb.to(device)\n",
    "                pred = model(xb)\n",
    "                loss = loss_fn(pred, yb)\n",
    "                total_val_loss += loss.item()\n",
    "\n",
    "        avg_val_loss = total_val_loss / len(test_loader)\n",
    "        model.train()\n",
    "        total_loss = 0\n",
    "\n",
    "        for xb, yb in train_loader:\n",
    "            xb, yb = xb.to(device), yb.to(device)\n",
    "\n",
    "            optimizer.zero_grad()\n",
    "            pred = model(xb)  # [B, T, D]\n",
    "            loss = loss_fn(pred, yb)\n",
    "            loss.backward()\n",
    "            optimizer.step()\n",
    "            total_loss += loss.item()\n",
    "\n",
    "        avg_train_loss = total_loss / len(train_loader)\n",
    "\n",
    "        # Évaluation\n",
    "\n",
    "        print(f\"Epoch {epoch+1}/{epochs} | Train Loss: {avg_train_loss:.4f} | Val Loss: {avg_val_loss:.4f}\")\n"
   ]
  },
  {
   "cell_type": "code",
   "execution_count": null,
   "id": "ef851cc3",
   "metadata": {},
   "outputs": [
    {
     "name": "stderr",
     "output_type": "stream",
     "text": [
      "/users/eleves-b/2022/elias.ben-rhouma/.local/lib/python3.9/site-packages/torch/nn/modules/loss.py:536: UserWarning: Using a target size (torch.Size([1, 100])) that is different to the input size (torch.Size([1, 100, 13])). This will likely lead to incorrect results due to broadcasting. Please ensure they have the same size.\n",
      "  return F.mse_loss(input, target, reduction=self.reduction)\n"
     ]
    },
    {
     "ename": "RuntimeError",
     "evalue": "The size of tensor a (13) must match the size of tensor b (100) at non-singleton dimension 2",
     "output_type": "error",
     "traceback": [
      "\u001b[0;31m---------------------------------------------------------------------------\u001b[0m",
      "\u001b[0;31mRuntimeError\u001b[0m                              Traceback (most recent call last)",
      "Cell \u001b[0;32mIn[265], line 1\u001b[0m\n\u001b[0;32m----> 1\u001b[0m \u001b[43mtrain_model\u001b[49m\u001b[43m(\u001b[49m\u001b[43mmodel\u001b[49m\u001b[43m,\u001b[49m\u001b[43m \u001b[49m\u001b[43mtrain_loader\u001b[49m\u001b[43m,\u001b[49m\u001b[43m \u001b[49m\u001b[43mtest_loader\u001b[49m\u001b[43m,\u001b[49m\u001b[43m \u001b[49m\u001b[43mepochs\u001b[49m\u001b[38;5;241;43m=\u001b[39;49m\u001b[38;5;241;43m20\u001b[39;49m\u001b[43m,\u001b[49m\u001b[43m \u001b[49m\u001b[43mlr\u001b[49m\u001b[38;5;241;43m=\u001b[39;49m\u001b[38;5;241;43m0.01\u001b[39;49m\u001b[43m)\u001b[49m\n",
      "Cell \u001b[0;32mIn[264], line 13\u001b[0m, in \u001b[0;36mtrain_model\u001b[0;34m(model, train_loader, test_loader, epochs, lr, device)\u001b[0m\n\u001b[1;32m     11\u001b[0m         xb, yb \u001b[38;5;241m=\u001b[39m xb\u001b[38;5;241m.\u001b[39mto(device), yb\u001b[38;5;241m.\u001b[39mto(device)\n\u001b[1;32m     12\u001b[0m         pred \u001b[38;5;241m=\u001b[39m model(xb)\n\u001b[0;32m---> 13\u001b[0m         loss \u001b[38;5;241m=\u001b[39m \u001b[43mloss_fn\u001b[49m\u001b[43m(\u001b[49m\u001b[43mpred\u001b[49m\u001b[43m,\u001b[49m\u001b[43m \u001b[49m\u001b[43myb\u001b[49m\u001b[43m)\u001b[49m\n\u001b[1;32m     14\u001b[0m         total_val_loss \u001b[38;5;241m+\u001b[39m\u001b[38;5;241m=\u001b[39m loss\u001b[38;5;241m.\u001b[39mitem()\n\u001b[1;32m     16\u001b[0m avg_val_loss \u001b[38;5;241m=\u001b[39m total_val_loss \u001b[38;5;241m/\u001b[39m \u001b[38;5;28mlen\u001b[39m(test_loader)\n",
      "File \u001b[0;32m~/.local/lib/python3.9/site-packages/torch/nn/modules/module.py:1501\u001b[0m, in \u001b[0;36mModule._call_impl\u001b[0;34m(self, *args, **kwargs)\u001b[0m\n\u001b[1;32m   1496\u001b[0m \u001b[38;5;66;03m# If we don't have any hooks, we want to skip the rest of the logic in\u001b[39;00m\n\u001b[1;32m   1497\u001b[0m \u001b[38;5;66;03m# this function, and just call forward.\u001b[39;00m\n\u001b[1;32m   1498\u001b[0m \u001b[38;5;28;01mif\u001b[39;00m \u001b[38;5;129;01mnot\u001b[39;00m (\u001b[38;5;28mself\u001b[39m\u001b[38;5;241m.\u001b[39m_backward_hooks \u001b[38;5;129;01mor\u001b[39;00m \u001b[38;5;28mself\u001b[39m\u001b[38;5;241m.\u001b[39m_backward_pre_hooks \u001b[38;5;129;01mor\u001b[39;00m \u001b[38;5;28mself\u001b[39m\u001b[38;5;241m.\u001b[39m_forward_hooks \u001b[38;5;129;01mor\u001b[39;00m \u001b[38;5;28mself\u001b[39m\u001b[38;5;241m.\u001b[39m_forward_pre_hooks\n\u001b[1;32m   1499\u001b[0m         \u001b[38;5;129;01mor\u001b[39;00m _global_backward_pre_hooks \u001b[38;5;129;01mor\u001b[39;00m _global_backward_hooks\n\u001b[1;32m   1500\u001b[0m         \u001b[38;5;129;01mor\u001b[39;00m _global_forward_hooks \u001b[38;5;129;01mor\u001b[39;00m _global_forward_pre_hooks):\n\u001b[0;32m-> 1501\u001b[0m     \u001b[38;5;28;01mreturn\u001b[39;00m \u001b[43mforward_call\u001b[49m\u001b[43m(\u001b[49m\u001b[38;5;241;43m*\u001b[39;49m\u001b[43margs\u001b[49m\u001b[43m,\u001b[49m\u001b[43m \u001b[49m\u001b[38;5;241;43m*\u001b[39;49m\u001b[38;5;241;43m*\u001b[39;49m\u001b[43mkwargs\u001b[49m\u001b[43m)\u001b[49m\n\u001b[1;32m   1502\u001b[0m \u001b[38;5;66;03m# Do not call functions when jit is used\u001b[39;00m\n\u001b[1;32m   1503\u001b[0m full_backward_hooks, non_full_backward_hooks \u001b[38;5;241m=\u001b[39m [], []\n",
      "File \u001b[0;32m~/.local/lib/python3.9/site-packages/torch/nn/modules/loss.py:536\u001b[0m, in \u001b[0;36mMSELoss.forward\u001b[0;34m(self, input, target)\u001b[0m\n\u001b[1;32m    535\u001b[0m \u001b[38;5;28;01mdef\u001b[39;00m \u001b[38;5;21mforward\u001b[39m(\u001b[38;5;28mself\u001b[39m, \u001b[38;5;28minput\u001b[39m: Tensor, target: Tensor) \u001b[38;5;241m-\u001b[39m\u001b[38;5;241m>\u001b[39m Tensor:\n\u001b[0;32m--> 536\u001b[0m     \u001b[38;5;28;01mreturn\u001b[39;00m \u001b[43mF\u001b[49m\u001b[38;5;241;43m.\u001b[39;49m\u001b[43mmse_loss\u001b[49m\u001b[43m(\u001b[49m\u001b[38;5;28;43minput\u001b[39;49m\u001b[43m,\u001b[49m\u001b[43m \u001b[49m\u001b[43mtarget\u001b[49m\u001b[43m,\u001b[49m\u001b[43m \u001b[49m\u001b[43mreduction\u001b[49m\u001b[38;5;241;43m=\u001b[39;49m\u001b[38;5;28;43mself\u001b[39;49m\u001b[38;5;241;43m.\u001b[39;49m\u001b[43mreduction\u001b[49m\u001b[43m)\u001b[49m\n",
      "File \u001b[0;32m~/.local/lib/python3.9/site-packages/torch/nn/functional.py:3294\u001b[0m, in \u001b[0;36mmse_loss\u001b[0;34m(input, target, size_average, reduce, reduction)\u001b[0m\n\u001b[1;32m   3291\u001b[0m \u001b[38;5;28;01mif\u001b[39;00m size_average \u001b[38;5;129;01mis\u001b[39;00m \u001b[38;5;129;01mnot\u001b[39;00m \u001b[38;5;28;01mNone\u001b[39;00m \u001b[38;5;129;01mor\u001b[39;00m reduce \u001b[38;5;129;01mis\u001b[39;00m \u001b[38;5;129;01mnot\u001b[39;00m \u001b[38;5;28;01mNone\u001b[39;00m:\n\u001b[1;32m   3292\u001b[0m     reduction \u001b[38;5;241m=\u001b[39m _Reduction\u001b[38;5;241m.\u001b[39mlegacy_get_string(size_average, reduce)\n\u001b[0;32m-> 3294\u001b[0m expanded_input, expanded_target \u001b[38;5;241m=\u001b[39m \u001b[43mtorch\u001b[49m\u001b[38;5;241;43m.\u001b[39;49m\u001b[43mbroadcast_tensors\u001b[49m\u001b[43m(\u001b[49m\u001b[38;5;28;43minput\u001b[39;49m\u001b[43m,\u001b[49m\u001b[43m \u001b[49m\u001b[43mtarget\u001b[49m\u001b[43m)\u001b[49m\n\u001b[1;32m   3295\u001b[0m \u001b[38;5;28;01mreturn\u001b[39;00m torch\u001b[38;5;241m.\u001b[39m_C\u001b[38;5;241m.\u001b[39m_nn\u001b[38;5;241m.\u001b[39mmse_loss(expanded_input, expanded_target, _Reduction\u001b[38;5;241m.\u001b[39mget_enum(reduction))\n",
      "File \u001b[0;32m~/.local/lib/python3.9/site-packages/torch/functional.py:74\u001b[0m, in \u001b[0;36mbroadcast_tensors\u001b[0;34m(*tensors)\u001b[0m\n\u001b[1;32m     72\u001b[0m \u001b[38;5;28;01mif\u001b[39;00m has_torch_function(tensors):\n\u001b[1;32m     73\u001b[0m     \u001b[38;5;28;01mreturn\u001b[39;00m handle_torch_function(broadcast_tensors, tensors, \u001b[38;5;241m*\u001b[39mtensors)\n\u001b[0;32m---> 74\u001b[0m \u001b[38;5;28;01mreturn\u001b[39;00m \u001b[43m_VF\u001b[49m\u001b[38;5;241;43m.\u001b[39;49m\u001b[43mbroadcast_tensors\u001b[49m\u001b[43m(\u001b[49m\u001b[43mtensors\u001b[49m\u001b[43m)\u001b[49m\n",
      "\u001b[0;31mRuntimeError\u001b[0m: The size of tensor a (13) must match the size of tensor b (100) at non-singleton dimension 2"
     ]
    }
   ],
   "source": [
    "\n",
    "train_model(model, train_loader, test_loader, epochs=20, lr=0.01)"
   ]
  },
  {
   "cell_type": "code",
   "execution_count": null,
   "id": "b0e53eac",
   "metadata": {},
   "outputs": [],
   "source": [
    "def evaluate_on_sequence(model, seq, char_to_emb, emb_to_char, empty_token='*', device='cpu'):\n",
    "    model.eval()\n",
    "    \n",
    "    # 1. Encoder la séquence d'entrée\n",
    "    emb_seq = [char_to_emb[c] for c in seq]\n",
    "\n",
    "    x = torch.tensor(emb_seq, dtype=torch.float32).unsqueeze(0).to(device)  # [1, T, D]\n",
    "\n",
    "    # 2. Prédiction\n",
    "    with torch.no_grad():\n",
    "        pred = model(x)[0]  # [T, D]\n",
    "    \n",
    "\n",
    "    # 3. Décoder la sortie\n",
    "    def closest_embedding(vec):\n",
    "        return min(emb_to_char.items(), key=lambda kv: np.linalg.norm(vec - np.array(kv[0])))[1]\n",
    "\n",
    "    decoded_pred = [closest_embedding(p.cpu().numpy()) for p in pred]\n",
    "\n",
    "    # 4. Cible attendue (compress + pad)\n",
    "    target_seq = compress_and_pad_left(seq, empty_token)\n",
    "\n",
    "    # 5. Affichage\n",
    "    print(\"Séquence d’entrée      :\", seq)\n",
    "    print(\"Séquence compressée     :\", target_seq)\n",
    "    print(\"Séquence prédite (model):\", decoded_pred)\n"
   ]
  },
  {
   "cell_type": "code",
   "execution_count": null,
   "id": "36392c0e",
   "metadata": {},
   "outputs": [],
   "source": [
    "import matplotlib.pyplot as plt\n",
    "import seaborn as sns\n",
    "\n",
    "def show_attention_maps(model, input_sequence, char_to_emb, layer_names=None):\n",
    "    model.eval()\n",
    "    seq_len = len(input_sequence)\n",
    "    emb_seq = [char_to_emb[c] for c in input_sequence]\n",
    "    x = torch.tensor(emb_seq, dtype=torch.float32).unsqueeze(0)  # [1, T, D]\n",
    "    \n",
    "    # Run forward to populate attn_weights\n",
    "    with torch.no_grad():\n",
    "        model(x)\n",
    "\n",
    "    # Afficher les matrices d'attention de chaque couche\n",
    "    for i, layer in enumerate(model.layers):\n",
    "        print(i)\n",
    "        attn = layer.att_weights[0]  # [T, T]\n",
    "        plt.figure(figsize=(6, 5))\n",
    "        sns.heatmap(attn, annot=True, fmt=\".2f\", cmap=\"Blues\", cbar=True)\n",
    "        title = layer_names[i] if layer_names else f\"Attention Layer {i+1}\"\n",
    "        plt.title(title)\n",
    "        plt.xlabel(\"Key position\")\n",
    "        plt.ylabel(\"Query position\")\n",
    "        plt.show()\n"
   ]
  },
  {
   "cell_type": "code",
   "execution_count": null,
   "id": "4a5b2d82",
   "metadata": {},
   "outputs": [
    {
     "name": "stdout",
     "output_type": "stream",
     "text": [
      "0\n"
     ]
    },
    {
     "data": {
      "image/png": "[encoded data removed]",
      "text/plain": [
       "<Figure size 600x500 with 2 Axes>"
      ]
     },
     "metadata": {},
     "output_type": "display_data"
    },
    {
     "name": "stdout",
     "output_type": "stream",
     "text": [
      "1\n"
     ]
    },
    {
     "data": {
      "image/png": "[encoded data removed]",
      "text/plain": [
       "<Figure size 600x500 with 2 Axes>"
      ]
     },
     "metadata": {},
     "output_type": "display_data"
    }
   ],
   "source": [
    "sequence = ['A', 'B', 'A']\n",
    "show_attention_maps(model, sequence, char_to_emb)"
   ]
  },
  {
   "cell_type": "code",
   "execution_count": null,
   "id": "8664c460",
   "metadata": {},
   "outputs": [
    {
     "name": "stdout",
     "output_type": "stream",
     "text": [
      "\n",
      "Séquence d'entrée : ['B', 'B', 'B']\n",
      "Séquence d’entrée      : ['B', 'B', 'B']\n",
      "Séquence compressée     : ['*', '*', 'B']\n",
      "Séquence prédite (model): ['*', '*', '*']\n"
     ]
    }
   ],
   "source": [
    "# Exemple : test sur une séquence simple\n",
    "sequences = [['B','B', 'B']]\n",
    "\n",
    "for sequence in sequences:\n",
    "    print(\"\\nSéquence d'entrée :\", sequence)\n",
    "    evaluate_on_sequence(model, sequence, char_to_emb, emb_to_char, empty_token='*')\n"
   ]
  },
  {
   "cell_type": "code",
   "execution_count": null,
   "id": "21e3a9fa",
   "metadata": {},
   "outputs": [],
   "source": [
    "class AttentionOnlyEncoderLayer(nn.Module):\n",
    "    def __init__(self, d_model, nhead, dropout=0.1):\n",
    "        super().__init__()\n",
    "        self.self_attn = nn.MultiheadAttention(d_model, nhead, dropout=dropout, batch_first=True)\n",
    "        self.norm1 = nn.LayerNorm(d_model)\n",
    "        self.dropout1 = nn.Dropout(dropout)\n",
    "\n",
    "    def forward(self, src, src_mask=None, src_key_padding_mask=None, is_causal=None):\n",
    "        attn_output, _ = self.self_attn(\n",
    "            src, src, src, \n",
    "            attn_mask=src_mask, \n",
    "            key_padding_mask=src_key_padding_mask\n",
    "        )\n",
    "        src = self.norm1(src + self.dropout1(attn_output))\n",
    "        return src\n"
   ]
  },
  {
   "cell_type": "code",
   "execution_count": null,
   "id": "408b9724",
   "metadata": {},
   "outputs": [],
   "source": [
    "import torch\n",
    "import torch.nn as nn\n",
    "import torch.nn.functional as F\n",
    "\n",
    "class PositionalEncoding(nn.Module):\n",
    "    def __init__(self, d_model, max_len=5000):\n",
    "        super().__init__()\n",
    "        pe = torch.zeros(max_len, d_model)\n",
    "        position = torch.arange(0, max_len, dtype=torch.float).unsqueeze(1)\n",
    "        div_term = torch.exp(torch.arange(0, d_model, 2).float() * (-torch.log(torch.tensor(10000.0)) / d_model))\n",
    "        pe[:, 0::2] = torch.sin(position * div_term)\n",
    "        pe[:, 1::2] = torch.cos(position * div_term)\n",
    "        pe = pe.unsqueeze(0)  # [1, max_len, d_model]\n",
    "        self.register_buffer('pe', pe)\n",
    "\n",
    "    def forward(self, x):\n",
    "        x = x + self.pe[:, :x.size(1)]\n",
    "        return x\n",
    "\n",
    "class TransformerModel(nn.Module):\n",
    "    def __init__(self, input_dim, d_model=128, nhead=8, num_layers=4, dim_feedforward=512, dropout=0.1, max_len=512):\n",
    "        super().__init__()\n",
    "        self.input_proj = nn.Linear(input_dim, d_model)\n",
    "        self.pos_encoder = PositionalEncoding(d_model, max_len)\n",
    "        #encoder_layer = nn.TransformerEncoderLayer(d_model=d_model, nhead=nhead, dim_feedforward=dim_feedforward, dropout=dropout, batch_first=True)\n",
    "        encoder_layer = AttentionOnlyEncoderLayer(d_model=d_model, nhead=nhead, dropout=dropout)\n",
    "        self.transformer_encoder = nn.TransformerEncoder(encoder_layer, num_layers=num_layers)\n",
    "\n",
    "        self.output_proj = nn.Linear(d_model, input_dim)\n",
    "\n",
    "    def forward(self, src):\n",
    "        x = self.input_proj(src)  # [B, T, D_model]\n",
    "        x = self.pos_encoder(x)\n",
    "        x = self.transformer_encoder(x)\n",
    "        out = self.output_proj(x)  # [B, T, D_input] (embedding)\n",
    "        return out\n"
   ]
  },
  {
   "cell_type": "code",
   "execution_count": null,
   "id": "47ee6406",
   "metadata": {},
   "outputs": [],
   "source": [
    "def train_model(model, train_loader, test_loader, epochs=10, lr=1e-3, device='cpu'):\n",
    "    model = model.to(device)\n",
    "    optimizer = torch.optim.Adam(model.parameters(), lr=lr)\n",
    "    loss_fn = nn.MSELoss()\n",
    "\n",
    "    for epoch in range(1, epochs + 1):\n",
    "        model.train()\n",
    "        total_train_loss = 0\n",
    "        for xb, yb in train_loader:\n",
    "            xb, yb = xb.to(device), yb.to(device)\n",
    "            pred = model(xb)\n",
    "            loss = loss_fn(pred, yb)\n",
    "            optimizer.zero_grad()\n",
    "            loss.backward()\n",
    "            optimizer.step()\n",
    "            total_train_loss += loss.item()\n",
    "\n",
    "        model.eval()\n",
    "        total_val_loss = 0\n",
    "        with torch.no_grad():\n",
    "            for xb, yb in test_loader:\n",
    "                xb, yb = xb.to(device), yb.to(device)\n",
    "                pred = model(xb)\n",
    "                loss = loss_fn(pred, yb)\n",
    "                total_val_loss += loss.item()\n",
    "\n",
    "        print(f\"Epoch {epoch}/{epochs} | Train Loss: {total_train_loss/len(train_loader):.4f} | Val Loss: {total_val_loss/len(test_loader):.4f}\")\n"
   ]
  },
  {
   "cell_type": "code",
   "execution_count": null,
   "id": "a613caec",
   "metadata": {},
   "outputs": [],
   "source": [
    "embedding_dim = X_train.shape[-1]"
   ]
  },
  {
   "cell_type": "code",
   "execution_count": null,
   "id": "c002375e",
   "metadata": {},
   "outputs": [
    {
     "name": "stdout",
     "output_type": "stream",
     "text": [
      "Epoch 1/30 | Train Loss: 0.1673 | Val Loss: 0.1164\n",
      "Epoch 2/30 | Train Loss: 0.1171 | Val Loss: 0.1036\n",
      "Epoch 3/30 | Train Loss: 0.1079 | Val Loss: 0.1000\n",
      "Epoch 4/30 | Train Loss: 0.1028 | Val Loss: 0.0964\n",
      "Epoch 5/30 | Train Loss: 0.0977 | Val Loss: 0.0913\n",
      "Epoch 6/30 | Train Loss: 0.0927 | Val Loss: 0.0878\n",
      "Epoch 7/30 | Train Loss: 0.0895 | Val Loss: 0.0849\n",
      "Epoch 8/30 | Train Loss: 0.0874 | Val Loss: 0.0835\n",
      "Epoch 9/30 | Train Loss: 0.0860 | Val Loss: 0.0822\n",
      "Epoch 10/30 | Train Loss: 0.0849 | Val Loss: 0.0810\n",
      "Epoch 11/30 | Train Loss: 0.0842 | Val Loss: 0.0801\n",
      "Epoch 12/30 | Train Loss: 0.0830 | Val Loss: 0.0790\n",
      "Epoch 13/30 | Train Loss: 0.0821 | Val Loss: 0.0780\n",
      "Epoch 14/30 | Train Loss: 0.0812 | Val Loss: 0.0772\n",
      "Epoch 15/30 | Train Loss: 0.0801 | Val Loss: 0.0760\n",
      "Epoch 16/30 | Train Loss: 0.0795 | Val Loss: 0.0751\n",
      "Epoch 17/30 | Train Loss: 0.0789 | Val Loss: 0.0747\n",
      "Epoch 18/30 | Train Loss: 0.0783 | Val Loss: 0.0738\n",
      "Epoch 19/30 | Train Loss: 0.0776 | Val Loss: 0.0735\n",
      "Epoch 20/30 | Train Loss: 0.0771 | Val Loss: 0.0731\n",
      "Epoch 21/30 | Train Loss: 0.0764 | Val Loss: 0.0717\n",
      "Epoch 22/30 | Train Loss: 0.0756 | Val Loss: 0.0707\n",
      "Epoch 23/30 | Train Loss: 0.0748 | Val Loss: 0.0693\n",
      "Epoch 24/30 | Train Loss: 0.0739 | Val Loss: 0.0680\n",
      "Epoch 25/30 | Train Loss: 0.0729 | Val Loss: 0.0669\n",
      "Epoch 26/30 | Train Loss: 0.0724 | Val Loss: 0.0665\n",
      "Epoch 27/30 | Train Loss: 0.0714 | Val Loss: 0.0651\n",
      "Epoch 28/30 | Train Loss: 0.0704 | Val Loss: 0.0633\n",
      "Epoch 29/30 | Train Loss: 0.0698 | Val Loss: 0.0631\n",
      "Epoch 30/30 | Train Loss: 0.0687 | Val Loss: 0.0615\n"
     ]
    }
   ],
   "source": [
    "model = TransformerModel(input_dim=embedding_dim, \n",
    "                         d_model=128, \n",
    "                         nhead=4,\n",
    "                          \n",
    "                         num_layers=2, \n",
    "                         dim_feedforward=8, \n",
    "                         dropout=0.1)\n",
    "\n",
    "train_model(model, train_loader, test_loader, epochs=30, lr=1e-3)\n"
   ]
  },
  {
   "cell_type": "code",
   "execution_count": null,
   "id": "13ee4260",
   "metadata": {},
   "outputs": [
    {
     "name": "stdout",
     "output_type": "stream",
     "text": [
      "___________________________\n",
      "Séquence d’entrée      : ['E', 'D', 'B', 'B', 'A', 'B', 'B', 'A', 'B', 'A']\n",
      "Séquence compressée     : ['*', '*', 'E', 'D', 'B', 'A', 'B', 'A', 'B', 'A']\n",
      "Séquence prédite (model): ['*', '*', 'D', 'B', 'B', 'A', 'B', 'A', 'B', 'A']\n",
      "___________________________\n",
      "Séquence d’entrée      : ['D', 'A', 'A', 'A', 'B', 'D', 'D', 'B', 'D', 'C']\n",
      "Séquence compressée     : ['*', '*', '*', 'D', 'A', 'B', 'D', 'B', 'D', 'C']\n",
      "Séquence prédite (model): ['*', '*', 'D', 'A', 'A', 'B', 'D', 'B', 'D', 'C']\n",
      "___________________________\n",
      "Séquence d’entrée      : ['C', 'C', 'A', 'C', 'A', 'D', 'A', 'E', 'E', 'A']\n",
      "Séquence compressée     : ['*', '*', 'C', 'A', 'C', 'A', 'D', 'A', 'E', 'A']\n",
      "Séquence prédite (model): ['*', '*', '*', 'C', 'C', 'D', 'D', 'A', 'E', 'A']\n",
      "___________________________\n",
      "Séquence d’entrée      : ['D', 'A', 'B', 'E', 'E', 'D', 'B', 'E', 'B', 'B']\n",
      "Séquence compressée     : ['*', '*', 'D', 'A', 'B', 'E', 'D', 'B', 'E', 'B']\n",
      "Séquence prédite (model): ['*', '*', 'A', 'B', 'B', 'D', 'B', 'B', 'E', 'B']\n",
      "___________________________\n",
      "Séquence d’entrée      : ['A', 'D', 'A', 'B', 'B', 'B', 'E', 'B', 'A', 'E']\n",
      "Séquence compressée     : ['*', '*', 'A', 'D', 'A', 'B', 'E', 'B', 'A', 'E']\n",
      "Séquence prédite (model): ['*', '*', 'A', 'A', 'A', 'B', 'E', 'B', 'A', 'E']\n"
     ]
    }
   ],
   "source": [
    "# generate sequences\n",
    "sequences = generate_sequences(5, 10, 5)\n",
    "\n",
    "\n",
    "for sequence in sequences:\n",
    "    print('___________________________')\n",
    "    evaluate_on_sequence(model, sequence, char_to_emb, emb_to_char, empty_token='*')"
   ]
  }
 ],
 "metadata": {
  "kernelspec": {
   "display_name": "Python 3",
   "language": "python",
   "name": "python3"
  },
  "language_info": {
   "codemirror_mode": {
    "name": "ipython",
    "version": 3
   },
   "file_extension": ".py",
   "mimetype": "text/x-python",
   "name": "python",
   "nbconvert_exporter": "python",
   "pygments_lexer": "ipython3",
   "version": "3.9.21"
  }
 },
 "nbformat": 4,
 "nbformat_minor": 5
}
